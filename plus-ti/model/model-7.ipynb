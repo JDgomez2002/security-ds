{
 "cells": [
  {
   "cell_type": "markdown",
   "metadata": {},
   "source": [
    "# Implementación del modelo base\n",
    "\n",
    "### José Daniel Gómez Cabrera 21429\n",
    "\n",
    "- Entrenar un modelo inicial con LightGBM utilizando métricas tradicionales como AUC-ROC y F1-score.\n",
    "- Evaluar el rendimiento inicial en términos de fraude detectado y falsos positivos.\n"
   ]
  },
  {
   "cell_type": "code",
   "execution_count": 17,
   "metadata": {},
   "outputs": [],
   "source": [
    "import pandas as pd\n",
    "from sklearn.model_selection import train_test_split\n",
    "from sklearn.preprocessing import LabelEncoder\n",
    "from sklearn.metrics import roc_auc_score, f1_score, confusion_matrix, classification_report\n",
    "import lightgbm as lgb\n",
    "import numpy as np\n",
    "import matplotlib.pyplot as plt\n",
    "import seaborn as sns\n",
    "from sklearn.metrics import roc_curve"
   ]
  },
  {
   "cell_type": "code",
   "execution_count": 18,
   "metadata": {},
   "outputs": [],
   "source": [
    "df = pd.read_csv('../data/dataset_feature_engineering.csv', header=0)"
   ]
  },
  {
   "cell_type": "code",
   "execution_count": 19,
   "metadata": {},
   "outputs": [
    {
     "data": {
      "text/html": [
       "<div>\n",
       "<style scoped>\n",
       "    .dataframe tbody tr th:only-of-type {\n",
       "        vertical-align: middle;\n",
       "    }\n",
       "\n",
       "    .dataframe tbody tr th {\n",
       "        vertical-align: top;\n",
       "    }\n",
       "\n",
       "    .dataframe thead th {\n",
       "        text-align: right;\n",
       "    }\n",
       "</style>\n",
       "<table border=\"1\" class=\"dataframe\">\n",
       "  <thead>\n",
       "    <tr style=\"text-align: right;\">\n",
       "      <th></th>\n",
       "      <th>cc_num</th>\n",
       "      <th>merchant</th>\n",
       "      <th>category</th>\n",
       "      <th>amt</th>\n",
       "      <th>first</th>\n",
       "      <th>last</th>\n",
       "      <th>gender</th>\n",
       "      <th>street</th>\n",
       "      <th>city</th>\n",
       "      <th>state</th>\n",
       "      <th>...</th>\n",
       "      <th>first_time_at_merchant</th>\n",
       "      <th>dist_between_client_and_merch</th>\n",
       "      <th>trans_month</th>\n",
       "      <th>trans_day</th>\n",
       "      <th>hour</th>\n",
       "      <th>year</th>\n",
       "      <th>times_shopped_at_merchant</th>\n",
       "      <th>times_shopped_at_merchant_year</th>\n",
       "      <th>times_shopped_at_merchant_month</th>\n",
       "      <th>times_shopped_at_merchant_day</th>\n",
       "    </tr>\n",
       "  </thead>\n",
       "  <tbody>\n",
       "    <tr>\n",
       "      <th>0</th>\n",
       "      <td>2703186189652095</td>\n",
       "      <td>fraud_Rippin, Kub and Mann</td>\n",
       "      <td>misc_net</td>\n",
       "      <td>4.97</td>\n",
       "      <td>Jennifer</td>\n",
       "      <td>Banks</td>\n",
       "      <td>F</td>\n",
       "      <td>561 Perry Cove</td>\n",
       "      <td>Moravian Falls</td>\n",
       "      <td>NC</td>\n",
       "      <td>...</td>\n",
       "      <td>True</td>\n",
       "      <td>78.773821</td>\n",
       "      <td>1</td>\n",
       "      <td>1</td>\n",
       "      <td>0</td>\n",
       "      <td>2019</td>\n",
       "      <td>5</td>\n",
       "      <td>4</td>\n",
       "      <td>2</td>\n",
       "      <td>1</td>\n",
       "    </tr>\n",
       "    <tr>\n",
       "      <th>1</th>\n",
       "      <td>630423337322</td>\n",
       "      <td>fraud_Heller, Gutmann and Zieme</td>\n",
       "      <td>grocery_pos</td>\n",
       "      <td>107.23</td>\n",
       "      <td>Stephanie</td>\n",
       "      <td>Gill</td>\n",
       "      <td>F</td>\n",
       "      <td>43039 Riley Greens Suite 393</td>\n",
       "      <td>Orient</td>\n",
       "      <td>WA</td>\n",
       "      <td>...</td>\n",
       "      <td>True</td>\n",
       "      <td>30.216618</td>\n",
       "      <td>1</td>\n",
       "      <td>1</td>\n",
       "      <td>0</td>\n",
       "      <td>2019</td>\n",
       "      <td>4</td>\n",
       "      <td>4</td>\n",
       "      <td>1</td>\n",
       "      <td>1</td>\n",
       "    </tr>\n",
       "    <tr>\n",
       "      <th>2</th>\n",
       "      <td>38859492057661</td>\n",
       "      <td>fraud_Lind-Buckridge</td>\n",
       "      <td>entertainment</td>\n",
       "      <td>220.11</td>\n",
       "      <td>Edward</td>\n",
       "      <td>Sanchez</td>\n",
       "      <td>M</td>\n",
       "      <td>594 White Dale Suite 530</td>\n",
       "      <td>Malad City</td>\n",
       "      <td>ID</td>\n",
       "      <td>...</td>\n",
       "      <td>True</td>\n",
       "      <td>108.102912</td>\n",
       "      <td>1</td>\n",
       "      <td>1</td>\n",
       "      <td>0</td>\n",
       "      <td>2019</td>\n",
       "      <td>4</td>\n",
       "      <td>3</td>\n",
       "      <td>1</td>\n",
       "      <td>1</td>\n",
       "    </tr>\n",
       "    <tr>\n",
       "      <th>3</th>\n",
       "      <td>3534093764340240</td>\n",
       "      <td>fraud_Kutch, Hermiston and Farrell</td>\n",
       "      <td>gas_transport</td>\n",
       "      <td>45.00</td>\n",
       "      <td>Jeremy</td>\n",
       "      <td>White</td>\n",
       "      <td>M</td>\n",
       "      <td>9443 Cynthia Court Apt. 038</td>\n",
       "      <td>Boulder</td>\n",
       "      <td>MT</td>\n",
       "      <td>...</td>\n",
       "      <td>True</td>\n",
       "      <td>95.685115</td>\n",
       "      <td>1</td>\n",
       "      <td>1</td>\n",
       "      <td>0</td>\n",
       "      <td>2019</td>\n",
       "      <td>1</td>\n",
       "      <td>1</td>\n",
       "      <td>1</td>\n",
       "      <td>1</td>\n",
       "    </tr>\n",
       "    <tr>\n",
       "      <th>4</th>\n",
       "      <td>375534208663984</td>\n",
       "      <td>fraud_Keeling-Crist</td>\n",
       "      <td>misc_pos</td>\n",
       "      <td>41.96</td>\n",
       "      <td>Tyler</td>\n",
       "      <td>Garcia</td>\n",
       "      <td>M</td>\n",
       "      <td>408 Bradley Rest</td>\n",
       "      <td>Doe Hill</td>\n",
       "      <td>VA</td>\n",
       "      <td>...</td>\n",
       "      <td>True</td>\n",
       "      <td>77.702395</td>\n",
       "      <td>1</td>\n",
       "      <td>1</td>\n",
       "      <td>0</td>\n",
       "      <td>2019</td>\n",
       "      <td>6</td>\n",
       "      <td>1</td>\n",
       "      <td>1</td>\n",
       "      <td>1</td>\n",
       "    </tr>\n",
       "  </tbody>\n",
       "</table>\n",
       "<p>5 rows × 35 columns</p>\n",
       "</div>"
      ],
      "text/plain": [
       "             cc_num                            merchant       category  \\\n",
       "0  2703186189652095          fraud_Rippin, Kub and Mann       misc_net   \n",
       "1      630423337322     fraud_Heller, Gutmann and Zieme    grocery_pos   \n",
       "2    38859492057661                fraud_Lind-Buckridge  entertainment   \n",
       "3  3534093764340240  fraud_Kutch, Hermiston and Farrell  gas_transport   \n",
       "4   375534208663984                 fraud_Keeling-Crist       misc_pos   \n",
       "\n",
       "      amt      first     last gender                        street  \\\n",
       "0    4.97   Jennifer    Banks      F                561 Perry Cove   \n",
       "1  107.23  Stephanie     Gill      F  43039 Riley Greens Suite 393   \n",
       "2  220.11     Edward  Sanchez      M      594 White Dale Suite 530   \n",
       "3   45.00     Jeremy    White      M   9443 Cynthia Court Apt. 038   \n",
       "4   41.96      Tyler   Garcia      M              408 Bradley Rest   \n",
       "\n",
       "             city state  ...  first_time_at_merchant  \\\n",
       "0  Moravian Falls    NC  ...                    True   \n",
       "1          Orient    WA  ...                    True   \n",
       "2      Malad City    ID  ...                    True   \n",
       "3         Boulder    MT  ...                    True   \n",
       "4        Doe Hill    VA  ...                    True   \n",
       "\n",
       "   dist_between_client_and_merch  trans_month  trans_day hour  year  \\\n",
       "0                      78.773821            1          1    0  2019   \n",
       "1                      30.216618            1          1    0  2019   \n",
       "2                     108.102912            1          1    0  2019   \n",
       "3                      95.685115            1          1    0  2019   \n",
       "4                      77.702395            1          1    0  2019   \n",
       "\n",
       "  times_shopped_at_merchant  times_shopped_at_merchant_year  \\\n",
       "0                         5                               4   \n",
       "1                         4                               4   \n",
       "2                         4                               3   \n",
       "3                         1                               1   \n",
       "4                         6                               1   \n",
       "\n",
       "   times_shopped_at_merchant_month  times_shopped_at_merchant_day  \n",
       "0                                2                              1  \n",
       "1                                1                              1  \n",
       "2                                1                              1  \n",
       "3                                1                              1  \n",
       "4                                1                              1  \n",
       "\n",
       "[5 rows x 35 columns]"
      ]
     },
     "execution_count": 19,
     "metadata": {},
     "output_type": "execute_result"
    }
   ],
   "source": [
    "df.head()"
   ]
  },
  {
   "cell_type": "code",
   "execution_count": 20,
   "metadata": {},
   "outputs": [
    {
     "name": "stdout",
     "output_type": "stream",
     "text": [
      "<class 'pandas.core.frame.DataFrame'>\n",
      "RangeIndex: 1852394 entries, 0 to 1852393\n",
      "Data columns (total 35 columns):\n",
      " #   Column                           Dtype  \n",
      "---  ------                           -----  \n",
      " 0   cc_num                           int64  \n",
      " 1   merchant                         object \n",
      " 2   category                         object \n",
      " 3   amt                              float64\n",
      " 4   first                            object \n",
      " 5   last                             object \n",
      " 6   gender                           object \n",
      " 7   street                           object \n",
      " 8   city                             object \n",
      " 9   state                            object \n",
      " 10  zip                              int64  \n",
      " 11  lat                              float64\n",
      " 12  long                             float64\n",
      " 13  city_pop                         int64  \n",
      " 14  job                              object \n",
      " 15  dob                              object \n",
      " 16  trans_num                        object \n",
      " 17  unix_time                        int64  \n",
      " 18  merch_lat                        float64\n",
      " 19  merch_long                       float64\n",
      " 20  is_fraud                         int64  \n",
      " 21  amt_month                        float64\n",
      " 22  amt_year                         float64\n",
      " 23  amt_month_shopping_net_spend     float64\n",
      " 24  count_month_shopping_net         float64\n",
      " 25  first_time_at_merchant           bool   \n",
      " 26  dist_between_client_and_merch    float64\n",
      " 27  trans_month                      int64  \n",
      " 28  trans_day                        int64  \n",
      " 29  hour                             int64  \n",
      " 30  year                             int64  \n",
      " 31  times_shopped_at_merchant        int64  \n",
      " 32  times_shopped_at_merchant_year   int64  \n",
      " 33  times_shopped_at_merchant_month  int64  \n",
      " 34  times_shopped_at_merchant_day    int64  \n",
      "dtypes: bool(1), float64(10), int64(13), object(11)\n",
      "memory usage: 482.3+ MB\n"
     ]
    }
   ],
   "source": [
    "df.info()"
   ]
  },
  {
   "cell_type": "markdown",
   "metadata": {},
   "source": [
    "## Años y meses disponibles\n"
   ]
  },
  {
   "cell_type": "code",
   "execution_count": 21,
   "metadata": {},
   "outputs": [
    {
     "name": "stdout",
     "output_type": "stream",
     "text": [
      "Años disponibles: [2019 2020]\n",
      "Meses disponibles: [ 1  2  3  4  5  6  7  8  9 10 11 12]\n"
     ]
    }
   ],
   "source": [
    "print(\"Años disponibles:\", df['year'].unique())\n",
    "print(\"Meses disponibles:\", df['trans_month'].unique())"
   ]
  },
  {
   "cell_type": "markdown",
   "metadata": {},
   "source": [
    "## Variable objetivo\n"
   ]
  },
  {
   "cell_type": "code",
   "execution_count": 22,
   "metadata": {},
   "outputs": [
    {
     "data": {
      "text/html": [
       "<div>\n",
       "<style scoped>\n",
       "    .dataframe tbody tr th:only-of-type {\n",
       "        vertical-align: middle;\n",
       "    }\n",
       "\n",
       "    .dataframe tbody tr th {\n",
       "        vertical-align: top;\n",
       "    }\n",
       "\n",
       "    .dataframe thead th {\n",
       "        text-align: right;\n",
       "    }\n",
       "</style>\n",
       "<table border=\"1\" class=\"dataframe\">\n",
       "  <thead>\n",
       "    <tr style=\"text-align: right;\">\n",
       "      <th></th>\n",
       "      <th>Amount</th>\n",
       "      <th>Percentage</th>\n",
       "    </tr>\n",
       "    <tr>\n",
       "      <th>is_fraud</th>\n",
       "      <th></th>\n",
       "      <th></th>\n",
       "    </tr>\n",
       "  </thead>\n",
       "  <tbody>\n",
       "    <tr>\n",
       "      <th>No fraud</th>\n",
       "      <td>1842743</td>\n",
       "      <td>99.48</td>\n",
       "    </tr>\n",
       "    <tr>\n",
       "      <th>Fraud</th>\n",
       "      <td>9651</td>\n",
       "      <td>0.52</td>\n",
       "    </tr>\n",
       "  </tbody>\n",
       "</table>\n",
       "</div>"
      ],
      "text/plain": [
       "           Amount  Percentage\n",
       "is_fraud                     \n",
       "No fraud  1842743       99.48\n",
       "Fraud        9651        0.52"
      ]
     },
     "execution_count": 22,
     "metadata": {},
     "output_type": "execute_result"
    }
   ],
   "source": [
    "fraud_dist = df['is_fraud'].value_counts().rename({0: 'No fraud', 1: 'Fraud'})\n",
    "fraud_percent = (fraud_dist / fraud_dist.sum()) * 100\n",
    "\n",
    "fraud_df = pd.DataFrame({\n",
    "    'Amount': fraud_dist,\n",
    "    'Percentage': fraud_percent.round(2)\n",
    "})\n",
    "fraud_df"
   ]
  },
  {
   "cell_type": "markdown",
   "metadata": {},
   "source": [
    "## Modelo 6\n"
   ]
  },
  {
   "cell_type": "code",
   "execution_count": 23,
   "metadata": {},
   "outputs": [
    {
     "name": "stdout",
     "output_type": "stream",
     "text": [
      "Distribución original de clases:\n",
      "is_fraud\n",
      "0    1842743\n",
      "1       9651\n",
      "Name: count, dtype: int64\n"
     ]
    },
    {
     "name": "stderr",
     "output_type": "stream",
     "text": [
      "[I 2025-05-19 18:21:31,129] A new study created in memory with name: no-name-0bf9271b-b3d6-4d26-b7e1-50a5f323d4bf\n"
     ]
    },
    {
     "name": "stdout",
     "output_type": "stream",
     "text": [
      "Distribución de clases después del undersampling:\n",
      "is_fraud\n",
      "0    96510\n",
      "1     9651\n",
      "Name: count, dtype: int64\n",
      "[LightGBM] [Info] Number of positive: 7739, number of negative: 77189\n",
      "[LightGBM] [Info] Auto-choosing row-wise multi-threading, the overhead of testing was 0.001666 seconds.\n",
      "You can set `force_row_wise=true` to remove the overhead.\n",
      "And if memory is not enough, you can set `force_col_wise=true`.\n",
      "[LightGBM] [Info] Total Bins 2692\n",
      "[LightGBM] [Info] Number of data points in the train set: 84928, number of used features: 20\n",
      "[LightGBM] [Info] [binary:BoostFromScore]: pavg=0.091124 -> initscore=-2.299984\n",
      "[LightGBM] [Info] Start training from score -2.299984\n",
      "Training until validation scores don't improve for 20 rounds\n"
     ]
    },
    {
     "name": "stderr",
     "output_type": "stream",
     "text": [
      "/var/folders/q2/dcrx6nt90nn2l4tdmr2yqy7w0000gn/T/ipykernel_10448/2602224507.py:92: FutureWarning: suggest_uniform has been deprecated in v3.0.0. This feature will be removed in v6.0.0. See https://github.com/optuna/optuna/releases/tag/v3.0.0. Use suggest_float instead.\n",
      "  'feature_fraction': trial.suggest_uniform('feature_fraction', 0.6, 1.0),\n",
      "/var/folders/q2/dcrx6nt90nn2l4tdmr2yqy7w0000gn/T/ipykernel_10448/2602224507.py:95: FutureWarning: suggest_uniform has been deprecated in v3.0.0. This feature will be removed in v6.0.0. See https://github.com/optuna/optuna/releases/tag/v3.0.0. Use suggest_float instead.\n",
      "  'scale_pos_weight': trial.suggest_uniform('scale_pos_weight', 1, 10)\n",
      "[I 2025-05-19 18:21:31,675] Trial 0 finished with value: 0.0 and parameters: {'num_leaves': 58, 'learning_rate': 0.014316154480888963, 'feature_fraction': 0.7587990623786502, 'min_child_samples': 17, 'scale_pos_weight': 3.6230550486496953}. Best is trial 0 with value: 0.0.\n"
     ]
    },
    {
     "name": "stdout",
     "output_type": "stream",
     "text": [
      "Early stopping, best iteration is:\n",
      "[26]\tvalid_0's auc: 0.989743\n",
      "[LightGBM] [Info] Number of positive: 7739, number of negative: 77189\n",
      "[LightGBM] [Info] Auto-choosing row-wise multi-threading, the overhead of testing was 0.001082 seconds.\n",
      "You can set `force_row_wise=true` to remove the overhead.\n",
      "And if memory is not enough, you can set `force_col_wise=true`.\n",
      "[LightGBM] [Info] Total Bins 2692\n",
      "[LightGBM] [Info] Number of data points in the train set: 84928, number of used features: 20\n",
      "[LightGBM] [Info] [binary:BoostFromScore]: pavg=0.091124 -> initscore=-2.299984\n",
      "[LightGBM] [Info] Start training from score -2.299984\n",
      "Training until validation scores don't improve for 20 rounds\n"
     ]
    },
    {
     "name": "stderr",
     "output_type": "stream",
     "text": [
      "/var/folders/q2/dcrx6nt90nn2l4tdmr2yqy7w0000gn/T/ipykernel_10448/2602224507.py:92: FutureWarning: suggest_uniform has been deprecated in v3.0.0. This feature will be removed in v6.0.0. See https://github.com/optuna/optuna/releases/tag/v3.0.0. Use suggest_float instead.\n",
      "  'feature_fraction': trial.suggest_uniform('feature_fraction', 0.6, 1.0),\n",
      "/var/folders/q2/dcrx6nt90nn2l4tdmr2yqy7w0000gn/T/ipykernel_10448/2602224507.py:95: FutureWarning: suggest_uniform has been deprecated in v3.0.0. This feature will be removed in v6.0.0. See https://github.com/optuna/optuna/releases/tag/v3.0.0. Use suggest_float instead.\n",
      "  'scale_pos_weight': trial.suggest_uniform('scale_pos_weight', 1, 10)\n",
      "[I 2025-05-19 18:21:32,456] Trial 1 finished with value: 0.0 and parameters: {'num_leaves': 94, 'learning_rate': 0.015057719892514658, 'feature_fraction': 0.6845867467717349, 'min_child_samples': 98, 'scale_pos_weight': 1.6812295433898279}. Best is trial 0 with value: 0.0.\n"
     ]
    },
    {
     "name": "stdout",
     "output_type": "stream",
     "text": [
      "Early stopping, best iteration is:\n",
      "[31]\tvalid_0's auc: 0.990201\n",
      "[LightGBM] [Info] Number of positive: 7739, number of negative: 77189\n",
      "[LightGBM] [Info] Auto-choosing row-wise multi-threading, the overhead of testing was 0.001258 seconds.\n",
      "You can set `force_row_wise=true` to remove the overhead.\n",
      "And if memory is not enough, you can set `force_col_wise=true`.\n",
      "[LightGBM] [Info] Total Bins 2692\n",
      "[LightGBM] [Info] Number of data points in the train set: 84928, number of used features: 20\n",
      "[LightGBM] [Info] [binary:BoostFromScore]: pavg=0.091124 -> initscore=-2.299984\n",
      "[LightGBM] [Info] Start training from score -2.299984\n",
      "Training until validation scores don't improve for 20 rounds\n"
     ]
    },
    {
     "name": "stderr",
     "output_type": "stream",
     "text": [
      "/var/folders/q2/dcrx6nt90nn2l4tdmr2yqy7w0000gn/T/ipykernel_10448/2602224507.py:92: FutureWarning: suggest_uniform has been deprecated in v3.0.0. This feature will be removed in v6.0.0. See https://github.com/optuna/optuna/releases/tag/v3.0.0. Use suggest_float instead.\n",
      "  'feature_fraction': trial.suggest_uniform('feature_fraction', 0.6, 1.0),\n",
      "/var/folders/q2/dcrx6nt90nn2l4tdmr2yqy7w0000gn/T/ipykernel_10448/2602224507.py:95: FutureWarning: suggest_uniform has been deprecated in v3.0.0. This feature will be removed in v6.0.0. See https://github.com/optuna/optuna/releases/tag/v3.0.0. Use suggest_float instead.\n",
      "  'scale_pos_weight': trial.suggest_uniform('scale_pos_weight', 1, 10)\n",
      "[I 2025-05-19 18:21:35,028] Trial 2 finished with value: 976456.3990000001 and parameters: {'num_leaves': 43, 'learning_rate': 0.08870627093386041, 'feature_fraction': 0.8473422706180707, 'min_child_samples': 98, 'scale_pos_weight': 1.2797369725649315}. Best is trial 2 with value: 976456.3990000001.\n"
     ]
    },
    {
     "name": "stdout",
     "output_type": "stream",
     "text": [
      "Early stopping, best iteration is:\n",
      "[316]\tvalid_0's auc: 0.995501\n",
      "[LightGBM] [Info] Number of positive: 7739, number of negative: 77189\n",
      "[LightGBM] [Info] Auto-choosing row-wise multi-threading, the overhead of testing was 0.001062 seconds.\n",
      "You can set `force_row_wise=true` to remove the overhead.\n",
      "And if memory is not enough, you can set `force_col_wise=true`.\n",
      "[LightGBM] [Info] Total Bins 2692\n",
      "[LightGBM] [Info] Number of data points in the train set: 84928, number of used features: 20\n",
      "[LightGBM] [Info] [binary:BoostFromScore]: pavg=0.091124 -> initscore=-2.299984\n",
      "[LightGBM] [Info] Start training from score -2.299984\n",
      "Training until validation scores don't improve for 20 rounds\n"
     ]
    },
    {
     "name": "stderr",
     "output_type": "stream",
     "text": [
      "/var/folders/q2/dcrx6nt90nn2l4tdmr2yqy7w0000gn/T/ipykernel_10448/2602224507.py:92: FutureWarning: suggest_uniform has been deprecated in v3.0.0. This feature will be removed in v6.0.0. See https://github.com/optuna/optuna/releases/tag/v3.0.0. Use suggest_float instead.\n",
      "  'feature_fraction': trial.suggest_uniform('feature_fraction', 0.6, 1.0),\n",
      "/var/folders/q2/dcrx6nt90nn2l4tdmr2yqy7w0000gn/T/ipykernel_10448/2602224507.py:95: FutureWarning: suggest_uniform has been deprecated in v3.0.0. This feature will be removed in v6.0.0. See https://github.com/optuna/optuna/releases/tag/v3.0.0. Use suggest_float instead.\n",
      "  'scale_pos_weight': trial.suggest_uniform('scale_pos_weight', 1, 10)\n",
      "[I 2025-05-19 18:21:41,228] Trial 3 finished with value: 980754.304 and parameters: {'num_leaves': 31, 'learning_rate': 0.01280652470503503, 'feature_fraction': 0.6447508371482223, 'min_child_samples': 54, 'scale_pos_weight': 1.6792009504534522}. Best is trial 3 with value: 980754.304.\n"
     ]
    },
    {
     "name": "stdout",
     "output_type": "stream",
     "text": [
      "Did not meet early stopping. Best iteration is:\n",
      "[1000]\tvalid_0's auc: 0.994436\n"
     ]
    },
    {
     "name": "stderr",
     "output_type": "stream",
     "text": [
      "/var/folders/q2/dcrx6nt90nn2l4tdmr2yqy7w0000gn/T/ipykernel_10448/2602224507.py:92: FutureWarning: suggest_uniform has been deprecated in v3.0.0. This feature will be removed in v6.0.0. See https://github.com/optuna/optuna/releases/tag/v3.0.0. Use suggest_float instead.\n",
      "  'feature_fraction': trial.suggest_uniform('feature_fraction', 0.6, 1.0),\n",
      "/var/folders/q2/dcrx6nt90nn2l4tdmr2yqy7w0000gn/T/ipykernel_10448/2602224507.py:95: FutureWarning: suggest_uniform has been deprecated in v3.0.0. This feature will be removed in v6.0.0. See https://github.com/optuna/optuna/releases/tag/v3.0.0. Use suggest_float instead.\n",
      "  'scale_pos_weight': trial.suggest_uniform('scale_pos_weight', 1, 10)\n"
     ]
    },
    {
     "name": "stdout",
     "output_type": "stream",
     "text": [
      "[LightGBM] [Info] Number of positive: 7739, number of negative: 77189\n",
      "[LightGBM] [Info] Auto-choosing row-wise multi-threading, the overhead of testing was 0.001273 seconds.\n",
      "You can set `force_row_wise=true` to remove the overhead.\n",
      "And if memory is not enough, you can set `force_col_wise=true`.\n",
      "[LightGBM] [Info] Total Bins 2692\n",
      "[LightGBM] [Info] Number of data points in the train set: 84928, number of used features: 20\n",
      "[LightGBM] [Info] [binary:BoostFromScore]: pavg=0.091124 -> initscore=-2.299984\n",
      "[LightGBM] [Info] Start training from score -2.299984\n",
      "Training until validation scores don't improve for 20 rounds\n"
     ]
    },
    {
     "name": "stderr",
     "output_type": "stream",
     "text": [
      "[I 2025-05-19 18:21:46,816] Trial 4 finished with value: 991951.159 and parameters: {'num_leaves': 30, 'learning_rate': 0.03392949310753912, 'feature_fraction': 0.840264514090404, 'min_child_samples': 74, 'scale_pos_weight': 9.533861384502364}. Best is trial 4 with value: 991951.159.\n"
     ]
    },
    {
     "name": "stdout",
     "output_type": "stream",
     "text": [
      "Did not meet early stopping. Best iteration is:\n",
      "[987]\tvalid_0's auc: 0.995276\n",
      "[LightGBM] [Info] Number of positive: 7739, number of negative: 77189\n",
      "[LightGBM] [Info] Auto-choosing row-wise multi-threading, the overhead of testing was 0.001141 seconds.\n",
      "You can set `force_row_wise=true` to remove the overhead.\n",
      "And if memory is not enough, you can set `force_col_wise=true`.\n",
      "[LightGBM] [Info] Total Bins 2692\n",
      "[LightGBM] [Info] Number of data points in the train set: 84928, number of used features: 20\n",
      "[LightGBM] [Info] [binary:BoostFromScore]: pavg=0.091124 -> initscore=-2.299984\n",
      "[LightGBM] [Info] Start training from score -2.299984\n",
      "Training until validation scores don't improve for 20 rounds\n"
     ]
    },
    {
     "name": "stderr",
     "output_type": "stream",
     "text": [
      "/var/folders/q2/dcrx6nt90nn2l4tdmr2yqy7w0000gn/T/ipykernel_10448/2602224507.py:92: FutureWarning: suggest_uniform has been deprecated in v3.0.0. This feature will be removed in v6.0.0. See https://github.com/optuna/optuna/releases/tag/v3.0.0. Use suggest_float instead.\n",
      "  'feature_fraction': trial.suggest_uniform('feature_fraction', 0.6, 1.0),\n",
      "/var/folders/q2/dcrx6nt90nn2l4tdmr2yqy7w0000gn/T/ipykernel_10448/2602224507.py:95: FutureWarning: suggest_uniform has been deprecated in v3.0.0. This feature will be removed in v6.0.0. See https://github.com/optuna/optuna/releases/tag/v3.0.0. Use suggest_float instead.\n",
      "  'scale_pos_weight': trial.suggest_uniform('scale_pos_weight', 1, 10)\n",
      "[I 2025-05-19 18:21:53,456] Trial 5 finished with value: 990487.836 and parameters: {'num_leaves': 44, 'learning_rate': 0.03607960066238816, 'feature_fraction': 0.7972698874931827, 'min_child_samples': 29, 'scale_pos_weight': 6.278007768090031}. Best is trial 4 with value: 991951.159.\n"
     ]
    },
    {
     "name": "stdout",
     "output_type": "stream",
     "text": [
      "Early stopping, best iteration is:\n",
      "[835]\tvalid_0's auc: 0.995718\n",
      "[LightGBM] [Info] Number of positive: 7739, number of negative: 77189\n",
      "[LightGBM] [Info] Auto-choosing row-wise multi-threading, the overhead of testing was 0.000984 seconds.\n",
      "You can set `force_row_wise=true` to remove the overhead.\n",
      "And if memory is not enough, you can set `force_col_wise=true`.\n",
      "[LightGBM] [Info] Total Bins 2692\n",
      "[LightGBM] [Info] Number of data points in the train set: 84928, number of used features: 20\n",
      "[LightGBM] [Info] [binary:BoostFromScore]: pavg=0.091124 -> initscore=-2.299984\n",
      "[LightGBM] [Info] Start training from score -2.299984\n",
      "Training until validation scores don't improve for 20 rounds\n"
     ]
    },
    {
     "name": "stderr",
     "output_type": "stream",
     "text": [
      "/var/folders/q2/dcrx6nt90nn2l4tdmr2yqy7w0000gn/T/ipykernel_10448/2602224507.py:92: FutureWarning: suggest_uniform has been deprecated in v3.0.0. This feature will be removed in v6.0.0. See https://github.com/optuna/optuna/releases/tag/v3.0.0. Use suggest_float instead.\n",
      "  'feature_fraction': trial.suggest_uniform('feature_fraction', 0.6, 1.0),\n",
      "/var/folders/q2/dcrx6nt90nn2l4tdmr2yqy7w0000gn/T/ipykernel_10448/2602224507.py:95: FutureWarning: suggest_uniform has been deprecated in v3.0.0. This feature will be removed in v6.0.0. See https://github.com/optuna/optuna/releases/tag/v3.0.0. Use suggest_float instead.\n",
      "  'scale_pos_weight': trial.suggest_uniform('scale_pos_weight', 1, 10)\n",
      "[I 2025-05-19 18:21:57,420] Trial 6 finished with value: 991959.431 and parameters: {'num_leaves': 40, 'learning_rate': 0.05106887828166763, 'feature_fraction': 0.7177799737241368, 'min_child_samples': 35, 'scale_pos_weight': 6.716335938960064}. Best is trial 6 with value: 991959.431.\n"
     ]
    },
    {
     "name": "stdout",
     "output_type": "stream",
     "text": [
      "Early stopping, best iteration is:\n",
      "[528]\tvalid_0's auc: 0.995487\n",
      "[LightGBM] [Info] Number of positive: 7739, number of negative: 77189\n",
      "[LightGBM] [Info] Auto-choosing row-wise multi-threading, the overhead of testing was 0.001481 seconds.\n",
      "You can set `force_row_wise=true` to remove the overhead.\n",
      "And if memory is not enough, you can set `force_col_wise=true`.\n",
      "[LightGBM] [Info] Total Bins 2692\n",
      "[LightGBM] [Info] Number of data points in the train set: 84928, number of used features: 20\n",
      "[LightGBM] [Info] [binary:BoostFromScore]: pavg=0.091124 -> initscore=-2.299984\n",
      "[LightGBM] [Info] Start training from score -2.299984\n",
      "Training until validation scores don't improve for 20 rounds\n"
     ]
    },
    {
     "name": "stderr",
     "output_type": "stream",
     "text": [
      "/var/folders/q2/dcrx6nt90nn2l4tdmr2yqy7w0000gn/T/ipykernel_10448/2602224507.py:92: FutureWarning: suggest_uniform has been deprecated in v3.0.0. This feature will be removed in v6.0.0. See https://github.com/optuna/optuna/releases/tag/v3.0.0. Use suggest_float instead.\n",
      "  'feature_fraction': trial.suggest_uniform('feature_fraction', 0.6, 1.0),\n",
      "/var/folders/q2/dcrx6nt90nn2l4tdmr2yqy7w0000gn/T/ipykernel_10448/2602224507.py:95: FutureWarning: suggest_uniform has been deprecated in v3.0.0. This feature will be removed in v6.0.0. See https://github.com/optuna/optuna/releases/tag/v3.0.0. Use suggest_float instead.\n",
      "  'scale_pos_weight': trial.suggest_uniform('scale_pos_weight', 1, 10)\n",
      "[I 2025-05-19 18:22:00,666] Trial 7 finished with value: 991760.12 and parameters: {'num_leaves': 38, 'learning_rate': 0.06342592654264566, 'feature_fraction': 0.9146233588548297, 'min_child_samples': 64, 'scale_pos_weight': 9.59889580027793}. Best is trial 6 with value: 991959.431.\n"
     ]
    },
    {
     "name": "stdout",
     "output_type": "stream",
     "text": [
      "Early stopping, best iteration is:\n",
      "[464]\tvalid_0's auc: 0.995145\n",
      "[LightGBM] [Info] Number of positive: 7739, number of negative: 77189\n",
      "[LightGBM] [Info] Auto-choosing row-wise multi-threading, the overhead of testing was 0.001171 seconds.\n",
      "You can set `force_row_wise=true` to remove the overhead.\n",
      "And if memory is not enough, you can set `force_col_wise=true`.\n",
      "[LightGBM] [Info] Total Bins 2692\n",
      "[LightGBM] [Info] Number of data points in the train set: 84928, number of used features: 20\n",
      "[LightGBM] [Info] [binary:BoostFromScore]: pavg=0.091124 -> initscore=-2.299984\n",
      "[LightGBM] [Info] Start training from score -2.299984\n",
      "Training until validation scores don't improve for 20 rounds\n"
     ]
    },
    {
     "name": "stderr",
     "output_type": "stream",
     "text": [
      "/var/folders/q2/dcrx6nt90nn2l4tdmr2yqy7w0000gn/T/ipykernel_10448/2602224507.py:92: FutureWarning: suggest_uniform has been deprecated in v3.0.0. This feature will be removed in v6.0.0. See https://github.com/optuna/optuna/releases/tag/v3.0.0. Use suggest_float instead.\n",
      "  'feature_fraction': trial.suggest_uniform('feature_fraction', 0.6, 1.0),\n",
      "/var/folders/q2/dcrx6nt90nn2l4tdmr2yqy7w0000gn/T/ipykernel_10448/2602224507.py:95: FutureWarning: suggest_uniform has been deprecated in v3.0.0. This feature will be removed in v6.0.0. See https://github.com/optuna/optuna/releases/tag/v3.0.0. Use suggest_float instead.\n",
      "  'scale_pos_weight': trial.suggest_uniform('scale_pos_weight', 1, 10)\n",
      "[I 2025-05-19 18:22:04,979] Trial 8 finished with value: 991285.162 and parameters: {'num_leaves': 44, 'learning_rate': 0.06738965740759532, 'feature_fraction': 0.9733011004345634, 'min_child_samples': 87, 'scale_pos_weight': 9.006576208057593}. Best is trial 6 with value: 991959.431.\n"
     ]
    },
    {
     "name": "stdout",
     "output_type": "stream",
     "text": [
      "Early stopping, best iteration is:\n",
      "[555]\tvalid_0's auc: 0.995321\n",
      "[LightGBM] [Info] Number of positive: 7739, number of negative: 77189\n",
      "[LightGBM] [Info] Auto-choosing row-wise multi-threading, the overhead of testing was 0.001482 seconds.\n",
      "You can set `force_row_wise=true` to remove the overhead.\n",
      "And if memory is not enough, you can set `force_col_wise=true`.\n",
      "[LightGBM] [Info] Total Bins 2692\n",
      "[LightGBM] [Info] Number of data points in the train set: 84928, number of used features: 20\n",
      "[LightGBM] [Info] [binary:BoostFromScore]: pavg=0.091124 -> initscore=-2.299984\n",
      "[LightGBM] [Info] Start training from score -2.299984\n",
      "Training until validation scores don't improve for 20 rounds\n"
     ]
    },
    {
     "name": "stderr",
     "output_type": "stream",
     "text": [
      "/var/folders/q2/dcrx6nt90nn2l4tdmr2yqy7w0000gn/T/ipykernel_10448/2602224507.py:92: FutureWarning: suggest_uniform has been deprecated in v3.0.0. This feature will be removed in v6.0.0. See https://github.com/optuna/optuna/releases/tag/v3.0.0. Use suggest_float instead.\n",
      "  'feature_fraction': trial.suggest_uniform('feature_fraction', 0.6, 1.0),\n",
      "/var/folders/q2/dcrx6nt90nn2l4tdmr2yqy7w0000gn/T/ipykernel_10448/2602224507.py:95: FutureWarning: suggest_uniform has been deprecated in v3.0.0. This feature will be removed in v6.0.0. See https://github.com/optuna/optuna/releases/tag/v3.0.0. Use suggest_float instead.\n",
      "  'scale_pos_weight': trial.suggest_uniform('scale_pos_weight', 1, 10)\n",
      "[I 2025-05-19 18:22:09,776] Trial 9 finished with value: 990041.716 and parameters: {'num_leaves': 25, 'learning_rate': 0.02816379210551385, 'feature_fraction': 0.8270852854380131, 'min_child_samples': 16, 'scale_pos_weight': 3.8177797157822053}. Best is trial 6 with value: 991959.431.\n"
     ]
    },
    {
     "name": "stdout",
     "output_type": "stream",
     "text": [
      "Did not meet early stopping. Best iteration is:\n",
      "[1000]\tvalid_0's auc: 0.995033\n",
      "[LightGBM] [Info] Number of positive: 7739, number of negative: 77189\n",
      "[LightGBM] [Info] Auto-choosing row-wise multi-threading, the overhead of testing was 0.001010 seconds.\n",
      "You can set `force_row_wise=true` to remove the overhead.\n",
      "And if memory is not enough, you can set `force_col_wise=true`.\n",
      "[LightGBM] [Info] Total Bins 2692\n",
      "[LightGBM] [Info] Number of data points in the train set: 84928, number of used features: 20\n",
      "[LightGBM] [Info] [binary:BoostFromScore]: pavg=0.091124 -> initscore=-2.299984\n",
      "[LightGBM] [Info] Start training from score -2.299984\n",
      "Training until validation scores don't improve for 20 rounds\n"
     ]
    },
    {
     "name": "stderr",
     "output_type": "stream",
     "text": [
      "/var/folders/q2/dcrx6nt90nn2l4tdmr2yqy7w0000gn/T/ipykernel_10448/2602224507.py:92: FutureWarning: suggest_uniform has been deprecated in v3.0.0. This feature will be removed in v6.0.0. See https://github.com/optuna/optuna/releases/tag/v3.0.0. Use suggest_float instead.\n",
      "  'feature_fraction': trial.suggest_uniform('feature_fraction', 0.6, 1.0),\n",
      "/var/folders/q2/dcrx6nt90nn2l4tdmr2yqy7w0000gn/T/ipykernel_10448/2602224507.py:95: FutureWarning: suggest_uniform has been deprecated in v3.0.0. This feature will be removed in v6.0.0. See https://github.com/optuna/optuna/releases/tag/v3.0.0. Use suggest_float instead.\n",
      "  'scale_pos_weight': trial.suggest_uniform('scale_pos_weight', 1, 10)\n",
      "[I 2025-05-19 18:22:15,759] Trial 10 finished with value: 989522.784 and parameters: {'num_leaves': 82, 'learning_rate': 0.04768986875906128, 'feature_fraction': 0.7107394560343804, 'min_child_samples': 43, 'scale_pos_weight': 6.860195088738784}. Best is trial 6 with value: 991959.431.\n"
     ]
    },
    {
     "name": "stdout",
     "output_type": "stream",
     "text": [
      "Early stopping, best iteration is:\n",
      "[437]\tvalid_0's auc: 0.995847\n",
      "[LightGBM] [Info] Number of positive: 7739, number of negative: 77189\n",
      "[LightGBM] [Info] Auto-choosing row-wise multi-threading, the overhead of testing was 0.000967 seconds.\n",
      "You can set `force_row_wise=true` to remove the overhead.\n",
      "And if memory is not enough, you can set `force_col_wise=true`.\n",
      "[LightGBM] [Info] Total Bins 2692\n",
      "[LightGBM] [Info] Number of data points in the train set: 84928, number of used features: 20\n",
      "[LightGBM] [Info] [binary:BoostFromScore]: pavg=0.091124 -> initscore=-2.299984\n",
      "[LightGBM] [Info] Start training from score -2.299984\n",
      "Training until validation scores don't improve for 20 rounds\n"
     ]
    },
    {
     "name": "stderr",
     "output_type": "stream",
     "text": [
      "/var/folders/q2/dcrx6nt90nn2l4tdmr2yqy7w0000gn/T/ipykernel_10448/2602224507.py:92: FutureWarning: suggest_uniform has been deprecated in v3.0.0. This feature will be removed in v6.0.0. See https://github.com/optuna/optuna/releases/tag/v3.0.0. Use suggest_float instead.\n",
      "  'feature_fraction': trial.suggest_uniform('feature_fraction', 0.6, 1.0),\n",
      "/var/folders/q2/dcrx6nt90nn2l4tdmr2yqy7w0000gn/T/ipykernel_10448/2602224507.py:95: FutureWarning: suggest_uniform has been deprecated in v3.0.0. This feature will be removed in v6.0.0. See https://github.com/optuna/optuna/releases/tag/v3.0.0. Use suggest_float instead.\n",
      "  'scale_pos_weight': trial.suggest_uniform('scale_pos_weight', 1, 10)\n",
      "[I 2025-05-19 18:22:20,294] Trial 11 finished with value: 990832.6410000001 and parameters: {'num_leaves': 21, 'learning_rate': 0.024632688685780894, 'feature_fraction': 0.615794282619986, 'min_child_samples': 69, 'scale_pos_weight': 7.962749453384578}. Best is trial 6 with value: 991959.431.\n"
     ]
    },
    {
     "name": "stdout",
     "output_type": "stream",
     "text": [
      "Did not meet early stopping. Best iteration is:\n",
      "[1000]\tvalid_0's auc: 0.994636\n",
      "[LightGBM] [Info] Number of positive: 7739, number of negative: 77189\n",
      "[LightGBM] [Info] Auto-choosing row-wise multi-threading, the overhead of testing was 0.001071 seconds.\n",
      "You can set `force_row_wise=true` to remove the overhead.\n",
      "And if memory is not enough, you can set `force_col_wise=true`.\n",
      "[LightGBM] [Info] Total Bins 2692\n",
      "[LightGBM] [Info] Number of data points in the train set: 84928, number of used features: 20\n",
      "[LightGBM] [Info] [binary:BoostFromScore]: pavg=0.091124 -> initscore=-2.299984\n",
      "[LightGBM] [Info] Start training from score -2.299984\n",
      "Training until validation scores don't improve for 20 rounds\n"
     ]
    },
    {
     "name": "stderr",
     "output_type": "stream",
     "text": [
      "/var/folders/q2/dcrx6nt90nn2l4tdmr2yqy7w0000gn/T/ipykernel_10448/2602224507.py:92: FutureWarning: suggest_uniform has been deprecated in v3.0.0. This feature will be removed in v6.0.0. See https://github.com/optuna/optuna/releases/tag/v3.0.0. Use suggest_float instead.\n",
      "  'feature_fraction': trial.suggest_uniform('feature_fraction', 0.6, 1.0),\n",
      "/var/folders/q2/dcrx6nt90nn2l4tdmr2yqy7w0000gn/T/ipykernel_10448/2602224507.py:95: FutureWarning: suggest_uniform has been deprecated in v3.0.0. This feature will be removed in v6.0.0. See https://github.com/optuna/optuna/releases/tag/v3.0.0. Use suggest_float instead.\n",
      "  'scale_pos_weight': trial.suggest_uniform('scale_pos_weight', 1, 10)\n",
      "[I 2025-05-19 18:22:27,220] Trial 12 finished with value: 990314.272 and parameters: {'num_leaves': 60, 'learning_rate': 0.041758487168878616, 'feature_fraction': 0.8928906427041532, 'min_child_samples': 41, 'scale_pos_weight': 7.929657612898366}. Best is trial 6 with value: 991959.431.\n"
     ]
    },
    {
     "name": "stdout",
     "output_type": "stream",
     "text": [
      "Early stopping, best iteration is:\n",
      "[679]\tvalid_0's auc: 0.99581\n",
      "[LightGBM] [Info] Number of positive: 7739, number of negative: 77189\n",
      "[LightGBM] [Info] Auto-choosing row-wise multi-threading, the overhead of testing was 0.000929 seconds.\n",
      "You can set `force_row_wise=true` to remove the overhead.\n",
      "And if memory is not enough, you can set `force_col_wise=true`.\n",
      "[LightGBM] [Info] Total Bins 2692\n",
      "[LightGBM] [Info] Number of data points in the train set: 84928, number of used features: 20\n",
      "[LightGBM] [Info] [binary:BoostFromScore]: pavg=0.091124 -> initscore=-2.299984\n",
      "[LightGBM] [Info] Start training from score -2.299984\n",
      "Training until validation scores don't improve for 20 rounds\n"
     ]
    },
    {
     "name": "stderr",
     "output_type": "stream",
     "text": [
      "/var/folders/q2/dcrx6nt90nn2l4tdmr2yqy7w0000gn/T/ipykernel_10448/2602224507.py:92: FutureWarning: suggest_uniform has been deprecated in v3.0.0. This feature will be removed in v6.0.0. See https://github.com/optuna/optuna/releases/tag/v3.0.0. Use suggest_float instead.\n",
      "  'feature_fraction': trial.suggest_uniform('feature_fraction', 0.6, 1.0),\n",
      "/var/folders/q2/dcrx6nt90nn2l4tdmr2yqy7w0000gn/T/ipykernel_10448/2602224507.py:95: FutureWarning: suggest_uniform has been deprecated in v3.0.0. This feature will be removed in v6.0.0. See https://github.com/optuna/optuna/releases/tag/v3.0.0. Use suggest_float instead.\n",
      "  'scale_pos_weight': trial.suggest_uniform('scale_pos_weight', 1, 10)\n",
      "[I 2025-05-19 18:22:36,039] Trial 13 finished with value: 990006.4409999999 and parameters: {'num_leaves': 52, 'learning_rate': 0.021421512769781048, 'feature_fraction': 0.7484293702547352, 'min_child_samples': 76, 'scale_pos_weight': 4.931076040927097}. Best is trial 6 with value: 991959.431.\n"
     ]
    },
    {
     "name": "stdout",
     "output_type": "stream",
     "text": [
      "Did not meet early stopping. Best iteration is:\n",
      "[998]\tvalid_0's auc: 0.995611\n"
     ]
    },
    {
     "name": "stderr",
     "output_type": "stream",
     "text": [
      "/var/folders/q2/dcrx6nt90nn2l4tdmr2yqy7w0000gn/T/ipykernel_10448/2602224507.py:92: FutureWarning: suggest_uniform has been deprecated in v3.0.0. This feature will be removed in v6.0.0. See https://github.com/optuna/optuna/releases/tag/v3.0.0. Use suggest_float instead.\n",
      "  'feature_fraction': trial.suggest_uniform('feature_fraction', 0.6, 1.0),\n",
      "/var/folders/q2/dcrx6nt90nn2l4tdmr2yqy7w0000gn/T/ipykernel_10448/2602224507.py:95: FutureWarning: suggest_uniform has been deprecated in v3.0.0. This feature will be removed in v6.0.0. See https://github.com/optuna/optuna/releases/tag/v3.0.0. Use suggest_float instead.\n",
      "  'scale_pos_weight': trial.suggest_uniform('scale_pos_weight', 1, 10)\n"
     ]
    },
    {
     "name": "stdout",
     "output_type": "stream",
     "text": [
      "[LightGBM] [Info] Number of positive: 7739, number of negative: 77189\n",
      "[LightGBM] [Info] Auto-choosing row-wise multi-threading, the overhead of testing was 0.001823 seconds.\n",
      "You can set `force_row_wise=true` to remove the overhead.\n",
      "And if memory is not enough, you can set `force_col_wise=true`.\n",
      "[LightGBM] [Info] Total Bins 2692\n",
      "[LightGBM] [Info] Number of data points in the train set: 84928, number of used features: 20\n",
      "[LightGBM] [Info] [binary:BoostFromScore]: pavg=0.091124 -> initscore=-2.299984\n",
      "[LightGBM] [Info] Start training from score -2.299984\n",
      "Training until validation scores don't improve for 20 rounds\n"
     ]
    },
    {
     "name": "stderr",
     "output_type": "stream",
     "text": [
      "[I 2025-05-19 18:22:39,825] Trial 14 finished with value: 991904.4249999999 and parameters: {'num_leaves': 32, 'learning_rate': 0.05325519779701018, 'feature_fraction': 0.7755723695103365, 'min_child_samples': 49, 'scale_pos_weight': 9.950340088198137}. Best is trial 6 with value: 991959.431.\n"
     ]
    },
    {
     "name": "stdout",
     "output_type": "stream",
     "text": [
      "Early stopping, best iteration is:\n",
      "[596]\tvalid_0's auc: 0.995103\n",
      "[LightGBM] [Info] Number of positive: 7739, number of negative: 77189\n",
      "[LightGBM] [Info] Auto-choosing row-wise multi-threading, the overhead of testing was 0.001190 seconds.\n",
      "You can set `force_row_wise=true` to remove the overhead.\n",
      "And if memory is not enough, you can set `force_col_wise=true`.\n",
      "[LightGBM] [Info] Total Bins 2692\n",
      "[LightGBM] [Info] Number of data points in the train set: 84928, number of used features: 20\n",
      "[LightGBM] [Info] [binary:BoostFromScore]: pavg=0.091124 -> initscore=-2.299984\n",
      "[LightGBM] [Info] Start training from score -2.299984\n",
      "Training until validation scores don't improve for 20 rounds\n"
     ]
    },
    {
     "name": "stderr",
     "output_type": "stream",
     "text": [
      "/var/folders/q2/dcrx6nt90nn2l4tdmr2yqy7w0000gn/T/ipykernel_10448/2602224507.py:92: FutureWarning: suggest_uniform has been deprecated in v3.0.0. This feature will be removed in v6.0.0. See https://github.com/optuna/optuna/releases/tag/v3.0.0. Use suggest_float instead.\n",
      "  'feature_fraction': trial.suggest_uniform('feature_fraction', 0.6, 1.0),\n",
      "/var/folders/q2/dcrx6nt90nn2l4tdmr2yqy7w0000gn/T/ipykernel_10448/2602224507.py:95: FutureWarning: suggest_uniform has been deprecated in v3.0.0. This feature will be removed in v6.0.0. See https://github.com/optuna/optuna/releases/tag/v3.0.0. Use suggest_float instead.\n",
      "  'scale_pos_weight': trial.suggest_uniform('scale_pos_weight', 1, 10)\n",
      "[I 2025-05-19 18:22:43,268] Trial 15 finished with value: 988095.3439999999 and parameters: {'num_leaves': 74, 'learning_rate': 0.09016815176505771, 'feature_fraction': 0.8769350610658773, 'min_child_samples': 32, 'scale_pos_weight': 8.128145922926194}. Best is trial 6 with value: 991959.431.\n"
     ]
    },
    {
     "name": "stdout",
     "output_type": "stream",
     "text": [
      "Early stopping, best iteration is:\n",
      "[265]\tvalid_0's auc: 0.995542\n",
      "[LightGBM] [Info] Number of positive: 7739, number of negative: 77189\n",
      "[LightGBM] [Info] Auto-choosing row-wise multi-threading, the overhead of testing was 0.001684 seconds.\n",
      "You can set `force_row_wise=true` to remove the overhead.\n",
      "And if memory is not enough, you can set `force_col_wise=true`.\n",
      "[LightGBM] [Info] Total Bins 2692\n",
      "[LightGBM] [Info] Number of data points in the train set: 84928, number of used features: 20\n",
      "[LightGBM] [Info] [binary:BoostFromScore]: pavg=0.091124 -> initscore=-2.299984\n",
      "[LightGBM] [Info] Start training from score -2.299984\n",
      "Training until validation scores don't improve for 20 rounds\n"
     ]
    },
    {
     "name": "stderr",
     "output_type": "stream",
     "text": [
      "/var/folders/q2/dcrx6nt90nn2l4tdmr2yqy7w0000gn/T/ipykernel_10448/2602224507.py:92: FutureWarning: suggest_uniform has been deprecated in v3.0.0. This feature will be removed in v6.0.0. See https://github.com/optuna/optuna/releases/tag/v3.0.0. Use suggest_float instead.\n",
      "  'feature_fraction': trial.suggest_uniform('feature_fraction', 0.6, 1.0),\n",
      "/var/folders/q2/dcrx6nt90nn2l4tdmr2yqy7w0000gn/T/ipykernel_10448/2602224507.py:95: FutureWarning: suggest_uniform has been deprecated in v3.0.0. This feature will be removed in v6.0.0. See https://github.com/optuna/optuna/releases/tag/v3.0.0. Use suggest_float instead.\n",
      "  'scale_pos_weight': trial.suggest_uniform('scale_pos_weight', 1, 10)\n"
     ]
    },
    {
     "name": "stdout",
     "output_type": "stream",
     "text": [
      "Early stopping, best iteration is:\n",
      "[814]\tvalid_0's auc: 0.995499\n"
     ]
    },
    {
     "name": "stderr",
     "output_type": "stream",
     "text": [
      "[I 2025-05-19 18:22:52,977] Trial 16 finished with value: 990352.4469999999 and parameters: {'num_leaves': 72, 'learning_rate': 0.020614816426790344, 'feature_fraction': 0.7110918167746342, 'min_child_samples': 81, 'scale_pos_weight': 5.4107767669370865}. Best is trial 6 with value: 991959.431.\n",
      "/var/folders/q2/dcrx6nt90nn2l4tdmr2yqy7w0000gn/T/ipykernel_10448/2602224507.py:92: FutureWarning: suggest_uniform has been deprecated in v3.0.0. This feature will be removed in v6.0.0. See https://github.com/optuna/optuna/releases/tag/v3.0.0. Use suggest_float instead.\n",
      "  'feature_fraction': trial.suggest_uniform('feature_fraction', 0.6, 1.0),\n",
      "/var/folders/q2/dcrx6nt90nn2l4tdmr2yqy7w0000gn/T/ipykernel_10448/2602224507.py:95: FutureWarning: suggest_uniform has been deprecated in v3.0.0. This feature will be removed in v6.0.0. See https://github.com/optuna/optuna/releases/tag/v3.0.0. Use suggest_float instead.\n",
      "  'scale_pos_weight': trial.suggest_uniform('scale_pos_weight', 1, 10)\n"
     ]
    },
    {
     "name": "stdout",
     "output_type": "stream",
     "text": [
      "[LightGBM] [Info] Number of positive: 7739, number of negative: 77189\n",
      "[LightGBM] [Info] Auto-choosing row-wise multi-threading, the overhead of testing was 0.001014 seconds.\n",
      "You can set `force_row_wise=true` to remove the overhead.\n",
      "And if memory is not enough, you can set `force_col_wise=true`.\n",
      "[LightGBM] [Info] Total Bins 2692\n",
      "[LightGBM] [Info] Number of data points in the train set: 84928, number of used features: 20\n",
      "[LightGBM] [Info] [binary:BoostFromScore]: pavg=0.091124 -> initscore=-2.299984\n",
      "[LightGBM] [Info] Start training from score -2.299984\n",
      "Training until validation scores don't improve for 20 rounds\n"
     ]
    },
    {
     "name": "stderr",
     "output_type": "stream",
     "text": [
      "[I 2025-05-19 18:22:57,336] Trial 17 finished with value: 990922.1889999999 and parameters: {'num_leaves': 32, 'learning_rate': 0.03356480019473541, 'feature_fraction': 0.9538916009692562, 'min_child_samples': 61, 'scale_pos_weight': 6.736304945474247}. Best is trial 6 with value: 991959.431.\n"
     ]
    },
    {
     "name": "stdout",
     "output_type": "stream",
     "text": [
      "Early stopping, best iteration is:\n",
      "[718]\tvalid_0's auc: 0.99495\n",
      "[LightGBM] [Info] Number of positive: 7739, number of negative: 77189\n",
      "[LightGBM] [Info] Auto-choosing row-wise multi-threading, the overhead of testing was 0.000983 seconds.\n",
      "You can set `force_row_wise=true` to remove the overhead.\n",
      "And if memory is not enough, you can set `force_col_wise=true`.\n",
      "[LightGBM] [Info] Total Bins 2692\n",
      "[LightGBM] [Info] Number of data points in the train set: 84928, number of used features: 20\n",
      "[LightGBM] [Info] [binary:BoostFromScore]: pavg=0.091124 -> initscore=-2.299984\n",
      "[LightGBM] [Info] Start training from score -2.299984\n",
      "Training until validation scores don't improve for 20 rounds\n"
     ]
    },
    {
     "name": "stderr",
     "output_type": "stream",
     "text": [
      "/var/folders/q2/dcrx6nt90nn2l4tdmr2yqy7w0000gn/T/ipykernel_10448/2602224507.py:92: FutureWarning: suggest_uniform has been deprecated in v3.0.0. This feature will be removed in v6.0.0. See https://github.com/optuna/optuna/releases/tag/v3.0.0. Use suggest_float instead.\n",
      "  'feature_fraction': trial.suggest_uniform('feature_fraction', 0.6, 1.0),\n",
      "/var/folders/q2/dcrx6nt90nn2l4tdmr2yqy7w0000gn/T/ipykernel_10448/2602224507.py:95: FutureWarning: suggest_uniform has been deprecated in v3.0.0. This feature will be removed in v6.0.0. See https://github.com/optuna/optuna/releases/tag/v3.0.0. Use suggest_float instead.\n",
      "  'scale_pos_weight': trial.suggest_uniform('scale_pos_weight', 1, 10)\n",
      "[I 2025-05-19 18:23:01,767] Trial 18 finished with value: 992352.9160000001 and parameters: {'num_leaves': 55, 'learning_rate': 0.06183203553018986, 'feature_fraction': 0.8349376311773334, 'min_child_samples': 31, 'scale_pos_weight': 8.758452967826077}. Best is trial 18 with value: 992352.9160000001.\n"
     ]
    },
    {
     "name": "stdout",
     "output_type": "stream",
     "text": [
      "Early stopping, best iteration is:\n",
      "[464]\tvalid_0's auc: 0.995634\n",
      "[LightGBM] [Info] Number of positive: 7739, number of negative: 77189\n",
      "[LightGBM] [Info] Auto-choosing row-wise multi-threading, the overhead of testing was 0.001041 seconds.\n",
      "You can set `force_row_wise=true` to remove the overhead.\n",
      "And if memory is not enough, you can set `force_col_wise=true`.\n",
      "[LightGBM] [Info] Total Bins 2692\n",
      "[LightGBM] [Info] Number of data points in the train set: 84928, number of used features: 20\n",
      "[LightGBM] [Info] [binary:BoostFromScore]: pavg=0.091124 -> initscore=-2.299984\n",
      "[LightGBM] [Info] Start training from score -2.299984\n",
      "Training until validation scores don't improve for 20 rounds\n"
     ]
    },
    {
     "name": "stderr",
     "output_type": "stream",
     "text": [
      "/var/folders/q2/dcrx6nt90nn2l4tdmr2yqy7w0000gn/T/ipykernel_10448/2602224507.py:92: FutureWarning: suggest_uniform has been deprecated in v3.0.0. This feature will be removed in v6.0.0. See https://github.com/optuna/optuna/releases/tag/v3.0.0. Use suggest_float instead.\n",
      "  'feature_fraction': trial.suggest_uniform('feature_fraction', 0.6, 1.0),\n",
      "/var/folders/q2/dcrx6nt90nn2l4tdmr2yqy7w0000gn/T/ipykernel_10448/2602224507.py:95: FutureWarning: suggest_uniform has been deprecated in v3.0.0. This feature will be removed in v6.0.0. See https://github.com/optuna/optuna/releases/tag/v3.0.0. Use suggest_float instead.\n",
      "  'scale_pos_weight': trial.suggest_uniform('scale_pos_weight', 1, 10)\n",
      "[I 2025-05-19 18:23:06,688] Trial 19 finished with value: 990390.742 and parameters: {'num_leaves': 51, 'learning_rate': 0.06706772505335376, 'feature_fraction': 0.6765328501079221, 'min_child_samples': 28, 'scale_pos_weight': 8.625711459790303}. Best is trial 18 with value: 992352.9160000001.\n"
     ]
    },
    {
     "name": "stdout",
     "output_type": "stream",
     "text": [
      "Early stopping, best iteration is:\n",
      "[530]\tvalid_0's auc: 0.996024\n",
      "[LightGBM] [Info] Number of positive: 7739, number of negative: 77189\n",
      "[LightGBM] [Info] Auto-choosing row-wise multi-threading, the overhead of testing was 0.001015 seconds.\n",
      "You can set `force_row_wise=true` to remove the overhead.\n",
      "And if memory is not enough, you can set `force_col_wise=true`.\n",
      "[LightGBM] [Info] Total Bins 2692\n",
      "[LightGBM] [Info] Number of data points in the train set: 84928, number of used features: 20\n",
      "[LightGBM] [Info] [binary:BoostFromScore]: pavg=0.091124 -> initscore=-2.299984\n",
      "[LightGBM] [Info] Start training from score -2.299984\n",
      "Training until validation scores don't improve for 20 rounds\n"
     ]
    },
    {
     "name": "stderr",
     "output_type": "stream",
     "text": [
      "/var/folders/q2/dcrx6nt90nn2l4tdmr2yqy7w0000gn/T/ipykernel_10448/2602224507.py:92: FutureWarning: suggest_uniform has been deprecated in v3.0.0. This feature will be removed in v6.0.0. See https://github.com/optuna/optuna/releases/tag/v3.0.0. Use suggest_float instead.\n",
      "  'feature_fraction': trial.suggest_uniform('feature_fraction', 0.6, 1.0),\n",
      "/var/folders/q2/dcrx6nt90nn2l4tdmr2yqy7w0000gn/T/ipykernel_10448/2602224507.py:95: FutureWarning: suggest_uniform has been deprecated in v3.0.0. This feature will be removed in v6.0.0. See https://github.com/optuna/optuna/releases/tag/v3.0.0. Use suggest_float instead.\n",
      "  'scale_pos_weight': trial.suggest_uniform('scale_pos_weight', 1, 10)\n",
      "[I 2025-05-19 18:23:11,925] Trial 20 finished with value: 991315.2890000001 and parameters: {'num_leaves': 66, 'learning_rate': 0.051780587513204766, 'feature_fraction': 0.7357114743474817, 'min_child_samples': 38, 'scale_pos_weight': 7.233651863285825}. Best is trial 18 with value: 992352.9160000001.\n"
     ]
    },
    {
     "name": "stdout",
     "output_type": "stream",
     "text": [
      "Early stopping, best iteration is:\n",
      "[464]\tvalid_0's auc: 0.995841\n",
      "[LightGBM] [Info] Number of positive: 7739, number of negative: 77189\n",
      "[LightGBM] [Info] Auto-choosing row-wise multi-threading, the overhead of testing was 0.001030 seconds.\n",
      "You can set `force_row_wise=true` to remove the overhead.\n",
      "And if memory is not enough, you can set `force_col_wise=true`.\n",
      "[LightGBM] [Info] Total Bins 2692\n",
      "[LightGBM] [Info] Number of data points in the train set: 84928, number of used features: 20\n",
      "[LightGBM] [Info] [binary:BoostFromScore]: pavg=0.091124 -> initscore=-2.299984\n",
      "[LightGBM] [Info] Start training from score -2.299984\n",
      "Training until validation scores don't improve for 20 rounds\n"
     ]
    },
    {
     "name": "stderr",
     "output_type": "stream",
     "text": [
      "/var/folders/q2/dcrx6nt90nn2l4tdmr2yqy7w0000gn/T/ipykernel_10448/2602224507.py:92: FutureWarning: suggest_uniform has been deprecated in v3.0.0. This feature will be removed in v6.0.0. See https://github.com/optuna/optuna/releases/tag/v3.0.0. Use suggest_float instead.\n",
      "  'feature_fraction': trial.suggest_uniform('feature_fraction', 0.6, 1.0),\n",
      "/var/folders/q2/dcrx6nt90nn2l4tdmr2yqy7w0000gn/T/ipykernel_10448/2602224507.py:95: FutureWarning: suggest_uniform has been deprecated in v3.0.0. This feature will be removed in v6.0.0. See https://github.com/optuna/optuna/releases/tag/v3.0.0. Use suggest_float instead.\n",
      "  'scale_pos_weight': trial.suggest_uniform('scale_pos_weight', 1, 10)\n",
      "[I 2025-05-19 18:23:18,215] Trial 21 finished with value: 991874.618 and parameters: {'num_leaves': 53, 'learning_rate': 0.039111924412580594, 'feature_fraction': 0.8467132748136619, 'min_child_samples': 11, 'scale_pos_weight': 9.02853815380244}. Best is trial 18 with value: 992352.9160000001.\n"
     ]
    },
    {
     "name": "stdout",
     "output_type": "stream",
     "text": [
      "Early stopping, best iteration is:\n",
      "[692]\tvalid_0's auc: 0.995628\n",
      "[LightGBM] [Info] Number of positive: 7739, number of negative: 77189\n",
      "[LightGBM] [Info] Auto-choosing row-wise multi-threading, the overhead of testing was 0.001042 seconds.\n",
      "You can set `force_row_wise=true` to remove the overhead.\n",
      "And if memory is not enough, you can set `force_col_wise=true`.\n",
      "[LightGBM] [Info] Total Bins 2692\n",
      "[LightGBM] [Info] Number of data points in the train set: 84928, number of used features: 20\n",
      "[LightGBM] [Info] [binary:BoostFromScore]: pavg=0.091124 -> initscore=-2.299984\n",
      "[LightGBM] [Info] Start training from score -2.299984\n",
      "Training until validation scores don't improve for 20 rounds\n"
     ]
    },
    {
     "name": "stderr",
     "output_type": "stream",
     "text": [
      "/var/folders/q2/dcrx6nt90nn2l4tdmr2yqy7w0000gn/T/ipykernel_10448/2602224507.py:92: FutureWarning: suggest_uniform has been deprecated in v3.0.0. This feature will be removed in v6.0.0. See https://github.com/optuna/optuna/releases/tag/v3.0.0. Use suggest_float instead.\n",
      "  'feature_fraction': trial.suggest_uniform('feature_fraction', 0.6, 1.0),\n",
      "/var/folders/q2/dcrx6nt90nn2l4tdmr2yqy7w0000gn/T/ipykernel_10448/2602224507.py:95: FutureWarning: suggest_uniform has been deprecated in v3.0.0. This feature will be removed in v6.0.0. See https://github.com/optuna/optuna/releases/tag/v3.0.0. Use suggest_float instead.\n",
      "  'scale_pos_weight': trial.suggest_uniform('scale_pos_weight', 1, 10)\n",
      "[I 2025-05-19 18:23:21,166] Trial 22 finished with value: 991955.948 and parameters: {'num_leaves': 37, 'learning_rate': 0.07515709691580473, 'feature_fraction': 0.7926244802716814, 'min_child_samples': 25, 'scale_pos_weight': 7.536265386859215}. Best is trial 18 with value: 992352.9160000001.\n"
     ]
    },
    {
     "name": "stdout",
     "output_type": "stream",
     "text": [
      "Early stopping, best iteration is:\n",
      "[423]\tvalid_0's auc: 0.995294\n",
      "[LightGBM] [Info] Number of positive: 7739, number of negative: 77189\n",
      "[LightGBM] [Info] Auto-choosing row-wise multi-threading, the overhead of testing was 0.001017 seconds.\n",
      "You can set `force_row_wise=true` to remove the overhead.\n",
      "And if memory is not enough, you can set `force_col_wise=true`.\n",
      "[LightGBM] [Info] Total Bins 2692\n",
      "[LightGBM] [Info] Number of data points in the train set: 84928, number of used features: 20\n",
      "[LightGBM] [Info] [binary:BoostFromScore]: pavg=0.091124 -> initscore=-2.299984\n",
      "[LightGBM] [Info] Start training from score -2.299984\n",
      "Training until validation scores don't improve for 20 rounds\n"
     ]
    },
    {
     "name": "stderr",
     "output_type": "stream",
     "text": [
      "/var/folders/q2/dcrx6nt90nn2l4tdmr2yqy7w0000gn/T/ipykernel_10448/2602224507.py:92: FutureWarning: suggest_uniform has been deprecated in v3.0.0. This feature will be removed in v6.0.0. See https://github.com/optuna/optuna/releases/tag/v3.0.0. Use suggest_float instead.\n",
      "  'feature_fraction': trial.suggest_uniform('feature_fraction', 0.6, 1.0),\n",
      "/var/folders/q2/dcrx6nt90nn2l4tdmr2yqy7w0000gn/T/ipykernel_10448/2602224507.py:95: FutureWarning: suggest_uniform has been deprecated in v3.0.0. This feature will be removed in v6.0.0. See https://github.com/optuna/optuna/releases/tag/v3.0.0. Use suggest_float instead.\n",
      "  'scale_pos_weight': trial.suggest_uniform('scale_pos_weight', 1, 10)\n",
      "[I 2025-05-19 18:23:24,951] Trial 23 finished with value: 991365.669 and parameters: {'num_leaves': 39, 'learning_rate': 0.07673476164930505, 'feature_fraction': 0.7940071031119171, 'min_child_samples': 23, 'scale_pos_weight': 6.022369609454188}. Best is trial 18 with value: 992352.9160000001.\n"
     ]
    },
    {
     "name": "stdout",
     "output_type": "stream",
     "text": [
      "Early stopping, best iteration is:\n",
      "[523]\tvalid_0's auc: 0.995617\n",
      "[LightGBM] [Info] Number of positive: 7739, number of negative: 77189\n",
      "[LightGBM] [Info] Auto-choosing row-wise multi-threading, the overhead of testing was 0.000982 seconds.\n",
      "You can set `force_row_wise=true` to remove the overhead.\n",
      "And if memory is not enough, you can set `force_col_wise=true`.\n",
      "[LightGBM] [Info] Total Bins 2692\n",
      "[LightGBM] [Info] Number of data points in the train set: 84928, number of used features: 20\n",
      "[LightGBM] [Info] [binary:BoostFromScore]: pavg=0.091124 -> initscore=-2.299984\n",
      "[LightGBM] [Info] Start training from score -2.299984\n",
      "Training until validation scores don't improve for 20 rounds\n"
     ]
    },
    {
     "name": "stderr",
     "output_type": "stream",
     "text": [
      "/var/folders/q2/dcrx6nt90nn2l4tdmr2yqy7w0000gn/T/ipykernel_10448/2602224507.py:92: FutureWarning: suggest_uniform has been deprecated in v3.0.0. This feature will be removed in v6.0.0. See https://github.com/optuna/optuna/releases/tag/v3.0.0. Use suggest_float instead.\n",
      "  'feature_fraction': trial.suggest_uniform('feature_fraction', 0.6, 1.0),\n",
      "/var/folders/q2/dcrx6nt90nn2l4tdmr2yqy7w0000gn/T/ipykernel_10448/2602224507.py:95: FutureWarning: suggest_uniform has been deprecated in v3.0.0. This feature will be removed in v6.0.0. See https://github.com/optuna/optuna/releases/tag/v3.0.0. Use suggest_float instead.\n",
      "  'scale_pos_weight': trial.suggest_uniform('scale_pos_weight', 1, 10)\n",
      "[I 2025-05-19 18:23:28,088] Trial 24 finished with value: 991775.143 and parameters: {'num_leaves': 49, 'learning_rate': 0.058060662065832644, 'feature_fraction': 0.8115069435821288, 'min_child_samples': 23, 'scale_pos_weight': 7.544871447961355}. Best is trial 18 with value: 992352.9160000001.\n"
     ]
    },
    {
     "name": "stdout",
     "output_type": "stream",
     "text": [
      "Early stopping, best iteration is:\n",
      "[351]\tvalid_0's auc: 0.995325\n",
      "[LightGBM] [Info] Number of positive: 7739, number of negative: 77189\n",
      "[LightGBM] [Info] Auto-choosing row-wise multi-threading, the overhead of testing was 0.000967 seconds.\n",
      "You can set `force_row_wise=true` to remove the overhead.\n",
      "And if memory is not enough, you can set `force_col_wise=true`.\n",
      "[LightGBM] [Info] Total Bins 2692\n",
      "[LightGBM] [Info] Number of data points in the train set: 84928, number of used features: 20\n",
      "[LightGBM] [Info] [binary:BoostFromScore]: pavg=0.091124 -> initscore=-2.299984\n",
      "[LightGBM] [Info] Start training from score -2.299984\n",
      "Training until validation scores don't improve for 20 rounds\n"
     ]
    },
    {
     "name": "stderr",
     "output_type": "stream",
     "text": [
      "/var/folders/q2/dcrx6nt90nn2l4tdmr2yqy7w0000gn/T/ipykernel_10448/2602224507.py:92: FutureWarning: suggest_uniform has been deprecated in v3.0.0. This feature will be removed in v6.0.0. See https://github.com/optuna/optuna/releases/tag/v3.0.0. Use suggest_float instead.\n",
      "  'feature_fraction': trial.suggest_uniform('feature_fraction', 0.6, 1.0),\n",
      "/var/folders/q2/dcrx6nt90nn2l4tdmr2yqy7w0000gn/T/ipykernel_10448/2602224507.py:95: FutureWarning: suggest_uniform has been deprecated in v3.0.0. This feature will be removed in v6.0.0. See https://github.com/optuna/optuna/releases/tag/v3.0.0. Use suggest_float instead.\n",
      "  'scale_pos_weight': trial.suggest_uniform('scale_pos_weight', 1, 10)\n",
      "[I 2025-05-19 18:23:31,610] Trial 25 finished with value: 989933.8090000001 and parameters: {'num_leaves': 66, 'learning_rate': 0.09909397292414461, 'feature_fraction': 0.9226168112014168, 'min_child_samples': 35, 'scale_pos_weight': 4.784241847724787}. Best is trial 18 with value: 992352.9160000001.\n"
     ]
    },
    {
     "name": "stdout",
     "output_type": "stream",
     "text": [
      "Early stopping, best iteration is:\n",
      "[305]\tvalid_0's auc: 0.995516\n",
      "[LightGBM] [Info] Number of positive: 7739, number of negative: 77189\n",
      "[LightGBM] [Info] Auto-choosing row-wise multi-threading, the overhead of testing was 0.001343 seconds.\n",
      "You can set `force_row_wise=true` to remove the overhead.\n",
      "And if memory is not enough, you can set `force_col_wise=true`.\n",
      "[LightGBM] [Info] Total Bins 2692\n",
      "[LightGBM] [Info] Number of data points in the train set: 84928, number of used features: 20\n",
      "[LightGBM] [Info] [binary:BoostFromScore]: pavg=0.091124 -> initscore=-2.299984\n",
      "[LightGBM] [Info] Start training from score -2.299984\n",
      "Training until validation scores don't improve for 20 rounds\n"
     ]
    },
    {
     "name": "stderr",
     "output_type": "stream",
     "text": [
      "/var/folders/q2/dcrx6nt90nn2l4tdmr2yqy7w0000gn/T/ipykernel_10448/2602224507.py:92: FutureWarning: suggest_uniform has been deprecated in v3.0.0. This feature will be removed in v6.0.0. See https://github.com/optuna/optuna/releases/tag/v3.0.0. Use suggest_float instead.\n",
      "  'feature_fraction': trial.suggest_uniform('feature_fraction', 0.6, 1.0),\n",
      "/var/folders/q2/dcrx6nt90nn2l4tdmr2yqy7w0000gn/T/ipykernel_10448/2602224507.py:95: FutureWarning: suggest_uniform has been deprecated in v3.0.0. This feature will be removed in v6.0.0. See https://github.com/optuna/optuna/releases/tag/v3.0.0. Use suggest_float instead.\n",
      "  'scale_pos_weight': trial.suggest_uniform('scale_pos_weight', 1, 10)\n",
      "[I 2025-05-19 18:23:34,521] Trial 26 finished with value: 990981.8790000002 and parameters: {'num_leaves': 37, 'learning_rate': 0.07770534983551917, 'feature_fraction': 0.7767487079187787, 'min_child_samples': 50, 'scale_pos_weight': 6.364638249701483}. Best is trial 18 with value: 992352.9160000001.\n"
     ]
    },
    {
     "name": "stdout",
     "output_type": "stream",
     "text": [
      "Early stopping, best iteration is:\n",
      "[421]\tvalid_0's auc: 0.99531\n",
      "[LightGBM] [Info] Number of positive: 7739, number of negative: 77189\n",
      "[LightGBM] [Info] Auto-choosing row-wise multi-threading, the overhead of testing was 0.001013 seconds.\n",
      "You can set `force_row_wise=true` to remove the overhead.\n",
      "And if memory is not enough, you can set `force_col_wise=true`.\n",
      "[LightGBM] [Info] Total Bins 2692\n",
      "[LightGBM] [Info] Number of data points in the train set: 84928, number of used features: 20\n",
      "[LightGBM] [Info] [binary:BoostFromScore]: pavg=0.091124 -> initscore=-2.299984\n",
      "[LightGBM] [Info] Start training from score -2.299984\n",
      "Training until validation scores don't improve for 20 rounds\n"
     ]
    },
    {
     "name": "stderr",
     "output_type": "stream",
     "text": [
      "/var/folders/q2/dcrx6nt90nn2l4tdmr2yqy7w0000gn/T/ipykernel_10448/2602224507.py:92: FutureWarning: suggest_uniform has been deprecated in v3.0.0. This feature will be removed in v6.0.0. See https://github.com/optuna/optuna/releases/tag/v3.0.0. Use suggest_float instead.\n",
      "  'feature_fraction': trial.suggest_uniform('feature_fraction', 0.6, 1.0),\n",
      "/var/folders/q2/dcrx6nt90nn2l4tdmr2yqy7w0000gn/T/ipykernel_10448/2602224507.py:95: FutureWarning: suggest_uniform has been deprecated in v3.0.0. This feature will be removed in v6.0.0. See https://github.com/optuna/optuna/releases/tag/v3.0.0. Use suggest_float instead.\n",
      "  'scale_pos_weight': trial.suggest_uniform('scale_pos_weight', 1, 10)\n",
      "[I 2025-05-19 18:23:36,841] Trial 27 finished with value: 992143.675 and parameters: {'num_leaves': 20, 'learning_rate': 0.04428792226690495, 'feature_fraction': 0.7149094695780938, 'min_child_samples': 44, 'scale_pos_weight': 8.35979914905689}. Best is trial 18 with value: 992352.9160000001.\n"
     ]
    },
    {
     "name": "stdout",
     "output_type": "stream",
     "text": [
      "Early stopping, best iteration is:\n",
      "[532]\tvalid_0's auc: 0.99438\n",
      "[LightGBM] [Info] Number of positive: 7739, number of negative: 77189\n",
      "[LightGBM] [Info] Auto-choosing row-wise multi-threading, the overhead of testing was 0.000948 seconds.\n",
      "You can set `force_row_wise=true` to remove the overhead.\n",
      "And if memory is not enough, you can set `force_col_wise=true`.\n",
      "[LightGBM] [Info] Total Bins 2692\n",
      "[LightGBM] [Info] Number of data points in the train set: 84928, number of used features: 20\n",
      "[LightGBM] [Info] [binary:BoostFromScore]: pavg=0.091124 -> initscore=-2.299984\n",
      "[LightGBM] [Info] Start training from score -2.299984\n",
      "Training until validation scores don't improve for 20 rounds\n"
     ]
    },
    {
     "name": "stderr",
     "output_type": "stream",
     "text": [
      "/var/folders/q2/dcrx6nt90nn2l4tdmr2yqy7w0000gn/T/ipykernel_10448/2602224507.py:92: FutureWarning: suggest_uniform has been deprecated in v3.0.0. This feature will be removed in v6.0.0. See https://github.com/optuna/optuna/releases/tag/v3.0.0. Use suggest_float instead.\n",
      "  'feature_fraction': trial.suggest_uniform('feature_fraction', 0.6, 1.0),\n",
      "/var/folders/q2/dcrx6nt90nn2l4tdmr2yqy7w0000gn/T/ipykernel_10448/2602224507.py:95: FutureWarning: suggest_uniform has been deprecated in v3.0.0. This feature will be removed in v6.0.0. See https://github.com/optuna/optuna/releases/tag/v3.0.0. Use suggest_float instead.\n",
      "  'scale_pos_weight': trial.suggest_uniform('scale_pos_weight', 1, 10)\n",
      "[I 2025-05-19 18:23:40,360] Trial 28 finished with value: 992274.769 and parameters: {'num_leaves': 21, 'learning_rate': 0.04405922861682074, 'feature_fraction': 0.6007281887952217, 'min_child_samples': 47, 'scale_pos_weight': 8.485632156771654}. Best is trial 18 with value: 992352.9160000001.\n"
     ]
    },
    {
     "name": "stdout",
     "output_type": "stream",
     "text": [
      "Early stopping, best iteration is:\n",
      "[754]\tvalid_0's auc: 0.994825\n",
      "[LightGBM] [Info] Number of positive: 7739, number of negative: 77189\n",
      "[LightGBM] [Info] Auto-choosing row-wise multi-threading, the overhead of testing was 0.000978 seconds.\n",
      "You can set `force_row_wise=true` to remove the overhead.\n",
      "And if memory is not enough, you can set `force_col_wise=true`.\n",
      "[LightGBM] [Info] Total Bins 2692\n",
      "[LightGBM] [Info] Number of data points in the train set: 84928, number of used features: 20\n",
      "[LightGBM] [Info] [binary:BoostFromScore]: pavg=0.091124 -> initscore=-2.299984\n",
      "[LightGBM] [Info] Start training from score -2.299984\n",
      "Training until validation scores don't improve for 20 rounds\n"
     ]
    },
    {
     "name": "stderr",
     "output_type": "stream",
     "text": [
      "/var/folders/q2/dcrx6nt90nn2l4tdmr2yqy7w0000gn/T/ipykernel_10448/2602224507.py:92: FutureWarning: suggest_uniform has been deprecated in v3.0.0. This feature will be removed in v6.0.0. See https://github.com/optuna/optuna/releases/tag/v3.0.0. Use suggest_float instead.\n",
      "  'feature_fraction': trial.suggest_uniform('feature_fraction', 0.6, 1.0),\n",
      "/var/folders/q2/dcrx6nt90nn2l4tdmr2yqy7w0000gn/T/ipykernel_10448/2602224507.py:95: FutureWarning: suggest_uniform has been deprecated in v3.0.0. This feature will be removed in v6.0.0. See https://github.com/optuna/optuna/releases/tag/v3.0.0. Use suggest_float instead.\n",
      "  'scale_pos_weight': trial.suggest_uniform('scale_pos_weight', 1, 10)\n",
      "[I 2025-05-19 18:23:42,722] Trial 29 finished with value: 990636.386 and parameters: {'num_leaves': 20, 'learning_rate': 0.04157448442192338, 'feature_fraction': 0.6029467999048863, 'min_child_samples': 44, 'scale_pos_weight': 8.597929245195296}. Best is trial 18 with value: 992352.9160000001.\n"
     ]
    },
    {
     "name": "stdout",
     "output_type": "stream",
     "text": [
      "Early stopping, best iteration is:\n",
      "[509]\tvalid_0's auc: 0.994237\n",
      "[LightGBM] [Info] Number of positive: 7739, number of negative: 77189\n",
      "[LightGBM] [Info] Auto-choosing row-wise multi-threading, the overhead of testing was 0.000948 seconds.\n",
      "You can set `force_row_wise=true` to remove the overhead.\n",
      "And if memory is not enough, you can set `force_col_wise=true`.\n",
      "[LightGBM] [Info] Total Bins 2692\n",
      "[LightGBM] [Info] Number of data points in the train set: 84928, number of used features: 20\n",
      "[LightGBM] [Info] [binary:BoostFromScore]: pavg=0.091124 -> initscore=-2.299984\n",
      "[LightGBM] [Info] Start training from score -2.299984\n",
      "Training until validation scores don't improve for 20 rounds\n"
     ]
    },
    {
     "name": "stderr",
     "output_type": "stream",
     "text": [
      "/var/folders/q2/dcrx6nt90nn2l4tdmr2yqy7w0000gn/T/ipykernel_10448/2602224507.py:92: FutureWarning: suggest_uniform has been deprecated in v3.0.0. This feature will be removed in v6.0.0. See https://github.com/optuna/optuna/releases/tag/v3.0.0. Use suggest_float instead.\n",
      "  'feature_fraction': trial.suggest_uniform('feature_fraction', 0.6, 1.0),\n",
      "/var/folders/q2/dcrx6nt90nn2l4tdmr2yqy7w0000gn/T/ipykernel_10448/2602224507.py:95: FutureWarning: suggest_uniform has been deprecated in v3.0.0. This feature will be removed in v6.0.0. See https://github.com/optuna/optuna/releases/tag/v3.0.0. Use suggest_float instead.\n",
      "  'scale_pos_weight': trial.suggest_uniform('scale_pos_weight', 1, 10)\n",
      "[I 2025-05-19 18:23:45,850] Trial 30 finished with value: 992393.052 and parameters: {'num_leaves': 27, 'learning_rate': 0.045291024956240364, 'feature_fraction': 0.6408292070016339, 'min_child_samples': 59, 'scale_pos_weight': 8.851916921024916}. Best is trial 30 with value: 992393.052.\n"
     ]
    },
    {
     "name": "stdout",
     "output_type": "stream",
     "text": [
      "Early stopping, best iteration is:\n",
      "[580]\tvalid_0's auc: 0.994938\n",
      "[LightGBM] [Info] Number of positive: 7739, number of negative: 77189\n",
      "[LightGBM] [Info] Auto-choosing row-wise multi-threading, the overhead of testing was 0.000979 seconds.\n",
      "You can set `force_row_wise=true` to remove the overhead.\n",
      "And if memory is not enough, you can set `force_col_wise=true`.\n",
      "[LightGBM] [Info] Total Bins 2692\n",
      "[LightGBM] [Info] Number of data points in the train set: 84928, number of used features: 20\n",
      "[LightGBM] [Info] [binary:BoostFromScore]: pavg=0.091124 -> initscore=-2.299984\n",
      "[LightGBM] [Info] Start training from score -2.299984\n",
      "Training until validation scores don't improve for 20 rounds\n"
     ]
    },
    {
     "name": "stderr",
     "output_type": "stream",
     "text": [
      "/var/folders/q2/dcrx6nt90nn2l4tdmr2yqy7w0000gn/T/ipykernel_10448/2602224507.py:92: FutureWarning: suggest_uniform has been deprecated in v3.0.0. This feature will be removed in v6.0.0. See https://github.com/optuna/optuna/releases/tag/v3.0.0. Use suggest_float instead.\n",
      "  'feature_fraction': trial.suggest_uniform('feature_fraction', 0.6, 1.0),\n",
      "/var/folders/q2/dcrx6nt90nn2l4tdmr2yqy7w0000gn/T/ipykernel_10448/2602224507.py:95: FutureWarning: suggest_uniform has been deprecated in v3.0.0. This feature will be removed in v6.0.0. See https://github.com/optuna/optuna/releases/tag/v3.0.0. Use suggest_float instead.\n",
      "  'scale_pos_weight': trial.suggest_uniform('scale_pos_weight', 1, 10)\n",
      "[I 2025-05-19 18:23:49,738] Trial 31 finished with value: 992056.5810000001 and parameters: {'num_leaves': 23, 'learning_rate': 0.04622862786723566, 'feature_fraction': 0.6391851389206571, 'min_child_samples': 58, 'scale_pos_weight': 8.635585496632258}. Best is trial 30 with value: 992393.052.\n"
     ]
    },
    {
     "name": "stdout",
     "output_type": "stream",
     "text": [
      "Early stopping, best iteration is:\n",
      "[840]\tvalid_0's auc: 0.995166\n",
      "[LightGBM] [Info] Number of positive: 7739, number of negative: 77189\n",
      "[LightGBM] [Info] Auto-choosing row-wise multi-threading, the overhead of testing was 0.000974 seconds.\n",
      "You can set `force_row_wise=true` to remove the overhead.\n",
      "And if memory is not enough, you can set `force_col_wise=true`.\n",
      "[LightGBM] [Info] Total Bins 2692\n",
      "[LightGBM] [Info] Number of data points in the train set: 84928, number of used features: 20\n",
      "[LightGBM] [Info] [binary:BoostFromScore]: pavg=0.091124 -> initscore=-2.299984\n",
      "[LightGBM] [Info] Start training from score -2.299984\n",
      "Training until validation scores don't improve for 20 rounds\n"
     ]
    },
    {
     "name": "stderr",
     "output_type": "stream",
     "text": [
      "/var/folders/q2/dcrx6nt90nn2l4tdmr2yqy7w0000gn/T/ipykernel_10448/2602224507.py:92: FutureWarning: suggest_uniform has been deprecated in v3.0.0. This feature will be removed in v6.0.0. See https://github.com/optuna/optuna/releases/tag/v3.0.0. Use suggest_float instead.\n",
      "  'feature_fraction': trial.suggest_uniform('feature_fraction', 0.6, 1.0),\n",
      "/var/folders/q2/dcrx6nt90nn2l4tdmr2yqy7w0000gn/T/ipykernel_10448/2602224507.py:95: FutureWarning: suggest_uniform has been deprecated in v3.0.0. This feature will be removed in v6.0.0. See https://github.com/optuna/optuna/releases/tag/v3.0.0. Use suggest_float instead.\n",
      "  'scale_pos_weight': trial.suggest_uniform('scale_pos_weight', 1, 10)\n",
      "[I 2025-05-19 18:23:59,459] Trial 32 finished with value: 991477.3350000001 and parameters: {'num_leaves': 99, 'learning_rate': 0.029253947340401792, 'feature_fraction': 0.6715955175018974, 'min_child_samples': 48, 'scale_pos_weight': 9.172543390637145}. Best is trial 30 with value: 992393.052.\n"
     ]
    },
    {
     "name": "stdout",
     "output_type": "stream",
     "text": [
      "Early stopping, best iteration is:\n",
      "[598]\tvalid_0's auc: 0.995801\n"
     ]
    },
    {
     "name": "stderr",
     "output_type": "stream",
     "text": [
      "/var/folders/q2/dcrx6nt90nn2l4tdmr2yqy7w0000gn/T/ipykernel_10448/2602224507.py:92: FutureWarning: suggest_uniform has been deprecated in v3.0.0. This feature will be removed in v6.0.0. See https://github.com/optuna/optuna/releases/tag/v3.0.0. Use suggest_float instead.\n",
      "  'feature_fraction': trial.suggest_uniform('feature_fraction', 0.6, 1.0),\n",
      "/var/folders/q2/dcrx6nt90nn2l4tdmr2yqy7w0000gn/T/ipykernel_10448/2602224507.py:95: FutureWarning: suggest_uniform has been deprecated in v3.0.0. This feature will be removed in v6.0.0. See https://github.com/optuna/optuna/releases/tag/v3.0.0. Use suggest_float instead.\n",
      "  'scale_pos_weight': trial.suggest_uniform('scale_pos_weight', 1, 10)\n"
     ]
    },
    {
     "name": "stdout",
     "output_type": "stream",
     "text": [
      "[LightGBM] [Info] Number of positive: 7739, number of negative: 77189\n",
      "[LightGBM] [Info] Auto-choosing row-wise multi-threading, the overhead of testing was 0.000979 seconds.\n",
      "You can set `force_row_wise=true` to remove the overhead.\n",
      "And if memory is not enough, you can set `force_col_wise=true`.\n",
      "[LightGBM] [Info] Total Bins 2692\n",
      "[LightGBM] [Info] Number of data points in the train set: 84928, number of used features: 20\n",
      "[LightGBM] [Info] [binary:BoostFromScore]: pavg=0.091124 -> initscore=-2.299984\n",
      "[LightGBM] [Info] Start training from score -2.299984\n",
      "Training until validation scores don't improve for 20 rounds\n"
     ]
    },
    {
     "name": "stderr",
     "output_type": "stream",
     "text": [
      "[I 2025-05-19 18:24:02,235] Trial 33 finished with value: 991523.793 and parameters: {'num_leaves': 24, 'learning_rate': 0.05778216720204698, 'feature_fraction': 0.6409960946273907, 'min_child_samples': 54, 'scale_pos_weight': 8.218293072236868}. Best is trial 30 with value: 992393.052.\n"
     ]
    },
    {
     "name": "stdout",
     "output_type": "stream",
     "text": [
      "Early stopping, best iteration is:\n",
      "[569]\tvalid_0's auc: 0.995138\n",
      "[LightGBM] [Info] Number of positive: 7739, number of negative: 77189\n",
      "[LightGBM] [Info] Auto-choosing row-wise multi-threading, the overhead of testing was 0.000962 seconds.\n",
      "You can set `force_row_wise=true` to remove the overhead.\n",
      "And if memory is not enough, you can set `force_col_wise=true`.\n",
      "[LightGBM] [Info] Total Bins 2692\n",
      "[LightGBM] [Info] Number of data points in the train set: 84928, number of used features: 20\n",
      "[LightGBM] [Info] [binary:BoostFromScore]: pavg=0.091124 -> initscore=-2.299984\n",
      "[LightGBM] [Info] Start training from score -2.299984\n",
      "Training until validation scores don't improve for 20 rounds\n"
     ]
    },
    {
     "name": "stderr",
     "output_type": "stream",
     "text": [
      "/var/folders/q2/dcrx6nt90nn2l4tdmr2yqy7w0000gn/T/ipykernel_10448/2602224507.py:92: FutureWarning: suggest_uniform has been deprecated in v3.0.0. This feature will be removed in v6.0.0. See https://github.com/optuna/optuna/releases/tag/v3.0.0. Use suggest_float instead.\n",
      "  'feature_fraction': trial.suggest_uniform('feature_fraction', 0.6, 1.0),\n",
      "/var/folders/q2/dcrx6nt90nn2l4tdmr2yqy7w0000gn/T/ipykernel_10448/2602224507.py:95: FutureWarning: suggest_uniform has been deprecated in v3.0.0. This feature will be removed in v6.0.0. See https://github.com/optuna/optuna/releases/tag/v3.0.0. Use suggest_float instead.\n",
      "  'scale_pos_weight': trial.suggest_uniform('scale_pos_weight', 1, 10)\n",
      "[I 2025-05-19 18:24:05,989] Trial 34 finished with value: 992392.5539999999 and parameters: {'num_leaves': 27, 'learning_rate': 0.04410694550536231, 'feature_fraction': 0.6218538190855217, 'min_child_samples': 67, 'scale_pos_weight': 9.870437062773654}. Best is trial 30 with value: 992393.052.\n"
     ]
    },
    {
     "name": "stdout",
     "output_type": "stream",
     "text": [
      "Early stopping, best iteration is:\n",
      "[658]\tvalid_0's auc: 0.994987\n",
      "[LightGBM] [Info] Number of positive: 7739, number of negative: 77189\n",
      "[LightGBM] [Info] Auto-choosing row-wise multi-threading, the overhead of testing was 0.000908 seconds.\n",
      "You can set `force_row_wise=true` to remove the overhead.\n",
      "And if memory is not enough, you can set `force_col_wise=true`.\n",
      "[LightGBM] [Info] Total Bins 2692\n",
      "[LightGBM] [Info] Number of data points in the train set: 84928, number of used features: 20\n",
      "[LightGBM] [Info] [binary:BoostFromScore]: pavg=0.091124 -> initscore=-2.299984\n",
      "[LightGBM] [Info] Start training from score -2.299984\n",
      "Training until validation scores don't improve for 20 rounds\n"
     ]
    },
    {
     "name": "stderr",
     "output_type": "stream",
     "text": [
      "/var/folders/q2/dcrx6nt90nn2l4tdmr2yqy7w0000gn/T/ipykernel_10448/2602224507.py:92: FutureWarning: suggest_uniform has been deprecated in v3.0.0. This feature will be removed in v6.0.0. See https://github.com/optuna/optuna/releases/tag/v3.0.0. Use suggest_float instead.\n",
      "  'feature_fraction': trial.suggest_uniform('feature_fraction', 0.6, 1.0),\n",
      "/var/folders/q2/dcrx6nt90nn2l4tdmr2yqy7w0000gn/T/ipykernel_10448/2602224507.py:95: FutureWarning: suggest_uniform has been deprecated in v3.0.0. This feature will be removed in v6.0.0. See https://github.com/optuna/optuna/releases/tag/v3.0.0. Use suggest_float instead.\n",
      "  'scale_pos_weight': trial.suggest_uniform('scale_pos_weight', 1, 10)\n",
      "[I 2025-05-19 18:24:10,516] Trial 35 finished with value: 993839.679 and parameters: {'num_leaves': 28, 'learning_rate': 0.037749440969221844, 'feature_fraction': 0.6178676160817642, 'min_child_samples': 66, 'scale_pos_weight': 9.999790714253207}. Best is trial 35 with value: 993839.679.\n"
     ]
    },
    {
     "name": "stdout",
     "output_type": "stream",
     "text": [
      "Early stopping, best iteration is:\n",
      "[786]\tvalid_0's auc: 0.995035\n",
      "[LightGBM] [Info] Number of positive: 7739, number of negative: 77189\n",
      "[LightGBM] [Info] Auto-choosing row-wise multi-threading, the overhead of testing was 0.001074 seconds.\n",
      "You can set `force_row_wise=true` to remove the overhead.\n",
      "And if memory is not enough, you can set `force_col_wise=true`.\n",
      "[LightGBM] [Info] Total Bins 2692\n",
      "[LightGBM] [Info] Number of data points in the train set: 84928, number of used features: 20\n",
      "[LightGBM] [Info] [binary:BoostFromScore]: pavg=0.091124 -> initscore=-2.299984\n",
      "[LightGBM] [Info] Start training from score -2.299984\n",
      "Training until validation scores don't improve for 20 rounds\n"
     ]
    },
    {
     "name": "stderr",
     "output_type": "stream",
     "text": [
      "/var/folders/q2/dcrx6nt90nn2l4tdmr2yqy7w0000gn/T/ipykernel_10448/2602224507.py:92: FutureWarning: suggest_uniform has been deprecated in v3.0.0. This feature will be removed in v6.0.0. See https://github.com/optuna/optuna/releases/tag/v3.0.0. Use suggest_float instead.\n",
      "  'feature_fraction': trial.suggest_uniform('feature_fraction', 0.6, 1.0),\n",
      "/var/folders/q2/dcrx6nt90nn2l4tdmr2yqy7w0000gn/T/ipykernel_10448/2602224507.py:95: FutureWarning: suggest_uniform has been deprecated in v3.0.0. This feature will be removed in v6.0.0. See https://github.com/optuna/optuna/releases/tag/v3.0.0. Use suggest_float instead.\n",
      "  'scale_pos_weight': trial.suggest_uniform('scale_pos_weight', 1, 10)\n",
      "[I 2025-05-19 18:24:16,068] Trial 36 finished with value: 993230.8949999999 and parameters: {'num_leaves': 28, 'learning_rate': 0.014825260562987653, 'feature_fraction': 0.6574459549198638, 'min_child_samples': 67, 'scale_pos_weight': 9.743600258386978}. Best is trial 35 with value: 993839.679.\n"
     ]
    },
    {
     "name": "stdout",
     "output_type": "stream",
     "text": [
      "Did not meet early stopping. Best iteration is:\n",
      "[1000]\tvalid_0's auc: 0.994372\n"
     ]
    },
    {
     "name": "stderr",
     "output_type": "stream",
     "text": [
      "/var/folders/q2/dcrx6nt90nn2l4tdmr2yqy7w0000gn/T/ipykernel_10448/2602224507.py:92: FutureWarning: suggest_uniform has been deprecated in v3.0.0. This feature will be removed in v6.0.0. See https://github.com/optuna/optuna/releases/tag/v3.0.0. Use suggest_float instead.\n",
      "  'feature_fraction': trial.suggest_uniform('feature_fraction', 0.6, 1.0),\n",
      "/var/folders/q2/dcrx6nt90nn2l4tdmr2yqy7w0000gn/T/ipykernel_10448/2602224507.py:95: FutureWarning: suggest_uniform has been deprecated in v3.0.0. This feature will be removed in v6.0.0. See https://github.com/optuna/optuna/releases/tag/v3.0.0. Use suggest_float instead.\n",
      "  'scale_pos_weight': trial.suggest_uniform('scale_pos_weight', 1, 10)\n"
     ]
    },
    {
     "name": "stdout",
     "output_type": "stream",
     "text": [
      "[LightGBM] [Info] Number of positive: 7739, number of negative: 77189\n",
      "[LightGBM] [Info] Auto-choosing row-wise multi-threading, the overhead of testing was 0.000972 seconds.\n",
      "You can set `force_row_wise=true` to remove the overhead.\n",
      "And if memory is not enough, you can set `force_col_wise=true`.\n",
      "[LightGBM] [Info] Total Bins 2692\n",
      "[LightGBM] [Info] Number of data points in the train set: 84928, number of used features: 20\n",
      "[LightGBM] [Info] [binary:BoostFromScore]: pavg=0.091124 -> initscore=-2.299984\n",
      "[LightGBM] [Info] Start training from score -2.299984\n",
      "Training until validation scores don't improve for 20 rounds\n"
     ]
    },
    {
     "name": "stderr",
     "output_type": "stream",
     "text": [
      "[I 2025-05-19 18:24:16,501] Trial 37 finished with value: 0.0 and parameters: {'num_leaves': 30, 'learning_rate': 0.010055725666910981, 'feature_fraction': 0.6509017293426786, 'min_child_samples': 67, 'scale_pos_weight': 9.897722300033031}. Best is trial 35 with value: 993839.679.\n"
     ]
    },
    {
     "name": "stdout",
     "output_type": "stream",
     "text": [
      "Early stopping, best iteration is:\n",
      "[43]\tvalid_0's auc: 0.988501\n",
      "[LightGBM] [Info] Number of positive: 7739, number of negative: 77189\n",
      "[LightGBM] [Info] Auto-choosing row-wise multi-threading, the overhead of testing was 0.001034 seconds.\n",
      "You can set `force_row_wise=true` to remove the overhead.\n",
      "And if memory is not enough, you can set `force_col_wise=true`.\n",
      "[LightGBM] [Info] Total Bins 2692\n",
      "[LightGBM] [Info] Number of data points in the train set: 84928, number of used features: 20\n",
      "[LightGBM] [Info] [binary:BoostFromScore]: pavg=0.091124 -> initscore=-2.299984\n",
      "[LightGBM] [Info] Start training from score -2.299984\n",
      "Training until validation scores don't improve for 20 rounds\n"
     ]
    },
    {
     "name": "stderr",
     "output_type": "stream",
     "text": [
      "/var/folders/q2/dcrx6nt90nn2l4tdmr2yqy7w0000gn/T/ipykernel_10448/2602224507.py:92: FutureWarning: suggest_uniform has been deprecated in v3.0.0. This feature will be removed in v6.0.0. See https://github.com/optuna/optuna/releases/tag/v3.0.0. Use suggest_float instead.\n",
      "  'feature_fraction': trial.suggest_uniform('feature_fraction', 0.6, 1.0),\n",
      "/var/folders/q2/dcrx6nt90nn2l4tdmr2yqy7w0000gn/T/ipykernel_10448/2602224507.py:95: FutureWarning: suggest_uniform has been deprecated in v3.0.0. This feature will be removed in v6.0.0. See https://github.com/optuna/optuna/releases/tag/v3.0.0. Use suggest_float instead.\n",
      "  'scale_pos_weight': trial.suggest_uniform('scale_pos_weight', 1, 10)\n",
      "[I 2025-05-19 18:24:16,888] Trial 38 finished with value: 222868.84900000002 and parameters: {'num_leaves': 27, 'learning_rate': 0.013676452903846725, 'feature_fraction': 0.6278809465320236, 'min_child_samples': 88, 'scale_pos_weight': 9.454049113136582}. Best is trial 35 with value: 993839.679.\n"
     ]
    },
    {
     "name": "stdout",
     "output_type": "stream",
     "text": [
      "Early stopping, best iteration is:\n",
      "[43]\tvalid_0's auc: 0.988315\n",
      "[LightGBM] [Info] Number of positive: 7739, number of negative: 77189\n",
      "[LightGBM] [Info] Auto-choosing row-wise multi-threading, the overhead of testing was 0.000955 seconds.\n",
      "You can set `force_row_wise=true` to remove the overhead.\n",
      "And if memory is not enough, you can set `force_col_wise=true`.\n",
      "[LightGBM] [Info] Total Bins 2692\n",
      "[LightGBM] [Info] Number of data points in the train set: 84928, number of used features: 20\n",
      "[LightGBM] [Info] [binary:BoostFromScore]: pavg=0.091124 -> initscore=-2.299984\n",
      "[LightGBM] [Info] Start training from score -2.299984\n",
      "Training until validation scores don't improve for 20 rounds\n"
     ]
    },
    {
     "name": "stderr",
     "output_type": "stream",
     "text": [
      "/var/folders/q2/dcrx6nt90nn2l4tdmr2yqy7w0000gn/T/ipykernel_10448/2602224507.py:92: FutureWarning: suggest_uniform has been deprecated in v3.0.0. This feature will be removed in v6.0.0. See https://github.com/optuna/optuna/releases/tag/v3.0.0. Use suggest_float instead.\n",
      "  'feature_fraction': trial.suggest_uniform('feature_fraction', 0.6, 1.0),\n",
      "/var/folders/q2/dcrx6nt90nn2l4tdmr2yqy7w0000gn/T/ipykernel_10448/2602224507.py:95: FutureWarning: suggest_uniform has been deprecated in v3.0.0. This feature will be removed in v6.0.0. See https://github.com/optuna/optuna/releases/tag/v3.0.0. Use suggest_float instead.\n",
      "  'scale_pos_weight': trial.suggest_uniform('scale_pos_weight', 1, 10)\n",
      "[I 2025-05-19 18:24:22,300] Trial 39 finished with value: 987515.5560000001 and parameters: {'num_leaves': 28, 'learning_rate': 0.015979077065308926, 'feature_fraction': 0.6593465646164498, 'min_child_samples': 72, 'scale_pos_weight': 2.8322149885833343}. Best is trial 35 with value: 993839.679.\n"
     ]
    },
    {
     "name": "stdout",
     "output_type": "stream",
     "text": [
      "Did not meet early stopping. Best iteration is:\n",
      "[993]\tvalid_0's auc: 0.994669\n",
      "[LightGBM] [Info] Number of positive: 7739, number of negative: 77189\n",
      "[LightGBM] [Info] Auto-choosing row-wise multi-threading, the overhead of testing was 0.001070 seconds.\n",
      "You can set `force_row_wise=true` to remove the overhead.\n",
      "And if memory is not enough, you can set `force_col_wise=true`.\n",
      "[LightGBM] [Info] Total Bins 2692\n",
      "[LightGBM] [Info] Number of data points in the train set: 84928, number of used features: 20\n",
      "[LightGBM] [Info] [binary:BoostFromScore]: pavg=0.091124 -> initscore=-2.299984\n",
      "[LightGBM] [Info] Start training from score -2.299984\n",
      "Training until validation scores don't improve for 20 rounds\n"
     ]
    },
    {
     "name": "stderr",
     "output_type": "stream",
     "text": [
      "/var/folders/q2/dcrx6nt90nn2l4tdmr2yqy7w0000gn/T/ipykernel_10448/2602224507.py:92: FutureWarning: suggest_uniform has been deprecated in v3.0.0. This feature will be removed in v6.0.0. See https://github.com/optuna/optuna/releases/tag/v3.0.0. Use suggest_float instead.\n",
      "  'feature_fraction': trial.suggest_uniform('feature_fraction', 0.6, 1.0),\n",
      "/var/folders/q2/dcrx6nt90nn2l4tdmr2yqy7w0000gn/T/ipykernel_10448/2602224507.py:95: FutureWarning: suggest_uniform has been deprecated in v3.0.0. This feature will be removed in v6.0.0. See https://github.com/optuna/optuna/releases/tag/v3.0.0. Use suggest_float instead.\n",
      "  'scale_pos_weight': trial.suggest_uniform('scale_pos_weight', 1, 10)\n",
      "[I 2025-05-19 18:24:27,204] Trial 40 finished with value: 993258.8389999999 and parameters: {'num_leaves': 35, 'learning_rate': 0.0368480248362926, 'feature_fraction': 0.6923644733486394, 'min_child_samples': 63, 'scale_pos_weight': 9.58179142682941}. Best is trial 35 with value: 993839.679.\n"
     ]
    },
    {
     "name": "stdout",
     "output_type": "stream",
     "text": [
      "Early stopping, best iteration is:\n",
      "[755]\tvalid_0's auc: 0.995322\n",
      "[LightGBM] [Info] Number of positive: 7739, number of negative: 77189\n",
      "[LightGBM] [Info] Auto-choosing row-wise multi-threading, the overhead of testing was 0.001066 seconds.\n",
      "You can set `force_row_wise=true` to remove the overhead.\n",
      "And if memory is not enough, you can set `force_col_wise=true`.\n",
      "[LightGBM] [Info] Total Bins 2692\n",
      "[LightGBM] [Info] Number of data points in the train set: 84928, number of used features: 20\n",
      "[LightGBM] [Info] [binary:BoostFromScore]: pavg=0.091124 -> initscore=-2.299984\n",
      "[LightGBM] [Info] Start training from score -2.299984\n",
      "Training until validation scores don't improve for 20 rounds\n"
     ]
    },
    {
     "name": "stderr",
     "output_type": "stream",
     "text": [
      "/var/folders/q2/dcrx6nt90nn2l4tdmr2yqy7w0000gn/T/ipykernel_10448/2602224507.py:92: FutureWarning: suggest_uniform has been deprecated in v3.0.0. This feature will be removed in v6.0.0. See https://github.com/optuna/optuna/releases/tag/v3.0.0. Use suggest_float instead.\n",
      "  'feature_fraction': trial.suggest_uniform('feature_fraction', 0.6, 1.0),\n",
      "/var/folders/q2/dcrx6nt90nn2l4tdmr2yqy7w0000gn/T/ipykernel_10448/2602224507.py:95: FutureWarning: suggest_uniform has been deprecated in v3.0.0. This feature will be removed in v6.0.0. See https://github.com/optuna/optuna/releases/tag/v3.0.0. Use suggest_float instead.\n",
      "  'scale_pos_weight': trial.suggest_uniform('scale_pos_weight', 1, 10)\n",
      "[I 2025-05-19 18:24:32,454] Trial 41 finished with value: 991894.589 and parameters: {'num_leaves': 33, 'learning_rate': 0.036694857950602545, 'feature_fraction': 0.679986223251323, 'min_child_samples': 62, 'scale_pos_weight': 9.998594147983141}. Best is trial 35 with value: 993839.679.\n"
     ]
    },
    {
     "name": "stdout",
     "output_type": "stream",
     "text": [
      "Early stopping, best iteration is:\n",
      "[837]\tvalid_0's auc: 0.995395\n"
     ]
    },
    {
     "name": "stderr",
     "output_type": "stream",
     "text": [
      "/var/folders/q2/dcrx6nt90nn2l4tdmr2yqy7w0000gn/T/ipykernel_10448/2602224507.py:92: FutureWarning: suggest_uniform has been deprecated in v3.0.0. This feature will be removed in v6.0.0. See https://github.com/optuna/optuna/releases/tag/v3.0.0. Use suggest_float instead.\n",
      "  'feature_fraction': trial.suggest_uniform('feature_fraction', 0.6, 1.0),\n",
      "/var/folders/q2/dcrx6nt90nn2l4tdmr2yqy7w0000gn/T/ipykernel_10448/2602224507.py:95: FutureWarning: suggest_uniform has been deprecated in v3.0.0. This feature will be removed in v6.0.0. See https://github.com/optuna/optuna/releases/tag/v3.0.0. Use suggest_float instead.\n",
      "  'scale_pos_weight': trial.suggest_uniform('scale_pos_weight', 1, 10)\n"
     ]
    },
    {
     "name": "stdout",
     "output_type": "stream",
     "text": [
      "[LightGBM] [Info] Number of positive: 7739, number of negative: 77189\n",
      "[LightGBM] [Info] Auto-choosing row-wise multi-threading, the overhead of testing was 0.001363 seconds.\n",
      "You can set `force_row_wise=true` to remove the overhead.\n",
      "And if memory is not enough, you can set `force_col_wise=true`.\n",
      "[LightGBM] [Info] Total Bins 2692\n",
      "[LightGBM] [Info] Number of data points in the train set: 84928, number of used features: 20\n",
      "[LightGBM] [Info] [binary:BoostFromScore]: pavg=0.091124 -> initscore=-2.299984\n",
      "[LightGBM] [Info] Start training from score -2.299984\n",
      "Training until validation scores don't improve for 20 rounds\n"
     ]
    },
    {
     "name": "stderr",
     "output_type": "stream",
     "text": [
      "[I 2025-05-19 18:24:39,130] Trial 42 finished with value: 991673.256 and parameters: {'num_leaves': 45, 'learning_rate': 0.03076468924467214, 'feature_fraction': 0.6979259002231232, 'min_child_samples': 79, 'scale_pos_weight': 9.348910914293569}. Best is trial 35 with value: 993839.679.\n"
     ]
    },
    {
     "name": "stdout",
     "output_type": "stream",
     "text": [
      "Early stopping, best iteration is:\n",
      "[806]\tvalid_0's auc: 0.995632\n",
      "[LightGBM] [Info] Number of positive: 7739, number of negative: 77189\n",
      "[LightGBM] [Info] Auto-choosing row-wise multi-threading, the overhead of testing was 0.000906 seconds.\n",
      "You can set `force_row_wise=true` to remove the overhead.\n",
      "And if memory is not enough, you can set `force_col_wise=true`.\n",
      "[LightGBM] [Info] Total Bins 2692\n",
      "[LightGBM] [Info] Number of data points in the train set: 84928, number of used features: 20\n",
      "[LightGBM] [Info] [binary:BoostFromScore]: pavg=0.091124 -> initscore=-2.299984\n",
      "[LightGBM] [Info] Start training from score -2.299984\n"
     ]
    },
    {
     "name": "stderr",
     "output_type": "stream",
     "text": [
      "/var/folders/q2/dcrx6nt90nn2l4tdmr2yqy7w0000gn/T/ipykernel_10448/2602224507.py:92: FutureWarning: suggest_uniform has been deprecated in v3.0.0. This feature will be removed in v6.0.0. See https://github.com/optuna/optuna/releases/tag/v3.0.0. Use suggest_float instead.\n",
      "  'feature_fraction': trial.suggest_uniform('feature_fraction', 0.6, 1.0),\n",
      "/var/folders/q2/dcrx6nt90nn2l4tdmr2yqy7w0000gn/T/ipykernel_10448/2602224507.py:95: FutureWarning: suggest_uniform has been deprecated in v3.0.0. This feature will be removed in v6.0.0. See https://github.com/optuna/optuna/releases/tag/v3.0.0. Use suggest_float instead.\n",
      "  'scale_pos_weight': trial.suggest_uniform('scale_pos_weight', 1, 10)\n"
     ]
    },
    {
     "name": "stdout",
     "output_type": "stream",
     "text": [
      "Training until validation scores don't improve for 20 rounds\n"
     ]
    },
    {
     "name": "stderr",
     "output_type": "stream",
     "text": [
      "[I 2025-05-19 18:24:45,599] Trial 43 finished with value: 992472.879 and parameters: {'num_leaves': 34, 'learning_rate': 0.02722847714581934, 'feature_fraction': 0.6214710016369727, 'min_child_samples': 66, 'scale_pos_weight': 9.593750929547635}. Best is trial 35 with value: 993839.679.\n"
     ]
    },
    {
     "name": "stdout",
     "output_type": "stream",
     "text": [
      "Early stopping, best iteration is:\n",
      "[874]\tvalid_0's auc: 0.995098\n",
      "[LightGBM] [Info] Number of positive: 7739, number of negative: 77189\n",
      "[LightGBM] [Info] Auto-choosing row-wise multi-threading, the overhead of testing was 0.001036 seconds.\n",
      "You can set `force_row_wise=true` to remove the overhead.\n",
      "And if memory is not enough, you can set `force_col_wise=true`.\n",
      "[LightGBM] [Info] Total Bins 2692\n",
      "[LightGBM] [Info] Number of data points in the train set: 84928, number of used features: 20\n",
      "[LightGBM] [Info] [binary:BoostFromScore]: pavg=0.091124 -> initscore=-2.299984\n",
      "[LightGBM] [Info] Start training from score -2.299984\n",
      "Training until validation scores don't improve for 20 rounds\n"
     ]
    },
    {
     "name": "stderr",
     "output_type": "stream",
     "text": [
      "/var/folders/q2/dcrx6nt90nn2l4tdmr2yqy7w0000gn/T/ipykernel_10448/2602224507.py:92: FutureWarning: suggest_uniform has been deprecated in v3.0.0. This feature will be removed in v6.0.0. See https://github.com/optuna/optuna/releases/tag/v3.0.0. Use suggest_float instead.\n",
      "  'feature_fraction': trial.suggest_uniform('feature_fraction', 0.6, 1.0),\n",
      "/var/folders/q2/dcrx6nt90nn2l4tdmr2yqy7w0000gn/T/ipykernel_10448/2602224507.py:95: FutureWarning: suggest_uniform has been deprecated in v3.0.0. This feature will be removed in v6.0.0. See https://github.com/optuna/optuna/releases/tag/v3.0.0. Use suggest_float instead.\n",
      "  'scale_pos_weight': trial.suggest_uniform('scale_pos_weight', 1, 10)\n",
      "[I 2025-05-19 18:24:52,375] Trial 44 finished with value: 993336.66 and parameters: {'num_leaves': 36, 'learning_rate': 0.02616576193025903, 'feature_fraction': 0.6636597161800123, 'min_child_samples': 56, 'scale_pos_weight': 9.420451546247342}. Best is trial 35 with value: 993839.679.\n"
     ]
    },
    {
     "name": "stdout",
     "output_type": "stream",
     "text": [
      "Did not meet early stopping. Best iteration is:\n",
      "[983]\tvalid_0's auc: 0.995344\n"
     ]
    },
    {
     "name": "stderr",
     "output_type": "stream",
     "text": [
      "/var/folders/q2/dcrx6nt90nn2l4tdmr2yqy7w0000gn/T/ipykernel_10448/2602224507.py:92: FutureWarning: suggest_uniform has been deprecated in v3.0.0. This feature will be removed in v6.0.0. See https://github.com/optuna/optuna/releases/tag/v3.0.0. Use suggest_float instead.\n",
      "  'feature_fraction': trial.suggest_uniform('feature_fraction', 0.6, 1.0),\n",
      "/var/folders/q2/dcrx6nt90nn2l4tdmr2yqy7w0000gn/T/ipykernel_10448/2602224507.py:95: FutureWarning: suggest_uniform has been deprecated in v3.0.0. This feature will be removed in v6.0.0. See https://github.com/optuna/optuna/releases/tag/v3.0.0. Use suggest_float instead.\n",
      "  'scale_pos_weight': trial.suggest_uniform('scale_pos_weight', 1, 10)\n"
     ]
    },
    {
     "name": "stdout",
     "output_type": "stream",
     "text": [
      "[LightGBM] [Info] Number of positive: 7739, number of negative: 77189\n",
      "[LightGBM] [Info] Auto-choosing row-wise multi-threading, the overhead of testing was 0.001071 seconds.\n",
      "You can set `force_row_wise=true` to remove the overhead.\n",
      "And if memory is not enough, you can set `force_col_wise=true`.\n",
      "[LightGBM] [Info] Total Bins 2692\n",
      "[LightGBM] [Info] Number of data points in the train set: 84928, number of used features: 20\n",
      "[LightGBM] [Info] [binary:BoostFromScore]: pavg=0.091124 -> initscore=-2.299984\n",
      "[LightGBM] [Info] Start training from score -2.299984\n",
      "Training until validation scores don't improve for 20 rounds\n"
     ]
    },
    {
     "name": "stderr",
     "output_type": "stream",
     "text": [
      "[I 2025-05-19 18:25:00,535] Trial 45 finished with value: 993777.924 and parameters: {'num_leaves': 47, 'learning_rate': 0.024803578115004225, 'feature_fraction': 0.6616605103488702, 'min_child_samples': 55, 'scale_pos_weight': 9.462065581860925}. Best is trial 35 with value: 993839.679.\n"
     ]
    },
    {
     "name": "stdout",
     "output_type": "stream",
     "text": [
      "Did not meet early stopping. Best iteration is:\n",
      "[1000]\tvalid_0's auc: 0.995588\n"
     ]
    },
    {
     "name": "stderr",
     "output_type": "stream",
     "text": [
      "/var/folders/q2/dcrx6nt90nn2l4tdmr2yqy7w0000gn/T/ipykernel_10448/2602224507.py:92: FutureWarning: suggest_uniform has been deprecated in v3.0.0. This feature will be removed in v6.0.0. See https://github.com/optuna/optuna/releases/tag/v3.0.0. Use suggest_float instead.\n",
      "  'feature_fraction': trial.suggest_uniform('feature_fraction', 0.6, 1.0),\n",
      "/var/folders/q2/dcrx6nt90nn2l4tdmr2yqy7w0000gn/T/ipykernel_10448/2602224507.py:95: FutureWarning: suggest_uniform has been deprecated in v3.0.0. This feature will be removed in v6.0.0. See https://github.com/optuna/optuna/releases/tag/v3.0.0. Use suggest_float instead.\n",
      "  'scale_pos_weight': trial.suggest_uniform('scale_pos_weight', 1, 10)\n"
     ]
    },
    {
     "name": "stdout",
     "output_type": "stream",
     "text": [
      "[LightGBM] [Info] Number of positive: 7739, number of negative: 77189\n",
      "[LightGBM] [Info] Auto-choosing row-wise multi-threading, the overhead of testing was 0.001037 seconds.\n",
      "You can set `force_row_wise=true` to remove the overhead.\n",
      "And if memory is not enough, you can set `force_col_wise=true`.\n",
      "[LightGBM] [Info] Total Bins 2692\n",
      "[LightGBM] [Info] Number of data points in the train set: 84928, number of used features: 20\n",
      "[LightGBM] [Info] [binary:BoostFromScore]: pavg=0.091124 -> initscore=-2.299984\n",
      "[LightGBM] [Info] Start training from score -2.299984\n",
      "Training until validation scores don't improve for 20 rounds\n"
     ]
    },
    {
     "name": "stderr",
     "output_type": "stream",
     "text": [
      "[I 2025-05-19 18:25:07,963] Trial 46 finished with value: 993716.231 and parameters: {'num_leaves': 42, 'learning_rate': 0.0217637660879597, 'feature_fraction': 0.693656838494314, 'min_child_samples': 53, 'scale_pos_weight': 9.452776291057203}. Best is trial 35 with value: 993839.679.\n"
     ]
    },
    {
     "name": "stdout",
     "output_type": "stream",
     "text": [
      "Did not meet early stopping. Best iteration is:\n",
      "[999]\tvalid_0's auc: 0.995264\n"
     ]
    },
    {
     "name": "stderr",
     "output_type": "stream",
     "text": [
      "/var/folders/q2/dcrx6nt90nn2l4tdmr2yqy7w0000gn/T/ipykernel_10448/2602224507.py:92: FutureWarning: suggest_uniform has been deprecated in v3.0.0. This feature will be removed in v6.0.0. See https://github.com/optuna/optuna/releases/tag/v3.0.0. Use suggest_float instead.\n",
      "  'feature_fraction': trial.suggest_uniform('feature_fraction', 0.6, 1.0),\n",
      "/var/folders/q2/dcrx6nt90nn2l4tdmr2yqy7w0000gn/T/ipykernel_10448/2602224507.py:95: FutureWarning: suggest_uniform has been deprecated in v3.0.0. This feature will be removed in v6.0.0. See https://github.com/optuna/optuna/releases/tag/v3.0.0. Use suggest_float instead.\n",
      "  'scale_pos_weight': trial.suggest_uniform('scale_pos_weight', 1, 10)\n"
     ]
    },
    {
     "name": "stdout",
     "output_type": "stream",
     "text": [
      "[LightGBM] [Info] Number of positive: 7739, number of negative: 77189\n",
      "[LightGBM] [Info] Auto-choosing row-wise multi-threading, the overhead of testing was 0.001148 seconds.\n",
      "You can set `force_row_wise=true` to remove the overhead.\n",
      "And if memory is not enough, you can set `force_col_wise=true`.\n",
      "[LightGBM] [Info] Total Bins 2692\n",
      "[LightGBM] [Info] Number of data points in the train set: 84928, number of used features: 20\n",
      "[LightGBM] [Info] [binary:BoostFromScore]: pavg=0.091124 -> initscore=-2.299984\n",
      "[LightGBM] [Info] Start training from score -2.299984\n",
      "Training until validation scores don't improve for 20 rounds\n"
     ]
    },
    {
     "name": "stderr",
     "output_type": "stream",
     "text": [
      "[I 2025-05-19 18:25:15,386] Trial 47 finished with value: 992168.941 and parameters: {'num_leaves': 42, 'learning_rate': 0.022398165692526277, 'feature_fraction': 0.6951893416874938, 'min_child_samples': 54, 'scale_pos_weight': 9.253336611487976}. Best is trial 35 with value: 993839.679.\n"
     ]
    },
    {
     "name": "stdout",
     "output_type": "stream",
     "text": [
      "Did not meet early stopping. Best iteration is:\n",
      "[1000]\tvalid_0's auc: 0.995428\n"
     ]
    },
    {
     "name": "stderr",
     "output_type": "stream",
     "text": [
      "/var/folders/q2/dcrx6nt90nn2l4tdmr2yqy7w0000gn/T/ipykernel_10448/2602224507.py:92: FutureWarning: suggest_uniform has been deprecated in v3.0.0. This feature will be removed in v6.0.0. See https://github.com/optuna/optuna/releases/tag/v3.0.0. Use suggest_float instead.\n",
      "  'feature_fraction': trial.suggest_uniform('feature_fraction', 0.6, 1.0),\n",
      "/var/folders/q2/dcrx6nt90nn2l4tdmr2yqy7w0000gn/T/ipykernel_10448/2602224507.py:95: FutureWarning: suggest_uniform has been deprecated in v3.0.0. This feature will be removed in v6.0.0. See https://github.com/optuna/optuna/releases/tag/v3.0.0. Use suggest_float instead.\n",
      "  'scale_pos_weight': trial.suggest_uniform('scale_pos_weight', 1, 10)\n"
     ]
    },
    {
     "name": "stdout",
     "output_type": "stream",
     "text": [
      "[LightGBM] [Info] Number of positive: 7739, number of negative: 77189\n",
      "[LightGBM] [Info] Auto-choosing row-wise multi-threading, the overhead of testing was 0.001327 seconds.\n",
      "You can set `force_row_wise=true` to remove the overhead.\n",
      "And if memory is not enough, you can set `force_col_wise=true`.\n",
      "[LightGBM] [Info] Total Bins 2692\n",
      "[LightGBM] [Info] Number of data points in the train set: 84928, number of used features: 20\n",
      "[LightGBM] [Info] [binary:BoostFromScore]: pavg=0.091124 -> initscore=-2.299984\n",
      "[LightGBM] [Info] Start training from score -2.299984\n",
      "Training until validation scores don't improve for 20 rounds\n"
     ]
    },
    {
     "name": "stderr",
     "output_type": "stream",
     "text": [
      "[I 2025-05-19 18:25:15,881] Trial 48 finished with value: 537457.3160000001 and parameters: {'num_leaves': 49, 'learning_rate': 0.019285591338141034, 'feature_fraction': 0.732509342357756, 'min_child_samples': 56, 'scale_pos_weight': 2.3859987724325293}. Best is trial 35 with value: 993839.679.\n"
     ]
    },
    {
     "name": "stdout",
     "output_type": "stream",
     "text": [
      "Early stopping, best iteration is:\n",
      "[33]\tvalid_0's auc: 0.989243\n",
      "[LightGBM] [Info] Number of positive: 7739, number of negative: 77189\n",
      "[LightGBM] [Info] Auto-choosing row-wise multi-threading, the overhead of testing was 0.001002 seconds.\n",
      "You can set `force_row_wise=true` to remove the overhead.\n",
      "And if memory is not enough, you can set `force_col_wise=true`.\n",
      "[LightGBM] [Info] Total Bins 2692\n",
      "[LightGBM] [Info] Number of data points in the train set: 84928, number of used features: 20\n",
      "[LightGBM] [Info] [binary:BoostFromScore]: pavg=0.091124 -> initscore=-2.299984\n",
      "[LightGBM] [Info] Start training from score -2.299984\n",
      "Training until validation scores don't improve for 20 rounds\n"
     ]
    },
    {
     "name": "stderr",
     "output_type": "stream",
     "text": [
      "/var/folders/q2/dcrx6nt90nn2l4tdmr2yqy7w0000gn/T/ipykernel_10448/2602224507.py:92: FutureWarning: suggest_uniform has been deprecated in v3.0.0. This feature will be removed in v6.0.0. See https://github.com/optuna/optuna/releases/tag/v3.0.0. Use suggest_float instead.\n",
      "  'feature_fraction': trial.suggest_uniform('feature_fraction', 0.6, 1.0),\n",
      "/var/folders/q2/dcrx6nt90nn2l4tdmr2yqy7w0000gn/T/ipykernel_10448/2602224507.py:95: FutureWarning: suggest_uniform has been deprecated in v3.0.0. This feature will be removed in v6.0.0. See https://github.com/optuna/optuna/releases/tag/v3.0.0. Use suggest_float instead.\n",
      "  'scale_pos_weight': trial.suggest_uniform('scale_pos_weight', 1, 10)\n",
      "[I 2025-05-19 18:25:23,687] Trial 49 finished with value: 993137.9360000001 and parameters: {'num_leaves': 44, 'learning_rate': 0.01782471664723242, 'feature_fraction': 0.6944803388561972, 'min_child_samples': 52, 'scale_pos_weight': 9.122992666303075}. Best is trial 35 with value: 993839.679.\n"
     ]
    },
    {
     "name": "stdout",
     "output_type": "stream",
     "text": [
      "Did not meet early stopping. Best iteration is:\n",
      "[995]\tvalid_0's auc: 0.99516\n",
      "[LightGBM] [Info] Number of positive: 7739, number of negative: 77189\n",
      "[LightGBM] [Info] Auto-choosing col-wise multi-threading, the overhead of testing was 0.002013 seconds.\n",
      "You can set `force_col_wise=true` to remove the overhead.\n",
      "[LightGBM] [Info] Total Bins 2692\n",
      "[LightGBM] [Info] Number of data points in the train set: 84928, number of used features: 20\n",
      "[LightGBM] [Info] [binary:BoostFromScore]: pavg=0.091124 -> initscore=-2.299984\n",
      "[LightGBM] [Info] Start training from score -2.299984\n",
      "Training until validation scores don't improve for 20 rounds\n",
      "Early stopping, best iteration is:\n",
      "[786]\tvalid_0's auc: 0.995035\n",
      "\n",
      "Métricas en conjunto de prueba con undersampling:\n",
      "              precision    recall  f1-score   support\n",
      "\n",
      "           0       0.99      0.98      0.99     19321\n",
      "           1       0.83      0.95      0.89      1912\n",
      "\n",
      "    accuracy                           0.98     21233\n",
      "   macro avg       0.91      0.96      0.94     21233\n",
      "weighted avg       0.98      0.98      0.98     21233\n",
      "\n",
      "\n",
      "Monto total salvado en fraudes (conjunto balanceado): $993,839.68\n",
      "\n",
      "Métricas en conjunto de prueba original (sin undersampling):\n",
      "              precision    recall  f1-score   support\n",
      "\n",
      "           0       1.00      0.98      0.99    368549\n",
      "           1       0.21      0.99      0.34      1930\n",
      "\n",
      "    accuracy                           0.98    370479\n",
      "   macro avg       0.60      0.98      0.66    370479\n",
      "weighted avg       1.00      0.98      0.99    370479\n",
      "\n",
      "\n",
      "Monto total salvado en fraudes (conjunto original): $806,678.46\n",
      "\n",
      "Búsqueda del umbral óptimo para minimizar falsos positivos:\n",
      "Umbral: 0.50, Falsos Positivos: 7399, Verdaderos Positivos: 1910\n",
      "Umbral: 0.55, Falsos Positivos: 6456, Verdaderos Positivos: 1909\n",
      "Umbral: 0.60, Falsos Positivos: 5656, Verdaderos Positivos: 1902\n",
      "Umbral: 0.65, Falsos Positivos: 4920, Verdaderos Positivos: 1895\n",
      "Umbral: 0.70, Falsos Positivos: 4175, Verdaderos Positivos: 1886\n",
      "Umbral: 0.75, Falsos Positivos: 3473, Verdaderos Positivos: 1868\n",
      "Umbral: 0.80, Falsos Positivos: 2765, Verdaderos Positivos: 1846\n",
      "Umbral: 0.85, Falsos Positivos: 2052, Verdaderos Positivos: 1809\n",
      "Umbral: 0.90, Falsos Positivos: 1385, Verdaderos Positivos: 1740\n",
      "\n",
      "Mejor umbral para reducir falsos positivos: 0.90\n",
      "\n",
      "Métricas finales con umbral optimizado:\n",
      "              precision    recall  f1-score   support\n",
      "\n",
      "           0       1.00      1.00      1.00    368549\n",
      "           1       0.56      0.90      0.69      1930\n",
      "\n",
      "    accuracy                           1.00    370479\n",
      "   macro avg       0.78      0.95      0.84    370479\n",
      "weighted avg       1.00      1.00      1.00    370479\n",
      "\n",
      "\n",
      "Análisis de montos con umbral optimizado:\n",
      "Monto promedio de fraudes detectados: $566.54\n",
      "Monto promedio de falsos positivos: $451.64\n",
      "Monto promedio de fraudes no detectados: $124.07\n",
      "Número de falsos positivos: 1385\n",
      "\n",
      "Monto total salvado en fraudes (umbral optimizado): $923,226.65\n"
     ]
    }
   ],
   "source": [
    "# Modelo 6 - Optimizado para maximizar el monto salvado en fraudes\n",
    "# Este modelo utiliza LightGBM con una métrica personalizada que considera el monto de las transacciones\n",
    "\n",
    "# Importamos las bibliotecas necesarias\n",
    "import lightgbm as lgb\n",
    "import pandas as pd\n",
    "import numpy as np\n",
    "from sklearn.model_selection import train_test_split\n",
    "from sklearn.metrics import classification_report\n",
    "\n",
    "# Definimos una métrica personalizada que considera el monto de las transacciones\n",
    "def amount_saved_metric(y_true, y_pred, amounts):\n",
    "    \"\"\"\n",
    "    Calcula el monto total salvado basado en detecciones correctas de fraude\n",
    "    y penaliza los falsos positivos que podrían afectar la experiencia del cliente\n",
    "    \n",
    "    Args:\n",
    "        y_true: Etiquetas reales\n",
    "        y_pred: Predicciones (probabilidades)\n",
    "        amounts: Montos de las transacciones\n",
    "    \"\"\"\n",
    "    y_pred_binary = (y_pred > 0.5).astype(int)\n",
    "    \n",
    "    # Verdaderos positivos (fraudes detectados correctamente)\n",
    "    tp_mask = (y_true == 1) & (y_pred_binary == 1)\n",
    "    amount_saved = amounts[tp_mask].sum()\n",
    "    \n",
    "    # Falsos positivos (transacciones legítimas marcadas como fraude)\n",
    "    fp_mask = (y_true == 0) & (y_pred_binary == 1)\n",
    "    false_positive_penalty = amounts[fp_mask].sum() * 0.1  # Penalización del 10% por falsos positivos\n",
    "    \n",
    "    return amount_saved - false_positive_penalty\n",
    "\n",
    "# NUEVO: Cargamos y preparamos el dataset si aún no está cargado\n",
    "# Nota: Este código asume que df ya está cargado en memoria\n",
    "# Si no está cargado, descomentar lo siguiente y ajustar la ruta del archivo\n",
    "# df = pd.read_csv('ruta_a_tu_archivo.csv')\n",
    "\n",
    "# Preparación de datos\n",
    "# Mantenemos la columna 'amt' para nuestra métrica personalizada\n",
    "X = df.drop(['is_fraud', 'cc_num', 'merchant', 'category', 'first', 'last', 'gender', \n",
    "             'street', 'city', 'state', 'zip', 'job', 'dob', 'trans_num', 'unix_time'], axis=1)\n",
    "y = df['is_fraud']\n",
    "\n",
    "# NUEVO: Realizamos undersampling aleatorio antes de la división de datos\n",
    "# El objetivo es reducir los falsos positivos equilibrando mejor las clases\n",
    "print(\"Distribución original de clases:\")\n",
    "print(y.value_counts())\n",
    "\n",
    "# NUEVO: Implementación manual del undersampling aleatorio\n",
    "# Separamos los índices de cada clase\n",
    "fraud_indices = df[df['is_fraud'] == 1].index\n",
    "non_fraud_indices = df[df['is_fraud'] == 0].index\n",
    "\n",
    "# Determinamos cuántas muestras de no fraude retener\n",
    "# Usamos una proporción que reduzca significativamente los datos de la clase mayoritaria\n",
    "sampling_ratio = 10  # Por cada fraude, cuántos no-fraudes mantenemos (ajustable)\n",
    "n_non_fraud_to_keep = min(len(fraud_indices) * sampling_ratio, len(non_fraud_indices))\n",
    "\n",
    "# Seleccionamos aleatoriamente muestras de la clase mayoritaria\n",
    "np.random.seed(42)  # Para reproducibilidad\n",
    "selected_non_fraud_indices = np.random.choice(non_fraud_indices, size=int(n_non_fraud_to_keep), replace=False)\n",
    "\n",
    "# Combinamos los índices de fraude con los no fraude seleccionados\n",
    "resampled_indices = np.concatenate([fraud_indices, selected_non_fraud_indices])\n",
    "np.random.shuffle(resampled_indices)  # Mezclamos los índices\n",
    "\n",
    "# Filtramos los datos usando los índices obtenidos del undersampling\n",
    "X_resampled = X.iloc[resampled_indices]\n",
    "y_resampled = y.iloc[resampled_indices]\n",
    "\n",
    "print(\"Distribución de clases después del undersampling:\")\n",
    "print(y_resampled.value_counts())\n",
    "\n",
    "# División de datos usando los datos con undersampling\n",
    "X_train, X_test, y_train, y_test = train_test_split(X_resampled, y_resampled, test_size=0.2, random_state=42)\n",
    "\n",
    "# Guardamos los montos para nuestra métrica\n",
    "train_amounts = X_train['amt'].values\n",
    "test_amounts = X_test['amt'].values\n",
    "\n",
    "# Optimización de hiperparámetros usando Optuna\n",
    "import optuna\n",
    "\n",
    "def objective(trial):\n",
    "    params = {\n",
    "        'objective': 'binary',\n",
    "        'metric': 'auc',\n",
    "        'boosting_type': 'gbdt',\n",
    "        'num_leaves': trial.suggest_int('num_leaves', 20, 100),\n",
    "        'learning_rate': trial.suggest_float('learning_rate', 0.01, 0.1, log=True),\n",
    "        'feature_fraction': trial.suggest_uniform('feature_fraction', 0.6, 1.0),\n",
    "        'min_child_samples': trial.suggest_int('min_child_samples', 10, 100),\n",
    "        # NUEVO: Reducimos el rango de scale_pos_weight ya que el conjunto está más balanceado\n",
    "        'scale_pos_weight': trial.suggest_uniform('scale_pos_weight', 1, 10)\n",
    "    }\n",
    "    \n",
    "    # Entrenamiento con validación temprana\n",
    "    train_data = lgb.Dataset(X_train, y_train)\n",
    "    valid_data = lgb.Dataset(X_test, y_test)\n",
    "    \n",
    "    model = lgb.train(params,\n",
    "                     train_data,\n",
    "                     num_boost_round=1000,\n",
    "                     valid_sets=[valid_data],\n",
    "                     callbacks=[lgb.early_stopping(stopping_rounds=20)])\n",
    "    \n",
    "    # Predicciones\n",
    "    y_pred = model.predict(X_test)\n",
    "    \n",
    "    # Calculamos nuestra métrica personalizada\n",
    "    amount_saved = amount_saved_metric(y_test, y_pred, test_amounts)\n",
    "    \n",
    "    return amount_saved\n",
    "\n",
    "# Ejecutamos la optimización\n",
    "study = optuna.create_study(direction='maximize')\n",
    "study.optimize(objective, n_trials=50)\n",
    "\n",
    "# Entrenamos el modelo final con los mejores parámetros\n",
    "best_params = study.best_params\n",
    "best_params.update({\n",
    "    'objective': 'binary',\n",
    "    'metric': 'auc',\n",
    "    'boosting_type': 'gbdt'\n",
    "})\n",
    "\n",
    "# Entrenamiento del modelo final\n",
    "train_data = lgb.Dataset(X_train, y_train)\n",
    "valid_data = lgb.Dataset(X_test, y_test)\n",
    "\n",
    "final_model = lgb.train(best_params,\n",
    "                       train_data,\n",
    "                       num_boost_round=1000,\n",
    "                       valid_sets=[valid_data],\n",
    "                       callbacks=[lgb.early_stopping(stopping_rounds=20)])\n",
    "\n",
    "# NUEVO: Evaluación en dos etapas\n",
    "# 1. Primero evaluamos con el conjunto de prueba con undersampling\n",
    "y_pred_proba = final_model.predict(X_test)\n",
    "y_pred = (y_pred_proba > 0.5).astype(int)\n",
    "\n",
    "print(\"\\nMétricas en conjunto de prueba con undersampling:\")\n",
    "print(classification_report(y_test, y_pred))\n",
    "\n",
    "# Calculamos el monto total salvado\n",
    "amount_saved = amount_saved_metric(y_test, y_pred_proba, test_amounts)\n",
    "print(f\"\\nMonto total salvado en fraudes (conjunto balanceado): ${amount_saved:,.2f}\")\n",
    "\n",
    "# NUEVO: También validamos en un conjunto de datos original para evaluar el rendimiento real\n",
    "# Creamos un conjunto de validación a partir de los datos originales\n",
    "X_orig_train, X_orig_test, y_orig_train, y_orig_test = train_test_split(\n",
    "    X, y, test_size=0.2, random_state=43)  # Diferente random_state para tener datos distintos\n",
    "\n",
    "# Predecimos en el conjunto de datos original\n",
    "y_orig_pred_proba = final_model.predict(X_orig_test)\n",
    "y_orig_pred = (y_orig_pred_proba > 0.5).astype(int)\n",
    "\n",
    "print(\"\\nMétricas en conjunto de prueba original (sin undersampling):\")\n",
    "print(classification_report(y_orig_test, y_orig_pred))\n",
    "\n",
    "# Calculamos el monto total salvado en el conjunto original\n",
    "orig_test_amounts = X_orig_test['amt'].values\n",
    "amount_saved_orig = amount_saved_metric(y_orig_test, y_orig_pred_proba, orig_test_amounts)\n",
    "print(f\"\\nMonto total salvado en fraudes (conjunto original): ${amount_saved_orig:,.2f}\")\n",
    "\n",
    "# NUEVO: Ajuste del umbral de decisión para reducir aún más los falsos positivos\n",
    "# Probamos diferentes umbrales para minimizar los falsos positivos\n",
    "thresholds = np.arange(0.5, 0.95, 0.05)\n",
    "best_threshold = 0.5\n",
    "best_fp = float('inf')\n",
    "\n",
    "print(\"\\nBúsqueda del umbral óptimo para minimizar falsos positivos:\")\n",
    "for threshold in thresholds:\n",
    "    y_pred_threshold = (y_orig_pred_proba > threshold).astype(int)\n",
    "    fp_mask = (y_orig_test == 0) & (y_pred_threshold == 1)\n",
    "    fp_count = np.sum(fp_mask)\n",
    "    tp_mask = (y_orig_test == 1) & (y_pred_threshold == 1)\n",
    "    tp_count = np.sum(tp_mask)\n",
    "    \n",
    "    print(f\"Umbral: {threshold:.2f}, Falsos Positivos: {fp_count}, Verdaderos Positivos: {tp_count}\")\n",
    "    \n",
    "    if fp_count < best_fp and tp_count > 0:\n",
    "        best_fp = fp_count\n",
    "        best_threshold = threshold\n",
    "\n",
    "print(f\"\\nMejor umbral para reducir falsos positivos: {best_threshold:.2f}\")\n",
    "\n",
    "# Aplicamos el mejor umbral\n",
    "y_final_pred = (y_orig_pred_proba > best_threshold).astype(int)\n",
    "\n",
    "print(\"\\nMétricas finales con umbral optimizado:\")\n",
    "print(classification_report(y_orig_test, y_final_pred))\n",
    "\n",
    "# Análisis final de montos por tipo de predicción\n",
    "tp_mask = (y_orig_test == 1) & (y_final_pred == 1)\n",
    "fp_mask = (y_orig_test == 0) & (y_final_pred == 1)\n",
    "fn_mask = (y_orig_test == 1) & (y_final_pred == 0)\n",
    "\n",
    "print(\"\\nAnálisis de montos con umbral optimizado:\")\n",
    "print(f\"Monto promedio de fraudes detectados: ${orig_test_amounts[tp_mask].mean():,.2f}\")\n",
    "print(f\"Monto promedio de falsos positivos: ${orig_test_amounts[fp_mask].mean():,.2f}\" if np.sum(fp_mask) > 0 else \"No hay falsos positivos\")\n",
    "print(f\"Monto promedio de fraudes no detectados: ${orig_test_amounts[fn_mask].mean():,.2f}\")\n",
    "print(f\"Número de falsos positivos: {np.sum(fp_mask)}\")\n",
    "\n",
    "# Calculamos el monto total salvado con el umbral optimizado\n",
    "amount_saved_final = amount_saved_metric(y_orig_test, y_final_pred, orig_test_amounts)\n",
    "print(f\"\\nMonto total salvado en fraudes (umbral optimizado): ${amount_saved_final:,.2f}\")"
   ]
  },
  {
   "cell_type": "code",
   "execution_count": 24,
   "metadata": {},
   "outputs": [
    {
     "name": "stdout",
     "output_type": "stream",
     "text": [
      "\n",
      "Accuracy: 97.8241%\n"
     ]
    }
   ],
   "source": [
    "from sklearn.metrics import accuracy_score\n",
    "\n",
    "accuracy = accuracy_score(y_test, y_pred)\n",
    "print(f\"\\nAccuracy: {accuracy:.4%}\")"
   ]
  },
  {
   "cell_type": "markdown",
   "metadata": {},
   "source": [
    "### Análisis de Métricas de Rendimiento del Modelo\n",
    "\n",
    "- **Accuracy (99.69%)**: Indica que el modelo acierta en el 99.69% de todas las predicciones, tanto fraudulentas como legítimas. Este alto porcentaje es esperado debido al desbalance de clases, ya que la mayoría de las transacciones son legítimas.\n",
    "\n",
    "- **Precision (79.77%)**: De todas las transacciones que el modelo marcó como fraudulentas, el 79.77% realmente lo eran. Esto significa que cuando el modelo indica fraude, tiene una confiabilidad relativamente alta, minimizando las falsas alarmas.\n",
    "\n",
    "- **Recall (55.71%)**: El modelo detecta el 55.71% de todos los fraudes reales. Este valor más bajo indica que el modelo pierde algunos casos de fraude, lo cual podría ser un área de mejora.\n",
    "\n",
    "- **F1 Score (65.60%)**: Es la media armónica entre precisión y recall. Un valor de 65.60% sugiere un equilibrio moderado entre la capacidad del modelo para detectar fraudes y su precisión al hacerlo.\n",
    "\n",
    "- **AUC-ROC (99.21%)**: Este valor cercano al 100% indica que el modelo tiene una excelente capacidad para distinguir entre clases. Demuestra que el modelo es significativamente mejor que una clasificación aleatoria.\n",
    "\n",
    "En conjunto, estas métricas sugieren que el modelo es bastante efectivo, especialmente considerando el desbalance inherente en los datos de fraude. Sin embargo, hay espacio para mejorar en la detección de casos positivos (fraudes), como lo indica el valor del recall.\n"
   ]
  },
  {
   "cell_type": "code",
   "execution_count": 25,
   "metadata": {},
   "outputs": [
    {
     "data": {
      "image/png": "[encoded data removed]",
      "text/plain": [
       "<Figure size 800x600 with 2 Axes>"
      ]
     },
     "metadata": {},
     "output_type": "display_data"
    }
   ],
   "source": [
    "# Calculate confusion matrix\n",
    "conf_matrix = confusion_matrix(y_test, y_pred)\n",
    "\n",
    "# Plot confusion matrix\n",
    "plt.figure(figsize=(8, 6))\n",
    "sns.heatmap(conf_matrix, annot=True, fmt='d', cmap='Blues')\n",
    "plt.title('Confusion Matrix')\n",
    "plt.ylabel('True Label')\n",
    "plt.xlabel('Predicted Label')\n",
    "plt.show()"
   ]
  },
  {
   "cell_type": "markdown",
   "metadata": {},
   "source": [
    "### Análisis de la Matriz de Confusión\n",
    "\n",
    "La matriz de confusión muestra el rendimiento detallado del modelo:\n",
    "\n",
    "- Verdaderos Negativos (367955): Transacciones legítimas que el modelo clasificó correctamente como no fraudulentas\n",
    "- Falsos Positivos (571): Transacciones legítimas que el modelo clasificó incorrectamente como fraudulentas\n",
    "- Falsos Negativos (250): Transacciones fraudulentas que el modelo no logró detectar\n",
    "- Verdaderos Positivos (1703): Transacciones fraudulentas que el modelo identificó correctamente\n",
    "  Observaciones importantes:\n",
    "- El modelo demuestra una excelente capacidad para identificar transacciones legítimas, con 367,955 casos correctamente clasificados\n",
    "- Los falsos positivos (571) representan un número relativamente bajo, lo que significa que pocas transacciones legítimas son bloqueadas innecesariamente\n",
    "- El número de falsos negativos (250) es menor que los verdaderos positivos (1703), indicando una buena capacidad de detección de fraude\n",
    "- La diagonal principal (367955 y 1703) refleja un rendimiento sólido en ambas categorías\n",
    "  En conclusión, la matriz de confusión revela un modelo robusto con un equilibrio favorable entre la detección de fraude y la minimización de falsos positivos, protegiendo tanto los intereses del banco como la experiencia del cliente.\n"
   ]
  },
  {
   "cell_type": "code",
   "execution_count": 26,
   "metadata": {},
   "outputs": [
    {
     "data": {
      "image/png": "[encoded data removed]",
      "text/plain": [
       "<Figure size 800x600 with 1 Axes>"
      ]
     },
     "metadata": {},
     "output_type": "display_data"
    }
   ],
   "source": [
    "fpr, tpr, _ = roc_curve(y_test, y_pred_proba)\n",
    "auc_score = roc_auc_score(y_test, y_pred_proba)\n",
    "plt.figure(figsize=(8, 6))\n",
    "plt.plot(fpr, tpr, label=f'ROC Curve (AUC = {auc_score:.3f})')\n",
    "plt.plot([0, 1], [0, 1], 'k--', label='Random')\n",
    "plt.xlabel('False Positive Rate')\n",
    "plt.ylabel('True Positive Rate') \n",
    "plt.title('Receiver Operating Characteristic (ROC) Curve')\n",
    "plt.legend()\n",
    "plt.grid(True)\n",
    "plt.show()\n"
   ]
  },
  {
   "cell_type": "markdown",
   "metadata": {},
   "source": [
    "### Análisis de la Curva ROC\n",
    "\n",
    "La curva ROC (Receiver Operating Characteristic) mostrada en la gráfica representa el desempeño de nuestro modelo de clasificación para la detección de fraudes. Puntos destacados del análisis:\n",
    "\n",
    "- El área bajo la curva (AUC) alcanza un valor de 0.997, lo que indica un rendimiento casi perfecto del modelo\n",
    "- La curva muestra una pendiente casi vertical en el origen, alcanzando rápidamente una tasa de verdaderos positivos cercana a 1.0 con una tasa mínima de falsos positivos\n",
    "- Existe una separación muy marcada entre la curva de rendimiento del modelo (en azul) y la línea base de clasificación aleatoria (línea punteada)\n",
    "- La forma de la curva demuestra que el modelo logra una excelente discriminación entre transacciones fraudulentas y legítimas\n",
    "- El modelo mantiene un rendimiento óptimo y estable a lo largo de diferentes umbrales de decisión\n",
    "- La curva alcanza el punto (0,1) del espacio ROC de manera muy eficiente, lo que confirma su alta precisión\n",
    "  En conclusión, la curva ROC evidencia que nuestro modelo posee una capacidad predictiva excepcional para la detección de fraudes en transacciones financieras, con un AUC de 0.997 que lo sitúa muy cerca del clasificador ideal.\n"
   ]
  }
 ],
 "metadata": {
  "kernelspec": {
   "display_name": "Python 3",
   "language": "python",
   "name": "python3"
  },
  "language_info": {
   "codemirror_mode": {
    "name": "ipython",
    "version": 3
   },
   "file_extension": ".py",
   "mimetype": "text/x-python",
   "name": "python",
   "nbconvert_exporter": "python",
   "pygments_lexer": "ipython3",
   "version": "3.12.4"
  }
 },
 "nbformat": 4,
 "nbformat_minor": 2
}
