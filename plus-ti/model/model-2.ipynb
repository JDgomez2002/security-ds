{
 "cells": [
  {
   "cell_type": "markdown",
   "metadata": {},
   "source": [
    "# Implementación del modelo base\n",
    "\n",
    "### José Daniel Gómez Cabrera 21429\n",
    "\n",
    "- Entrenar un modelo inicial con LightGBM utilizando métricas tradicionales como AUC-ROC y F1-score.\n",
    "- Evaluar el rendimiento inicial en términos de fraude detectado y falsos positivos.\n"
   ]
  },
  {
   "cell_type": "code",
   "execution_count": 28,
   "metadata": {},
   "outputs": [],
   "source": [
    "import pandas as pd\n",
    "from sklearn.model_selection import train_test_split\n",
    "from sklearn.preprocessing import LabelEncoder\n",
    "from sklearn.metrics import roc_auc_score, f1_score, confusion_matrix, classification_report\n",
    "import lightgbm as lgb\n",
    "import numpy as np\n",
    "import matplotlib.pyplot as plt\n",
    "import seaborn as sns\n",
    "from sklearn.metrics import roc_curve\n",
    "import optuna"
   ]
  },
  {
   "cell_type": "code",
   "execution_count": 29,
   "metadata": {},
   "outputs": [],
   "source": [
    "df = pd.read_csv('../data/dataset_feature_engineering.csv', header=0)"
   ]
  },
  {
   "cell_type": "code",
   "execution_count": 30,
   "metadata": {},
   "outputs": [
    {
     "data": {
      "text/html": [
       "<div>\n",
       "<style scoped>\n",
       "    .dataframe tbody tr th:only-of-type {\n",
       "        vertical-align: middle;\n",
       "    }\n",
       "\n",
       "    .dataframe tbody tr th {\n",
       "        vertical-align: top;\n",
       "    }\n",
       "\n",
       "    .dataframe thead th {\n",
       "        text-align: right;\n",
       "    }\n",
       "</style>\n",
       "<table border=\"1\" class=\"dataframe\">\n",
       "  <thead>\n",
       "    <tr style=\"text-align: right;\">\n",
       "      <th></th>\n",
       "      <th>cc_num</th>\n",
       "      <th>merchant</th>\n",
       "      <th>category</th>\n",
       "      <th>amt</th>\n",
       "      <th>first</th>\n",
       "      <th>last</th>\n",
       "      <th>gender</th>\n",
       "      <th>street</th>\n",
       "      <th>city</th>\n",
       "      <th>state</th>\n",
       "      <th>...</th>\n",
       "      <th>first_time_at_merchant</th>\n",
       "      <th>dist_between_client_and_merch</th>\n",
       "      <th>trans_month</th>\n",
       "      <th>trans_day</th>\n",
       "      <th>hour</th>\n",
       "      <th>year</th>\n",
       "      <th>times_shopped_at_merchant</th>\n",
       "      <th>times_shopped_at_merchant_year</th>\n",
       "      <th>times_shopped_at_merchant_month</th>\n",
       "      <th>times_shopped_at_merchant_day</th>\n",
       "    </tr>\n",
       "  </thead>\n",
       "  <tbody>\n",
       "    <tr>\n",
       "      <th>0</th>\n",
       "      <td>2703186189652095</td>\n",
       "      <td>fraud_Rippin, Kub and Mann</td>\n",
       "      <td>misc_net</td>\n",
       "      <td>4.97</td>\n",
       "      <td>Jennifer</td>\n",
       "      <td>Banks</td>\n",
       "      <td>F</td>\n",
       "      <td>561 Perry Cove</td>\n",
       "      <td>Moravian Falls</td>\n",
       "      <td>NC</td>\n",
       "      <td>...</td>\n",
       "      <td>True</td>\n",
       "      <td>78.773821</td>\n",
       "      <td>1</td>\n",
       "      <td>1</td>\n",
       "      <td>0</td>\n",
       "      <td>2019</td>\n",
       "      <td>5</td>\n",
       "      <td>4</td>\n",
       "      <td>2</td>\n",
       "      <td>1</td>\n",
       "    </tr>\n",
       "    <tr>\n",
       "      <th>1</th>\n",
       "      <td>630423337322</td>\n",
       "      <td>fraud_Heller, Gutmann and Zieme</td>\n",
       "      <td>grocery_pos</td>\n",
       "      <td>107.23</td>\n",
       "      <td>Stephanie</td>\n",
       "      <td>Gill</td>\n",
       "      <td>F</td>\n",
       "      <td>43039 Riley Greens Suite 393</td>\n",
       "      <td>Orient</td>\n",
       "      <td>WA</td>\n",
       "      <td>...</td>\n",
       "      <td>True</td>\n",
       "      <td>30.216618</td>\n",
       "      <td>1</td>\n",
       "      <td>1</td>\n",
       "      <td>0</td>\n",
       "      <td>2019</td>\n",
       "      <td>4</td>\n",
       "      <td>4</td>\n",
       "      <td>1</td>\n",
       "      <td>1</td>\n",
       "    </tr>\n",
       "    <tr>\n",
       "      <th>2</th>\n",
       "      <td>38859492057661</td>\n",
       "      <td>fraud_Lind-Buckridge</td>\n",
       "      <td>entertainment</td>\n",
       "      <td>220.11</td>\n",
       "      <td>Edward</td>\n",
       "      <td>Sanchez</td>\n",
       "      <td>M</td>\n",
       "      <td>594 White Dale Suite 530</td>\n",
       "      <td>Malad City</td>\n",
       "      <td>ID</td>\n",
       "      <td>...</td>\n",
       "      <td>True</td>\n",
       "      <td>108.102912</td>\n",
       "      <td>1</td>\n",
       "      <td>1</td>\n",
       "      <td>0</td>\n",
       "      <td>2019</td>\n",
       "      <td>4</td>\n",
       "      <td>3</td>\n",
       "      <td>1</td>\n",
       "      <td>1</td>\n",
       "    </tr>\n",
       "    <tr>\n",
       "      <th>3</th>\n",
       "      <td>3534093764340240</td>\n",
       "      <td>fraud_Kutch, Hermiston and Farrell</td>\n",
       "      <td>gas_transport</td>\n",
       "      <td>45.00</td>\n",
       "      <td>Jeremy</td>\n",
       "      <td>White</td>\n",
       "      <td>M</td>\n",
       "      <td>9443 Cynthia Court Apt. 038</td>\n",
       "      <td>Boulder</td>\n",
       "      <td>MT</td>\n",
       "      <td>...</td>\n",
       "      <td>True</td>\n",
       "      <td>95.685115</td>\n",
       "      <td>1</td>\n",
       "      <td>1</td>\n",
       "      <td>0</td>\n",
       "      <td>2019</td>\n",
       "      <td>1</td>\n",
       "      <td>1</td>\n",
       "      <td>1</td>\n",
       "      <td>1</td>\n",
       "    </tr>\n",
       "    <tr>\n",
       "      <th>4</th>\n",
       "      <td>375534208663984</td>\n",
       "      <td>fraud_Keeling-Crist</td>\n",
       "      <td>misc_pos</td>\n",
       "      <td>41.96</td>\n",
       "      <td>Tyler</td>\n",
       "      <td>Garcia</td>\n",
       "      <td>M</td>\n",
       "      <td>408 Bradley Rest</td>\n",
       "      <td>Doe Hill</td>\n",
       "      <td>VA</td>\n",
       "      <td>...</td>\n",
       "      <td>True</td>\n",
       "      <td>77.702395</td>\n",
       "      <td>1</td>\n",
       "      <td>1</td>\n",
       "      <td>0</td>\n",
       "      <td>2019</td>\n",
       "      <td>6</td>\n",
       "      <td>1</td>\n",
       "      <td>1</td>\n",
       "      <td>1</td>\n",
       "    </tr>\n",
       "  </tbody>\n",
       "</table>\n",
       "<p>5 rows × 35 columns</p>\n",
       "</div>"
      ],
      "text/plain": [
       "             cc_num                            merchant       category  \\\n",
       "0  2703186189652095          fraud_Rippin, Kub and Mann       misc_net   \n",
       "1      630423337322     fraud_Heller, Gutmann and Zieme    grocery_pos   \n",
       "2    38859492057661                fraud_Lind-Buckridge  entertainment   \n",
       "3  3534093764340240  fraud_Kutch, Hermiston and Farrell  gas_transport   \n",
       "4   375534208663984                 fraud_Keeling-Crist       misc_pos   \n",
       "\n",
       "      amt      first     last gender                        street  \\\n",
       "0    4.97   Jennifer    Banks      F                561 Perry Cove   \n",
       "1  107.23  Stephanie     Gill      F  43039 Riley Greens Suite 393   \n",
       "2  220.11     Edward  Sanchez      M      594 White Dale Suite 530   \n",
       "3   45.00     Jeremy    White      M   9443 Cynthia Court Apt. 038   \n",
       "4   41.96      Tyler   Garcia      M              408 Bradley Rest   \n",
       "\n",
       "             city state  ...  first_time_at_merchant  \\\n",
       "0  Moravian Falls    NC  ...                    True   \n",
       "1          Orient    WA  ...                    True   \n",
       "2      Malad City    ID  ...                    True   \n",
       "3         Boulder    MT  ...                    True   \n",
       "4        Doe Hill    VA  ...                    True   \n",
       "\n",
       "   dist_between_client_and_merch  trans_month  trans_day hour  year  \\\n",
       "0                      78.773821            1          1    0  2019   \n",
       "1                      30.216618            1          1    0  2019   \n",
       "2                     108.102912            1          1    0  2019   \n",
       "3                      95.685115            1          1    0  2019   \n",
       "4                      77.702395            1          1    0  2019   \n",
       "\n",
       "  times_shopped_at_merchant  times_shopped_at_merchant_year  \\\n",
       "0                         5                               4   \n",
       "1                         4                               4   \n",
       "2                         4                               3   \n",
       "3                         1                               1   \n",
       "4                         6                               1   \n",
       "\n",
       "   times_shopped_at_merchant_month  times_shopped_at_merchant_day  \n",
       "0                                2                              1  \n",
       "1                                1                              1  \n",
       "2                                1                              1  \n",
       "3                                1                              1  \n",
       "4                                1                              1  \n",
       "\n",
       "[5 rows x 35 columns]"
      ]
     },
     "execution_count": 30,
     "metadata": {},
     "output_type": "execute_result"
    }
   ],
   "source": [
    "df.head()"
   ]
  },
  {
   "cell_type": "code",
   "execution_count": 31,
   "metadata": {},
   "outputs": [
    {
     "name": "stdout",
     "output_type": "stream",
     "text": [
      "<class 'pandas.core.frame.DataFrame'>\n",
      "RangeIndex: 1852394 entries, 0 to 1852393\n",
      "Data columns (total 35 columns):\n",
      " #   Column                           Dtype  \n",
      "---  ------                           -----  \n",
      " 0   cc_num                           int64  \n",
      " 1   merchant                         object \n",
      " 2   category                         object \n",
      " 3   amt                              float64\n",
      " 4   first                            object \n",
      " 5   last                             object \n",
      " 6   gender                           object \n",
      " 7   street                           object \n",
      " 8   city                             object \n",
      " 9   state                            object \n",
      " 10  zip                              int64  \n",
      " 11  lat                              float64\n",
      " 12  long                             float64\n",
      " 13  city_pop                         int64  \n",
      " 14  job                              object \n",
      " 15  dob                              object \n",
      " 16  trans_num                        object \n",
      " 17  unix_time                        int64  \n",
      " 18  merch_lat                        float64\n",
      " 19  merch_long                       float64\n",
      " 20  is_fraud                         int64  \n",
      " 21  amt_month                        float64\n",
      " 22  amt_year                         float64\n",
      " 23  amt_month_shopping_net_spend     float64\n",
      " 24  count_month_shopping_net         float64\n",
      " 25  first_time_at_merchant           bool   \n",
      " 26  dist_between_client_and_merch    float64\n",
      " 27  trans_month                      int64  \n",
      " 28  trans_day                        int64  \n",
      " 29  hour                             int64  \n",
      " 30  year                             int64  \n",
      " 31  times_shopped_at_merchant        int64  \n",
      " 32  times_shopped_at_merchant_year   int64  \n",
      " 33  times_shopped_at_merchant_month  int64  \n",
      " 34  times_shopped_at_merchant_day    int64  \n",
      "dtypes: bool(1), float64(10), int64(13), object(11)\n",
      "memory usage: 482.3+ MB\n"
     ]
    }
   ],
   "source": [
    "df.info()"
   ]
  },
  {
   "cell_type": "markdown",
   "metadata": {},
   "source": [
    "## Variable objetivo\n"
   ]
  },
  {
   "cell_type": "code",
   "execution_count": 32,
   "metadata": {},
   "outputs": [
    {
     "data": {
      "text/html": [
       "<div>\n",
       "<style scoped>\n",
       "    .dataframe tbody tr th:only-of-type {\n",
       "        vertical-align: middle;\n",
       "    }\n",
       "\n",
       "    .dataframe tbody tr th {\n",
       "        vertical-align: top;\n",
       "    }\n",
       "\n",
       "    .dataframe thead th {\n",
       "        text-align: right;\n",
       "    }\n",
       "</style>\n",
       "<table border=\"1\" class=\"dataframe\">\n",
       "  <thead>\n",
       "    <tr style=\"text-align: right;\">\n",
       "      <th></th>\n",
       "      <th>Amount</th>\n",
       "      <th>Percentage</th>\n",
       "    </tr>\n",
       "    <tr>\n",
       "      <th>is_fraud</th>\n",
       "      <th></th>\n",
       "      <th></th>\n",
       "    </tr>\n",
       "  </thead>\n",
       "  <tbody>\n",
       "    <tr>\n",
       "      <th>No fraud</th>\n",
       "      <td>1842743</td>\n",
       "      <td>99.48</td>\n",
       "    </tr>\n",
       "    <tr>\n",
       "      <th>Fraud</th>\n",
       "      <td>9651</td>\n",
       "      <td>0.52</td>\n",
       "    </tr>\n",
       "  </tbody>\n",
       "</table>\n",
       "</div>"
      ],
      "text/plain": [
       "           Amount  Percentage\n",
       "is_fraud                     \n",
       "No fraud  1842743       99.48\n",
       "Fraud        9651        0.52"
      ]
     },
     "execution_count": 32,
     "metadata": {},
     "output_type": "execute_result"
    }
   ],
   "source": [
    "fraud_dist = df['is_fraud'].value_counts().rename({0: 'No fraud', 1: 'Fraud'})\n",
    "fraud_percent = (fraud_dist / fraud_dist.sum()) * 100\n",
    "\n",
    "fraud_df = pd.DataFrame({\n",
    "    'Amount': fraud_dist,\n",
    "    'Percentage': fraud_percent.round(2)\n",
    "})\n",
    "fraud_df"
   ]
  },
  {
   "cell_type": "markdown",
   "metadata": {},
   "source": [
    "## Modelo\n"
   ]
  },
  {
   "cell_type": "code",
   "execution_count": 33,
   "metadata": {},
   "outputs": [
    {
     "name": "stderr",
     "output_type": "stream",
     "text": [
      "[I 2025-05-09 15:38:37,683] A new study created in memory with name: no-name-f99e70a7-d938-4920-8b10-8719b367ab71\n"
     ]
    },
    {
     "name": "stdout",
     "output_type": "stream",
     "text": [
      "[LightGBM] [Info] Number of positive: 7698, number of negative: 1474217\n",
      "[LightGBM] [Info] Auto-choosing row-wise multi-threading, the overhead of testing was 0.004513 seconds.\n",
      "You can set `force_row_wise=true` to remove the overhead.\n",
      "And if memory is not enough, you can set `force_col_wise=true`.\n",
      "[LightGBM] [Info] Total Bins 2700\n",
      "[LightGBM] [Info] Number of data points in the train set: 1481915, number of used features: 20\n",
      "[LightGBM] [Info] [binary:BoostFromScore]: pavg=0.005195 -> initscore=-5.254922\n",
      "[LightGBM] [Info] Start training from score -5.254922\n",
      "Training until validation scores don't improve for 10 rounds\n"
     ]
    },
    {
     "name": "stderr",
     "output_type": "stream",
     "text": [
      "[I 2025-05-09 15:38:40,283] Trial 0 finished with value: 0.990582685917396 and parameters: {'num_leaves': 51, 'learning_rate': 0.014715692682632307, 'feature_fraction': 0.8337253487072955, 'bagging_fraction': 0.8842128436579582, 'min_child_samples': 23, 'max_depth': 10, 'lambda_l1': 9.519387844375668e-08, 'lambda_l2': 0.01231576567744614}. Best is trial 0 with value: 0.990582685917396.\n"
     ]
    },
    {
     "name": "stdout",
     "output_type": "stream",
     "text": [
      "Did not meet early stopping. Best iteration is:\n",
      "[100]\tvalid_0's auc: 0.990583\n",
      "[LightGBM] [Info] Number of positive: 7698, number of negative: 1474217\n",
      "[LightGBM] [Info] Auto-choosing row-wise multi-threading, the overhead of testing was 0.006613 seconds.\n",
      "You can set `force_row_wise=true` to remove the overhead.\n",
      "And if memory is not enough, you can set `force_col_wise=true`.\n",
      "[LightGBM] [Info] Total Bins 2700\n",
      "[LightGBM] [Info] Number of data points in the train set: 1481915, number of used features: 20\n",
      "[LightGBM] [Info] [binary:BoostFromScore]: pavg=0.005195 -> initscore=-5.254922\n",
      "[LightGBM] [Info] Start training from score -5.254922\n",
      "Training until validation scores don't improve for 10 rounds\n"
     ]
    },
    {
     "name": "stderr",
     "output_type": "stream",
     "text": [
      "[I 2025-05-09 15:38:43,128] Trial 1 finished with value: 0.9917505440134561 and parameters: {'num_leaves': 59, 'learning_rate': 0.021073414927784685, 'feature_fraction': 0.8116878143787192, 'bagging_fraction': 0.8433129218631671, 'min_child_samples': 61, 'max_depth': 11, 'lambda_l1': 0.00016830148010622427, 'lambda_l2': 1.9612148015632402e-06}. Best is trial 1 with value: 0.9917505440134561.\n"
     ]
    },
    {
     "name": "stdout",
     "output_type": "stream",
     "text": [
      "Did not meet early stopping. Best iteration is:\n",
      "[100]\tvalid_0's auc: 0.991751\n",
      "[LightGBM] [Info] Number of positive: 7698, number of negative: 1474217\n",
      "[LightGBM] [Info] Auto-choosing row-wise multi-threading, the overhead of testing was 0.003951 seconds.\n",
      "You can set `force_row_wise=true` to remove the overhead.\n",
      "And if memory is not enough, you can set `force_col_wise=true`.\n",
      "[LightGBM] [Info] Total Bins 2700\n",
      "[LightGBM] [Info] Number of data points in the train set: 1481915, number of used features: 20\n",
      "[LightGBM] [Info] [binary:BoostFromScore]: pavg=0.005195 -> initscore=-5.254922\n",
      "[LightGBM] [Info] Start training from score -5.254922\n",
      "Training until validation scores don't improve for 10 rounds\n",
      "Did not meet early stopping. Best iteration is:\n",
      "[100]\tvalid_0's auc: 0.993614\n"
     ]
    },
    {
     "name": "stderr",
     "output_type": "stream",
     "text": [
      "[I 2025-05-09 15:38:46,888] Trial 2 finished with value: 0.9936142416753494 and parameters: {'num_leaves': 81, 'learning_rate': 0.036153889035306974, 'feature_fraction': 0.673737086443415, 'bagging_fraction': 0.940974829015256, 'min_child_samples': 99, 'max_depth': 13, 'lambda_l1': 2.244701632382327e-05, 'lambda_l2': 8.003066162847903e-08}. Best is trial 2 with value: 0.9936142416753494.\n"
     ]
    },
    {
     "name": "stdout",
     "output_type": "stream",
     "text": [
      "[LightGBM] [Info] Number of positive: 7698, number of negative: 1474217\n",
      "[LightGBM] [Info] Auto-choosing row-wise multi-threading, the overhead of testing was 0.003955 seconds.\n",
      "You can set `force_row_wise=true` to remove the overhead.\n",
      "And if memory is not enough, you can set `force_col_wise=true`.\n",
      "[LightGBM] [Info] Total Bins 2700\n",
      "[LightGBM] [Info] Number of data points in the train set: 1481915, number of used features: 20\n",
      "[LightGBM] [Info] [binary:BoostFromScore]: pavg=0.005195 -> initscore=-5.254922\n",
      "[LightGBM] [Info] Start training from score -5.254922\n",
      "[LightGBM] [Warning] No further splits with positive gain, best gain: -inf\n",
      "Training until validation scores don't improve for 10 rounds\n",
      "[LightGBM] [Warning] No further splits with positive gain, best gain: -inf\n",
      "[LightGBM] [Warning] No further splits with positive gain, best gain: -inf\n",
      "[LightGBM] [Warning] No further splits with positive gain, best gain: -inf\n",
      "[LightGBM] [Warning] No further splits with positive gain, best gain: -inf\n",
      "[LightGBM] [Warning] No further splits with positive gain, best gain: -inf\n",
      "[LightGBM] [Warning] No further splits with positive gain, best gain: -inf\n",
      "[LightGBM] [Warning] No further splits with positive gain, best gain: -inf\n",
      "[LightGBM] [Warning] No further splits with positive gain, best gain: -inf\n",
      "[LightGBM] [Warning] No further splits with positive gain, best gain: -inf\n",
      "[LightGBM] [Warning] No further splits with positive gain, best gain: -inf\n",
      "[LightGBM] [Warning] No further splits with positive gain, best gain: -inf\n",
      "[LightGBM] [Warning] No further splits with positive gain, best gain: -inf\n",
      "[LightGBM] [Warning] No further splits with positive gain, best gain: -inf\n",
      "[LightGBM] [Warning] No further splits with positive gain, best gain: -inf\n",
      "[LightGBM] [Warning] No further splits with positive gain, best gain: -inf\n",
      "[LightGBM] [Warning] No further splits with positive gain, best gain: -inf\n",
      "[LightGBM] [Warning] No further splits with positive gain, best gain: -inf\n",
      "[LightGBM] [Warning] No further splits with positive gain, best gain: -inf\n",
      "[LightGBM] [Warning] No further splits with positive gain, best gain: -inf\n",
      "[LightGBM] [Warning] No further splits with positive gain, best gain: -inf\n",
      "[LightGBM] [Warning] No further splits with positive gain, best gain: -inf\n",
      "[LightGBM] [Warning] No further splits with positive gain, best gain: -inf\n",
      "[LightGBM] [Warning] No further splits with positive gain, best gain: -inf\n",
      "[LightGBM] [Warning] No further splits with positive gain, best gain: -inf\n",
      "[LightGBM] [Warning] No further splits with positive gain, best gain: -inf\n",
      "[LightGBM] [Warning] No further splits with positive gain, best gain: -inf\n",
      "[LightGBM] [Warning] No further splits with positive gain, best gain: -inf\n",
      "[LightGBM] [Warning] No further splits with positive gain, best gain: -inf\n",
      "[LightGBM] [Warning] No further splits with positive gain, best gain: -inf\n",
      "[LightGBM] [Warning] No further splits with positive gain, best gain: -inf\n",
      "[LightGBM] [Warning] No further splits with positive gain, best gain: -inf\n",
      "[LightGBM] [Warning] No further splits with positive gain, best gain: -inf\n",
      "[LightGBM] [Warning] No further splits with positive gain, best gain: -inf\n",
      "[LightGBM] [Warning] No further splits with positive gain, best gain: -inf\n",
      "[LightGBM] [Warning] No further splits with positive gain, best gain: -inf\n",
      "[LightGBM] [Warning] No further splits with positive gain, best gain: -inf\n",
      "[LightGBM] [Warning] No further splits with positive gain, best gain: -inf\n",
      "[LightGBM] [Warning] No further splits with positive gain, best gain: -inf\n",
      "[LightGBM] [Warning] No further splits with positive gain, best gain: -inf\n",
      "[LightGBM] [Warning] No further splits with positive gain, best gain: -inf\n",
      "[LightGBM] [Warning] No further splits with positive gain, best gain: -inf\n",
      "[LightGBM] [Warning] No further splits with positive gain, best gain: -inf\n",
      "[LightGBM] [Warning] No further splits with positive gain, best gain: -inf\n",
      "[LightGBM] [Warning] No further splits with positive gain, best gain: -inf\n",
      "[LightGBM] [Warning] No further splits with positive gain, best gain: -inf\n",
      "[LightGBM] [Warning] No further splits with positive gain, best gain: -inf\n",
      "[LightGBM] [Warning] No further splits with positive gain, best gain: -inf\n",
      "[LightGBM] [Warning] No further splits with positive gain, best gain: -inf\n",
      "[LightGBM] [Warning] No further splits with positive gain, best gain: -inf\n",
      "[LightGBM] [Warning] No further splits with positive gain, best gain: -inf\n",
      "[LightGBM] [Warning] No further splits with positive gain, best gain: -inf\n",
      "[LightGBM] [Warning] No further splits with positive gain, best gain: -inf\n",
      "[LightGBM] [Warning] No further splits with positive gain, best gain: -inf\n",
      "[LightGBM] [Warning] No further splits with positive gain, best gain: -inf\n",
      "[LightGBM] [Warning] No further splits with positive gain, best gain: -inf\n",
      "[LightGBM] [Warning] No further splits with positive gain, best gain: -inf\n",
      "[LightGBM] [Warning] No further splits with positive gain, best gain: -inf\n",
      "[LightGBM] [Warning] No further splits with positive gain, best gain: -inf\n",
      "[LightGBM] [Warning] No further splits with positive gain, best gain: -inf\n",
      "[LightGBM] [Warning] No further splits with positive gain, best gain: -inf\n",
      "[LightGBM] [Warning] No further splits with positive gain, best gain: -inf\n",
      "[LightGBM] [Warning] No further splits with positive gain, best gain: -inf\n",
      "[LightGBM] [Warning] No further splits with positive gain, best gain: -inf\n",
      "[LightGBM] [Warning] No further splits with positive gain, best gain: -inf\n",
      "[LightGBM] [Warning] No further splits with positive gain, best gain: -inf\n",
      "[LightGBM] [Warning] No further splits with positive gain, best gain: -inf\n",
      "[LightGBM] [Warning] No further splits with positive gain, best gain: -inf\n",
      "[LightGBM] [Warning] No further splits with positive gain, best gain: -inf\n",
      "[LightGBM] [Warning] No further splits with positive gain, best gain: -inf\n",
      "[LightGBM] [Warning] No further splits with positive gain, best gain: -inf\n",
      "[LightGBM] [Warning] No further splits with positive gain, best gain: -inf\n",
      "[LightGBM] [Warning] No further splits with positive gain, best gain: -inf\n",
      "[LightGBM] [Warning] No further splits with positive gain, best gain: -inf\n",
      "[LightGBM] [Warning] No further splits with positive gain, best gain: -inf\n",
      "[LightGBM] [Warning] No further splits with positive gain, best gain: -inf\n",
      "[LightGBM] [Warning] No further splits with positive gain, best gain: -inf\n",
      "[LightGBM] [Warning] No further splits with positive gain, best gain: -inf\n",
      "[LightGBM] [Warning] No further splits with positive gain, best gain: -inf\n",
      "[LightGBM] [Warning] No further splits with positive gain, best gain: -inf\n",
      "[LightGBM] [Warning] No further splits with positive gain, best gain: -inf\n",
      "[LightGBM] [Warning] No further splits with positive gain, best gain: -inf\n",
      "[LightGBM] [Warning] No further splits with positive gain, best gain: -inf\n",
      "[LightGBM] [Warning] No further splits with positive gain, best gain: -inf\n",
      "[LightGBM] [Warning] No further splits with positive gain, best gain: -inf\n",
      "[LightGBM] [Warning] No further splits with positive gain, best gain: -inf\n",
      "[LightGBM] [Warning] No further splits with positive gain, best gain: -inf\n",
      "[LightGBM] [Warning] No further splits with positive gain, best gain: -inf\n",
      "[LightGBM] [Warning] No further splits with positive gain, best gain: -inf\n",
      "[LightGBM] [Warning] No further splits with positive gain, best gain: -inf\n",
      "[LightGBM] [Warning] No further splits with positive gain, best gain: -inf\n",
      "[LightGBM] [Warning] No further splits with positive gain, best gain: -inf\n",
      "[LightGBM] [Warning] No further splits with positive gain, best gain: -inf\n",
      "[LightGBM] [Warning] No further splits with positive gain, best gain: -inf\n",
      "[LightGBM] [Warning] No further splits with positive gain, best gain: -inf\n",
      "[LightGBM] [Warning] No further splits with positive gain, best gain: -inf\n",
      "[LightGBM] [Warning] No further splits with positive gain, best gain: -inf\n",
      "[LightGBM] [Warning] No further splits with positive gain, best gain: -inf\n",
      "[LightGBM] [Warning] No further splits with positive gain, best gain: -inf\n",
      "[LightGBM] [Warning] No further splits with positive gain, best gain: -inf\n",
      "Did not meet early stopping. Best iteration is:\n",
      "[99]\tvalid_0's auc: 0.991884\n"
     ]
    },
    {
     "name": "stderr",
     "output_type": "stream",
     "text": [
      "[I 2025-05-09 15:38:49,372] Trial 3 finished with value: 0.9918837208016963 and parameters: {'num_leaves': 56, 'learning_rate': 0.0540915041083376, 'feature_fraction': 0.71401007991365, 'bagging_fraction': 0.5119314794546541, 'min_child_samples': 7, 'max_depth': 5, 'lambda_l1': 0.0049659730564630975, 'lambda_l2': 0.00021706736563838268}. Best is trial 2 with value: 0.9936142416753494.\n"
     ]
    },
    {
     "name": "stdout",
     "output_type": "stream",
     "text": [
      "[LightGBM] [Info] Number of positive: 7698, number of negative: 1474217\n",
      "[LightGBM] [Info] Auto-choosing row-wise multi-threading, the overhead of testing was 0.003292 seconds.\n",
      "You can set `force_row_wise=true` to remove the overhead.\n",
      "And if memory is not enough, you can set `force_col_wise=true`.\n",
      "[LightGBM] [Info] Total Bins 2700\n",
      "[LightGBM] [Info] Number of data points in the train set: 1481915, number of used features: 20\n",
      "[LightGBM] [Info] [binary:BoostFromScore]: pavg=0.005195 -> initscore=-5.254922\n",
      "[LightGBM] [Info] Start training from score -5.254922\n",
      "Training until validation scores don't improve for 10 rounds\n",
      "Did not meet early stopping. Best iteration is:\n",
      "[100]\tvalid_0's auc: 0.994342\n"
     ]
    },
    {
     "name": "stderr",
     "output_type": "stream",
     "text": [
      "[I 2025-05-09 15:38:52,973] Trial 4 finished with value: 0.9943416409367164 and parameters: {'num_leaves': 60, 'learning_rate': 0.05717303896376501, 'feature_fraction': 0.5452927427150227, 'bagging_fraction': 0.7117275173764982, 'min_child_samples': 13, 'max_depth': 11, 'lambda_l1': 0.0009998925086521309, 'lambda_l2': 1.5311161665815864}. Best is trial 4 with value: 0.9943416409367164.\n"
     ]
    },
    {
     "name": "stdout",
     "output_type": "stream",
     "text": [
      "[LightGBM] [Info] Number of positive: 7698, number of negative: 1474217\n",
      "[LightGBM] [Info] Auto-choosing row-wise multi-threading, the overhead of testing was 0.004967 seconds.\n",
      "You can set `force_row_wise=true` to remove the overhead.\n",
      "And if memory is not enough, you can set `force_col_wise=true`.\n",
      "[LightGBM] [Info] Total Bins 2700\n",
      "[LightGBM] [Info] Number of data points in the train set: 1481915, number of used features: 20\n",
      "[LightGBM] [Info] [binary:BoostFromScore]: pavg=0.005195 -> initscore=-5.254922\n",
      "[LightGBM] [Info] Start training from score -5.254922\n",
      "Training until validation scores don't improve for 10 rounds\n"
     ]
    },
    {
     "name": "stderr",
     "output_type": "stream",
     "text": [
      "[I 2025-05-09 15:38:53,944] Trial 5 finished with value: 0.9869058441836953 and parameters: {'num_leaves': 33, 'learning_rate': 0.010668117273570128, 'feature_fraction': 0.7850494307521448, 'bagging_fraction': 0.5527019444211878, 'min_child_samples': 81, 'max_depth': 28, 'lambda_l1': 6.330174788695863e-05, 'lambda_l2': 4.494681592048745e-05}. Best is trial 4 with value: 0.9943416409367164.\n"
     ]
    },
    {
     "name": "stdout",
     "output_type": "stream",
     "text": [
      "Early stopping, best iteration is:\n",
      "[27]\tvalid_0's auc: 0.986906\n",
      "[LightGBM] [Info] Number of positive: 7698, number of negative: 1474217\n",
      "[LightGBM] [Info] Auto-choosing row-wise multi-threading, the overhead of testing was 0.004303 seconds.\n",
      "You can set `force_row_wise=true` to remove the overhead.\n",
      "And if memory is not enough, you can set `force_col_wise=true`.\n",
      "[LightGBM] [Info] Total Bins 2700\n",
      "[LightGBM] [Info] Number of data points in the train set: 1481915, number of used features: 20\n",
      "[LightGBM] [Info] [binary:BoostFromScore]: pavg=0.005195 -> initscore=-5.254922\n",
      "[LightGBM] [Info] Start training from score -5.254922\n",
      "Training until validation scores don't improve for 10 rounds\n"
     ]
    },
    {
     "name": "stderr",
     "output_type": "stream",
     "text": [
      "[I 2025-05-09 15:38:56,683] Trial 6 finished with value: 0.9905766017021703 and parameters: {'num_leaves': 57, 'learning_rate': 0.013468292258362895, 'feature_fraction': 0.8390575343336613, 'bagging_fraction': 0.8291121734279252, 'min_child_samples': 51, 'max_depth': 23, 'lambda_l1': 2.458392288559255, 'lambda_l2': 0.0002309017207862739}. Best is trial 4 with value: 0.9943416409367164.\n"
     ]
    },
    {
     "name": "stdout",
     "output_type": "stream",
     "text": [
      "Did not meet early stopping. Best iteration is:\n",
      "[100]\tvalid_0's auc: 0.990577\n",
      "[LightGBM] [Info] Number of positive: 7698, number of negative: 1474217\n",
      "[LightGBM] [Info] Auto-choosing row-wise multi-threading, the overhead of testing was 0.004441 seconds.\n",
      "You can set `force_row_wise=true` to remove the overhead.\n",
      "And if memory is not enough, you can set `force_col_wise=true`.\n",
      "[LightGBM] [Info] Total Bins 2700\n",
      "[LightGBM] [Info] Number of data points in the train set: 1481915, number of used features: 20\n",
      "[LightGBM] [Info] [binary:BoostFromScore]: pavg=0.005195 -> initscore=-5.254922\n",
      "[LightGBM] [Info] Start training from score -5.254922\n",
      "Training until validation scores don't improve for 10 rounds\n",
      "Did not meet early stopping. Best iteration is:\n",
      "[100]\tvalid_0's auc: 0.99206\n"
     ]
    },
    {
     "name": "stderr",
     "output_type": "stream",
     "text": [
      "[I 2025-05-09 15:38:59,810] Trial 7 finished with value: 0.9920603540867652 and parameters: {'num_leaves': 79, 'learning_rate': 0.01830211802952535, 'feature_fraction': 0.8051180743471702, 'bagging_fraction': 0.8323739151045486, 'min_child_samples': 90, 'max_depth': 22, 'lambda_l1': 8.884367892205969e-06, 'lambda_l2': 0.0006657981655135899}. Best is trial 4 with value: 0.9943416409367164.\n"
     ]
    },
    {
     "name": "stdout",
     "output_type": "stream",
     "text": [
      "[LightGBM] [Info] Number of positive: 7698, number of negative: 1474217\n",
      "[LightGBM] [Info] Auto-choosing row-wise multi-threading, the overhead of testing was 0.005550 seconds.\n",
      "You can set `force_row_wise=true` to remove the overhead.\n",
      "And if memory is not enough, you can set `force_col_wise=true`.\n",
      "[LightGBM] [Info] Total Bins 2700\n",
      "[LightGBM] [Info] Number of data points in the train set: 1481915, number of used features: 20\n",
      "[LightGBM] [Info] [binary:BoostFromScore]: pavg=0.005195 -> initscore=-5.254922\n",
      "[LightGBM] [Info] Start training from score -5.254922\n",
      "Training until validation scores don't improve for 10 rounds\n",
      "Did not meet early stopping. Best iteration is:\n",
      "[100]\tvalid_0's auc: 0.98967\n"
     ]
    },
    {
     "name": "stderr",
     "output_type": "stream",
     "text": [
      "[I 2025-05-09 15:39:03,349] Trial 8 finished with value: 0.9896695277428251 and parameters: {'num_leaves': 78, 'learning_rate': 0.07075107005065082, 'feature_fraction': 0.9070247805509085, 'bagging_fraction': 0.7971608332625003, 'min_child_samples': 83, 'max_depth': 19, 'lambda_l1': 0.00022259224569062794, 'lambda_l2': 1.1003815307255681e-07}. Best is trial 4 with value: 0.9943416409367164.\n"
     ]
    },
    {
     "name": "stdout",
     "output_type": "stream",
     "text": [
      "[LightGBM] [Info] Number of positive: 7698, number of negative: 1474217\n",
      "[LightGBM] [Info] Auto-choosing row-wise multi-threading, the overhead of testing was 0.004365 seconds.\n",
      "You can set `force_row_wise=true` to remove the overhead.\n",
      "And if memory is not enough, you can set `force_col_wise=true`.\n",
      "[LightGBM] [Info] Total Bins 2700\n",
      "[LightGBM] [Info] Number of data points in the train set: 1481915, number of used features: 20\n",
      "[LightGBM] [Info] [binary:BoostFromScore]: pavg=0.005195 -> initscore=-5.254922\n",
      "[LightGBM] [Info] Start training from score -5.254922\n",
      "Training until validation scores don't improve for 10 rounds\n"
     ]
    },
    {
     "name": "stderr",
     "output_type": "stream",
     "text": [
      "[I 2025-05-09 15:39:05,835] Trial 9 finished with value: 0.991344873857212 and parameters: {'num_leaves': 28, 'learning_rate': 0.03760531148246607, 'feature_fraction': 0.6286149356918911, 'bagging_fraction': 0.5294181720144697, 'min_child_samples': 49, 'max_depth': 5, 'lambda_l1': 2.4875212069515152e-05, 'lambda_l2': 5.326568052200489e-08}. Best is trial 4 with value: 0.9943416409367164.\n"
     ]
    },
    {
     "name": "stdout",
     "output_type": "stream",
     "text": [
      "Did not meet early stopping. Best iteration is:\n",
      "[100]\tvalid_0's auc: 0.991345\n",
      "[LightGBM] [Info] Number of positive: 7698, number of negative: 1474217\n",
      "[LightGBM] [Info] Auto-choosing row-wise multi-threading, the overhead of testing was 0.003109 seconds.\n",
      "You can set `force_row_wise=true` to remove the overhead.\n",
      "And if memory is not enough, you can set `force_col_wise=true`.\n",
      "[LightGBM] [Info] Total Bins 2700\n",
      "[LightGBM] [Info] Number of data points in the train set: 1481915, number of used features: 20\n",
      "[LightGBM] [Info] [binary:BoostFromScore]: pavg=0.005195 -> initscore=-5.254922\n",
      "[LightGBM] [Info] Start training from score -5.254922\n",
      "Training until validation scores don't improve for 10 rounds\n",
      "Did not meet early stopping. Best iteration is:\n",
      "[100]\tvalid_0's auc: 0.996024\n"
     ]
    },
    {
     "name": "stderr",
     "output_type": "stream",
     "text": [
      "[I 2025-05-09 15:39:10,577] Trial 10 finished with value: 0.9960244342750378 and parameters: {'num_leaves': 98, 'learning_rate': 0.0951508485930548, 'feature_fraction': 0.5161572564653886, 'bagging_fraction': 0.6617718893284814, 'min_child_samples': 28, 'max_depth': 16, 'lambda_l1': 0.021748341217420915, 'lambda_l2': 7.759909111883483}. Best is trial 10 with value: 0.9960244342750378.\n"
     ]
    },
    {
     "name": "stdout",
     "output_type": "stream",
     "text": [
      "[LightGBM] [Info] Number of positive: 7698, number of negative: 1474217\n",
      "[LightGBM] [Info] Auto-choosing row-wise multi-threading, the overhead of testing was 0.002956 seconds.\n",
      "You can set `force_row_wise=true` to remove the overhead.\n",
      "And if memory is not enough, you can set `force_col_wise=true`.\n",
      "[LightGBM] [Info] Total Bins 2700\n",
      "[LightGBM] [Info] Number of data points in the train set: 1481915, number of used features: 20\n",
      "[LightGBM] [Info] [binary:BoostFromScore]: pavg=0.005195 -> initscore=-5.254922\n",
      "[LightGBM] [Info] Start training from score -5.254922\n",
      "Training until validation scores don't improve for 10 rounds\n",
      "Did not meet early stopping. Best iteration is:\n",
      "[99]\tvalid_0's auc: 0.995896\n"
     ]
    },
    {
     "name": "stderr",
     "output_type": "stream",
     "text": [
      "[I 2025-05-09 15:39:15,305] Trial 11 finished with value: 0.995895966883351 and parameters: {'num_leaves': 100, 'learning_rate': 0.08343091318250098, 'feature_fraction': 0.5133298270606683, 'bagging_fraction': 0.662828449944298, 'min_child_samples': 25, 'max_depth': 15, 'lambda_l1': 0.0412876567702112, 'lambda_l2': 5.235380981130612}. Best is trial 10 with value: 0.9960244342750378.\n"
     ]
    },
    {
     "name": "stdout",
     "output_type": "stream",
     "text": [
      "[LightGBM] [Info] Number of positive: 7698, number of negative: 1474217\n",
      "[LightGBM] [Info] Auto-choosing row-wise multi-threading, the overhead of testing was 0.003011 seconds.\n",
      "You can set `force_row_wise=true` to remove the overhead.\n",
      "And if memory is not enough, you can set `force_col_wise=true`.\n",
      "[LightGBM] [Info] Total Bins 2700\n",
      "[LightGBM] [Info] Number of data points in the train set: 1481915, number of used features: 20\n",
      "[LightGBM] [Info] [binary:BoostFromScore]: pavg=0.005195 -> initscore=-5.254922\n",
      "[LightGBM] [Info] Start training from score -5.254922\n",
      "Training until validation scores don't improve for 10 rounds\n",
      "Did not meet early stopping. Best iteration is:\n",
      "[100]\tvalid_0's auc: 0.996489\n"
     ]
    },
    {
     "name": "stderr",
     "output_type": "stream",
     "text": [
      "[I 2025-05-09 15:39:20,231] Trial 12 finished with value: 0.9964889006810679 and parameters: {'num_leaves': 100, 'learning_rate': 0.09610954578698412, 'feature_fraction': 0.5047578980485751, 'bagging_fraction': 0.6661491747239299, 'min_child_samples': 31, 'max_depth': 17, 'lambda_l1': 0.13800990649514966, 'lambda_l2': 3.4512470223811507}. Best is trial 12 with value: 0.9964889006810679.\n"
     ]
    },
    {
     "name": "stdout",
     "output_type": "stream",
     "text": [
      "[LightGBM] [Info] Number of positive: 7698, number of negative: 1474217\n",
      "[LightGBM] [Info] Auto-choosing row-wise multi-threading, the overhead of testing was 0.003455 seconds.\n",
      "You can set `force_row_wise=true` to remove the overhead.\n",
      "And if memory is not enough, you can set `force_col_wise=true`.\n",
      "[LightGBM] [Info] Total Bins 2700\n",
      "[LightGBM] [Info] Number of data points in the train set: 1481915, number of used features: 20\n",
      "[LightGBM] [Info] [binary:BoostFromScore]: pavg=0.005195 -> initscore=-5.254922\n",
      "[LightGBM] [Info] Start training from score -5.254922\n",
      "Training until validation scores don't improve for 10 rounds\n",
      "Did not meet early stopping. Best iteration is:\n",
      "[98]\tvalid_0's auc: 0.995279\n"
     ]
    },
    {
     "name": "stderr",
     "output_type": "stream",
     "text": [
      "[I 2025-05-09 15:39:24,698] Trial 13 finished with value: 0.9952794367789031 and parameters: {'num_leaves': 100, 'learning_rate': 0.09454807246139613, 'feature_fraction': 0.5810425094824638, 'bagging_fraction': 0.6350073782175067, 'min_child_samples': 36, 'max_depth': 18, 'lambda_l1': 0.7247004898466299, 'lambda_l2': 0.12168068874953607}. Best is trial 12 with value: 0.9964889006810679.\n"
     ]
    },
    {
     "name": "stdout",
     "output_type": "stream",
     "text": [
      "[LightGBM] [Info] Number of positive: 7698, number of negative: 1474217\n",
      "[LightGBM] [Info] Auto-choosing row-wise multi-threading, the overhead of testing was 0.003086 seconds.\n",
      "You can set `force_row_wise=true` to remove the overhead.\n",
      "And if memory is not enough, you can set `force_col_wise=true`.\n",
      "[LightGBM] [Info] Total Bins 2700\n",
      "[LightGBM] [Info] Number of data points in the train set: 1481915, number of used features: 20\n",
      "[LightGBM] [Info] [binary:BoostFromScore]: pavg=0.005195 -> initscore=-5.254922\n",
      "[LightGBM] [Info] Start training from score -5.254922\n",
      "Training until validation scores don't improve for 10 rounds\n",
      "Did not meet early stopping. Best iteration is:\n",
      "[100]\tvalid_0's auc: 0.994497\n"
     ]
    },
    {
     "name": "stderr",
     "output_type": "stream",
     "text": [
      "[I 2025-05-09 15:39:28,723] Trial 14 finished with value: 0.9944970392130157 and parameters: {'num_leaves': 89, 'learning_rate': 0.054148496105118536, 'feature_fraction': 0.5021494912199834, 'bagging_fraction': 0.6337031955147752, 'min_child_samples': 34, 'max_depth': 22, 'lambda_l1': 0.08752334225150972, 'lambda_l2': 0.13646951858650963}. Best is trial 12 with value: 0.9964889006810679.\n"
     ]
    },
    {
     "name": "stdout",
     "output_type": "stream",
     "text": [
      "[LightGBM] [Info] Number of positive: 7698, number of negative: 1474217\n",
      "[LightGBM] [Info] Auto-choosing row-wise multi-threading, the overhead of testing was 0.003385 seconds.\n",
      "You can set `force_row_wise=true` to remove the overhead.\n",
      "And if memory is not enough, you can set `force_col_wise=true`.\n",
      "[LightGBM] [Info] Total Bins 2700\n",
      "[LightGBM] [Info] Number of data points in the train set: 1481915, number of used features: 20\n",
      "[LightGBM] [Info] [binary:BoostFromScore]: pavg=0.005195 -> initscore=-5.254922\n",
      "[LightGBM] [Info] Start training from score -5.254922\n",
      "Training until validation scores don't improve for 10 rounds\n",
      "Did not meet early stopping. Best iteration is:\n",
      "[99]\tvalid_0's auc: 0.996125\n"
     ]
    },
    {
     "name": "stderr",
     "output_type": "stream",
     "text": [
      "[I 2025-05-09 15:39:33,124] Trial 15 finished with value: 0.9961254775424669 and parameters: {'num_leaves': 90, 'learning_rate': 0.09839647604455608, 'feature_fraction': 0.6051032433373382, 'bagging_fraction': 0.7308336785970666, 'min_child_samples': 65, 'max_depth': 30, 'lambda_l1': 0.038514230109867084, 'lambda_l2': 9.7118428452051}. Best is trial 12 with value: 0.9964889006810679.\n"
     ]
    },
    {
     "name": "stdout",
     "output_type": "stream",
     "text": [
      "[LightGBM] [Info] Number of positive: 7698, number of negative: 1474217\n",
      "[LightGBM] [Info] Auto-choosing row-wise multi-threading, the overhead of testing was 0.003124 seconds.\n",
      "You can set `force_row_wise=true` to remove the overhead.\n",
      "And if memory is not enough, you can set `force_col_wise=true`.\n",
      "[LightGBM] [Info] Total Bins 2700\n",
      "[LightGBM] [Info] Number of data points in the train set: 1481915, number of used features: 20\n",
      "[LightGBM] [Info] [binary:BoostFromScore]: pavg=0.005195 -> initscore=-5.254922\n",
      "[LightGBM] [Info] Start training from score -5.254922\n",
      "Training until validation scores don't improve for 10 rounds\n",
      "Did not meet early stopping. Best iteration is:\n",
      "[100]\tvalid_0's auc: 0.993489\n"
     ]
    },
    {
     "name": "stderr",
     "output_type": "stream",
     "text": [
      "[I 2025-05-09 15:39:37,072] Trial 16 finished with value: 0.9934894409299244 and parameters: {'num_leaves': 88, 'learning_rate': 0.029001495335877606, 'feature_fraction': 0.609389665117498, 'bagging_fraction': 0.7466592218164004, 'min_child_samples': 66, 'max_depth': 30, 'lambda_l1': 0.318438885829461, 'lambda_l2': 0.3480999382413178}. Best is trial 12 with value: 0.9964889006810679.\n"
     ]
    },
    {
     "name": "stdout",
     "output_type": "stream",
     "text": [
      "[LightGBM] [Info] Number of positive: 7698, number of negative: 1474217\n",
      "[LightGBM] [Info] Auto-choosing row-wise multi-threading, the overhead of testing was 0.004213 seconds.\n",
      "You can set `force_row_wise=true` to remove the overhead.\n",
      "And if memory is not enough, you can set `force_col_wise=true`.\n",
      "[LightGBM] [Info] Total Bins 2700\n",
      "[LightGBM] [Info] Number of data points in the train set: 1481915, number of used features: 20\n",
      "[LightGBM] [Info] [binary:BoostFromScore]: pavg=0.005195 -> initscore=-5.254922\n",
      "[LightGBM] [Info] Start training from score -5.254922\n",
      "Training until validation scores don't improve for 10 rounds\n",
      "Did not meet early stopping. Best iteration is:\n",
      "[100]\tvalid_0's auc: 0.993712\n"
     ]
    },
    {
     "name": "stderr",
     "output_type": "stream",
     "text": [
      "[I 2025-05-09 15:39:40,667] Trial 17 finished with value: 0.9937123282837237 and parameters: {'num_leaves': 70, 'learning_rate': 0.06752013358758772, 'feature_fraction': 0.6651582647681809, 'bagging_fraction': 0.7234879099986297, 'min_child_samples': 66, 'max_depth': 25, 'lambda_l1': 8.885510822275263, 'lambda_l2': 0.009492430332670426}. Best is trial 12 with value: 0.9964889006810679.\n"
     ]
    },
    {
     "name": "stdout",
     "output_type": "stream",
     "text": [
      "[LightGBM] [Info] Number of positive: 7698, number of negative: 1474217\n",
      "[LightGBM] [Info] Auto-choosing row-wise multi-threading, the overhead of testing was 0.003084 seconds.\n",
      "You can set `force_row_wise=true` to remove the overhead.\n",
      "And if memory is not enough, you can set `force_col_wise=true`.\n",
      "[LightGBM] [Info] Total Bins 2700\n",
      "[LightGBM] [Info] Number of data points in the train set: 1481915, number of used features: 20\n",
      "[LightGBM] [Info] [binary:BoostFromScore]: pavg=0.005195 -> initscore=-5.254922\n",
      "[LightGBM] [Info] Start training from score -5.254922\n",
      "Training until validation scores don't improve for 10 rounds\n",
      "Did not meet early stopping. Best iteration is:\n",
      "[100]\tvalid_0's auc: 0.992631\n"
     ]
    },
    {
     "name": "stderr",
     "output_type": "stream",
     "text": [
      "[I 2025-05-09 15:39:43,540] Trial 18 finished with value: 0.9926309858107903 and parameters: {'num_leaves': 41, 'learning_rate': 0.04053150896694359, 'feature_fraction': 0.5647528394931791, 'bagging_fraction': 0.5944389444140367, 'min_child_samples': 40, 'max_depth': 27, 'lambda_l1': 0.003703142168081887, 'lambda_l2': 0.010027720407806926}. Best is trial 12 with value: 0.9964889006810679.\n"
     ]
    },
    {
     "name": "stdout",
     "output_type": "stream",
     "text": [
      "[LightGBM] [Info] Number of positive: 7698, number of negative: 1474217\n",
      "[LightGBM] [Info] Auto-choosing row-wise multi-threading, the overhead of testing was 0.005579 seconds.\n",
      "You can set `force_row_wise=true` to remove the overhead.\n",
      "And if memory is not enough, you can set `force_col_wise=true`.\n",
      "[LightGBM] [Info] Total Bins 2700\n",
      "[LightGBM] [Info] Number of data points in the train set: 1481915, number of used features: 20\n",
      "[LightGBM] [Info] [binary:BoostFromScore]: pavg=0.005195 -> initscore=-5.254922\n",
      "[LightGBM] [Info] Start training from score -5.254922\n",
      "Training until validation scores don't improve for 10 rounds\n"
     ]
    },
    {
     "name": "stderr",
     "output_type": "stream",
     "text": [
      "[I 2025-05-09 15:39:46,406] Trial 19 finished with value: 0.9910949840643164 and parameters: {'num_leaves': 68, 'learning_rate': 0.02612838614643238, 'feature_fraction': 0.9844675576223657, 'bagging_fraction': 0.7796215411132316, 'min_child_samples': 59, 'max_depth': 20, 'lambda_l1': 1.8864688593160603e-06, 'lambda_l2': 0.8644149338456493}. Best is trial 12 with value: 0.9964889006810679.\n"
     ]
    },
    {
     "name": "stdout",
     "output_type": "stream",
     "text": [
      "Did not meet early stopping. Best iteration is:\n",
      "[100]\tvalid_0's auc: 0.991095\n",
      "[LightGBM] [Info] Number of positive: 7698, number of negative: 1474217\n",
      "[LightGBM] [Info] Auto-choosing row-wise multi-threading, the overhead of testing was 0.004057 seconds.\n",
      "You can set `force_row_wise=true` to remove the overhead.\n",
      "And if memory is not enough, you can set `force_col_wise=true`.\n",
      "[LightGBM] [Info] Total Bins 2700\n",
      "[LightGBM] [Info] Number of data points in the train set: 1481915, number of used features: 20\n",
      "[LightGBM] [Info] [binary:BoostFromScore]: pavg=0.005195 -> initscore=-5.254922\n",
      "[LightGBM] [Info] Start training from score -5.254922\n",
      "Training until validation scores don't improve for 10 rounds\n",
      "[LightGBM] [Warning] No further splits with positive gain, best gain: -inf\n",
      "[LightGBM] [Warning] No further splits with positive gain, best gain: -inf\n",
      "[LightGBM] [Warning] No further splits with positive gain, best gain: -inf\n",
      "Did not meet early stopping. Best iteration is:\n",
      "[100]\tvalid_0's auc: 0.994991\n"
     ]
    },
    {
     "name": "stderr",
     "output_type": "stream",
     "text": [
      "[I 2025-05-09 15:39:50,368] Trial 20 finished with value: 0.9949906178733557 and parameters: {'num_leaves': 90, 'learning_rate': 0.07278878081109957, 'feature_fraction': 0.7267823928576482, 'bagging_fraction': 0.7002206144580332, 'min_child_samples': 74, 'max_depth': 8, 'lambda_l1': 0.2450549784612127, 'lambda_l2': 0.04110484442871089}. Best is trial 12 with value: 0.9964889006810679.\n"
     ]
    },
    {
     "name": "stdout",
     "output_type": "stream",
     "text": [
      "[LightGBM] [Info] Number of positive: 7698, number of negative: 1474217\n",
      "[LightGBM] [Info] Auto-choosing row-wise multi-threading, the overhead of testing was 0.003648 seconds.\n",
      "You can set `force_row_wise=true` to remove the overhead.\n",
      "And if memory is not enough, you can set `force_col_wise=true`.\n",
      "[LightGBM] [Info] Total Bins 2700\n",
      "[LightGBM] [Info] Number of data points in the train set: 1481915, number of used features: 20\n",
      "[LightGBM] [Info] [binary:BoostFromScore]: pavg=0.005195 -> initscore=-5.254922\n",
      "[LightGBM] [Info] Start training from score -5.254922\n",
      "Training until validation scores don't improve for 10 rounds\n",
      "Did not meet early stopping. Best iteration is:\n",
      "[100]\tvalid_0's auc: 0.996033\n"
     ]
    },
    {
     "name": "stderr",
     "output_type": "stream",
     "text": [
      "[I 2025-05-09 15:39:55,108] Trial 21 finished with value: 0.9960329054922635 and parameters: {'num_leaves': 94, 'learning_rate': 0.09899133791927907, 'feature_fraction': 0.5410760140100974, 'bagging_fraction': 0.6705974644591316, 'min_child_samples': 45, 'max_depth': 16, 'lambda_l1': 0.017158374330470984, 'lambda_l2': 9.106516086444701}. Best is trial 12 with value: 0.9964889006810679.\n"
     ]
    },
    {
     "name": "stdout",
     "output_type": "stream",
     "text": [
      "[LightGBM] [Info] Number of positive: 7698, number of negative: 1474217\n",
      "[LightGBM] [Info] Auto-choosing row-wise multi-threading, the overhead of testing was 0.003176 seconds.\n",
      "You can set `force_row_wise=true` to remove the overhead.\n",
      "And if memory is not enough, you can set `force_col_wise=true`.\n",
      "[LightGBM] [Info] Total Bins 2700\n",
      "[LightGBM] [Info] Number of data points in the train set: 1481915, number of used features: 20\n",
      "[LightGBM] [Info] [binary:BoostFromScore]: pavg=0.005195 -> initscore=-5.254922\n",
      "[LightGBM] [Info] Start training from score -5.254922\n",
      "Training until validation scores don't improve for 10 rounds\n",
      "Did not meet early stopping. Best iteration is:\n",
      "[99]\tvalid_0's auc: 0.996149\n"
     ]
    },
    {
     "name": "stderr",
     "output_type": "stream",
     "text": [
      "[I 2025-05-09 15:39:59,637] Trial 22 finished with value: 0.9961490849644581 and parameters: {'num_leaves': 92, 'learning_rate': 0.09931303279688562, 'feature_fraction': 0.6073182077138787, 'bagging_fraction': 0.5992403387538501, 'min_child_samples': 46, 'max_depth': 15, 'lambda_l1': 0.008428964873438097, 'lambda_l2': 8.266522949336931}. Best is trial 12 with value: 0.9964889006810679.\n"
     ]
    },
    {
     "name": "stdout",
     "output_type": "stream",
     "text": [
      "[LightGBM] [Info] Number of positive: 7698, number of negative: 1474217\n",
      "[LightGBM] [Info] Auto-choosing row-wise multi-threading, the overhead of testing was 0.003110 seconds.\n",
      "You can set `force_row_wise=true` to remove the overhead.\n",
      "And if memory is not enough, you can set `force_col_wise=true`.\n",
      "[LightGBM] [Info] Total Bins 2700\n",
      "[LightGBM] [Info] Number of data points in the train set: 1481915, number of used features: 20\n",
      "[LightGBM] [Info] [binary:BoostFromScore]: pavg=0.005195 -> initscore=-5.254922\n",
      "[LightGBM] [Info] Start training from score -5.254922\n",
      "Training until validation scores don't improve for 10 rounds\n",
      "Did not meet early stopping. Best iteration is:\n",
      "[100]\tvalid_0's auc: 0.995773\n"
     ]
    },
    {
     "name": "stderr",
     "output_type": "stream",
     "text": [
      "[I 2025-05-09 15:40:03,702] Trial 23 finished with value: 0.9957732835948807 and parameters: {'num_leaves': 86, 'learning_rate': 0.0785198462789757, 'feature_fraction': 0.6199792227092996, 'bagging_fraction': 0.5978941226485592, 'min_child_samples': 55, 'max_depth': 14, 'lambda_l1': 0.0019429124024607748, 'lambda_l2': 1.3157772085112023}. Best is trial 12 with value: 0.9964889006810679.\n"
     ]
    },
    {
     "name": "stdout",
     "output_type": "stream",
     "text": [
      "[LightGBM] [Info] Number of positive: 7698, number of negative: 1474217\n",
      "[LightGBM] [Info] Auto-choosing row-wise multi-threading, the overhead of testing was 0.004024 seconds.\n",
      "You can set `force_row_wise=true` to remove the overhead.\n",
      "And if memory is not enough, you can set `force_col_wise=true`.\n",
      "[LightGBM] [Info] Total Bins 2700\n",
      "[LightGBM] [Info] Number of data points in the train set: 1481915, number of used features: 20\n",
      "[LightGBM] [Info] [binary:BoostFromScore]: pavg=0.005195 -> initscore=-5.254922\n",
      "[LightGBM] [Info] Start training from score -5.254922\n",
      "Training until validation scores don't improve for 10 rounds\n",
      "Did not meet early stopping. Best iteration is:\n",
      "[100]\tvalid_0's auc: 0.993645\n"
     ]
    },
    {
     "name": "stderr",
     "output_type": "stream",
     "text": [
      "[I 2025-05-09 15:40:07,238] Trial 24 finished with value: 0.993644833648594 and parameters: {'num_leaves': 71, 'learning_rate': 0.04897442958758681, 'feature_fraction': 0.6726413976981291, 'bagging_fraction': 0.5869770834006196, 'min_child_samples': 17, 'max_depth': 20, 'lambda_l1': 2.4116826001942044, 'lambda_l2': 2.3529580266024746}. Best is trial 12 with value: 0.9964889006810679.\n"
     ]
    },
    {
     "name": "stdout",
     "output_type": "stream",
     "text": [
      "[LightGBM] [Info] Number of positive: 7698, number of negative: 1474217\n",
      "[LightGBM] [Info] Auto-choosing row-wise multi-threading, the overhead of testing was 0.003193 seconds.\n",
      "You can set `force_row_wise=true` to remove the overhead.\n",
      "And if memory is not enough, you can set `force_col_wise=true`.\n",
      "[LightGBM] [Info] Total Bins 2700\n",
      "[LightGBM] [Info] Number of data points in the train set: 1481915, number of used features: 20\n",
      "[LightGBM] [Info] [binary:BoostFromScore]: pavg=0.005195 -> initscore=-5.254922\n",
      "[LightGBM] [Info] Start training from score -5.254922\n",
      "Training until validation scores don't improve for 10 rounds\n",
      "Did not meet early stopping. Best iteration is:\n",
      "[99]\tvalid_0's auc: 0.995268\n"
     ]
    },
    {
     "name": "stderr",
     "output_type": "stream",
     "text": [
      "[I 2025-05-09 15:40:11,341] Trial 25 finished with value: 0.9952680686471432 and parameters: {'num_leaves': 93, 'learning_rate': 0.06379204700293219, 'feature_fraction': 0.5886723741334576, 'bagging_fraction': 0.7740870394609105, 'min_child_samples': 43, 'max_depth': 17, 'lambda_l1': 0.013273500984581842, 'lambda_l2': 0.359054851253346}. Best is trial 12 with value: 0.9964889006810679.\n"
     ]
    },
    {
     "name": "stdout",
     "output_type": "stream",
     "text": [
      "[LightGBM] [Info] Number of positive: 7698, number of negative: 1474217\n",
      "[LightGBM] [Info] Auto-choosing row-wise multi-threading, the overhead of testing was 0.003138 seconds.\n",
      "You can set `force_row_wise=true` to remove the overhead.\n",
      "And if memory is not enough, you can set `force_col_wise=true`.\n",
      "[LightGBM] [Info] Total Bins 2700\n",
      "[LightGBM] [Info] Number of data points in the train set: 1481915, number of used features: 20\n",
      "[LightGBM] [Info] [binary:BoostFromScore]: pavg=0.005195 -> initscore=-5.254922\n",
      "[LightGBM] [Info] Start training from score -5.254922\n",
      "Training until validation scores don't improve for 10 rounds\n",
      "Did not meet early stopping. Best iteration is:\n",
      "[100]\tvalid_0's auc: 0.994859\n"
     ]
    },
    {
     "name": "stderr",
     "output_type": "stream",
     "text": [
      "[I 2025-05-09 15:40:15,268] Trial 26 finished with value: 0.994859430021881 and parameters: {'num_leaves': 83, 'learning_rate': 0.08599382941325384, 'feature_fraction': 0.5569231929294132, 'bagging_fraction': 0.5613885693923684, 'min_child_samples': 73, 'max_depth': 24, 'lambda_l1': 0.1437840040390628, 'lambda_l2': 0.04880973681526888}. Best is trial 12 with value: 0.9964889006810679.\n"
     ]
    },
    {
     "name": "stdout",
     "output_type": "stream",
     "text": [
      "[LightGBM] [Info] Number of positive: 7698, number of negative: 1474217\n",
      "[LightGBM] [Info] Auto-choosing row-wise multi-threading, the overhead of testing was 0.003821 seconds.\n",
      "You can set `force_row_wise=true` to remove the overhead.\n",
      "And if memory is not enough, you can set `force_col_wise=true`.\n",
      "[LightGBM] [Info] Total Bins 2700\n",
      "[LightGBM] [Info] Number of data points in the train set: 1481915, number of used features: 20\n",
      "[LightGBM] [Info] [binary:BoostFromScore]: pavg=0.005195 -> initscore=-5.254922\n",
      "[LightGBM] [Info] Start training from score -5.254922\n",
      "Training until validation scores don't improve for 10 rounds\n",
      "Did not meet early stopping. Best iteration is:\n",
      "[100]\tvalid_0's auc: 0.993763\n"
     ]
    },
    {
     "name": "stderr",
     "output_type": "stream",
     "text": [
      "[I 2025-05-09 15:40:18,610] Trial 27 finished with value: 0.9937631889328561 and parameters: {'num_leaves': 74, 'learning_rate': 0.04476841537108308, 'feature_fraction': 0.6342544972383154, 'bagging_fraction': 0.6253949846429759, 'min_child_samples': 33, 'max_depth': 12, 'lambda_l1': 0.0005154376026164032, 'lambda_l2': 0.0021278754638077266}. Best is trial 12 with value: 0.9964889006810679.\n"
     ]
    },
    {
     "name": "stdout",
     "output_type": "stream",
     "text": [
      "[LightGBM] [Info] Number of positive: 7698, number of negative: 1474217\n",
      "[LightGBM] [Info] Auto-choosing row-wise multi-threading, the overhead of testing was 0.004134 seconds.\n",
      "You can set `force_row_wise=true` to remove the overhead.\n",
      "And if memory is not enough, you can set `force_col_wise=true`.\n",
      "[LightGBM] [Info] Total Bins 2700\n",
      "[LightGBM] [Info] Number of data points in the train set: 1481915, number of used features: 20\n",
      "[LightGBM] [Info] [binary:BoostFromScore]: pavg=0.005195 -> initscore=-5.254922\n",
      "[LightGBM] [Info] Start training from score -5.254922\n",
      "[LightGBM] [Warning] No further splits with positive gain, best gain: -inf\n",
      "Training until validation scores don't improve for 10 rounds\n",
      "[LightGBM] [Warning] No further splits with positive gain, best gain: -inf\n",
      "[LightGBM] [Warning] No further splits with positive gain, best gain: -inf\n",
      "[LightGBM] [Warning] No further splits with positive gain, best gain: -inf\n",
      "Did not meet early stopping. Best iteration is:\n",
      "[100]\tvalid_0's auc: 0.995012\n"
     ]
    },
    {
     "name": "stderr",
     "output_type": "stream",
     "text": [
      "[I 2025-05-09 15:40:22,531] Trial 28 finished with value: 0.9950122037075064 and parameters: {'num_leaves': 95, 'learning_rate': 0.08331804397818461, 'feature_fraction': 0.7086038102584417, 'bagging_fraction': 0.682705710836011, 'min_child_samples': 49, 'max_depth': 8, 'lambda_l1': 0.8442557519637213, 'lambda_l2': 9.87403331720195}. Best is trial 12 with value: 0.9964889006810679.\n"
     ]
    },
    {
     "name": "stdout",
     "output_type": "stream",
     "text": [
      "[LightGBM] [Info] Number of positive: 7698, number of negative: 1474217\n",
      "[LightGBM] [Info] Auto-choosing row-wise multi-threading, the overhead of testing was 0.005453 seconds.\n",
      "You can set `force_row_wise=true` to remove the overhead.\n",
      "And if memory is not enough, you can set `force_col_wise=true`.\n",
      "[LightGBM] [Info] Total Bins 2700\n",
      "[LightGBM] [Info] Number of data points in the train set: 1481915, number of used features: 20\n",
      "[LightGBM] [Info] [binary:BoostFromScore]: pavg=0.005195 -> initscore=-5.254922\n",
      "[LightGBM] [Info] Start training from score -5.254922\n",
      "Training until validation scores don't improve for 10 rounds\n",
      "Did not meet early stopping. Best iteration is:\n",
      "[99]\tvalid_0's auc: 0.978001\n"
     ]
    },
    {
     "name": "stderr",
     "output_type": "stream",
     "text": [
      "[I 2025-05-09 15:40:24,797] Trial 29 finished with value: 0.9780007497464908 and parameters: {'num_leaves': 20, 'learning_rate': 0.06907947620050386, 'feature_fraction': 0.751512102158632, 'bagging_fraction': 0.9983707647560612, 'min_child_samples': 16, 'max_depth': 14, 'lambda_l1': 3.1826705096329324e-07, 'lambda_l2': 7.634859075583655e-06}. Best is trial 12 with value: 0.9964889006810679.\n"
     ]
    },
    {
     "name": "stdout",
     "output_type": "stream",
     "text": [
      "[LightGBM] [Info] Number of positive: 7698, number of negative: 1474217\n",
      "[LightGBM] [Info] Auto-choosing row-wise multi-threading, the overhead of testing was 0.003296 seconds.\n",
      "You can set `force_row_wise=true` to remove the overhead.\n",
      "And if memory is not enough, you can set `force_col_wise=true`.\n",
      "[LightGBM] [Info] Total Bins 2700\n",
      "[LightGBM] [Info] Number of data points in the train set: 1481915, number of used features: 20\n",
      "[LightGBM] [Info] [binary:BoostFromScore]: pavg=0.005195 -> initscore=-5.254922\n",
      "[LightGBM] [Info] Start training from score -5.254922\n",
      "Training until validation scores don't improve for 10 rounds\n",
      "Did not meet early stopping. Best iteration is:\n",
      "[100]\tvalid_0's auc: 0.994484\n"
     ]
    },
    {
     "name": "stderr",
     "output_type": "stream",
     "text": [
      "[I 2025-05-09 15:40:28,213] Trial 30 finished with value: 0.9944837384154924 and parameters: {'num_leaves': 65, 'learning_rate': 0.06159871237179514, 'feature_fraction': 0.5995913419209806, 'bagging_fraction': 0.9096616257305665, 'min_child_samples': 27, 'max_depth': 9, 'lambda_l1': 0.006492800457258045, 'lambda_l2': 0.43986446525745587}. Best is trial 12 with value: 0.9964889006810679.\n"
     ]
    },
    {
     "name": "stdout",
     "output_type": "stream",
     "text": [
      "[LightGBM] [Info] Number of positive: 7698, number of negative: 1474217\n",
      "[LightGBM] [Info] Auto-choosing row-wise multi-threading, the overhead of testing was 0.003124 seconds.\n",
      "You can set `force_row_wise=true` to remove the overhead.\n",
      "And if memory is not enough, you can set `force_col_wise=true`.\n",
      "[LightGBM] [Info] Total Bins 2700\n",
      "[LightGBM] [Info] Number of data points in the train set: 1481915, number of used features: 20\n",
      "[LightGBM] [Info] [binary:BoostFromScore]: pavg=0.005195 -> initscore=-5.254922\n",
      "[LightGBM] [Info] Start training from score -5.254922\n",
      "Training until validation scores don't improve for 10 rounds\n",
      "Did not meet early stopping. Best iteration is:\n",
      "[100]\tvalid_0's auc: 0.996178\n"
     ]
    },
    {
     "name": "stderr",
     "output_type": "stream",
     "text": [
      "[I 2025-05-09 15:40:32,778] Trial 31 finished with value: 0.9961778026270522 and parameters: {'num_leaves': 93, 'learning_rate': 0.09862012602358661, 'feature_fraction': 0.5346736187128103, 'bagging_fraction': 0.6774683669117891, 'min_child_samples': 43, 'max_depth': 17, 'lambda_l1': 0.04142294508758082, 'lambda_l2': 2.9669844976849915}. Best is trial 12 with value: 0.9964889006810679.\n"
     ]
    },
    {
     "name": "stdout",
     "output_type": "stream",
     "text": [
      "[LightGBM] [Info] Number of positive: 7698, number of negative: 1474217\n",
      "[LightGBM] [Info] Auto-choosing row-wise multi-threading, the overhead of testing was 0.003895 seconds.\n",
      "You can set `force_row_wise=true` to remove the overhead.\n",
      "And if memory is not enough, you can set `force_col_wise=true`.\n",
      "[LightGBM] [Info] Total Bins 2700\n",
      "[LightGBM] [Info] Number of data points in the train set: 1481915, number of used features: 20\n",
      "[LightGBM] [Info] [binary:BoostFromScore]: pavg=0.005195 -> initscore=-5.254922\n",
      "[LightGBM] [Info] Start training from score -5.254922\n",
      "Training until validation scores don't improve for 10 rounds\n",
      "Did not meet early stopping. Best iteration is:\n",
      "[100]\tvalid_0's auc: 0.995877\n"
     ]
    },
    {
     "name": "stderr",
     "output_type": "stream",
     "text": [
      "[I 2025-05-09 15:40:37,489] Trial 32 finished with value: 0.9958771140136555 and parameters: {'num_leaves': 93, 'learning_rate': 0.09955139468241003, 'feature_fraction': 0.53628584948677, 'bagging_fraction': 0.7299705290534896, 'min_child_samples': 58, 'max_depth': 18, 'lambda_l1': 0.0513992949110262, 'lambda_l2': 1.9582360974880335}. Best is trial 12 with value: 0.9964889006810679.\n"
     ]
    },
    {
     "name": "stdout",
     "output_type": "stream",
     "text": [
      "[LightGBM] [Info] Number of positive: 7698, number of negative: 1474217\n",
      "[LightGBM] [Info] Auto-choosing col-wise multi-threading, the overhead of testing was 0.021302 seconds.\n",
      "You can set `force_col_wise=true` to remove the overhead.\n",
      "[LightGBM] [Info] Total Bins 2700\n",
      "[LightGBM] [Info] Number of data points in the train set: 1481915, number of used features: 20\n",
      "[LightGBM] [Info] [binary:BoostFromScore]: pavg=0.005195 -> initscore=-5.254922\n",
      "[LightGBM] [Info] Start training from score -5.254922\n",
      "Training until validation scores don't improve for 10 rounds\n",
      "Did not meet early stopping. Best iteration is:\n",
      "[100]\tvalid_0's auc: 0.995875\n"
     ]
    },
    {
     "name": "stderr",
     "output_type": "stream",
     "text": [
      "[I 2025-05-09 15:40:42,418] Trial 33 finished with value: 0.9958751771796696 and parameters: {'num_leaves': 84, 'learning_rate': 0.08279217588011793, 'feature_fraction': 0.6535336541692368, 'bagging_fraction': 0.6268125382751945, 'min_child_samples': 42, 'max_depth': 20, 'lambda_l1': 0.06546962801317714, 'lambda_l2': 2.9119326041153415}. Best is trial 12 with value: 0.9964889006810679.\n"
     ]
    },
    {
     "name": "stdout",
     "output_type": "stream",
     "text": [
      "[LightGBM] [Info] Number of positive: 7698, number of negative: 1474217\n",
      "[LightGBM] [Info] Auto-choosing row-wise multi-threading, the overhead of testing was 0.003250 seconds.\n",
      "You can set `force_row_wise=true` to remove the overhead.\n",
      "And if memory is not enough, you can set `force_col_wise=true`.\n",
      "[LightGBM] [Info] Total Bins 2700\n",
      "[LightGBM] [Info] Number of data points in the train set: 1481915, number of used features: 20\n",
      "[LightGBM] [Info] [binary:BoostFromScore]: pavg=0.005195 -> initscore=-5.254922\n",
      "[LightGBM] [Info] Start training from score -5.254922\n",
      "Training until validation scores don't improve for 10 rounds\n",
      "Did not meet early stopping. Best iteration is:\n",
      "[100]\tvalid_0's auc: 0.993667\n"
     ]
    },
    {
     "name": "stderr",
     "output_type": "stream",
     "text": [
      "[I 2025-05-09 15:40:46,113] Trial 34 finished with value: 0.9936670891771359 and parameters: {'num_leaves': 76, 'learning_rate': 0.07717304282646911, 'feature_fraction': 0.5756314568965835, 'bagging_fraction': 0.6932644322727781, 'min_child_samples': 64, 'max_depth': 16, 'lambda_l1': 0.0013782536611463736, 'lambda_l2': 1.169957932861665e-08}. Best is trial 12 with value: 0.9964889006810679.\n"
     ]
    },
    {
     "name": "stdout",
     "output_type": "stream",
     "text": [
      "[LightGBM] [Info] Number of positive: 7698, number of negative: 1474217\n",
      "[LightGBM] [Info] Auto-choosing row-wise multi-threading, the overhead of testing was 0.003039 seconds.\n",
      "You can set `force_row_wise=true` to remove the overhead.\n",
      "And if memory is not enough, you can set `force_col_wise=true`.\n",
      "[LightGBM] [Info] Total Bins 2700\n",
      "[LightGBM] [Info] Number of data points in the train set: 1481915, number of used features: 20\n",
      "[LightGBM] [Info] [binary:BoostFromScore]: pavg=0.005195 -> initscore=-5.254922\n",
      "[LightGBM] [Info] Start training from score -5.254922\n",
      "Training until validation scores don't improve for 10 rounds\n",
      "Did not meet early stopping. Best iteration is:\n",
      "[99]\tvalid_0's auc: 0.994346\n"
     ]
    },
    {
     "name": "stderr",
     "output_type": "stream",
     "text": [
      "[I 2025-05-09 15:40:49,392] Trial 35 finished with value: 0.9943464010466416 and parameters: {'num_leaves': 49, 'learning_rate': 0.08855324791632874, 'feature_fraction': 0.5005638676475253, 'bagging_fraction': 0.7565253530050874, 'min_child_samples': 32, 'max_depth': 12, 'lambda_l1': 0.010084043346620079, 'lambda_l2': 0.1141435066785863}. Best is trial 12 with value: 0.9964889006810679.\n"
     ]
    },
    {
     "name": "stdout",
     "output_type": "stream",
     "text": [
      "[LightGBM] [Info] Number of positive: 7698, number of negative: 1474217\n",
      "[LightGBM] [Info] Auto-choosing row-wise multi-threading, the overhead of testing was 0.003302 seconds.\n",
      "You can set `force_row_wise=true` to remove the overhead.\n",
      "And if memory is not enough, you can set `force_col_wise=true`.\n",
      "[LightGBM] [Info] Total Bins 2700\n",
      "[LightGBM] [Info] Number of data points in the train set: 1481915, number of used features: 20\n",
      "[LightGBM] [Info] [binary:BoostFromScore]: pavg=0.005195 -> initscore=-5.254922\n",
      "[LightGBM] [Info] Start training from score -5.254922\n",
      "Training until validation scores don't improve for 10 rounds\n",
      "Did not meet early stopping. Best iteration is:\n",
      "[100]\tvalid_0's auc: 0.995171\n"
     ]
    },
    {
     "name": "stderr",
     "output_type": "stream",
     "text": [
      "[I 2025-05-09 15:40:53,628] Trial 36 finished with value: 0.9951710546613204 and parameters: {'num_leaves': 95, 'learning_rate': 0.06051969337078964, 'feature_fraction': 0.541210620955986, 'bagging_fraction': 0.6555982444515767, 'min_child_samples': 73, 'max_depth': 14, 'lambda_l1': 0.54485931289462, 'lambda_l2': 0.5127753667543594}. Best is trial 12 with value: 0.9964889006810679.\n"
     ]
    },
    {
     "name": "stdout",
     "output_type": "stream",
     "text": [
      "[LightGBM] [Info] Number of positive: 7698, number of negative: 1474217\n",
      "[LightGBM] [Info] Auto-choosing row-wise multi-threading, the overhead of testing was 0.004984 seconds.\n",
      "You can set `force_row_wise=true` to remove the overhead.\n",
      "And if memory is not enough, you can set `force_col_wise=true`.\n",
      "[LightGBM] [Info] Total Bins 2700\n",
      "[LightGBM] [Info] Number of data points in the train set: 1481915, number of used features: 20\n",
      "[LightGBM] [Info] [binary:BoostFromScore]: pavg=0.005195 -> initscore=-5.254922\n",
      "[LightGBM] [Info] Start training from score -5.254922\n",
      "Training until validation scores don't improve for 10 rounds\n",
      "Did not meet early stopping. Best iteration is:\n",
      "[100]\tvalid_0's auc: 0.992655\n"
     ]
    },
    {
     "name": "stderr",
     "output_type": "stream",
     "text": [
      "[I 2025-05-09 15:40:57,231] Trial 37 finished with value: 0.9926554727276977 and parameters: {'num_leaves': 86, 'learning_rate': 0.021608359801857137, 'feature_fraction': 0.7027342323758805, 'bagging_fraction': 0.7144755806923602, 'min_child_samples': 22, 'max_depth': 26, 'lambda_l1': 1.1883489631068017e-08, 'lambda_l2': 0.02404797662024925}. Best is trial 12 with value: 0.9964889006810679.\n"
     ]
    },
    {
     "name": "stdout",
     "output_type": "stream",
     "text": [
      "[LightGBM] [Info] Number of positive: 7698, number of negative: 1474217\n",
      "[LightGBM] [Info] Auto-choosing row-wise multi-threading, the overhead of testing was 0.004094 seconds.\n",
      "You can set `force_row_wise=true` to remove the overhead.\n",
      "And if memory is not enough, you can set `force_col_wise=true`.\n",
      "[LightGBM] [Info] Total Bins 2700\n",
      "[LightGBM] [Info] Number of data points in the train set: 1481915, number of used features: 20\n",
      "[LightGBM] [Info] [binary:BoostFromScore]: pavg=0.005195 -> initscore=-5.254922\n",
      "[LightGBM] [Info] Start training from score -5.254922\n",
      "Training until validation scores don't improve for 10 rounds\n",
      "Did not meet early stopping. Best iteration is:\n",
      "[100]\tvalid_0's auc: 0.993907\n"
     ]
    },
    {
     "name": "stderr",
     "output_type": "stream",
     "text": [
      "[I 2025-05-09 15:41:01,035] Trial 38 finished with value: 0.9939065132584108 and parameters: {'num_leaves': 82, 'learning_rate': 0.04893604063999824, 'feature_fraction': 0.636816767801988, 'bagging_fraction': 0.8080006468034421, 'min_child_samples': 55, 'max_depth': 30, 'lambda_l1': 2.3292811198685817, 'lambda_l2': 2.7862979553616873}. Best is trial 12 with value: 0.9964889006810679.\n"
     ]
    },
    {
     "name": "stdout",
     "output_type": "stream",
     "text": [
      "[LightGBM] [Info] Number of positive: 7698, number of negative: 1474217\n",
      "[LightGBM] [Info] Auto-choosing row-wise multi-threading, the overhead of testing was 0.004075 seconds.\n",
      "You can set `force_row_wise=true` to remove the overhead.\n",
      "And if memory is not enough, you can set `force_col_wise=true`.\n",
      "[LightGBM] [Info] Total Bins 2700\n",
      "[LightGBM] [Info] Number of data points in the train set: 1481915, number of used features: 20\n",
      "[LightGBM] [Info] [binary:BoostFromScore]: pavg=0.005195 -> initscore=-5.254922\n",
      "[LightGBM] [Info] Start training from score -5.254922\n",
      "Training until validation scores don't improve for 10 rounds\n"
     ]
    },
    {
     "name": "stderr",
     "output_type": "stream",
     "text": [
      "[I 2025-05-09 15:41:01,819] Trial 39 finished with value: 0.9681227303838253 and parameters: {'num_leaves': 98, 'learning_rate': 0.07548970110652839, 'feature_fraction': 0.857896703558727, 'bagging_fraction': 0.8596250795856012, 'min_child_samples': 7, 'max_depth': 22, 'lambda_l1': 0.00039471781859971915, 'lambda_l2': 0.0018899871336691598}. Best is trial 12 with value: 0.9964889006810679.\n"
     ]
    },
    {
     "name": "stdout",
     "output_type": "stream",
     "text": [
      "Early stopping, best iteration is:\n",
      "[6]\tvalid_0's auc: 0.968123\n",
      "[LightGBM] [Info] Number of positive: 7698, number of negative: 1474217\n",
      "[LightGBM] [Info] Auto-choosing row-wise multi-threading, the overhead of testing was 0.003184 seconds.\n",
      "You can set `force_row_wise=true` to remove the overhead.\n",
      "And if memory is not enough, you can set `force_col_wise=true`.\n",
      "[LightGBM] [Info] Total Bins 2700\n",
      "[LightGBM] [Info] Number of data points in the train set: 1481915, number of used features: 20\n",
      "[LightGBM] [Info] [binary:BoostFromScore]: pavg=0.005195 -> initscore=-5.254922\n",
      "[LightGBM] [Info] Start training from score -5.254922\n",
      "Training until validation scores don't improve for 10 rounds\n",
      "Early stopping, best iteration is:\n",
      "[76]\tvalid_0's auc: 0.992427\n"
     ]
    },
    {
     "name": "stderr",
     "output_type": "stream",
     "text": [
      "[I 2025-05-09 15:41:05,360] Trial 40 finished with value: 0.9924266595511221 and parameters: {'num_leaves': 90, 'learning_rate': 0.09155465207203446, 'feature_fraction': 0.5268436777624205, 'bagging_fraction': 0.5640933892827383, 'min_child_samples': 39, 'max_depth': 19, 'lambda_l1': 7.797984296133803e-05, 'lambda_l2': 6.187343623648342e-06}. Best is trial 12 with value: 0.9964889006810679.\n"
     ]
    },
    {
     "name": "stdout",
     "output_type": "stream",
     "text": [
      "[LightGBM] [Info] Number of positive: 7698, number of negative: 1474217\n",
      "[LightGBM] [Info] Auto-choosing row-wise multi-threading, the overhead of testing was 0.003261 seconds.\n",
      "You can set `force_row_wise=true` to remove the overhead.\n",
      "And if memory is not enough, you can set `force_col_wise=true`.\n",
      "[LightGBM] [Info] Total Bins 2700\n",
      "[LightGBM] [Info] Number of data points in the train set: 1481915, number of used features: 20\n",
      "[LightGBM] [Info] [binary:BoostFromScore]: pavg=0.005195 -> initscore=-5.254922\n",
      "[LightGBM] [Info] Start training from score -5.254922\n",
      "Training until validation scores don't improve for 10 rounds\n",
      "Did not meet early stopping. Best iteration is:\n",
      "[99]\tvalid_0's auc: 0.996098\n"
     ]
    },
    {
     "name": "stderr",
     "output_type": "stream",
     "text": [
      "[I 2025-05-09 15:41:10,003] Trial 41 finished with value: 0.9960978380600544 and parameters: {'num_leaves': 93, 'learning_rate': 0.09338797907346791, 'feature_fraction': 0.5525597480068278, 'bagging_fraction': 0.6731916712842743, 'min_child_samples': 46, 'max_depth': 16, 'lambda_l1': 0.0031276584937159147, 'lambda_l2': 7.6711460302861925}. Best is trial 12 with value: 0.9964889006810679.\n"
     ]
    },
    {
     "name": "stdout",
     "output_type": "stream",
     "text": [
      "[LightGBM] [Info] Number of positive: 7698, number of negative: 1474217\n",
      "[LightGBM] [Info] Auto-choosing row-wise multi-threading, the overhead of testing was 0.003220 seconds.\n",
      "You can set `force_row_wise=true` to remove the overhead.\n",
      "And if memory is not enough, you can set `force_col_wise=true`.\n",
      "[LightGBM] [Info] Total Bins 2700\n",
      "[LightGBM] [Info] Number of data points in the train set: 1481915, number of used features: 20\n",
      "[LightGBM] [Info] [binary:BoostFromScore]: pavg=0.005195 -> initscore=-5.254922\n",
      "[LightGBM] [Info] Start training from score -5.254922\n",
      "Training until validation scores don't improve for 10 rounds\n",
      "Did not meet early stopping. Best iteration is:\n",
      "[100]\tvalid_0's auc: 0.996156\n"
     ]
    },
    {
     "name": "stderr",
     "output_type": "stream",
     "text": [
      "[I 2025-05-09 15:41:14,353] Trial 42 finished with value: 0.9961556915968851 and parameters: {'num_leaves': 93, 'learning_rate': 0.08827297633841445, 'feature_fraction': 0.563021999652398, 'bagging_fraction': 0.6151798119549478, 'min_child_samples': 47, 'max_depth': 17, 'lambda_l1': 0.002733726316212186, 'lambda_l2': 1.0961676028178513}. Best is trial 12 with value: 0.9964889006810679.\n"
     ]
    },
    {
     "name": "stdout",
     "output_type": "stream",
     "text": [
      "[LightGBM] [Info] Number of positive: 7698, number of negative: 1474217\n",
      "[LightGBM] [Info] Auto-choosing row-wise multi-threading, the overhead of testing was 0.003298 seconds.\n",
      "You can set `force_row_wise=true` to remove the overhead.\n",
      "And if memory is not enough, you can set `force_col_wise=true`.\n",
      "[LightGBM] [Info] Total Bins 2700\n",
      "[LightGBM] [Info] Number of data points in the train set: 1481915, number of used features: 20\n",
      "[LightGBM] [Info] [binary:BoostFromScore]: pavg=0.005195 -> initscore=-5.254922\n",
      "[LightGBM] [Info] Start training from score -5.254922\n",
      "Training until validation scores don't improve for 10 rounds\n",
      "Did not meet early stopping. Best iteration is:\n",
      "[100]\tvalid_0's auc: 0.995884\n"
     ]
    },
    {
     "name": "stderr",
     "output_type": "stream",
     "text": [
      "[I 2025-05-09 15:41:18,296] Trial 43 finished with value: 0.9958844056239557 and parameters: {'num_leaves': 80, 'learning_rate': 0.09978942416805872, 'feature_fraction': 0.584925334631883, 'bagging_fraction': 0.5236616311687429, 'min_child_samples': 51, 'max_depth': 17, 'lambda_l1': 0.03428946637384819, 'lambda_l2': 0.6881898723753492}. Best is trial 12 with value: 0.9964889006810679.\n"
     ]
    },
    {
     "name": "stdout",
     "output_type": "stream",
     "text": [
      "[LightGBM] [Info] Number of positive: 7698, number of negative: 1474217\n",
      "[LightGBM] [Info] Auto-choosing row-wise multi-threading, the overhead of testing was 0.003541 seconds.\n",
      "You can set `force_row_wise=true` to remove the overhead.\n",
      "And if memory is not enough, you can set `force_col_wise=true`.\n",
      "[LightGBM] [Info] Total Bins 2700\n",
      "[LightGBM] [Info] Number of data points in the train set: 1481915, number of used features: 20\n",
      "[LightGBM] [Info] [binary:BoostFromScore]: pavg=0.005195 -> initscore=-5.254922\n",
      "[LightGBM] [Info] Start training from score -5.254922\n",
      "Training until validation scores don't improve for 10 rounds\n",
      "Did not meet early stopping. Best iteration is:\n",
      "[100]\tvalid_0's auc: 0.991661\n"
     ]
    },
    {
     "name": "stderr",
     "output_type": "stream",
     "text": [
      "[I 2025-05-09 15:41:22,371] Trial 44 finished with value: 0.9916613906002846 and parameters: {'num_leaves': 97, 'learning_rate': 0.014817415381041671, 'feature_fraction': 0.6065036555336877, 'bagging_fraction': 0.619677241379381, 'min_child_samples': 37, 'max_depth': 13, 'lambda_l1': 0.0008334369440401216, 'lambda_l2': 3.7801309459989416}. Best is trial 12 with value: 0.9964889006810679.\n"
     ]
    },
    {
     "name": "stdout",
     "output_type": "stream",
     "text": [
      "[LightGBM] [Info] Number of positive: 7698, number of negative: 1474217\n",
      "[LightGBM] [Info] Auto-choosing row-wise multi-threading, the overhead of testing was 0.003239 seconds.\n",
      "You can set `force_row_wise=true` to remove the overhead.\n",
      "And if memory is not enough, you can set `force_col_wise=true`.\n",
      "[LightGBM] [Info] Total Bins 2700\n",
      "[LightGBM] [Info] Number of data points in the train set: 1481915, number of used features: 20\n",
      "[LightGBM] [Info] [binary:BoostFromScore]: pavg=0.005195 -> initscore=-5.254922\n",
      "[LightGBM] [Info] Start training from score -5.254922\n",
      "Training until validation scores don't improve for 10 rounds\n",
      "Did not meet early stopping. Best iteration is:\n",
      "[100]\tvalid_0's auc: 0.995452\n"
     ]
    },
    {
     "name": "stderr",
     "output_type": "stream",
     "text": [
      "[I 2025-05-09 15:41:26,695] Trial 45 finished with value: 0.9954518288977292 and parameters: {'num_leaves': 91, 'learning_rate': 0.08762327734819976, 'feature_fraction': 0.5691700133652597, 'bagging_fraction': 0.6521807269085447, 'min_child_samples': 98, 'max_depth': 19, 'lambda_l1': 0.09937396771217184, 'lambda_l2': 0.17463826388983034}. Best is trial 12 with value: 0.9964889006810679.\n"
     ]
    },
    {
     "name": "stdout",
     "output_type": "stream",
     "text": [
      "[LightGBM] [Info] Number of positive: 7698, number of negative: 1474217\n",
      "[LightGBM] [Info] Auto-choosing row-wise multi-threading, the overhead of testing was 0.003292 seconds.\n",
      "You can set `force_row_wise=true` to remove the overhead.\n",
      "And if memory is not enough, you can set `force_col_wise=true`.\n",
      "[LightGBM] [Info] Total Bins 2700\n",
      "[LightGBM] [Info] Number of data points in the train set: 1481915, number of used features: 20\n",
      "[LightGBM] [Info] [binary:BoostFromScore]: pavg=0.005195 -> initscore=-5.254922\n",
      "[LightGBM] [Info] Start training from score -5.254922\n",
      "Training until validation scores don't improve for 10 rounds\n",
      "Did not meet early stopping. Best iteration is:\n",
      "[99]\tvalid_0's auc: 0.995776\n"
     ]
    },
    {
     "name": "stderr",
     "output_type": "stream",
     "text": [
      "[I 2025-05-09 15:41:31,348] Trial 46 finished with value: 0.9957761721729704 and parameters: {'num_leaves': 100, 'learning_rate': 0.07516776901179892, 'feature_fraction': 0.5234442001707057, 'bagging_fraction': 0.6075884128407738, 'min_child_samples': 48, 'max_depth': 15, 'lambda_l1': 0.01044936655458403, 'lambda_l2': 1.3239937016697514}. Best is trial 12 with value: 0.9964889006810679.\n"
     ]
    },
    {
     "name": "stdout",
     "output_type": "stream",
     "text": [
      "[LightGBM] [Info] Number of positive: 7698, number of negative: 1474217\n",
      "[LightGBM] [Info] Auto-choosing row-wise multi-threading, the overhead of testing was 0.003993 seconds.\n",
      "You can set `force_row_wise=true` to remove the overhead.\n",
      "And if memory is not enough, you can set `force_col_wise=true`.\n",
      "[LightGBM] [Info] Total Bins 2700\n",
      "[LightGBM] [Info] Number of data points in the train set: 1481915, number of used features: 20\n",
      "[LightGBM] [Info] [binary:BoostFromScore]: pavg=0.005195 -> initscore=-5.254922\n",
      "[LightGBM] [Info] Start training from score -5.254922\n",
      "Training until validation scores don't improve for 10 rounds\n",
      "Did not meet early stopping. Best iteration is:\n",
      "[100]\tvalid_0's auc: 0.995255\n"
     ]
    },
    {
     "name": "stderr",
     "output_type": "stream",
     "text": [
      "[I 2025-05-09 15:41:35,414] Trial 47 finished with value: 0.9952547358932482 and parameters: {'num_leaves': 87, 'learning_rate': 0.06670679971440988, 'feature_fraction': 0.6423806882823886, 'bagging_fraction': 0.7404201637232349, 'min_child_samples': 31, 'max_depth': 21, 'lambda_l1': 0.004577157365701861, 'lambda_l2': 3.972967354717197}. Best is trial 12 with value: 0.9964889006810679.\n"
     ]
    },
    {
     "name": "stdout",
     "output_type": "stream",
     "text": [
      "[LightGBM] [Info] Number of positive: 7698, number of negative: 1474217\n",
      "[LightGBM] [Info] Auto-choosing row-wise multi-threading, the overhead of testing was 0.003007 seconds.\n",
      "You can set `force_row_wise=true` to remove the overhead.\n",
      "And if memory is not enough, you can set `force_col_wise=true`.\n",
      "[LightGBM] [Info] Total Bins 2700\n",
      "[LightGBM] [Info] Number of data points in the train set: 1481915, number of used features: 20\n",
      "[LightGBM] [Info] [binary:BoostFromScore]: pavg=0.005195 -> initscore=-5.254922\n",
      "[LightGBM] [Info] Start training from score -5.254922\n",
      "Training until validation scores don't improve for 10 rounds\n",
      "Did not meet early stopping. Best iteration is:\n",
      "[100]\tvalid_0's auc: 0.996187\n"
     ]
    },
    {
     "name": "stderr",
     "output_type": "stream",
     "text": [
      "[I 2025-05-09 15:41:39,879] Trial 48 finished with value: 0.9961867101182172 and parameters: {'num_leaves': 96, 'learning_rate': 0.08112838786710479, 'feature_fraction': 0.500953735226365, 'bagging_fraction': 0.5770761833557665, 'min_child_samples': 54, 'max_depth': 18, 'lambda_l1': 0.00015489788778535617, 'lambda_l2': 1.160975515170678}. Best is trial 12 with value: 0.9964889006810679.\n"
     ]
    },
    {
     "name": "stdout",
     "output_type": "stream",
     "text": [
      "[LightGBM] [Info] Number of positive: 7698, number of negative: 1474217\n",
      "[LightGBM] [Info] Auto-choosing row-wise multi-threading, the overhead of testing was 0.002852 seconds.\n",
      "You can set `force_row_wise=true` to remove the overhead.\n",
      "And if memory is not enough, you can set `force_col_wise=true`.\n",
      "[LightGBM] [Info] Total Bins 2700\n",
      "[LightGBM] [Info] Number of data points in the train set: 1481915, number of used features: 20\n",
      "[LightGBM] [Info] [binary:BoostFromScore]: pavg=0.005195 -> initscore=-5.254922\n",
      "[LightGBM] [Info] Start training from score -5.254922\n",
      "Training until validation scores don't improve for 10 rounds\n",
      "Did not meet early stopping. Best iteration is:\n",
      "[100]\tvalid_0's auc: 0.993924\n"
     ]
    },
    {
     "name": "stderr",
     "output_type": "stream",
     "text": [
      "[I 2025-05-09 15:41:43,086] Trial 49 finished with value: 0.9939239253125802 and parameters: {'num_leaves': 52, 'learning_rate': 0.05634328507817271, 'feature_fraction': 0.5039486218592448, 'bagging_fraction': 0.5443488799592457, 'min_child_samples': 54, 'max_depth': 18, 'lambda_l1': 7.828702502841702e-05, 'lambda_l2': 0.18904844878297483}. Best is trial 12 with value: 0.9964889006810679.\n"
     ]
    },
    {
     "name": "stdout",
     "output_type": "stream",
     "text": [
      "[LightGBM] [Info] Number of positive: 7698, number of negative: 1474217\n",
      "[LightGBM] [Info] Auto-choosing row-wise multi-threading, the overhead of testing was 0.003113 seconds.\n",
      "You can set `force_row_wise=true` to remove the overhead.\n",
      "And if memory is not enough, you can set `force_col_wise=true`.\n",
      "[LightGBM] [Info] Total Bins 2700\n",
      "[LightGBM] [Info] Number of data points in the train set: 1481915, number of used features: 20\n",
      "[LightGBM] [Info] [binary:BoostFromScore]: pavg=0.005195 -> initscore=-5.254922\n",
      "[LightGBM] [Info] Start training from score -5.254922\n",
      "Training until validation scores don't improve for 10 rounds\n",
      "Did not meet early stopping. Best iteration is:\n",
      "[100]\tvalid_0's auc: 0.996489\n",
      "Reporte de Clasificación del Modelo Optimizado:\n",
      "              precision    recall  f1-score   support\n",
      "\n",
      "           0       1.00      1.00      1.00    368526\n",
      "           1       0.89      0.64      0.74      1953\n",
      "\n",
      "    accuracy                           1.00    370479\n",
      "   macro avg       0.94      0.82      0.87    370479\n",
      "weighted avg       1.00      1.00      1.00    370479\n",
      "\n",
      "\n",
      "Mejores hiperparámetros encontrados:\n",
      "num_leaves: 100\n",
      "learning_rate: 0.09610954578698412\n",
      "feature_fraction: 0.5047578980485751\n",
      "bagging_fraction: 0.6661491747239299\n",
      "min_child_samples: 31\n",
      "max_depth: 17\n",
      "lambda_l1: 0.13800990649514966\n",
      "lambda_l2: 3.4512470223811507\n",
      "objective: binary\n",
      "metric: auc\n",
      "boosting_type: gbdt\n"
     ]
    }
   ],
   "source": [
    "# Modelo 2 \n",
    "# Optimización de hiperparámetros usando Optuna para LightGBM\n",
    "# Optuna es un framework de optimización de hiperparámetros que utiliza\n",
    "# técnicas avanzadas de búsqueda como TPE (Tree-structured Parzen Estimators)\n",
    "\n",
    "# Definimos la función objetivo para Optuna\n",
    "def objetivo(trial):\n",
    "    \"\"\"\n",
    "    Función objetivo para optimización de hiperparámetros.\n",
    "    Recibe un objeto trial de Optuna y retorna la métrica a optimizar (AUC-ROC).\n",
    "    \"\"\"\n",
    "    # Definimos el espacio de búsqueda para los hiperparámetros\n",
    "    param = {\n",
    "        'objective': 'binary',  # Objetivo: clasificación binaria\n",
    "        'metric': 'auc',       # Métrica a optimizar\n",
    "        'boosting_type': 'gbdt',\n",
    "        # Sugerimos valores para cada hiperparámetro en rangos específicos\n",
    "        'num_leaves': trial.suggest_int('num_leaves', 20, 100),           # Número de hojas\n",
    "        'learning_rate': trial.suggest_float('learning_rate', 0.01, 0.1, log=True),  # Tasa de aprendizaje\n",
    "        'feature_fraction': trial.suggest_float('feature_fraction', 0.5, 1.0), # Fracción de features\n",
    "        'bagging_fraction': trial.suggest_float('bagging_fraction', 0.5, 1.0), # Fracción de datos\n",
    "        'min_child_samples': trial.suggest_int('min_child_samples', 5, 100),     # Muestras mínimas por nodo\n",
    "        'max_depth': trial.suggest_int('max_depth', 5, 30),                      # Profundidad máxima\n",
    "        'lambda_l1': trial.suggest_float('lambda_l1', 1e-8, 10.0, log=True),         # Regularización L1\n",
    "        'lambda_l2': trial.suggest_float('lambda_l2', 1e-8, 10.0, log=True),         # Regularización L2\n",
    "    }\n",
    "\n",
    "    # Creamos los datasets de LightGBM\n",
    "    train_data = lgb.Dataset(X_train, label=y_train)\n",
    "    valid_data = lgb.Dataset(X_test, label=y_test, reference=train_data)\n",
    "\n",
    "    # Entrenamos el modelo con los parámetros sugeridos\n",
    "    callbacks = [lgb.early_stopping(stopping_rounds=10)]\n",
    "    \n",
    "    model = lgb.train(param,\n",
    "                     train_data,\n",
    "                     num_boost_round=100,\n",
    "                     valid_sets=[valid_data],\n",
    "                     callbacks=callbacks)\n",
    "\n",
    "    # Realizamos predicciones\n",
    "    y_pred_proba = model.predict(X_test)\n",
    "    \n",
    "    # Retornamos el AUC-ROC score\n",
    "    return roc_auc_score(y_test, y_pred_proba)\n",
    "\n",
    "# Creamos el estudio de Optuna\n",
    "study = optuna.create_study(direction='maximize')  # Queremos maximizar el AUC-ROC\n",
    "study.optimize(objetivo, n_trials=50)  # Realizamos 50 pruebas de optimización\n",
    "\n",
    "# Obtenemos los mejores parámetros\n",
    "best_params = study.best_params\n",
    "best_params.update({\n",
    "    'objective': 'binary',\n",
    "    'metric': 'auc',\n",
    "    'boosting_type': 'gbdt'\n",
    "})\n",
    "\n",
    "# Entrenamos el modelo final con los mejores parámetros\n",
    "train_data = lgb.Dataset(X_train, label=y_train)\n",
    "test_data = lgb.Dataset(X_test, label=y_test, reference=train_data)\n",
    "\n",
    "callbacks = [lgb.early_stopping(stopping_rounds=10)]\n",
    "\n",
    "modelo_optimizado = lgb.train(best_params,\n",
    "                            train_data,\n",
    "                            num_boost_round=100,\n",
    "                            valid_sets=[test_data],\n",
    "                            callbacks=callbacks)\n",
    "\n",
    "# Realizamos predicciones con el modelo optimizado\n",
    "y_pred_proba_opt = modelo_optimizado.predict(X_test)\n",
    "y_pred_opt = (y_pred_proba_opt > 0.5).astype(int)\n",
    "\n",
    "# Evaluamos el modelo optimizado\n",
    "auc_score_opt = roc_auc_score(y_test, y_pred_proba_opt)\n",
    "f1_opt = f1_score(y_test, y_pred_opt)\n",
    "\n",
    "# Imprimimos el reporte de clasificación\n",
    "print(\"Reporte de Clasificación del Modelo Optimizado:\")\n",
    "print(classification_report(y_test, y_pred_opt))\n",
    "\n",
    "# Imprimimos los mejores parámetros encontrados\n",
    "print(\"\\nMejores hiperparámetros encontrados:\")\n",
    "for key, value in best_params.items():\n",
    "    print(f\"{key}: {value}\")\n"
   ]
  },
  {
   "cell_type": "code",
   "execution_count": 34,
   "metadata": {},
   "outputs": [
    {
     "name": "stdout",
     "output_type": "stream",
     "text": [
      "\n",
      "Model Performance Metrics:\n",
      "------------------------\n",
      "   Metric  Score\n",
      " Accuracy 99.69%\n",
      "Precision 79.77%\n",
      "   Recall 55.71%\n",
      " F1 Score 65.60%\n",
      "  AUC-ROC 99.21%\n"
     ]
    }
   ],
   "source": [
    "# Calculate additional metrics\n",
    "from sklearn.metrics import accuracy_score, precision_score, recall_score\n",
    "\n",
    "\n",
    "accuracy = accuracy_score(y_test, y_pred)\n",
    "precision = precision_score(y_test, y_pred)\n",
    "recall = recall_score(y_test, y_pred)\n",
    "\n",
    "# Create a DataFrame with metrics\n",
    "metrics_df = pd.DataFrame({\n",
    "    'Metric': ['Accuracy', 'Precision', 'Recall', 'F1 Score', 'AUC-ROC'],\n",
    "    'Score': [accuracy, precision, recall, f1, auc_score]\n",
    "})\n",
    "\n",
    "# Format scores as percentages\n",
    "metrics_df['Score'] = metrics_df['Score'].map('{:.2%}'.format)\n",
    "\n",
    "# Display metrics in a styled table\n",
    "print(\"\\nModel Performance Metrics:\")\n",
    "print(\"------------------------\")\n",
    "print(metrics_df.to_string(index=False))\n"
   ]
  },
  {
   "cell_type": "markdown",
   "metadata": {},
   "source": [
    "### Análisis de Métricas de Rendimiento del Modelo\n",
    "\n",
    "- **Accuracy (99.69%)**: Indica que el modelo acierta en el 99.69% de todas las predicciones, tanto fraudulentas como legítimas. Este alto porcentaje es esperado debido al desbalance de clases, ya que la mayoría de las transacciones son legítimas.\n",
    "\n",
    "- **Precision (79.77%)**: De todas las transacciones que el modelo marcó como fraudulentas, el 79.77% realmente lo eran. Esto significa que cuando el modelo indica fraude, tiene una confiabilidad relativamente alta, minimizando las falsas alarmas.\n",
    "\n",
    "- **Recall (55.71%)**: El modelo detecta el 55.71% de todos los fraudes reales. Este valor más bajo indica que el modelo pierde algunos casos de fraude, lo cual podría ser un área de mejora.\n",
    "\n",
    "- **F1 Score (65.60%)**: Es la media armónica entre precisión y recall. Un valor de 65.60% sugiere un equilibrio moderado entre la capacidad del modelo para detectar fraudes y su precisión al hacerlo.\n",
    "\n",
    "- **AUC-ROC (99.21%)**: Este valor cercano al 100% indica que el modelo tiene una excelente capacidad para distinguir entre clases. Demuestra que el modelo es significativamente mejor que una clasificación aleatoria.\n",
    "\n",
    "En conjunto, estas métricas sugieren que el modelo es bastante efectivo, especialmente considerando el desbalance inherente en los datos de fraude. Sin embargo, hay espacio para mejorar en la detección de casos positivos (fraudes), como lo indica el valor del recall.\n"
   ]
  },
  {
   "cell_type": "code",
   "execution_count": 35,
   "metadata": {},
   "outputs": [
    {
     "data": {
      "image/png": "[encoded data removed]",
      "text/plain": [
       "<Figure size 800x600 with 2 Axes>"
      ]
     },
     "metadata": {},
     "output_type": "display_data"
    }
   ],
   "source": [
    "# Plot confusion matrix\n",
    "plt.figure(figsize=(8, 6))\n",
    "sns.heatmap(conf_matrix, annot=True, fmt='d', cmap='Blues')\n",
    "plt.title('Confusion Matrix')\n",
    "plt.ylabel('True Label')\n",
    "plt.xlabel('Predicted Label')\n",
    "plt.show()"
   ]
  },
  {
   "cell_type": "markdown",
   "metadata": {},
   "source": [
    "### Análisis de la Matriz de Confusión\n",
    "\n",
    "La matriz de confusión nos muestra el rendimiento detallado del modelo:\n",
    "\n",
    "- Verdaderos Negativos (368250): El número de transacciones no fraudulentas correctamente identificadas\n",
    "- Falsos Positivos (276): Transacciones legítimas incorrectamente marcadas como fraude\n",
    "- Falsos Negativos (865): Casos de fraude que el modelo no detectó\n",
    "- Verdaderos Positivos (1088): Casos de fraude correctamente identificados\n",
    "  Observaciones importantes:\n",
    "- El modelo tiene una alta precisión en la identificación de transacciones legítimas\n",
    "- Hay un número relativamente bajo de falsos positivos, lo cual es importante para no molestar a clientes legítimos\n",
    "- El número de falsos negativos (865) podría ser un área de mejora, aunque representa un pequeño porcentaje del total\n",
    "- La diagonal principal muestra un buen rendimiento general del modelo\n",
    "  En general, la matriz de confusión indica que el modelo es efectivo en la clasificación de transacciones, con un sesgo hacia minimizar los falsos positivos.\n"
   ]
  },
  {
   "cell_type": "code",
   "execution_count": 36,
   "metadata": {},
   "outputs": [
    {
     "data": {
      "image/png": "[encoded data removed]",
      "text/plain": [
       "<Figure size 800x600 with 1 Axes>"
      ]
     },
     "metadata": {},
     "output_type": "display_data"
    }
   ],
   "source": [
    "fpr, tpr, _ = roc_curve(y_test, y_pred_proba)\n",
    "plt.figure(figsize=(8, 6))\n",
    "plt.plot(fpr, tpr, label=f'ROC Curve (AUC = {auc_score:.3f})')\n",
    "plt.plot([0, 1], [0, 1], 'k--', label='Random')\n",
    "plt.xlabel('False Positive Rate')\n",
    "plt.ylabel('True Positive Rate') \n",
    "plt.title('Receiver Operating Characteristic (ROC) Curve')\n",
    "plt.legend()\n",
    "plt.grid(True)\n",
    "plt.show()\n"
   ]
  },
  {
   "cell_type": "markdown",
   "metadata": {},
   "source": [
    "### Análisis de la Curva ROC\n",
    "\n",
    "La curva ROC (Receiver Operating Characteristic) que se muestra en el gráfico representa el rendimiento de nuestro modelo de clasificación para detectar fraudes. Algunos puntos importantes a destacar:\n",
    "\n",
    "- El área bajo la curva (AUC) es de 0.992, lo cual es excelente ya que está muy cerca del valor ideal de 1.0\n",
    "- La curva se eleva rápidamente hacia el punto (0,1), lo que indica que el modelo tiene una alta tasa de verdaderos positivos mientras mantiene una baja tasa de falsos positivos\n",
    "- Hay una clara separación entre la curva del modelo (línea azul) y la línea diagonal punteada que representa el rendimiento aleatorio\n",
    "- Esta curva sugiere que el modelo es muy efectivo en distinguir entre transacciones fraudulentas y legítimas\n",
    "- El rendimiento es consistentemente bueno a través de diferentes umbrales de clasificación\n",
    "\n",
    "En resumen, esta curva ROC demuestra que nuestro modelo tiene un poder predictivo muy fuerte para la detección de fraudes en transacciones.\n"
   ]
  }
 ],
 "metadata": {
  "kernelspec": {
   "display_name": "Python 3",
   "language": "python",
   "name": "python3"
  },
  "language_info": {
   "codemirror_mode": {
    "name": "ipython",
    "version": 3
   },
   "file_extension": ".py",
   "mimetype": "text/x-python",
   "name": "python",
   "nbconvert_exporter": "python",
   "pygments_lexer": "ipython3",
   "version": "3.12.4"
  }
 },
 "nbformat": 4,
 "nbformat_minor": 2
}
