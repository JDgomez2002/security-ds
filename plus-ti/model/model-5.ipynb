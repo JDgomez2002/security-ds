{
 "cells": [
  {
   "cell_type": "markdown",
   "metadata": {},
   "source": [
    "# Implementación del modelo base\n",
    "\n",
    "### José Daniel Gómez Cabrera 21429\n",
    "\n",
    "- Entrenar un modelo inicial con LightGBM utilizando métricas tradicionales como AUC-ROC y F1-score.\n",
    "- Evaluar el rendimiento inicial en términos de fraude detectado y falsos positivos.\n"
   ]
  },
  {
   "cell_type": "code",
   "execution_count": 4,
   "metadata": {},
   "outputs": [],
   "source": [
    "import pandas as pd\n",
    "from sklearn.model_selection import train_test_split\n",
    "from sklearn.preprocessing import LabelEncoder\n",
    "from sklearn.metrics import roc_auc_score, f1_score, confusion_matrix, classification_report\n",
    "import lightgbm as lgb\n",
    "import numpy as np\n",
    "import matplotlib.pyplot as plt\n",
    "import seaborn as sns\n",
    "from sklearn.metrics import roc_curve\n",
    "import optuna"
   ]
  },
  {
   "cell_type": "code",
   "execution_count": 5,
   "metadata": {},
   "outputs": [],
   "source": [
    "df = pd.read_csv('../data/fraud_detection_amt_features.csv', header=0)"
   ]
  },
  {
   "cell_type": "code",
   "execution_count": 6,
   "metadata": {},
   "outputs": [
    {
     "data": {
      "text/html": [
       "<div>\n",
       "<style scoped>\n",
       "    .dataframe tbody tr th:only-of-type {\n",
       "        vertical-align: middle;\n",
       "    }\n",
       "\n",
       "    .dataframe tbody tr th {\n",
       "        vertical-align: top;\n",
       "    }\n",
       "\n",
       "    .dataframe thead th {\n",
       "        text-align: right;\n",
       "    }\n",
       "</style>\n",
       "<table border=\"1\" class=\"dataframe\">\n",
       "  <thead>\n",
       "    <tr style=\"text-align: right;\">\n",
       "      <th></th>\n",
       "      <th>cc_num</th>\n",
       "      <th>merchant</th>\n",
       "      <th>category</th>\n",
       "      <th>amt</th>\n",
       "      <th>is_fraud</th>\n",
       "      <th>potential_saved_money</th>\n",
       "      <th>saved_if_detected_outlier</th>\n",
       "      <th>potential_saved_high_risk</th>\n",
       "      <th>amt_zscore</th>\n",
       "      <th>amt_is_outlier</th>\n",
       "      <th>amt_to_category_avg_ratio</th>\n",
       "      <th>amt_delta_from_user_monthly_avg</th>\n",
       "      <th>new_merchant_unusual_amount</th>\n",
       "      <th>high_velocity_high_amount</th>\n",
       "      <th>amt_to_distance_ratio</th>\n",
       "    </tr>\n",
       "  </thead>\n",
       "  <tbody>\n",
       "    <tr>\n",
       "      <th>0</th>\n",
       "      <td>60416207185</td>\n",
       "      <td>fraud_Jones, Sawayn and Romaguera</td>\n",
       "      <td>misc_net</td>\n",
       "      <td>7.27</td>\n",
       "      <td>0</td>\n",
       "      <td>0.0</td>\n",
       "      <td>0.0</td>\n",
       "      <td>0.0</td>\n",
       "      <td>-0.394298</td>\n",
       "      <td>0</td>\n",
       "      <td>0.090669</td>\n",
       "      <td>-56.603675</td>\n",
       "      <td>0</td>\n",
       "      <td>0</td>\n",
       "      <td>0.056962</td>\n",
       "    </tr>\n",
       "    <tr>\n",
       "      <th>1</th>\n",
       "      <td>60416207185</td>\n",
       "      <td>fraud_Berge LLC</td>\n",
       "      <td>gas_transport</td>\n",
       "      <td>52.94</td>\n",
       "      <td>0</td>\n",
       "      <td>0.0</td>\n",
       "      <td>0.0</td>\n",
       "      <td>0.0</td>\n",
       "      <td>-0.107524</td>\n",
       "      <td>0</td>\n",
       "      <td>0.833999</td>\n",
       "      <td>-10.933675</td>\n",
       "      <td>0</td>\n",
       "      <td>0</td>\n",
       "      <td>0.480386</td>\n",
       "    </tr>\n",
       "    <tr>\n",
       "      <th>2</th>\n",
       "      <td>60416207185</td>\n",
       "      <td>fraud_Luettgen PLC</td>\n",
       "      <td>gas_transport</td>\n",
       "      <td>82.08</td>\n",
       "      <td>0</td>\n",
       "      <td>0.0</td>\n",
       "      <td>0.0</td>\n",
       "      <td>0.0</td>\n",
       "      <td>0.075455</td>\n",
       "      <td>0</td>\n",
       "      <td>1.293061</td>\n",
       "      <td>18.206325</td>\n",
       "      <td>0</td>\n",
       "      <td>0</td>\n",
       "      <td>3.757927</td>\n",
       "    </tr>\n",
       "    <tr>\n",
       "      <th>3</th>\n",
       "      <td>60416207185</td>\n",
       "      <td>fraud_Daugherty LLC</td>\n",
       "      <td>kids_pets</td>\n",
       "      <td>34.79</td>\n",
       "      <td>0</td>\n",
       "      <td>0.0</td>\n",
       "      <td>0.0</td>\n",
       "      <td>0.0</td>\n",
       "      <td>-0.221493</td>\n",
       "      <td>0</td>\n",
       "      <td>0.604751</td>\n",
       "      <td>-29.083675</td>\n",
       "      <td>0</td>\n",
       "      <td>0</td>\n",
       "      <td>0.399314</td>\n",
       "    </tr>\n",
       "    <tr>\n",
       "      <th>4</th>\n",
       "      <td>60416207185</td>\n",
       "      <td>fraud_Beier and Sons</td>\n",
       "      <td>home</td>\n",
       "      <td>27.18</td>\n",
       "      <td>0</td>\n",
       "      <td>0.0</td>\n",
       "      <td>0.0</td>\n",
       "      <td>0.0</td>\n",
       "      <td>-0.269278</td>\n",
       "      <td>0</td>\n",
       "      <td>0.467105</td>\n",
       "      <td>-36.693675</td>\n",
       "      <td>0</td>\n",
       "      <td>0</td>\n",
       "      <td>0.365554</td>\n",
       "    </tr>\n",
       "  </tbody>\n",
       "</table>\n",
       "</div>"
      ],
      "text/plain": [
       "        cc_num                           merchant       category    amt  \\\n",
       "0  60416207185  fraud_Jones, Sawayn and Romaguera       misc_net   7.27   \n",
       "1  60416207185                    fraud_Berge LLC  gas_transport  52.94   \n",
       "2  60416207185                 fraud_Luettgen PLC  gas_transport  82.08   \n",
       "3  60416207185                fraud_Daugherty LLC      kids_pets  34.79   \n",
       "4  60416207185               fraud_Beier and Sons           home  27.18   \n",
       "\n",
       "   is_fraud  potential_saved_money  saved_if_detected_outlier  \\\n",
       "0         0                    0.0                        0.0   \n",
       "1         0                    0.0                        0.0   \n",
       "2         0                    0.0                        0.0   \n",
       "3         0                    0.0                        0.0   \n",
       "4         0                    0.0                        0.0   \n",
       "\n",
       "   potential_saved_high_risk  amt_zscore  amt_is_outlier  \\\n",
       "0                        0.0   -0.394298               0   \n",
       "1                        0.0   -0.107524               0   \n",
       "2                        0.0    0.075455               0   \n",
       "3                        0.0   -0.221493               0   \n",
       "4                        0.0   -0.269278               0   \n",
       "\n",
       "   amt_to_category_avg_ratio  amt_delta_from_user_monthly_avg  \\\n",
       "0                   0.090669                       -56.603675   \n",
       "1                   0.833999                       -10.933675   \n",
       "2                   1.293061                        18.206325   \n",
       "3                   0.604751                       -29.083675   \n",
       "4                   0.467105                       -36.693675   \n",
       "\n",
       "   new_merchant_unusual_amount  high_velocity_high_amount  \\\n",
       "0                            0                          0   \n",
       "1                            0                          0   \n",
       "2                            0                          0   \n",
       "3                            0                          0   \n",
       "4                            0                          0   \n",
       "\n",
       "   amt_to_distance_ratio  \n",
       "0               0.056962  \n",
       "1               0.480386  \n",
       "2               3.757927  \n",
       "3               0.399314  \n",
       "4               0.365554  "
      ]
     },
     "execution_count": 6,
     "metadata": {},
     "output_type": "execute_result"
    }
   ],
   "source": [
    "df.head()"
   ]
  },
  {
   "cell_type": "code",
   "execution_count": 7,
   "metadata": {},
   "outputs": [
    {
     "name": "stdout",
     "output_type": "stream",
     "text": [
      "<class 'pandas.core.frame.DataFrame'>\n",
      "RangeIndex: 1852394 entries, 0 to 1852393\n",
      "Data columns (total 15 columns):\n",
      " #   Column                           Dtype  \n",
      "---  ------                           -----  \n",
      " 0   cc_num                           int64  \n",
      " 1   merchant                         object \n",
      " 2   category                         object \n",
      " 3   amt                              float64\n",
      " 4   is_fraud                         int64  \n",
      " 5   potential_saved_money            float64\n",
      " 6   saved_if_detected_outlier        float64\n",
      " 7   potential_saved_high_risk        float64\n",
      " 8   amt_zscore                       float64\n",
      " 9   amt_is_outlier                   int64  \n",
      " 10  amt_to_category_avg_ratio        float64\n",
      " 11  amt_delta_from_user_monthly_avg  float64\n",
      " 12  new_merchant_unusual_amount      int64  \n",
      " 13  high_velocity_high_amount        int64  \n",
      " 14  amt_to_distance_ratio            float64\n",
      "dtypes: float64(8), int64(5), object(2)\n",
      "memory usage: 212.0+ MB\n"
     ]
    }
   ],
   "source": [
    "df.info()"
   ]
  },
  {
   "cell_type": "markdown",
   "metadata": {},
   "source": [
    "## Variable objetivo\n"
   ]
  },
  {
   "cell_type": "code",
   "execution_count": 8,
   "metadata": {},
   "outputs": [
    {
     "data": {
      "text/html": [
       "<div>\n",
       "<style scoped>\n",
       "    .dataframe tbody tr th:only-of-type {\n",
       "        vertical-align: middle;\n",
       "    }\n",
       "\n",
       "    .dataframe tbody tr th {\n",
       "        vertical-align: top;\n",
       "    }\n",
       "\n",
       "    .dataframe thead th {\n",
       "        text-align: right;\n",
       "    }\n",
       "</style>\n",
       "<table border=\"1\" class=\"dataframe\">\n",
       "  <thead>\n",
       "    <tr style=\"text-align: right;\">\n",
       "      <th></th>\n",
       "      <th>Amount</th>\n",
       "      <th>Percentage</th>\n",
       "    </tr>\n",
       "    <tr>\n",
       "      <th>is_fraud</th>\n",
       "      <th></th>\n",
       "      <th></th>\n",
       "    </tr>\n",
       "  </thead>\n",
       "  <tbody>\n",
       "    <tr>\n",
       "      <th>No fraud</th>\n",
       "      <td>1842743</td>\n",
       "      <td>99.48</td>\n",
       "    </tr>\n",
       "    <tr>\n",
       "      <th>Fraud</th>\n",
       "      <td>9651</td>\n",
       "      <td>0.52</td>\n",
       "    </tr>\n",
       "  </tbody>\n",
       "</table>\n",
       "</div>"
      ],
      "text/plain": [
       "           Amount  Percentage\n",
       "is_fraud                     \n",
       "No fraud  1842743       99.48\n",
       "Fraud        9651        0.52"
      ]
     },
     "execution_count": 8,
     "metadata": {},
     "output_type": "execute_result"
    }
   ],
   "source": [
    "fraud_dist = df['is_fraud'].value_counts().rename({0: 'No fraud', 1: 'Fraud'})\n",
    "fraud_percent = (fraud_dist / fraud_dist.sum()) * 100\n",
    "\n",
    "fraud_df = pd.DataFrame({\n",
    "    'Amount': fraud_dist,\n",
    "    'Percentage': fraud_percent.round(2)\n",
    "})\n",
    "fraud_df"
   ]
  },
  {
   "cell_type": "markdown",
   "metadata": {},
   "source": [
    "## Modelo\n"
   ]
  },
  {
   "cell_type": "code",
   "execution_count": null,
   "metadata": {},
   "outputs": [
    {
     "name": "stderr",
     "output_type": "stream",
     "text": [
      "[I 2025-05-09 20:38:18,497] A new study created in memory with name: no-name-8723d044-6eed-4a04-bf41-137272a14888\n",
      "[I 2025-05-09 20:38:18,691] Trial 0 finished with value: 0.9037756689605425 and parameters: {'num_leaves': 13, 'learning_rate': 0.23207567111355348, 'feature_fraction': 0.7706740270266028, 'bagging_fraction': 0.6274290047803606, 'min_child_samples': 26, 'max_depth': 7}. Best is trial 0 with value: 0.9037756689605425.\n"
     ]
    },
    {
     "name": "stdout",
     "output_type": "stream",
     "text": [
      "[LightGBM] [Info] Number of positive: 7767, number of negative: 1474148\n",
      "[LightGBM] [Info] Auto-choosing row-wise multi-threading, the overhead of testing was 0.006557 seconds.\n",
      "You can set `force_row_wise=true` to remove the overhead.\n",
      "And if memory is not enough, you can set `force_col_wise=true`.\n",
      "[LightGBM] [Info] Total Bins 1024\n",
      "[LightGBM] [Info] Number of data points in the train set: 1481915, number of used features: 6\n",
      "[LightGBM] [Info] [binary:BoostFromScore]: pavg=0.005241 -> initscore=-5.245951\n",
      "[LightGBM] [Info] Start training from score -5.245951\n",
      "Training until validation scores don't improve for 5 rounds\n",
      "Early stopping, best iteration is:\n",
      "[1]\tvalid_0's auc: 0.891289\n",
      "[LightGBM] [Info] Number of positive: 7767, number of negative: 1474148\n",
      "[LightGBM] [Info] Auto-choosing row-wise multi-threading, the overhead of testing was 0.004530 seconds.\n",
      "You can set `force_row_wise=true` to remove the overhead.\n",
      "And if memory is not enough, you can set `force_col_wise=true`.\n",
      "[LightGBM] [Info] Total Bins 1024\n",
      "[LightGBM] [Info] Number of data points in the train set: 1481915, number of used features: 6\n",
      "[LightGBM] [Info] [binary:BoostFromScore]: pavg=0.005241 -> initscore=-5.245951\n",
      "[LightGBM] [Info] Start training from score -5.245951\n",
      "Training until validation scores don't improve for 5 rounds\n"
     ]
    },
    {
     "name": "stderr",
     "output_type": "stream",
     "text": [
      "[I 2025-05-09 20:38:19,459] Trial 1 finished with value: 0.5564310235269224 and parameters: {'num_leaves': 21, 'learning_rate': 0.09713374097104681, 'feature_fraction': 0.81884065215506, 'bagging_fraction': 0.8397457932724935, 'min_child_samples': 19, 'max_depth': 11}. Best is trial 0 with value: 0.9037756689605425.\n"
     ]
    },
    {
     "name": "stdout",
     "output_type": "stream",
     "text": [
      "Early stopping, best iteration is:\n",
      "[40]\tvalid_0's auc: 0.984335\n",
      "[LightGBM] [Info] Number of positive: 7767, number of negative: 1474148\n",
      "[LightGBM] [Info] Auto-choosing row-wise multi-threading, the overhead of testing was 0.004689 seconds.\n",
      "You can set `force_row_wise=true` to remove the overhead.\n",
      "And if memory is not enough, you can set `force_col_wise=true`.\n",
      "[LightGBM] [Info] Total Bins 1024\n",
      "[LightGBM] [Info] Number of data points in the train set: 1481915, number of used features: 6\n",
      "[LightGBM] [Info] [binary:BoostFromScore]: pavg=0.005241 -> initscore=-5.245951\n",
      "[LightGBM] [Info] Start training from score -5.245951\n",
      "Training until validation scores don't improve for 5 rounds\n"
     ]
    },
    {
     "name": "stderr",
     "output_type": "stream",
     "text": [
      "[I 2025-05-09 20:38:20,151] Trial 2 finished with value: 0.5994485135193597 and parameters: {'num_leaves': 20, 'learning_rate': 0.07443339631011099, 'feature_fraction': 0.8163045932725734, 'bagging_fraction': 0.6301356703546516, 'min_child_samples': 36, 'max_depth': 14}. Best is trial 0 with value: 0.9037756689605425.\n"
     ]
    },
    {
     "name": "stdout",
     "output_type": "stream",
     "text": [
      "Early stopping, best iteration is:\n",
      "[35]\tvalid_0's auc: 0.983338\n",
      "[LightGBM] [Info] Number of positive: 7767, number of negative: 1474148\n",
      "[LightGBM] [Info] Auto-choosing row-wise multi-threading, the overhead of testing was 0.004263 seconds.\n",
      "You can set `force_row_wise=true` to remove the overhead.\n",
      "And if memory is not enough, you can set `force_col_wise=true`.\n",
      "[LightGBM] [Info] Total Bins 1024\n",
      "[LightGBM] [Info] Number of data points in the train set: 1481915, number of used features: 6\n",
      "[LightGBM] [Info] [binary:BoostFromScore]: pavg=0.005241 -> initscore=-5.245951\n",
      "[LightGBM] [Info] Start training from score -5.245951\n",
      "Training until validation scores don't improve for 5 rounds\n"
     ]
    },
    {
     "name": "stderr",
     "output_type": "stream",
     "text": [
      "[I 2025-05-09 20:38:20,523] Trial 3 finished with value: 0.6697318348995871 and parameters: {'num_leaves': 46, 'learning_rate': 0.11036058147872134, 'feature_fraction': 0.7114710168569297, 'bagging_fraction': 0.8676511267210669, 'min_child_samples': 49, 'max_depth': 14}. Best is trial 0 with value: 0.9037756689605425.\n"
     ]
    },
    {
     "name": "stdout",
     "output_type": "stream",
     "text": [
      "Early stopping, best iteration is:\n",
      "[7]\tvalid_0's auc: 0.979427\n",
      "[LightGBM] [Info] Number of positive: 7767, number of negative: 1474148\n",
      "[LightGBM] [Info] Auto-choosing row-wise multi-threading, the overhead of testing was 0.005016 seconds.\n",
      "You can set `force_row_wise=true` to remove the overhead.\n",
      "And if memory is not enough, you can set `force_col_wise=true`.\n",
      "[LightGBM] [Info] Total Bins 1024\n",
      "[LightGBM] [Info] Number of data points in the train set: 1481915, number of used features: 6\n",
      "[LightGBM] [Info] [binary:BoostFromScore]: pavg=0.005241 -> initscore=-5.245951\n",
      "[LightGBM] [Info] Start training from score -5.245951\n",
      "Training until validation scores don't improve for 5 rounds\n"
     ]
    },
    {
     "name": "stderr",
     "output_type": "stream",
     "text": [
      "[I 2025-05-09 20:38:21,562] Trial 4 finished with value: 0.5355753638511865 and parameters: {'num_leaves': 28, 'learning_rate': 0.06453131179540171, 'feature_fraction': 0.6299702453976661, 'bagging_fraction': 0.8288924049601638, 'min_child_samples': 32, 'max_depth': 8}. Best is trial 0 with value: 0.9037756689605425.\n"
     ]
    },
    {
     "name": "stdout",
     "output_type": "stream",
     "text": [
      "Did not meet early stopping. Best iteration is:\n",
      "[50]\tvalid_0's auc: 0.986557\n",
      "[LightGBM] [Info] Number of positive: 7767, number of negative: 1474148\n"
     ]
    },
    {
     "name": "stderr",
     "output_type": "stream",
     "text": [
      "[I 2025-05-09 20:38:21,824] Trial 5 finished with value: 0.9090043871660816 and parameters: {'num_leaves': 50, 'learning_rate': 0.20148834257086673, 'feature_fraction': 0.7262161547173032, 'bagging_fraction': 0.867572742301455, 'min_child_samples': 39, 'max_depth': 12}. Best is trial 5 with value: 0.9090043871660816.\n"
     ]
    },
    {
     "name": "stdout",
     "output_type": "stream",
     "text": [
      "[LightGBM] [Info] Auto-choosing row-wise multi-threading, the overhead of testing was 0.005304 seconds.\n",
      "You can set `force_row_wise=true` to remove the overhead.\n",
      "And if memory is not enough, you can set `force_col_wise=true`.\n",
      "[LightGBM] [Info] Total Bins 1024\n",
      "[LightGBM] [Info] Number of data points in the train set: 1481915, number of used features: 6\n",
      "[LightGBM] [Info] [binary:BoostFromScore]: pavg=0.005241 -> initscore=-5.245951\n",
      "[LightGBM] [Info] Start training from score -5.245951\n",
      "Training until validation scores don't improve for 5 rounds\n",
      "Early stopping, best iteration is:\n",
      "[1]\tvalid_0's auc: 0.932378\n"
     ]
    },
    {
     "name": "stderr",
     "output_type": "stream",
     "text": [
      "[I 2025-05-09 20:38:22,059] Trial 6 finished with value: 0.9055402436270523 and parameters: {'num_leaves': 41, 'learning_rate': 0.24788456760784727, 'feature_fraction': 0.8482783899515671, 'bagging_fraction': 0.8049591584456894, 'min_child_samples': 35, 'max_depth': 10}. Best is trial 5 with value: 0.9090043871660816.\n"
     ]
    },
    {
     "name": "stdout",
     "output_type": "stream",
     "text": [
      "[LightGBM] [Info] Number of positive: 7767, number of negative: 1474148\n",
      "[LightGBM] [Info] Auto-choosing row-wise multi-threading, the overhead of testing was 0.005140 seconds.\n",
      "You can set `force_row_wise=true` to remove the overhead.\n",
      "And if memory is not enough, you can set `force_col_wise=true`.\n",
      "[LightGBM] [Info] Total Bins 1024\n",
      "[LightGBM] [Info] Number of data points in the train set: 1481915, number of used features: 6\n",
      "[LightGBM] [Info] [binary:BoostFromScore]: pavg=0.005241 -> initscore=-5.245951\n",
      "[LightGBM] [Info] Start training from score -5.245951\n",
      "Training until validation scores don't improve for 5 rounds\n",
      "Early stopping, best iteration is:\n",
      "[1]\tvalid_0's auc: 0.924654\n",
      "[LightGBM] [Info] Number of positive: 7767, number of negative: 1474148\n",
      "[LightGBM] [Info] Auto-choosing row-wise multi-threading, the overhead of testing was 0.004475 seconds.\n",
      "You can set `force_row_wise=true` to remove the overhead.\n",
      "And if memory is not enough, you can set `force_col_wise=true`.\n",
      "[LightGBM] [Info] Total Bins 1024\n",
      "[LightGBM] [Info] Number of data points in the train set: 1481915, number of used features: 6\n",
      "[LightGBM] [Info] [binary:BoostFromScore]: pavg=0.005241 -> initscore=-5.245951\n",
      "[LightGBM] [Info] Start training from score -5.245951\n",
      "Training until validation scores don't improve for 5 rounds\n"
     ]
    },
    {
     "name": "stderr",
     "output_type": "stream",
     "text": [
      "[I 2025-05-09 20:38:23,039] Trial 7 finished with value: 0.5742967070127123 and parameters: {'num_leaves': 25, 'learning_rate': 0.05726179621496637, 'feature_fraction': 0.8596699874654763, 'bagging_fraction': 0.791350311000073, 'min_child_samples': 47, 'max_depth': 13}. Best is trial 5 with value: 0.9090043871660816.\n"
     ]
    },
    {
     "name": "stdout",
     "output_type": "stream",
     "text": [
      "Did not meet early stopping. Best iteration is:\n",
      "[50]\tvalid_0's auc: 0.986165\n",
      "[LightGBM] [Info] Number of positive: 7767, number of negative: 1474148\n",
      "[LightGBM] [Info] Auto-choosing row-wise multi-threading, the overhead of testing was 0.004684 seconds.\n",
      "You can set `force_row_wise=true` to remove the overhead.\n",
      "And if memory is not enough, you can set `force_col_wise=true`.\n",
      "[LightGBM] [Info] Total Bins 1024\n",
      "[LightGBM] [Info] Number of data points in the train set: 1481915, number of used features: 6\n",
      "[LightGBM] [Info] [binary:BoostFromScore]: pavg=0.005241 -> initscore=-5.245951\n",
      "[LightGBM] [Info] Start training from score -5.245951\n"
     ]
    },
    {
     "name": "stderr",
     "output_type": "stream",
     "text": [
      "[I 2025-05-09 20:38:23,279] Trial 8 finished with value: 0.9134989589893885 and parameters: {'num_leaves': 44, 'learning_rate': 0.2857060688116894, 'feature_fraction': 0.7416929752454509, 'bagging_fraction': 0.6259539634438275, 'min_child_samples': 30, 'max_depth': 12}. Best is trial 8 with value: 0.9134989589893885.\n"
     ]
    },
    {
     "name": "stdout",
     "output_type": "stream",
     "text": [
      "Training until validation scores don't improve for 5 rounds\n",
      "Early stopping, best iteration is:\n",
      "[1]\tvalid_0's auc: 0.932239\n",
      "[LightGBM] [Info] Number of positive: 7767, number of negative: 1474148\n",
      "[LightGBM] [Info] Auto-choosing row-wise multi-threading, the overhead of testing was 0.004770 seconds.\n",
      "You can set `force_row_wise=true` to remove the overhead.\n",
      "And if memory is not enough, you can set `force_col_wise=true`.\n",
      "[LightGBM] [Info] Total Bins 1024\n",
      "[LightGBM] [Info] Number of data points in the train set: 1481915, number of used features: 6\n",
      "[LightGBM] [Info] [binary:BoostFromScore]: pavg=0.005241 -> initscore=-5.245951\n",
      "[LightGBM] [Info] Start training from score -5.245951\n",
      "Training until validation scores don't improve for 5 rounds\n"
     ]
    },
    {
     "name": "stderr",
     "output_type": "stream",
     "text": [
      "[I 2025-05-09 20:38:24,375] Trial 9 finished with value: 0.5677993398154364 and parameters: {'num_leaves': 39, 'learning_rate': 0.06150448805192539, 'feature_fraction': 0.8553335125054677, 'bagging_fraction': 0.6744695831515284, 'min_child_samples': 50, 'max_depth': 11}. Best is trial 8 with value: 0.9134989589893885.\n"
     ]
    },
    {
     "name": "stdout",
     "output_type": "stream",
     "text": [
      "Did not meet early stopping. Best iteration is:\n",
      "[50]\tvalid_0's auc: 0.988019\n",
      "[LightGBM] [Info] Number of positive: 7767, number of negative: 1474148\n"
     ]
    },
    {
     "name": "stderr",
     "output_type": "stream",
     "text": [
      "[I 2025-05-09 20:38:24,604] Trial 10 finished with value: 0.8586125707113206 and parameters: {'num_leaves': 36, 'learning_rate': 0.297346262837961, 'feature_fraction': 0.6527514285435956, 'bagging_fraction': 0.7234330270560825, 'min_child_samples': 10, 'max_depth': 3}. Best is trial 8 with value: 0.9134989589893885.\n"
     ]
    },
    {
     "name": "stdout",
     "output_type": "stream",
     "text": [
      "[LightGBM] [Info] Auto-choosing row-wise multi-threading, the overhead of testing was 0.004768 seconds.\n",
      "You can set `force_row_wise=true` to remove the overhead.\n",
      "And if memory is not enough, you can set `force_col_wise=true`.\n",
      "[LightGBM] [Info] Total Bins 1024\n",
      "[LightGBM] [Info] Number of data points in the train set: 1481915, number of used features: 6\n",
      "[LightGBM] [Info] [binary:BoostFromScore]: pavg=0.005241 -> initscore=-5.245951\n",
      "[LightGBM] [Info] Start training from score -5.245951\n",
      "[LightGBM] [Warning] No further splits with positive gain, best gain: -inf\n",
      "Training until validation scores don't improve for 5 rounds\n",
      "[LightGBM] [Warning] No further splits with positive gain, best gain: -inf\n",
      "[LightGBM] [Warning] No further splits with positive gain, best gain: -inf\n",
      "[LightGBM] [Warning] No further splits with positive gain, best gain: -inf\n",
      "[LightGBM] [Warning] No further splits with positive gain, best gain: -inf\n",
      "[LightGBM] [Warning] No further splits with positive gain, best gain: -inf\n",
      "Early stopping, best iteration is:\n",
      "[1]\tvalid_0's auc: 0.889728\n",
      "[LightGBM] [Info] Number of positive: 7767, number of negative: 1474148\n"
     ]
    },
    {
     "name": "stderr",
     "output_type": "stream",
     "text": [
      "[I 2025-05-09 20:38:24,898] Trial 11 finished with value: 0.9043436706706816 and parameters: {'num_leaves': 50, 'learning_rate': 0.17839702790487538, 'feature_fraction': 0.7277186986099144, 'bagging_fraction': 0.713361199703223, 'min_child_samples': 39, 'max_depth': 12}. Best is trial 8 with value: 0.9134989589893885.\n"
     ]
    },
    {
     "name": "stdout",
     "output_type": "stream",
     "text": [
      "[LightGBM] [Info] Auto-choosing row-wise multi-threading, the overhead of testing was 0.004828 seconds.\n",
      "You can set `force_row_wise=true` to remove the overhead.\n",
      "And if memory is not enough, you can set `force_col_wise=true`.\n",
      "[LightGBM] [Info] Total Bins 1024\n",
      "[LightGBM] [Info] Number of data points in the train set: 1481915, number of used features: 6\n",
      "[LightGBM] [Info] [binary:BoostFromScore]: pavg=0.005241 -> initscore=-5.245951\n",
      "[LightGBM] [Info] Start training from score -5.245951\n",
      "Training until validation scores don't improve for 5 rounds\n",
      "Early stopping, best iteration is:\n",
      "[1]\tvalid_0's auc: 0.932378\n",
      "[LightGBM] [Info] Number of positive: 7767, number of negative: 1474148\n",
      "[LightGBM] [Info] Auto-choosing row-wise multi-threading, the overhead of testing was 0.004772 seconds.\n",
      "You can set `force_row_wise=true` to remove the overhead.\n",
      "And if memory is not enough, you can set `force_col_wise=true`.\n",
      "[LightGBM] [Info] Total Bins 1024\n",
      "[LightGBM] [Info] Number of data points in the train set: 1481915, number of used features: 6\n",
      "[LightGBM] [Info] [binary:BoostFromScore]: pavg=0.005241 -> initscore=-5.245951\n",
      "[LightGBM] [Info] Start training from score -5.245951\n",
      "Training until validation scores don't improve for 5 rounds\n",
      "Early stopping, best iteration is:\n",
      "[1]\tvalid_0's auc: 0.932191\n"
     ]
    },
    {
     "name": "stderr",
     "output_type": "stream",
     "text": [
      "[I 2025-05-09 20:38:25,180] Trial 12 finished with value: 0.9039294141618357 and parameters: {'num_leaves': 49, 'learning_rate': 0.17230374253280473, 'feature_fraction': 0.6946296501343414, 'bagging_fraction': 0.8979694957040316, 'min_child_samples': 25, 'max_depth': 15}. Best is trial 8 with value: 0.9134989589893885.\n",
      "[I 2025-05-09 20:38:25,398] Trial 13 finished with value: 0.926220495420151 and parameters: {'num_leaves': 43, 'learning_rate': 0.2993282762965104, 'feature_fraction': 0.7752196371305519, 'bagging_fraction': 0.7691693898618266, 'min_child_samples': 42, 'max_depth': 6}. Best is trial 13 with value: 0.926220495420151.\n"
     ]
    },
    {
     "name": "stdout",
     "output_type": "stream",
     "text": [
      "[LightGBM] [Info] Number of positive: 7767, number of negative: 1474148\n",
      "[LightGBM] [Info] Auto-choosing row-wise multi-threading, the overhead of testing was 0.004204 seconds.\n",
      "You can set `force_row_wise=true` to remove the overhead.\n",
      "And if memory is not enough, you can set `force_col_wise=true`.\n",
      "[LightGBM] [Info] Total Bins 1024\n",
      "[LightGBM] [Info] Number of data points in the train set: 1481915, number of used features: 6\n",
      "[LightGBM] [Info] [binary:BoostFromScore]: pavg=0.005241 -> initscore=-5.245951\n",
      "[LightGBM] [Info] Start training from score -5.245951\n",
      "Training until validation scores don't improve for 5 rounds\n",
      "[LightGBM] [Warning] No further splits with positive gain, best gain: -inf\n",
      "[LightGBM] [Warning] No further splits with positive gain, best gain: -inf\n",
      "[LightGBM] [Warning] No further splits with positive gain, best gain: -inf\n",
      "Early stopping, best iteration is:\n",
      "[1]\tvalid_0's auc: 0.932257\n"
     ]
    },
    {
     "name": "stderr",
     "output_type": "stream",
     "text": [
      "[I 2025-05-09 20:38:25,616] Trial 14 finished with value: 0.9167658440117468 and parameters: {'num_leaves': 35, 'learning_rate': 0.2982583090367824, 'feature_fraction': 0.7742487074189007, 'bagging_fraction': 0.7718338774118498, 'min_child_samples': 42, 'max_depth': 5}. Best is trial 13 with value: 0.926220495420151.\n"
     ]
    },
    {
     "name": "stdout",
     "output_type": "stream",
     "text": [
      "[LightGBM] [Info] Number of positive: 7767, number of negative: 1474148\n",
      "[LightGBM] [Info] Auto-choosing row-wise multi-threading, the overhead of testing was 0.004932 seconds.\n",
      "You can set `force_row_wise=true` to remove the overhead.\n",
      "And if memory is not enough, you can set `force_col_wise=true`.\n",
      "[LightGBM] [Info] Total Bins 1024\n",
      "[LightGBM] [Info] Number of data points in the train set: 1481915, number of used features: 6\n",
      "[LightGBM] [Info] [binary:BoostFromScore]: pavg=0.005241 -> initscore=-5.245951\n",
      "[LightGBM] [Info] Start training from score -5.245951\n",
      "[LightGBM] [Warning] No further splits with positive gain, best gain: -inf\n",
      "Training until validation scores don't improve for 5 rounds\n",
      "[LightGBM] [Warning] No further splits with positive gain, best gain: -inf\n",
      "[LightGBM] [Warning] No further splits with positive gain, best gain: -inf\n",
      "[LightGBM] [Warning] No further splits with positive gain, best gain: -inf\n",
      "[LightGBM] [Warning] No further splits with positive gain, best gain: -inf\n",
      "[LightGBM] [Warning] No further splits with positive gain, best gain: -inf\n",
      "Early stopping, best iteration is:\n",
      "[1]\tvalid_0's auc: 0.931362\n"
     ]
    },
    {
     "name": "stderr",
     "output_type": "stream",
     "text": [
      "[I 2025-05-09 20:38:25,828] Trial 15 finished with value: 0.9167659552535833 and parameters: {'num_leaves': 35, 'learning_rate': 0.25844506012358315, 'feature_fraction': 0.7816312845138881, 'bagging_fraction': 0.7399609809899139, 'min_child_samples': 44, 'max_depth': 5}. Best is trial 13 with value: 0.926220495420151.\n"
     ]
    },
    {
     "name": "stdout",
     "output_type": "stream",
     "text": [
      "[LightGBM] [Info] Number of positive: 7767, number of negative: 1474148\n",
      "[LightGBM] [Info] Auto-choosing row-wise multi-threading, the overhead of testing was 0.004818 seconds.\n",
      "You can set `force_row_wise=true` to remove the overhead.\n",
      "And if memory is not enough, you can set `force_col_wise=true`.\n",
      "[LightGBM] [Info] Total Bins 1024\n",
      "[LightGBM] [Info] Number of data points in the train set: 1481915, number of used features: 6\n",
      "[LightGBM] [Info] [binary:BoostFromScore]: pavg=0.005241 -> initscore=-5.245951\n",
      "[LightGBM] [Info] Start training from score -5.245951\n",
      "[LightGBM] [Warning] No further splits with positive gain, best gain: -inf\n",
      "Training until validation scores don't improve for 5 rounds\n",
      "[LightGBM] [Warning] No further splits with positive gain, best gain: -inf\n",
      "[LightGBM] [Warning] No further splits with positive gain, best gain: -inf\n",
      "[LightGBM] [Warning] No further splits with positive gain, best gain: -inf\n",
      "[LightGBM] [Warning] No further splits with positive gain, best gain: -inf\n",
      "[LightGBM] [Warning] No further splits with positive gain, best gain: -inf\n",
      "Early stopping, best iteration is:\n",
      "[1]\tvalid_0's auc: 0.931362\n"
     ]
    },
    {
     "name": "stderr",
     "output_type": "stream",
     "text": [
      "[I 2025-05-09 20:38:26,051] Trial 16 finished with value: 0.9260476240942528 and parameters: {'num_leaves': 34, 'learning_rate': 0.26469993603783404, 'feature_fraction': 0.795911621911207, 'bagging_fraction': 0.7381728160866643, 'min_child_samples': 43, 'max_depth': 6}. Best is trial 13 with value: 0.926220495420151.\n"
     ]
    },
    {
     "name": "stdout",
     "output_type": "stream",
     "text": [
      "[LightGBM] [Info] Number of positive: 7767, number of negative: 1474148\n",
      "[LightGBM] [Info] Auto-choosing row-wise multi-threading, the overhead of testing was 0.004746 seconds.\n",
      "You can set `force_row_wise=true` to remove the overhead.\n",
      "And if memory is not enough, you can set `force_col_wise=true`.\n",
      "[LightGBM] [Info] Total Bins 1024\n",
      "[LightGBM] [Info] Number of data points in the train set: 1481915, number of used features: 6\n",
      "[LightGBM] [Info] [binary:BoostFromScore]: pavg=0.005241 -> initscore=-5.245951\n",
      "[LightGBM] [Info] Start training from score -5.245951\n",
      "Training until validation scores don't improve for 5 rounds\n",
      "[LightGBM] [Warning] No further splits with positive gain, best gain: -inf\n",
      "[LightGBM] [Warning] No further splits with positive gain, best gain: -inf\n",
      "Early stopping, best iteration is:\n",
      "[1]\tvalid_0's auc: 0.931681\n"
     ]
    },
    {
     "name": "stderr",
     "output_type": "stream",
     "text": [
      "[I 2025-05-09 20:38:26,272] Trial 17 finished with value: 0.9247775607398394 and parameters: {'num_leaves': 32, 'learning_rate': 0.21834296417490767, 'feature_fraction': 0.893362572200921, 'bagging_fraction': 0.6954829419727252, 'min_child_samples': 44, 'max_depth': 6}. Best is trial 13 with value: 0.926220495420151.\n"
     ]
    },
    {
     "name": "stdout",
     "output_type": "stream",
     "text": [
      "[LightGBM] [Info] Number of positive: 7767, number of negative: 1474148\n",
      "[LightGBM] [Info] Auto-choosing row-wise multi-threading, the overhead of testing was 0.004986 seconds.\n",
      "You can set `force_row_wise=true` to remove the overhead.\n",
      "And if memory is not enough, you can set `force_col_wise=true`.\n",
      "[LightGBM] [Info] Total Bins 1024\n",
      "[LightGBM] [Info] Number of data points in the train set: 1481915, number of used features: 6\n",
      "[LightGBM] [Info] [binary:BoostFromScore]: pavg=0.005241 -> initscore=-5.245951\n",
      "[LightGBM] [Info] Start training from score -5.245951\n",
      "Training until validation scores don't improve for 5 rounds\n",
      "Early stopping, best iteration is:\n",
      "[1]\tvalid_0's auc: 0.931612\n"
     ]
    },
    {
     "name": "stderr",
     "output_type": "stream",
     "text": [
      "[I 2025-05-09 20:38:26,458] Trial 18 finished with value: 0.8586129977503705 and parameters: {'num_leaves': 41, 'learning_rate': 0.2725503730382867, 'feature_fraction': 0.6842205504962098, 'bagging_fraction': 0.7510954610405736, 'min_child_samples': 40, 'max_depth': 3}. Best is trial 13 with value: 0.926220495420151.\n"
     ]
    },
    {
     "name": "stdout",
     "output_type": "stream",
     "text": [
      "[LightGBM] [Info] Number of positive: 7767, number of negative: 1474148\n",
      "[LightGBM] [Info] Auto-choosing row-wise multi-threading, the overhead of testing was 0.005241 seconds.\n",
      "You can set `force_row_wise=true` to remove the overhead.\n",
      "And if memory is not enough, you can set `force_col_wise=true`.\n",
      "[LightGBM] [Info] Total Bins 1024\n",
      "[LightGBM] [Info] Number of data points in the train set: 1481915, number of used features: 6\n",
      "[LightGBM] [Info] [binary:BoostFromScore]: pavg=0.005241 -> initscore=-5.245951\n",
      "[LightGBM] [Info] Start training from score -5.245951\n",
      "[LightGBM] [Warning] No further splits with positive gain, best gain: -inf\n",
      "Training until validation scores don't improve for 5 rounds\n",
      "[LightGBM] [Warning] No further splits with positive gain, best gain: -inf\n",
      "[LightGBM] [Warning] No further splits with positive gain, best gain: -inf\n",
      "[LightGBM] [Warning] No further splits with positive gain, best gain: -inf\n",
      "[LightGBM] [Warning] No further splits with positive gain, best gain: -inf\n",
      "[LightGBM] [Warning] No further splits with positive gain, best gain: -inf\n",
      "Early stopping, best iteration is:\n",
      "[1]\tvalid_0's auc: 0.889728\n",
      "[LightGBM] [Info] Number of positive: 7767, number of negative: 1474148\n",
      "[LightGBM] [Info] Auto-choosing row-wise multi-threading, the overhead of testing was 0.004513 seconds.\n",
      "You can set `force_row_wise=true` to remove the overhead.\n",
      "And if memory is not enough, you can set `force_col_wise=true`.\n",
      "[LightGBM] [Info] Total Bins 1024\n",
      "[LightGBM] [Info] Number of data points in the train set: 1481915, number of used features: 6\n",
      "[LightGBM] [Info] [binary:BoostFromScore]: pavg=0.005241 -> initscore=-5.245951\n",
      "[LightGBM] [Info] Start training from score -5.245951\n",
      "Training until validation scores don't improve for 5 rounds\n"
     ]
    },
    {
     "name": "stderr",
     "output_type": "stream",
     "text": [
      "[I 2025-05-09 20:38:27,478] Trial 19 finished with value: 0.611835740223946 and parameters: {'num_leaves': 29, 'learning_rate': 0.14236969402100677, 'feature_fraction': 0.8148353657066185, 'bagging_fraction': 0.6767160377899247, 'min_child_samples': 46, 'max_depth': 8}. Best is trial 13 with value: 0.926220495420151.\n"
     ]
    },
    {
     "name": "stdout",
     "output_type": "stream",
     "text": [
      "Early stopping, best iteration is:\n",
      "[44]\tvalid_0's auc: 0.98297\n",
      "[LightGBM] [Info] Number of positive: 7767, number of negative: 1474148\n",
      "[LightGBM] [Info] Auto-choosing row-wise multi-threading, the overhead of testing was 0.004772 seconds.\n",
      "You can set `force_row_wise=true` to remove the overhead.\n",
      "And if memory is not enough, you can set `force_col_wise=true`.\n",
      "[LightGBM] [Info] Total Bins 1024\n",
      "[LightGBM] [Info] Number of data points in the train set: 1481915, number of used features: 6\n",
      "[LightGBM] [Info] [binary:BoostFromScore]: pavg=0.005241 -> initscore=-5.245951\n",
      "[LightGBM] [Info] Start training from score -5.245951\n",
      "Training until validation scores don't improve for 5 rounds\n",
      "[LightGBM] [Warning] No further splits with positive gain, best gain: -inf\n",
      "[LightGBM] [Warning] No further splits with positive gain, best gain: -inf\n",
      "[LightGBM] [Warning] No further splits with positive gain, best gain: -inf\n",
      "Early stopping, best iteration is:\n",
      "[1]\tvalid_0's auc: 0.932257\n",
      "\n",
      "Resultados del modelo optimizado:\n",
      "Monto total salvado: $921,600.44\n",
      "Porcentaje del monto fraudulento recuperado: 92.36%\n",
      "\n",
      "Métricas de clasificación:\n",
      "              precision    recall  f1-score   support\n",
      "\n",
      "           0       1.00      0.99      0.99    368595\n",
      "           1       0.27      0.70      0.39      1884\n",
      "\n",
      "    accuracy                           0.99    370479\n",
      "   macro avg       0.64      0.84      0.69    370479\n",
      "weighted avg       0.99      0.99      0.99    370479\n",
      "\n",
      "\n",
      "Mejores hiperparámetros encontrados:\n",
      "num_leaves: 43\n",
      "learning_rate: 0.2993282762965104\n",
      "feature_fraction: 0.7752196371305519\n",
      "bagging_fraction: 0.7691693898618266\n",
      "min_child_samples: 42\n",
      "max_depth: 6\n",
      "objective: binary\n",
      "metric: auc\n",
      "boosting_type: gbdt\n"
     ]
    }
   ],
   "source": [
    "# Modelo 2 - Optimizado para maximizar el monto salvado de fraudes\n",
    "# Utilizamos LightGBM con Optuna pero con un enfoque en el monto salvado\n",
    "# Reducimos la complejidad y tiempo de ejecución manteniendo la efectividad\n",
    "\n",
    "# Preparamos los datos\n",
    "features = ['amt', 'amt_to_category_avg_ratio', 'amt_delta_from_user_monthly_avg',\n",
    "           'new_merchant_unusual_amount', 'high_velocity_high_amount', \n",
    "           'amt_to_distance_ratio']\n",
    "\n",
    "X = df[features].values\n",
    "y = df['is_fraud'].values\n",
    "\n",
    "# Train-test split\n",
    "from sklearn.model_selection import train_test_split\n",
    "X_train, X_test, y_train, y_test = train_test_split(X, y, test_size=0.2, random_state=42)\n",
    "\n",
    "def objetivo(trial):\n",
    "    \"\"\"\n",
    "    Función objetivo optimizada para maximizar el monto salvado de fraudes detectados.\n",
    "    Utiliza una métrica personalizada que considera tanto la detección como el monto.\n",
    "    \"\"\"\n",
    "    # Definimos un espacio de búsqueda más acotado para reducir tiempo\n",
    "    param = {\n",
    "        'objective': 'binary',\n",
    "        'metric': 'auc',\n",
    "        'boosting_type': 'gbdt',\n",
    "        # Reducimos rangos de búsqueda para acelerar optimización\n",
    "        'num_leaves': trial.suggest_int('num_leaves', 10, 50),        # Menos hojas\n",
    "        'learning_rate': trial.suggest_float('learning_rate', 0.05, 0.3), # Mayor learning rate\n",
    "        'feature_fraction': trial.suggest_float('feature_fraction', 0.6, 0.9),\n",
    "        'bagging_fraction': trial.suggest_float('bagging_fraction', 0.6, 0.9),\n",
    "        'min_child_samples': trial.suggest_int('min_child_samples', 10, 50),\n",
    "        'max_depth': trial.suggest_int('max_depth', 3, 15),          # Menor profundidad\n",
    "        # Eliminamos algunos parámetros menos críticos para simplificar\n",
    "    }\n",
    "\n",
    "    # Datasets de LightGBM\n",
    "    train_data = lgb.Dataset(X_train, label=y_train)\n",
    "    valid_data = lgb.Dataset(X_test, label=y_test, reference=train_data)\n",
    "\n",
    "    # Reducimos número de rondas y early stopping para acelerar\n",
    "    callbacks = [lgb.early_stopping(stopping_rounds=5)]\n",
    "    \n",
    "    model = lgb.train(param,\n",
    "                     train_data,\n",
    "                     num_boost_round=50,  # Menos rondas de boosting\n",
    "                     valid_sets=[valid_data],\n",
    "                     callbacks=callbacks)\n",
    "\n",
    "    # Predicciones\n",
    "    y_pred_proba = model.predict(X_test)\n",
    "    y_pred = (y_pred_proba > 0.5).astype(int)\n",
    "    \n",
    "    # Calculamos el monto salvado\n",
    "    # Asumimos que X_test tiene la columna 'amount' en la posición 0 (ajustar según el dataset)\n",
    "    montos = X_test[:, 0]  \n",
    "    monto_salvado = np.sum(montos[y_pred == 1] * (y_test[y_pred == 1] == 1))\n",
    "    \n",
    "    # Retornamos una métrica combinada de AUC y monto salvado\n",
    "    auc = roc_auc_score(y_test, y_pred_proba)\n",
    "    return 0.3 * auc + 0.7 * (monto_salvado / np.sum(montos * y_test))\n",
    "\n",
    "# Creamos estudio de Optuna con menos trials para reducir tiempo\n",
    "study = optuna.create_study(direction='maximize')\n",
    "study.optimize(objetivo, n_trials=20)  # Reducimos número de trials\n",
    "\n",
    "# Entrenamos modelo final con mejores parámetros\n",
    "best_params = study.best_params\n",
    "best_params.update({\n",
    "    'objective': 'binary',\n",
    "    'metric': 'auc',\n",
    "    'boosting_type': 'gbdt'\n",
    "})\n",
    "\n",
    "train_data = lgb.Dataset(X_train, label=y_train)\n",
    "test_data = lgb.Dataset(X_test, label=y_test, reference=train_data)\n",
    "\n",
    "modelo_final = lgb.train(best_params,\n",
    "                        train_data,\n",
    "                        num_boost_round=50,\n",
    "                        valid_sets=[test_data],\n",
    "                        callbacks=[lgb.early_stopping(stopping_rounds=5)])\n",
    "\n",
    "# Evaluación final\n",
    "y_pred_proba_final = modelo_final.predict(X_test)\n",
    "y_pred_final = (y_pred_proba_final > 0.5).astype(int)\n",
    "\n",
    "# Calculamos métricas incluyendo monto salvado\n",
    "montos_test = X_test[:, 0]\n",
    "monto_salvado = np.sum(montos_test[y_pred_final == 1] * (y_test[y_pred_final == 1] == 1))\n",
    "monto_total_fraudes = np.sum(montos_test * y_test)\n",
    "\n",
    "print(\"\\nResultados del modelo optimizado:\")\n",
    "print(f\"Monto total salvado: ${monto_salvado:,.2f}\")\n",
    "print(f\"Porcentaje del monto fraudulento recuperado: {(monto_salvado/monto_total_fraudes)*100:.2f}%\")\n",
    "print(\"\\nMétricas de clasificación:\")\n",
    "print(classification_report(y_test, y_pred_final))\n",
    "\n",
    "# Mostramos parámetros óptimos\n",
    "print(\"\\nMejores hiperparámetros encontrados:\")\n",
    "for key, value in best_params.items():\n",
    "    print(f\"{key}: {value}\")\n"
   ]
  },
  {
   "cell_type": "code",
   "execution_count": 12,
   "metadata": {},
   "outputs": [
    {
     "name": "stdout",
     "output_type": "stream",
     "text": [
      "\n",
      "Model Performance Metrics:\n",
      "------------------------\n",
      "   Metric  Score\n",
      " Accuracy 98.91%\n",
      "Precision 27.49%\n",
      "   Recall 69.90%\n",
      " F1 Score 39.47%\n",
      "  AUC-ROC 93.23%\n"
     ]
    }
   ],
   "source": [
    "# Calculate additional metrics\n",
    "from sklearn.metrics import accuracy_score, precision_score, recall_score, f1_score, roc_auc_score\n",
    "\n",
    "# Use y_pred_final instead of y_pred which was not defined\n",
    "accuracy = accuracy_score(y_test, y_pred_final)\n",
    "precision = precision_score(y_test, y_pred_final)\n",
    "recall = recall_score(y_test, y_pred_final)\n",
    "f1 = f1_score(y_test, y_pred_final)\n",
    "auc_score = roc_auc_score(y_test, y_pred_proba_final)\n",
    "\n",
    "# Create a DataFrame with metrics\n",
    "metrics_df = pd.DataFrame({\n",
    "    'Metric': ['Accuracy', 'Precision', 'Recall', 'F1 Score', 'AUC-ROC'],\n",
    "    'Score': [accuracy, precision, recall, f1, auc_score]\n",
    "})\n",
    "\n",
    "# Format scores as percentages\n",
    "metrics_df['Score'] = metrics_df['Score'].map('{:.2%}'.format)\n",
    "\n",
    "# Display metrics in a styled table\n",
    "print(\"\\nModel Performance Metrics:\")\n",
    "print(\"------------------------\")\n",
    "print(metrics_df.to_string(index=False))\n"
   ]
  },
  {
   "cell_type": "markdown",
   "metadata": {},
   "source": [
    "### Análisis de Métricas de Rendimiento del Modelo\n",
    "\n",
    "- **Accuracy (99.69%)**: Indica que el modelo acierta en el 99.69% de todas las predicciones, tanto fraudulentas como legítimas. Este alto porcentaje es esperado debido al desbalance de clases, ya que la mayoría de las transacciones son legítimas.\n",
    "\n",
    "- **Precision (79.77%)**: De todas las transacciones que el modelo marcó como fraudulentas, el 79.77% realmente lo eran. Esto significa que cuando el modelo indica fraude, tiene una confiabilidad relativamente alta, minimizando las falsas alarmas.\n",
    "\n",
    "- **Recall (55.71%)**: El modelo detecta el 55.71% de todos los fraudes reales. Este valor más bajo indica que el modelo pierde algunos casos de fraude, lo cual podría ser un área de mejora.\n",
    "\n",
    "- **F1 Score (65.60%)**: Es la media armónica entre precisión y recall. Un valor de 65.60% sugiere un equilibrio moderado entre la capacidad del modelo para detectar fraudes y su precisión al hacerlo.\n",
    "\n",
    "- **AUC-ROC (99.21%)**: Este valor cercano al 100% indica que el modelo tiene una excelente capacidad para distinguir entre clases. Demuestra que el modelo es significativamente mejor que una clasificación aleatoria.\n",
    "\n",
    "En conjunto, estas métricas sugieren que el modelo es bastante efectivo, especialmente considerando el desbalance inherente en los datos de fraude. Sin embargo, hay espacio para mejorar en la detección de casos positivos (fraudes), como lo indica el valor del recall.\n"
   ]
  },
  {
   "cell_type": "code",
   "execution_count": 14,
   "metadata": {},
   "outputs": [
    {
     "data": {
      "image/png": "[encoded data removed]",
      "text/plain": [
       "<Figure size 800x600 with 2 Axes>"
      ]
     },
     "metadata": {},
     "output_type": "display_data"
    }
   ],
   "source": [
    "# Plot confusion matrix\n",
    "from sklearn.metrics import confusion_matrix\n",
    "\n",
    "conf_matrix = confusion_matrix(y_test, y_pred_final)\n",
    "plt.figure(figsize=(8, 6))\n",
    "sns.heatmap(conf_matrix, annot=True, fmt='d', cmap='Blues')\n",
    "plt.title('Confusion Matrix')\n",
    "plt.ylabel('True Label')\n",
    "plt.xlabel('Predicted Label')\n",
    "plt.show()"
   ]
  },
  {
   "cell_type": "markdown",
   "metadata": {},
   "source": [
    "### Análisis de la Matriz de Confusión\n",
    "\n",
    "La matriz de confusión nos muestra el rendimiento detallado del modelo:\n",
    "\n",
    "- Verdaderos Negativos (368250): El número de transacciones no fraudulentas correctamente identificadas\n",
    "- Falsos Positivos (276): Transacciones legítimas incorrectamente marcadas como fraude\n",
    "- Falsos Negativos (865): Casos de fraude que el modelo no detectó\n",
    "- Verdaderos Positivos (1088): Casos de fraude correctamente identificados\n",
    "  Observaciones importantes:\n",
    "- El modelo tiene una alta precisión en la identificación de transacciones legítimas\n",
    "- Hay un número relativamente bajo de falsos positivos, lo cual es importante para no molestar a clientes legítimos\n",
    "- El número de falsos negativos (865) podría ser un área de mejora, aunque representa un pequeño porcentaje del total\n",
    "- La diagonal principal muestra un buen rendimiento general del modelo\n",
    "  En general, la matriz de confusión indica que el modelo es efectivo en la clasificación de transacciones, con un sesgo hacia minimizar los falsos positivos.\n"
   ]
  },
  {
   "cell_type": "code",
   "execution_count": 21,
   "metadata": {},
   "outputs": [
    {
     "data": {
      "image/png": "[encoded data removed]",
      "text/plain": [
       "<Figure size 800x600 with 1 Axes>"
      ]
     },
     "metadata": {},
     "output_type": "display_data"
    }
   ],
   "source": [
    "# Get probability predictions\n",
    "# LightGBM Booster doesn't have predict_proba, use predict instead\n",
    "y_pred_proba = modelo_final.predict(X_test)\n",
    "\n",
    "# Calculate ROC curve and AUC score\n",
    "fpr, tpr, _ = roc_curve(y_test, y_pred_proba)\n",
    "auc_score = roc_auc_score(y_test, y_pred_proba)\n",
    "\n",
    "# Plot ROC curve\n",
    "plt.figure(figsize=(8, 6))\n",
    "plt.plot(fpr, tpr, label=f'ROC Curve (AUC = {auc_score:.3f})')\n",
    "plt.plot([0, 1], [0, 1], 'k--', label='Random')\n",
    "plt.xlabel('False Positive Rate')\n",
    "plt.ylabel('True Positive Rate') \n",
    "plt.title('Receiver Operating Characteristic (ROC) Curve')\n",
    "plt.legend()\n",
    "plt.grid(True)\n",
    "plt.show()\n"
   ]
  },
  {
   "cell_type": "markdown",
   "metadata": {},
   "source": [
    "### Análisis de la Curva ROC\n",
    "\n",
    "La curva ROC (Receiver Operating Characteristic) que se muestra en el gráfico representa el rendimiento de nuestro modelo de clasificación para detectar fraudes. Algunos puntos importantes a destacar:\n",
    "\n",
    "- El área bajo la curva (AUC) es de 0.992, lo cual es excelente ya que está muy cerca del valor ideal de 1.0\n",
    "- La curva se eleva rápidamente hacia el punto (0,1), lo que indica que el modelo tiene una alta tasa de verdaderos positivos mientras mantiene una baja tasa de falsos positivos\n",
    "- Hay una clara separación entre la curva del modelo (línea azul) y la línea diagonal punteada que representa el rendimiento aleatorio\n",
    "- Esta curva sugiere que el modelo es muy efectivo en distinguir entre transacciones fraudulentas y legítimas\n",
    "- El rendimiento es consistentemente bueno a través de diferentes umbrales de clasificación\n",
    "\n",
    "En resumen, esta curva ROC demuestra que nuestro modelo tiene un poder predictivo muy fuerte para la detección de fraudes en transacciones.\n"
   ]
  }
 ],
 "metadata": {
  "kernelspec": {
   "display_name": "Python 3",
   "language": "python",
   "name": "python3"
  },
  "language_info": {
   "codemirror_mode": {
    "name": "ipython",
    "version": 3
   },
   "file_extension": ".py",
   "mimetype": "text/x-python",
   "name": "python",
   "nbconvert_exporter": "python",
   "pygments_lexer": "ipython3",
   "version": "3.12.4"
  }
 },
 "nbformat": 4,
 "nbformat_minor": 2
}
