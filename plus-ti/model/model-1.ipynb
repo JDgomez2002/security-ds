{
 "cells": [
  {
   "cell_type": "markdown",
   "metadata": {},
   "source": [
    "# Implementación del modelo base\n",
    "\n",
    "### José Daniel Gómez Cabrera 21429\n",
    "\n",
    "- Entrenar un modelo inicial con LightGBM utilizando métricas tradicionales como AUC-ROC y F1-score.\n",
    "- Evaluar el rendimiento inicial en términos de fraude detectado y falsos positivos.\n"
   ]
  },
  {
   "cell_type": "code",
   "execution_count": 15,
   "metadata": {},
   "outputs": [],
   "source": [
    "import pandas as pd\n",
    "from sklearn.model_selection import train_test_split\n",
    "from sklearn.preprocessing import LabelEncoder\n",
    "from sklearn.metrics import roc_auc_score, f1_score, confusion_matrix, classification_report\n",
    "import lightgbm as lgb\n",
    "import numpy as np\n",
    "import matplotlib.pyplot as plt\n",
    "import seaborn as sns\n",
    "from sklearn.metrics import roc_curve"
   ]
  },
  {
   "cell_type": "code",
   "execution_count": 16,
   "metadata": {},
   "outputs": [],
   "source": [
    "df = pd.read_csv('../data/dataset_feature_engineering.csv', header=0)"
   ]
  },
  {
   "cell_type": "code",
   "execution_count": 17,
   "metadata": {},
   "outputs": [
    {
     "data": {
      "text/html": [
       "<div>\n",
       "<style scoped>\n",
       "    .dataframe tbody tr th:only-of-type {\n",
       "        vertical-align: middle;\n",
       "    }\n",
       "\n",
       "    .dataframe tbody tr th {\n",
       "        vertical-align: top;\n",
       "    }\n",
       "\n",
       "    .dataframe thead th {\n",
       "        text-align: right;\n",
       "    }\n",
       "</style>\n",
       "<table border=\"1\" class=\"dataframe\">\n",
       "  <thead>\n",
       "    <tr style=\"text-align: right;\">\n",
       "      <th></th>\n",
       "      <th>cc_num</th>\n",
       "      <th>merchant</th>\n",
       "      <th>category</th>\n",
       "      <th>amt</th>\n",
       "      <th>first</th>\n",
       "      <th>last</th>\n",
       "      <th>gender</th>\n",
       "      <th>street</th>\n",
       "      <th>city</th>\n",
       "      <th>state</th>\n",
       "      <th>...</th>\n",
       "      <th>first_time_at_merchant</th>\n",
       "      <th>dist_between_client_and_merch</th>\n",
       "      <th>trans_month</th>\n",
       "      <th>trans_day</th>\n",
       "      <th>hour</th>\n",
       "      <th>year</th>\n",
       "      <th>times_shopped_at_merchant</th>\n",
       "      <th>times_shopped_at_merchant_year</th>\n",
       "      <th>times_shopped_at_merchant_month</th>\n",
       "      <th>times_shopped_at_merchant_day</th>\n",
       "    </tr>\n",
       "  </thead>\n",
       "  <tbody>\n",
       "    <tr>\n",
       "      <th>0</th>\n",
       "      <td>2703186189652095</td>\n",
       "      <td>fraud_Rippin, Kub and Mann</td>\n",
       "      <td>misc_net</td>\n",
       "      <td>4.97</td>\n",
       "      <td>Jennifer</td>\n",
       "      <td>Banks</td>\n",
       "      <td>F</td>\n",
       "      <td>561 Perry Cove</td>\n",
       "      <td>Moravian Falls</td>\n",
       "      <td>NC</td>\n",
       "      <td>...</td>\n",
       "      <td>True</td>\n",
       "      <td>78.773821</td>\n",
       "      <td>1</td>\n",
       "      <td>1</td>\n",
       "      <td>0</td>\n",
       "      <td>2019</td>\n",
       "      <td>5</td>\n",
       "      <td>4</td>\n",
       "      <td>2</td>\n",
       "      <td>1</td>\n",
       "    </tr>\n",
       "    <tr>\n",
       "      <th>1</th>\n",
       "      <td>630423337322</td>\n",
       "      <td>fraud_Heller, Gutmann and Zieme</td>\n",
       "      <td>grocery_pos</td>\n",
       "      <td>107.23</td>\n",
       "      <td>Stephanie</td>\n",
       "      <td>Gill</td>\n",
       "      <td>F</td>\n",
       "      <td>43039 Riley Greens Suite 393</td>\n",
       "      <td>Orient</td>\n",
       "      <td>WA</td>\n",
       "      <td>...</td>\n",
       "      <td>True</td>\n",
       "      <td>30.216618</td>\n",
       "      <td>1</td>\n",
       "      <td>1</td>\n",
       "      <td>0</td>\n",
       "      <td>2019</td>\n",
       "      <td>4</td>\n",
       "      <td>4</td>\n",
       "      <td>1</td>\n",
       "      <td>1</td>\n",
       "    </tr>\n",
       "    <tr>\n",
       "      <th>2</th>\n",
       "      <td>38859492057661</td>\n",
       "      <td>fraud_Lind-Buckridge</td>\n",
       "      <td>entertainment</td>\n",
       "      <td>220.11</td>\n",
       "      <td>Edward</td>\n",
       "      <td>Sanchez</td>\n",
       "      <td>M</td>\n",
       "      <td>594 White Dale Suite 530</td>\n",
       "      <td>Malad City</td>\n",
       "      <td>ID</td>\n",
       "      <td>...</td>\n",
       "      <td>True</td>\n",
       "      <td>108.102912</td>\n",
       "      <td>1</td>\n",
       "      <td>1</td>\n",
       "      <td>0</td>\n",
       "      <td>2019</td>\n",
       "      <td>4</td>\n",
       "      <td>3</td>\n",
       "      <td>1</td>\n",
       "      <td>1</td>\n",
       "    </tr>\n",
       "    <tr>\n",
       "      <th>3</th>\n",
       "      <td>3534093764340240</td>\n",
       "      <td>fraud_Kutch, Hermiston and Farrell</td>\n",
       "      <td>gas_transport</td>\n",
       "      <td>45.00</td>\n",
       "      <td>Jeremy</td>\n",
       "      <td>White</td>\n",
       "      <td>M</td>\n",
       "      <td>9443 Cynthia Court Apt. 038</td>\n",
       "      <td>Boulder</td>\n",
       "      <td>MT</td>\n",
       "      <td>...</td>\n",
       "      <td>True</td>\n",
       "      <td>95.685115</td>\n",
       "      <td>1</td>\n",
       "      <td>1</td>\n",
       "      <td>0</td>\n",
       "      <td>2019</td>\n",
       "      <td>1</td>\n",
       "      <td>1</td>\n",
       "      <td>1</td>\n",
       "      <td>1</td>\n",
       "    </tr>\n",
       "    <tr>\n",
       "      <th>4</th>\n",
       "      <td>375534208663984</td>\n",
       "      <td>fraud_Keeling-Crist</td>\n",
       "      <td>misc_pos</td>\n",
       "      <td>41.96</td>\n",
       "      <td>Tyler</td>\n",
       "      <td>Garcia</td>\n",
       "      <td>M</td>\n",
       "      <td>408 Bradley Rest</td>\n",
       "      <td>Doe Hill</td>\n",
       "      <td>VA</td>\n",
       "      <td>...</td>\n",
       "      <td>True</td>\n",
       "      <td>77.702395</td>\n",
       "      <td>1</td>\n",
       "      <td>1</td>\n",
       "      <td>0</td>\n",
       "      <td>2019</td>\n",
       "      <td>6</td>\n",
       "      <td>1</td>\n",
       "      <td>1</td>\n",
       "      <td>1</td>\n",
       "    </tr>\n",
       "  </tbody>\n",
       "</table>\n",
       "<p>5 rows × 35 columns</p>\n",
       "</div>"
      ],
      "text/plain": [
       "             cc_num                            merchant       category  \\\n",
       "0  2703186189652095          fraud_Rippin, Kub and Mann       misc_net   \n",
       "1      630423337322     fraud_Heller, Gutmann and Zieme    grocery_pos   \n",
       "2    38859492057661                fraud_Lind-Buckridge  entertainment   \n",
       "3  3534093764340240  fraud_Kutch, Hermiston and Farrell  gas_transport   \n",
       "4   375534208663984                 fraud_Keeling-Crist       misc_pos   \n",
       "\n",
       "      amt      first     last gender                        street  \\\n",
       "0    4.97   Jennifer    Banks      F                561 Perry Cove   \n",
       "1  107.23  Stephanie     Gill      F  43039 Riley Greens Suite 393   \n",
       "2  220.11     Edward  Sanchez      M      594 White Dale Suite 530   \n",
       "3   45.00     Jeremy    White      M   9443 Cynthia Court Apt. 038   \n",
       "4   41.96      Tyler   Garcia      M              408 Bradley Rest   \n",
       "\n",
       "             city state  ...  first_time_at_merchant  \\\n",
       "0  Moravian Falls    NC  ...                    True   \n",
       "1          Orient    WA  ...                    True   \n",
       "2      Malad City    ID  ...                    True   \n",
       "3         Boulder    MT  ...                    True   \n",
       "4        Doe Hill    VA  ...                    True   \n",
       "\n",
       "   dist_between_client_and_merch  trans_month  trans_day hour  year  \\\n",
       "0                      78.773821            1          1    0  2019   \n",
       "1                      30.216618            1          1    0  2019   \n",
       "2                     108.102912            1          1    0  2019   \n",
       "3                      95.685115            1          1    0  2019   \n",
       "4                      77.702395            1          1    0  2019   \n",
       "\n",
       "  times_shopped_at_merchant  times_shopped_at_merchant_year  \\\n",
       "0                         5                               4   \n",
       "1                         4                               4   \n",
       "2                         4                               3   \n",
       "3                         1                               1   \n",
       "4                         6                               1   \n",
       "\n",
       "   times_shopped_at_merchant_month  times_shopped_at_merchant_day  \n",
       "0                                2                              1  \n",
       "1                                1                              1  \n",
       "2                                1                              1  \n",
       "3                                1                              1  \n",
       "4                                1                              1  \n",
       "\n",
       "[5 rows x 35 columns]"
      ]
     },
     "execution_count": 17,
     "metadata": {},
     "output_type": "execute_result"
    }
   ],
   "source": [
    "df.head()"
   ]
  },
  {
   "cell_type": "code",
   "execution_count": 18,
   "metadata": {},
   "outputs": [
    {
     "name": "stdout",
     "output_type": "stream",
     "text": [
      "<class 'pandas.core.frame.DataFrame'>\n",
      "RangeIndex: 1852394 entries, 0 to 1852393\n",
      "Data columns (total 35 columns):\n",
      " #   Column                           Dtype  \n",
      "---  ------                           -----  \n",
      " 0   cc_num                           int64  \n",
      " 1   merchant                         object \n",
      " 2   category                         object \n",
      " 3   amt                              float64\n",
      " 4   first                            object \n",
      " 5   last                             object \n",
      " 6   gender                           object \n",
      " 7   street                           object \n",
      " 8   city                             object \n",
      " 9   state                            object \n",
      " 10  zip                              int64  \n",
      " 11  lat                              float64\n",
      " 12  long                             float64\n",
      " 13  city_pop                         int64  \n",
      " 14  job                              object \n",
      " 15  dob                              object \n",
      " 16  trans_num                        object \n",
      " 17  unix_time                        int64  \n",
      " 18  merch_lat                        float64\n",
      " 19  merch_long                       float64\n",
      " 20  is_fraud                         int64  \n",
      " 21  amt_month                        float64\n",
      " 22  amt_year                         float64\n",
      " 23  amt_month_shopping_net_spend     float64\n",
      " 24  count_month_shopping_net         float64\n",
      " 25  first_time_at_merchant           bool   \n",
      " 26  dist_between_client_and_merch    float64\n",
      " 27  trans_month                      int64  \n",
      " 28  trans_day                        int64  \n",
      " 29  hour                             int64  \n",
      " 30  year                             int64  \n",
      " 31  times_shopped_at_merchant        int64  \n",
      " 32  times_shopped_at_merchant_year   int64  \n",
      " 33  times_shopped_at_merchant_month  int64  \n",
      " 34  times_shopped_at_merchant_day    int64  \n",
      "dtypes: bool(1), float64(10), int64(13), object(11)\n",
      "memory usage: 482.3+ MB\n"
     ]
    }
   ],
   "source": [
    "df.info()"
   ]
  },
  {
   "cell_type": "markdown",
   "metadata": {},
   "source": [
    "## Años y meses disponibles\n"
   ]
  },
  {
   "cell_type": "code",
   "execution_count": 19,
   "metadata": {},
   "outputs": [
    {
     "name": "stdout",
     "output_type": "stream",
     "text": [
      "Años disponibles: [2019 2020]\n",
      "Meses disponibles: [ 1  2  3  4  5  6  7  8  9 10 11 12]\n"
     ]
    }
   ],
   "source": [
    "print(\"Años disponibles:\", df['year'].unique())\n",
    "print(\"Meses disponibles:\", df['trans_month'].unique())"
   ]
  },
  {
   "cell_type": "markdown",
   "metadata": {},
   "source": [
    "## Variable objetivo\n"
   ]
  },
  {
   "cell_type": "code",
   "execution_count": 20,
   "metadata": {},
   "outputs": [
    {
     "data": {
      "text/html": [
       "<div>\n",
       "<style scoped>\n",
       "    .dataframe tbody tr th:only-of-type {\n",
       "        vertical-align: middle;\n",
       "    }\n",
       "\n",
       "    .dataframe tbody tr th {\n",
       "        vertical-align: top;\n",
       "    }\n",
       "\n",
       "    .dataframe thead th {\n",
       "        text-align: right;\n",
       "    }\n",
       "</style>\n",
       "<table border=\"1\" class=\"dataframe\">\n",
       "  <thead>\n",
       "    <tr style=\"text-align: right;\">\n",
       "      <th></th>\n",
       "      <th>Amount</th>\n",
       "      <th>Percentage</th>\n",
       "    </tr>\n",
       "    <tr>\n",
       "      <th>is_fraud</th>\n",
       "      <th></th>\n",
       "      <th></th>\n",
       "    </tr>\n",
       "  </thead>\n",
       "  <tbody>\n",
       "    <tr>\n",
       "      <th>No fraud</th>\n",
       "      <td>1842743</td>\n",
       "      <td>99.48</td>\n",
       "    </tr>\n",
       "    <tr>\n",
       "      <th>Fraud</th>\n",
       "      <td>9651</td>\n",
       "      <td>0.52</td>\n",
       "    </tr>\n",
       "  </tbody>\n",
       "</table>\n",
       "</div>"
      ],
      "text/plain": [
       "           Amount  Percentage\n",
       "is_fraud                     \n",
       "No fraud  1842743       99.48\n",
       "Fraud        9651        0.52"
      ]
     },
     "execution_count": 20,
     "metadata": {},
     "output_type": "execute_result"
    }
   ],
   "source": [
    "fraud_dist = df['is_fraud'].value_counts().rename({0: 'No fraud', 1: 'Fraud'})\n",
    "fraud_percent = (fraud_dist / fraud_dist.sum()) * 100\n",
    "\n",
    "fraud_df = pd.DataFrame({\n",
    "    'Amount': fraud_dist,\n",
    "    'Percentage': fraud_percent.round(2)\n",
    "})\n",
    "fraud_df"
   ]
  },
  {
   "cell_type": "markdown",
   "metadata": {},
   "source": [
    "## Modelo\n"
   ]
  },
  {
   "cell_type": "code",
   "execution_count": null,
   "metadata": {},
   "outputs": [
    {
     "name": "stderr",
     "output_type": "stream",
     "text": [
      "[I 2025-05-09 19:38:01,922] A new study created in memory with name: no-name-5f6437e8-b454-4c96-be00-eda30ac0243a\n",
      "/var/folders/q2/dcrx6nt90nn2l4tdmr2yqy7w0000gn/T/ipykernel_14557/1012075270.py:50: FutureWarning: suggest_uniform has been deprecated in v3.0.0. This feature will be removed in v6.0.0. See https://github.com/optuna/optuna/releases/tag/v3.0.0. Use suggest_float instead.\n",
      "  'feature_fraction': trial.suggest_uniform('feature_fraction', 0.6, 1.0),\n",
      "/var/folders/q2/dcrx6nt90nn2l4tdmr2yqy7w0000gn/T/ipykernel_14557/1012075270.py:52: FutureWarning: suggest_uniform has been deprecated in v3.0.0. This feature will be removed in v6.0.0. See https://github.com/optuna/optuna/releases/tag/v3.0.0. Use suggest_float instead.\n",
      "  'scale_pos_weight': trial.suggest_uniform('scale_pos_weight', 1, 100)  # Balance de clases\n"
     ]
    },
    {
     "name": "stdout",
     "output_type": "stream",
     "text": [
      "[LightGBM] [Info] Number of positive: 7698, number of negative: 1474217\n",
      "[LightGBM] [Info] Auto-choosing row-wise multi-threading, the overhead of testing was 0.004181 seconds.\n",
      "You can set `force_row_wise=true` to remove the overhead.\n",
      "And if memory is not enough, you can set `force_col_wise=true`.\n",
      "[LightGBM] [Info] Total Bins 2700\n",
      "[LightGBM] [Info] Number of data points in the train set: 1481915, number of used features: 20\n",
      "[LightGBM] [Info] [binary:BoostFromScore]: pavg=0.005195 -> initscore=-5.254922\n",
      "[LightGBM] [Info] Start training from score -5.254922\n",
      "Training until validation scores don't improve for 20 rounds\n"
     ]
    },
    {
     "name": "stderr",
     "output_type": "stream",
     "text": [
      "[I 2025-05-09 19:38:02,860] Trial 0 finished with value: 629775.7749999999 and parameters: {'num_leaves': 98, 'learning_rate': 0.0900718222233042, 'feature_fraction': 0.6744944859043182, 'min_child_samples': 61, 'scale_pos_weight': 20.238177088417963}. Best is trial 0 with value: 629775.7749999999.\n"
     ]
    },
    {
     "name": "stdout",
     "output_type": "stream",
     "text": [
      "Early stopping, best iteration is:\n",
      "[2]\tvalid_0's auc: 0.976\n"
     ]
    },
    {
     "name": "stderr",
     "output_type": "stream",
     "text": [
      "/var/folders/q2/dcrx6nt90nn2l4tdmr2yqy7w0000gn/T/ipykernel_14557/1012075270.py:50: FutureWarning: suggest_uniform has been deprecated in v3.0.0. This feature will be removed in v6.0.0. See https://github.com/optuna/optuna/releases/tag/v3.0.0. Use suggest_float instead.\n",
      "  'feature_fraction': trial.suggest_uniform('feature_fraction', 0.6, 1.0),\n",
      "/var/folders/q2/dcrx6nt90nn2l4tdmr2yqy7w0000gn/T/ipykernel_14557/1012075270.py:52: FutureWarning: suggest_uniform has been deprecated in v3.0.0. This feature will be removed in v6.0.0. See https://github.com/optuna/optuna/releases/tag/v3.0.0. Use suggest_float instead.\n",
      "  'scale_pos_weight': trial.suggest_uniform('scale_pos_weight', 1, 100)  # Balance de clases\n"
     ]
    },
    {
     "name": "stdout",
     "output_type": "stream",
     "text": [
      "[LightGBM] [Info] Number of positive: 7698, number of negative: 1474217\n",
      "[LightGBM] [Info] Auto-choosing row-wise multi-threading, the overhead of testing was 0.005009 seconds.\n",
      "You can set `force_row_wise=true` to remove the overhead.\n",
      "And if memory is not enough, you can set `force_col_wise=true`.\n",
      "[LightGBM] [Info] Total Bins 2700\n",
      "[LightGBM] [Info] Number of data points in the train set: 1481915, number of used features: 20\n",
      "[LightGBM] [Info] [binary:BoostFromScore]: pavg=0.005195 -> initscore=-5.254922\n",
      "[LightGBM] [Info] Start training from score -5.254922\n",
      "Training until validation scores don't improve for 20 rounds\n"
     ]
    },
    {
     "name": "stderr",
     "output_type": "stream",
     "text": [
      "[I 2025-05-09 19:38:03,739] Trial 1 finished with value: 633138.944 and parameters: {'num_leaves': 58, 'learning_rate': 0.05963593718767314, 'feature_fraction': 0.915520309469926, 'min_child_samples': 38, 'scale_pos_weight': 94.13337178522666}. Best is trial 1 with value: 633138.944.\n"
     ]
    },
    {
     "name": "stdout",
     "output_type": "stream",
     "text": [
      "Early stopping, best iteration is:\n",
      "[1]\tvalid_0's auc: 0.978615\n"
     ]
    },
    {
     "name": "stderr",
     "output_type": "stream",
     "text": [
      "/var/folders/q2/dcrx6nt90nn2l4tdmr2yqy7w0000gn/T/ipykernel_14557/1012075270.py:50: FutureWarning: suggest_uniform has been deprecated in v3.0.0. This feature will be removed in v6.0.0. See https://github.com/optuna/optuna/releases/tag/v3.0.0. Use suggest_float instead.\n",
      "  'feature_fraction': trial.suggest_uniform('feature_fraction', 0.6, 1.0),\n",
      "/var/folders/q2/dcrx6nt90nn2l4tdmr2yqy7w0000gn/T/ipykernel_14557/1012075270.py:52: FutureWarning: suggest_uniform has been deprecated in v3.0.0. This feature will be removed in v6.0.0. See https://github.com/optuna/optuna/releases/tag/v3.0.0. Use suggest_float instead.\n",
      "  'scale_pos_weight': trial.suggest_uniform('scale_pos_weight', 1, 100)  # Balance de clases\n"
     ]
    },
    {
     "name": "stdout",
     "output_type": "stream",
     "text": [
      "[LightGBM] [Info] Number of positive: 7698, number of negative: 1474217\n",
      "[LightGBM] [Info] Auto-choosing row-wise multi-threading, the overhead of testing was 0.004968 seconds.\n",
      "You can set `force_row_wise=true` to remove the overhead.\n",
      "And if memory is not enough, you can set `force_col_wise=true`.\n",
      "[LightGBM] [Info] Total Bins 2700\n",
      "[LightGBM] [Info] Number of data points in the train set: 1481915, number of used features: 20\n",
      "[LightGBM] [Info] [binary:BoostFromScore]: pavg=0.005195 -> initscore=-5.254922\n",
      "[LightGBM] [Info] Start training from score -5.254922\n",
      "Training until validation scores don't improve for 20 rounds\n",
      "Early stopping, best iteration is:\n",
      "[866]\tvalid_0's auc: 0.996689\n"
     ]
    },
    {
     "name": "stderr",
     "output_type": "stream",
     "text": [
      "[I 2025-05-09 19:38:33,090] Trial 2 finished with value: 903779.4829999999 and parameters: {'num_leaves': 64, 'learning_rate': 0.02436670933647848, 'feature_fraction': 0.9926706422390916, 'min_child_samples': 98, 'scale_pos_weight': 93.67332513743321}. Best is trial 2 with value: 903779.4829999999.\n",
      "/var/folders/q2/dcrx6nt90nn2l4tdmr2yqy7w0000gn/T/ipykernel_14557/1012075270.py:50: FutureWarning: suggest_uniform has been deprecated in v3.0.0. This feature will be removed in v6.0.0. See https://github.com/optuna/optuna/releases/tag/v3.0.0. Use suggest_float instead.\n",
      "  'feature_fraction': trial.suggest_uniform('feature_fraction', 0.6, 1.0),\n",
      "/var/folders/q2/dcrx6nt90nn2l4tdmr2yqy7w0000gn/T/ipykernel_14557/1012075270.py:52: FutureWarning: suggest_uniform has been deprecated in v3.0.0. This feature will be removed in v6.0.0. See https://github.com/optuna/optuna/releases/tag/v3.0.0. Use suggest_float instead.\n",
      "  'scale_pos_weight': trial.suggest_uniform('scale_pos_weight', 1, 100)  # Balance de clases\n"
     ]
    },
    {
     "name": "stdout",
     "output_type": "stream",
     "text": [
      "[LightGBM] [Info] Number of positive: 7698, number of negative: 1474217\n",
      "[LightGBM] [Info] Auto-choosing row-wise multi-threading, the overhead of testing was 0.005111 seconds.\n",
      "You can set `force_row_wise=true` to remove the overhead.\n",
      "And if memory is not enough, you can set `force_col_wise=true`.\n",
      "[LightGBM] [Info] Total Bins 2700\n",
      "[LightGBM] [Info] Number of data points in the train set: 1481915, number of used features: 20\n",
      "[LightGBM] [Info] [binary:BoostFromScore]: pavg=0.005195 -> initscore=-5.254922\n",
      "[LightGBM] [Info] Start training from score -5.254922\n",
      "Training until validation scores don't improve for 20 rounds\n",
      "Did not meet early stopping. Best iteration is:\n",
      "[1000]\tvalid_0's auc: 0.99712\n"
     ]
    },
    {
     "name": "stderr",
     "output_type": "stream",
     "text": [
      "[I 2025-05-09 19:39:14,143] Trial 3 finished with value: 931147.0460000001 and parameters: {'num_leaves': 95, 'learning_rate': 0.011836938069880957, 'feature_fraction': 0.9788834787880396, 'min_child_samples': 93, 'scale_pos_weight': 22.282969284995403}. Best is trial 3 with value: 931147.0460000001.\n",
      "/var/folders/q2/dcrx6nt90nn2l4tdmr2yqy7w0000gn/T/ipykernel_14557/1012075270.py:50: FutureWarning: suggest_uniform has been deprecated in v3.0.0. This feature will be removed in v6.0.0. See https://github.com/optuna/optuna/releases/tag/v3.0.0. Use suggest_float instead.\n",
      "  'feature_fraction': trial.suggest_uniform('feature_fraction', 0.6, 1.0),\n",
      "/var/folders/q2/dcrx6nt90nn2l4tdmr2yqy7w0000gn/T/ipykernel_14557/1012075270.py:52: FutureWarning: suggest_uniform has been deprecated in v3.0.0. This feature will be removed in v6.0.0. See https://github.com/optuna/optuna/releases/tag/v3.0.0. Use suggest_float instead.\n",
      "  'scale_pos_weight': trial.suggest_uniform('scale_pos_weight', 1, 100)  # Balance de clases\n"
     ]
    },
    {
     "name": "stdout",
     "output_type": "stream",
     "text": [
      "[LightGBM] [Info] Number of positive: 7698, number of negative: 1474217\n",
      "[LightGBM] [Info] Auto-choosing row-wise multi-threading, the overhead of testing was 0.005496 seconds.\n",
      "You can set `force_row_wise=true` to remove the overhead.\n",
      "And if memory is not enough, you can set `force_col_wise=true`.\n",
      "[LightGBM] [Info] Total Bins 2700\n",
      "[LightGBM] [Info] Number of data points in the train set: 1481915, number of used features: 20\n",
      "[LightGBM] [Info] [binary:BoostFromScore]: pavg=0.005195 -> initscore=-5.254922\n",
      "[LightGBM] [Info] Start training from score -5.254922\n",
      "Training until validation scores don't improve for 20 rounds\n",
      "Did not meet early stopping. Best iteration is:\n",
      "[1000]\tvalid_0's auc: 0.995919\n"
     ]
    },
    {
     "name": "stderr",
     "output_type": "stream",
     "text": [
      "[I 2025-05-09 19:39:48,589] Trial 4 finished with value: 820998.646 and parameters: {'num_leaves': 57, 'learning_rate': 0.01012852874318032, 'feature_fraction': 0.809321705803398, 'min_child_samples': 35, 'scale_pos_weight': 93.52772432442761}. Best is trial 3 with value: 931147.0460000001.\n",
      "/var/folders/q2/dcrx6nt90nn2l4tdmr2yqy7w0000gn/T/ipykernel_14557/1012075270.py:50: FutureWarning: suggest_uniform has been deprecated in v3.0.0. This feature will be removed in v6.0.0. See https://github.com/optuna/optuna/releases/tag/v3.0.0. Use suggest_float instead.\n",
      "  'feature_fraction': trial.suggest_uniform('feature_fraction', 0.6, 1.0),\n",
      "/var/folders/q2/dcrx6nt90nn2l4tdmr2yqy7w0000gn/T/ipykernel_14557/1012075270.py:52: FutureWarning: suggest_uniform has been deprecated in v3.0.0. This feature will be removed in v6.0.0. See https://github.com/optuna/optuna/releases/tag/v3.0.0. Use suggest_float instead.\n",
      "  'scale_pos_weight': trial.suggest_uniform('scale_pos_weight', 1, 100)  # Balance de clases\n"
     ]
    },
    {
     "name": "stdout",
     "output_type": "stream",
     "text": [
      "[LightGBM] [Info] Number of positive: 7698, number of negative: 1474217\n",
      "[LightGBM] [Info] Auto-choosing row-wise multi-threading, the overhead of testing was 0.005035 seconds.\n",
      "You can set `force_row_wise=true` to remove the overhead.\n",
      "And if memory is not enough, you can set `force_col_wise=true`.\n",
      "[LightGBM] [Info] Total Bins 2700\n",
      "[LightGBM] [Info] Number of data points in the train set: 1481915, number of used features: 20\n",
      "[LightGBM] [Info] [binary:BoostFromScore]: pavg=0.005195 -> initscore=-5.254922\n",
      "[LightGBM] [Info] Start training from score -5.254922\n",
      "Training until validation scores don't improve for 20 rounds\n",
      "Did not meet early stopping. Best iteration is:\n",
      "[1000]\tvalid_0's auc: 0.996641\n"
     ]
    },
    {
     "name": "stderr",
     "output_type": "stream",
     "text": [
      "[I 2025-05-09 19:40:25,902] Trial 5 finished with value: 865264.084 and parameters: {'num_leaves': 72, 'learning_rate': 0.012856443368949685, 'feature_fraction': 0.762391858298191, 'min_child_samples': 62, 'scale_pos_weight': 99.92203288245946}. Best is trial 3 with value: 931147.0460000001.\n",
      "/var/folders/q2/dcrx6nt90nn2l4tdmr2yqy7w0000gn/T/ipykernel_14557/1012075270.py:50: FutureWarning: suggest_uniform has been deprecated in v3.0.0. This feature will be removed in v6.0.0. See https://github.com/optuna/optuna/releases/tag/v3.0.0. Use suggest_float instead.\n",
      "  'feature_fraction': trial.suggest_uniform('feature_fraction', 0.6, 1.0),\n",
      "/var/folders/q2/dcrx6nt90nn2l4tdmr2yqy7w0000gn/T/ipykernel_14557/1012075270.py:52: FutureWarning: suggest_uniform has been deprecated in v3.0.0. This feature will be removed in v6.0.0. See https://github.com/optuna/optuna/releases/tag/v3.0.0. Use suggest_float instead.\n",
      "  'scale_pos_weight': trial.suggest_uniform('scale_pos_weight', 1, 100)  # Balance de clases\n"
     ]
    },
    {
     "name": "stdout",
     "output_type": "stream",
     "text": [
      "[LightGBM] [Info] Number of positive: 7698, number of negative: 1474217\n",
      "[LightGBM] [Info] Auto-choosing row-wise multi-threading, the overhead of testing was 0.005087 seconds.\n",
      "You can set `force_row_wise=true` to remove the overhead.\n",
      "And if memory is not enough, you can set `force_col_wise=true`.\n",
      "[LightGBM] [Info] Total Bins 2700\n",
      "[LightGBM] [Info] Number of data points in the train set: 1481915, number of used features: 20\n",
      "[LightGBM] [Info] [binary:BoostFromScore]: pavg=0.005195 -> initscore=-5.254922\n",
      "[LightGBM] [Info] Start training from score -5.254922\n",
      "Training until validation scores don't improve for 20 rounds\n",
      "Early stopping, best iteration is:\n",
      "[866]\tvalid_0's auc: 0.996533\n"
     ]
    },
    {
     "name": "stderr",
     "output_type": "stream",
     "text": [
      "[I 2025-05-09 19:40:54,167] Trial 6 finished with value: 901784.9479999999 and parameters: {'num_leaves': 61, 'learning_rate': 0.025422116630404567, 'feature_fraction': 0.9970371033258381, 'min_child_samples': 41, 'scale_pos_weight': 96.88517186823327}. Best is trial 3 with value: 931147.0460000001.\n",
      "/var/folders/q2/dcrx6nt90nn2l4tdmr2yqy7w0000gn/T/ipykernel_14557/1012075270.py:50: FutureWarning: suggest_uniform has been deprecated in v3.0.0. This feature will be removed in v6.0.0. See https://github.com/optuna/optuna/releases/tag/v3.0.0. Use suggest_float instead.\n",
      "  'feature_fraction': trial.suggest_uniform('feature_fraction', 0.6, 1.0),\n",
      "/var/folders/q2/dcrx6nt90nn2l4tdmr2yqy7w0000gn/T/ipykernel_14557/1012075270.py:52: FutureWarning: suggest_uniform has been deprecated in v3.0.0. This feature will be removed in v6.0.0. See https://github.com/optuna/optuna/releases/tag/v3.0.0. Use suggest_float instead.\n",
      "  'scale_pos_weight': trial.suggest_uniform('scale_pos_weight', 1, 100)  # Balance de clases\n"
     ]
    },
    {
     "name": "stdout",
     "output_type": "stream",
     "text": [
      "[LightGBM] [Info] Number of positive: 7698, number of negative: 1474217\n",
      "[LightGBM] [Info] Auto-choosing row-wise multi-threading, the overhead of testing was 0.005443 seconds.\n",
      "You can set `force_row_wise=true` to remove the overhead.\n",
      "And if memory is not enough, you can set `force_col_wise=true`.\n",
      "[LightGBM] [Info] Total Bins 2700\n",
      "[LightGBM] [Info] Number of data points in the train set: 1481915, number of used features: 20\n",
      "[LightGBM] [Info] [binary:BoostFromScore]: pavg=0.005195 -> initscore=-5.254922\n",
      "[LightGBM] [Info] Start training from score -5.254922\n",
      "Training until validation scores don't improve for 20 rounds\n"
     ]
    },
    {
     "name": "stderr",
     "output_type": "stream",
     "text": [
      "[I 2025-05-09 19:40:54,727] Trial 7 finished with value: 651279.947 and parameters: {'num_leaves': 32, 'learning_rate': 0.09552483343337632, 'feature_fraction': 0.9164324986913137, 'min_child_samples': 100, 'scale_pos_weight': 46.720177245157764}. Best is trial 3 with value: 931147.0460000001.\n"
     ]
    },
    {
     "name": "stdout",
     "output_type": "stream",
     "text": [
      "Early stopping, best iteration is:\n",
      "[1]\tvalid_0's auc: 0.975431\n"
     ]
    },
    {
     "name": "stderr",
     "output_type": "stream",
     "text": [
      "/var/folders/q2/dcrx6nt90nn2l4tdmr2yqy7w0000gn/T/ipykernel_14557/1012075270.py:50: FutureWarning: suggest_uniform has been deprecated in v3.0.0. This feature will be removed in v6.0.0. See https://github.com/optuna/optuna/releases/tag/v3.0.0. Use suggest_float instead.\n",
      "  'feature_fraction': trial.suggest_uniform('feature_fraction', 0.6, 1.0),\n",
      "/var/folders/q2/dcrx6nt90nn2l4tdmr2yqy7w0000gn/T/ipykernel_14557/1012075270.py:52: FutureWarning: suggest_uniform has been deprecated in v3.0.0. This feature will be removed in v6.0.0. See https://github.com/optuna/optuna/releases/tag/v3.0.0. Use suggest_float instead.\n",
      "  'scale_pos_weight': trial.suggest_uniform('scale_pos_weight', 1, 100)  # Balance de clases\n"
     ]
    },
    {
     "name": "stdout",
     "output_type": "stream",
     "text": [
      "[LightGBM] [Info] Number of positive: 7698, number of negative: 1474217\n",
      "[LightGBM] [Info] Auto-choosing col-wise multi-threading, the overhead of testing was 0.020051 seconds.\n",
      "You can set `force_col_wise=true` to remove the overhead.\n",
      "[LightGBM] [Info] Total Bins 2700\n",
      "[LightGBM] [Info] Number of data points in the train set: 1481915, number of used features: 20\n",
      "[LightGBM] [Info] [binary:BoostFromScore]: pavg=0.005195 -> initscore=-5.254922\n",
      "[LightGBM] [Info] Start training from score -5.254922\n",
      "Training until validation scores don't improve for 20 rounds\n"
     ]
    },
    {
     "name": "stderr",
     "output_type": "stream",
     "text": [
      "[I 2025-05-09 19:40:55,437] Trial 8 finished with value: 681738.1259999999 and parameters: {'num_leaves': 26, 'learning_rate': 0.08166696840789549, 'feature_fraction': 0.6924268804327163, 'min_child_samples': 54, 'scale_pos_weight': 15.291152908866849}. Best is trial 3 with value: 931147.0460000001.\n"
     ]
    },
    {
     "name": "stdout",
     "output_type": "stream",
     "text": [
      "Early stopping, best iteration is:\n",
      "[2]\tvalid_0's auc: 0.976338\n"
     ]
    },
    {
     "name": "stderr",
     "output_type": "stream",
     "text": [
      "/var/folders/q2/dcrx6nt90nn2l4tdmr2yqy7w0000gn/T/ipykernel_14557/1012075270.py:50: FutureWarning: suggest_uniform has been deprecated in v3.0.0. This feature will be removed in v6.0.0. See https://github.com/optuna/optuna/releases/tag/v3.0.0. Use suggest_float instead.\n",
      "  'feature_fraction': trial.suggest_uniform('feature_fraction', 0.6, 1.0),\n",
      "/var/folders/q2/dcrx6nt90nn2l4tdmr2yqy7w0000gn/T/ipykernel_14557/1012075270.py:52: FutureWarning: suggest_uniform has been deprecated in v3.0.0. This feature will be removed in v6.0.0. See https://github.com/optuna/optuna/releases/tag/v3.0.0. Use suggest_float instead.\n",
      "  'scale_pos_weight': trial.suggest_uniform('scale_pos_weight', 1, 100)  # Balance de clases\n"
     ]
    },
    {
     "name": "stdout",
     "output_type": "stream",
     "text": [
      "[LightGBM] [Info] Number of positive: 7698, number of negative: 1474217\n",
      "[LightGBM] [Info] Auto-choosing row-wise multi-threading, the overhead of testing was 0.005318 seconds.\n",
      "You can set `force_row_wise=true` to remove the overhead.\n",
      "And if memory is not enough, you can set `force_col_wise=true`.\n",
      "[LightGBM] [Info] Total Bins 2700\n",
      "[LightGBM] [Info] Number of data points in the train set: 1481915, number of used features: 20\n",
      "[LightGBM] [Info] [binary:BoostFromScore]: pavg=0.005195 -> initscore=-5.254922\n",
      "[LightGBM] [Info] Start training from score -5.254922\n",
      "Training until validation scores don't improve for 20 rounds\n",
      "Did not meet early stopping. Best iteration is:\n",
      "[1000]\tvalid_0's auc: 0.996811\n"
     ]
    },
    {
     "name": "stderr",
     "output_type": "stream",
     "text": [
      "[I 2025-05-09 19:41:28,743] Trial 9 finished with value: 920265.657 and parameters: {'num_leaves': 67, 'learning_rate': 0.0233414068435191, 'feature_fraction': 0.8556406052739816, 'min_child_samples': 63, 'scale_pos_weight': 91.85974684503275}. Best is trial 3 with value: 931147.0460000001.\n",
      "/var/folders/q2/dcrx6nt90nn2l4tdmr2yqy7w0000gn/T/ipykernel_14557/1012075270.py:50: FutureWarning: suggest_uniform has been deprecated in v3.0.0. This feature will be removed in v6.0.0. See https://github.com/optuna/optuna/releases/tag/v3.0.0. Use suggest_float instead.\n",
      "  'feature_fraction': trial.suggest_uniform('feature_fraction', 0.6, 1.0),\n",
      "/var/folders/q2/dcrx6nt90nn2l4tdmr2yqy7w0000gn/T/ipykernel_14557/1012075270.py:52: FutureWarning: suggest_uniform has been deprecated in v3.0.0. This feature will be removed in v6.0.0. See https://github.com/optuna/optuna/releases/tag/v3.0.0. Use suggest_float instead.\n",
      "  'scale_pos_weight': trial.suggest_uniform('scale_pos_weight', 1, 100)  # Balance de clases\n"
     ]
    },
    {
     "name": "stdout",
     "output_type": "stream",
     "text": [
      "[LightGBM] [Info] Number of positive: 7698, number of negative: 1474217\n",
      "[LightGBM] [Info] Auto-choosing row-wise multi-threading, the overhead of testing was 0.003502 seconds.\n",
      "You can set `force_row_wise=true` to remove the overhead.\n",
      "And if memory is not enough, you can set `force_col_wise=true`.\n",
      "[LightGBM] [Info] Total Bins 2700\n",
      "[LightGBM] [Info] Number of data points in the train set: 1481915, number of used features: 20\n",
      "[LightGBM] [Info] [binary:BoostFromScore]: pavg=0.005195 -> initscore=-5.254922\n",
      "[LightGBM] [Info] Start training from score -5.254922\n",
      "Training until validation scores don't improve for 20 rounds\n",
      "Did not meet early stopping. Best iteration is:\n",
      "[1000]\tvalid_0's auc: 0.997694\n"
     ]
    },
    {
     "name": "stderr",
     "output_type": "stream",
     "text": [
      "[I 2025-05-09 19:42:09,084] Trial 10 finished with value: 899504.951 and parameters: {'num_leaves': 100, 'learning_rate': 0.01567463385579253, 'feature_fraction': 0.6162337392510017, 'min_child_samples': 14, 'scale_pos_weight': 1.644312709545268}. Best is trial 3 with value: 931147.0460000001.\n",
      "/var/folders/q2/dcrx6nt90nn2l4tdmr2yqy7w0000gn/T/ipykernel_14557/1012075270.py:50: FutureWarning: suggest_uniform has been deprecated in v3.0.0. This feature will be removed in v6.0.0. See https://github.com/optuna/optuna/releases/tag/v3.0.0. Use suggest_float instead.\n",
      "  'feature_fraction': trial.suggest_uniform('feature_fraction', 0.6, 1.0),\n",
      "/var/folders/q2/dcrx6nt90nn2l4tdmr2yqy7w0000gn/T/ipykernel_14557/1012075270.py:52: FutureWarning: suggest_uniform has been deprecated in v3.0.0. This feature will be removed in v6.0.0. See https://github.com/optuna/optuna/releases/tag/v3.0.0. Use suggest_float instead.\n",
      "  'scale_pos_weight': trial.suggest_uniform('scale_pos_weight', 1, 100)  # Balance de clases\n"
     ]
    },
    {
     "name": "stdout",
     "output_type": "stream",
     "text": [
      "[LightGBM] [Info] Number of positive: 7698, number of negative: 1474217\n",
      "[LightGBM] [Info] Auto-choosing row-wise multi-threading, the overhead of testing was 0.004546 seconds.\n",
      "You can set `force_row_wise=true` to remove the overhead.\n",
      "And if memory is not enough, you can set `force_col_wise=true`.\n",
      "[LightGBM] [Info] Total Bins 2700\n",
      "[LightGBM] [Info] Number of data points in the train set: 1481915, number of used features: 20\n",
      "[LightGBM] [Info] [binary:BoostFromScore]: pavg=0.005195 -> initscore=-5.254922\n",
      "[LightGBM] [Info] Start training from score -5.254922\n",
      "Training until validation scores don't improve for 20 rounds\n",
      "Did not meet early stopping. Best iteration is:\n",
      "[983]\tvalid_0's auc: 0.997139\n"
     ]
    },
    {
     "name": "stderr",
     "output_type": "stream",
     "text": [
      "[I 2025-05-09 19:42:43,026] Trial 11 finished with value: 974312.002 and parameters: {'num_leaves': 83, 'learning_rate': 0.04586085961482893, 'feature_fraction': 0.8581195208184181, 'min_child_samples': 81, 'scale_pos_weight': 62.08782549425849}. Best is trial 11 with value: 974312.002.\n",
      "/var/folders/q2/dcrx6nt90nn2l4tdmr2yqy7w0000gn/T/ipykernel_14557/1012075270.py:50: FutureWarning: suggest_uniform has been deprecated in v3.0.0. This feature will be removed in v6.0.0. See https://github.com/optuna/optuna/releases/tag/v3.0.0. Use suggest_float instead.\n",
      "  'feature_fraction': trial.suggest_uniform('feature_fraction', 0.6, 1.0),\n",
      "/var/folders/q2/dcrx6nt90nn2l4tdmr2yqy7w0000gn/T/ipykernel_14557/1012075270.py:52: FutureWarning: suggest_uniform has been deprecated in v3.0.0. This feature will be removed in v6.0.0. See https://github.com/optuna/optuna/releases/tag/v3.0.0. Use suggest_float instead.\n",
      "  'scale_pos_weight': trial.suggest_uniform('scale_pos_weight', 1, 100)  # Balance de clases\n"
     ]
    },
    {
     "name": "stdout",
     "output_type": "stream",
     "text": [
      "[LightGBM] [Info] Number of positive: 7698, number of negative: 1474217\n",
      "[LightGBM] [Info] Auto-choosing row-wise multi-threading, the overhead of testing was 0.005448 seconds.\n",
      "You can set `force_row_wise=true` to remove the overhead.\n",
      "And if memory is not enough, you can set `force_col_wise=true`.\n",
      "[LightGBM] [Info] Total Bins 2700\n",
      "[LightGBM] [Info] Number of data points in the train set: 1481915, number of used features: 20\n",
      "[LightGBM] [Info] [binary:BoostFromScore]: pavg=0.005195 -> initscore=-5.254922\n",
      "[LightGBM] [Info] Start training from score -5.254922\n",
      "Training until validation scores don't improve for 20 rounds\n",
      "Early stopping, best iteration is:\n",
      "[465]\tvalid_0's auc: 0.994906\n"
     ]
    },
    {
     "name": "stderr",
     "output_type": "stream",
     "text": [
      "[I 2025-05-09 19:43:00,345] Trial 12 finished with value: 940799.3319999999 and parameters: {'num_leaves': 86, 'learning_rate': 0.04581443026646013, 'feature_fraction': 0.9030387134455353, 'min_child_samples': 82, 'scale_pos_weight': 62.135900955073836}. Best is trial 11 with value: 974312.002.\n",
      "/var/folders/q2/dcrx6nt90nn2l4tdmr2yqy7w0000gn/T/ipykernel_14557/1012075270.py:50: FutureWarning: suggest_uniform has been deprecated in v3.0.0. This feature will be removed in v6.0.0. See https://github.com/optuna/optuna/releases/tag/v3.0.0. Use suggest_float instead.\n",
      "  'feature_fraction': trial.suggest_uniform('feature_fraction', 0.6, 1.0),\n",
      "/var/folders/q2/dcrx6nt90nn2l4tdmr2yqy7w0000gn/T/ipykernel_14557/1012075270.py:52: FutureWarning: suggest_uniform has been deprecated in v3.0.0. This feature will be removed in v6.0.0. See https://github.com/optuna/optuna/releases/tag/v3.0.0. Use suggest_float instead.\n",
      "  'scale_pos_weight': trial.suggest_uniform('scale_pos_weight', 1, 100)  # Balance de clases\n"
     ]
    },
    {
     "name": "stdout",
     "output_type": "stream",
     "text": [
      "[LightGBM] [Info] Number of positive: 7698, number of negative: 1474217\n",
      "[LightGBM] [Info] Auto-choosing row-wise multi-threading, the overhead of testing was 0.004482 seconds.\n",
      "You can set `force_row_wise=true` to remove the overhead.\n",
      "And if memory is not enough, you can set `force_col_wise=true`.\n",
      "[LightGBM] [Info] Total Bins 2700\n",
      "[LightGBM] [Info] Number of data points in the train set: 1481915, number of used features: 20\n",
      "[LightGBM] [Info] [binary:BoostFromScore]: pavg=0.005195 -> initscore=-5.254922\n",
      "[LightGBM] [Info] Start training from score -5.254922\n",
      "Training until validation scores don't improve for 20 rounds\n",
      "Early stopping, best iteration is:\n",
      "[628]\tvalid_0's auc: 0.996101\n"
     ]
    },
    {
     "name": "stderr",
     "output_type": "stream",
     "text": [
      "[I 2025-05-09 19:43:22,906] Trial 13 finished with value: 951221.183 and parameters: {'num_leaves': 82, 'learning_rate': 0.04498960472191304, 'feature_fraction': 0.8745866843014425, 'min_child_samples': 81, 'scale_pos_weight': 66.18593250650396}. Best is trial 11 with value: 974312.002.\n",
      "/var/folders/q2/dcrx6nt90nn2l4tdmr2yqy7w0000gn/T/ipykernel_14557/1012075270.py:50: FutureWarning: suggest_uniform has been deprecated in v3.0.0. This feature will be removed in v6.0.0. See https://github.com/optuna/optuna/releases/tag/v3.0.0. Use suggest_float instead.\n",
      "  'feature_fraction': trial.suggest_uniform('feature_fraction', 0.6, 1.0),\n",
      "/var/folders/q2/dcrx6nt90nn2l4tdmr2yqy7w0000gn/T/ipykernel_14557/1012075270.py:52: FutureWarning: suggest_uniform has been deprecated in v3.0.0. This feature will be removed in v6.0.0. See https://github.com/optuna/optuna/releases/tag/v3.0.0. Use suggest_float instead.\n",
      "  'scale_pos_weight': trial.suggest_uniform('scale_pos_weight', 1, 100)  # Balance de clases\n"
     ]
    },
    {
     "name": "stdout",
     "output_type": "stream",
     "text": [
      "[LightGBM] [Info] Number of positive: 7698, number of negative: 1474217\n",
      "[LightGBM] [Info] Auto-choosing row-wise multi-threading, the overhead of testing was 0.005522 seconds.\n",
      "You can set `force_row_wise=true` to remove the overhead.\n",
      "And if memory is not enough, you can set `force_col_wise=true`.\n",
      "[LightGBM] [Info] Total Bins 2700\n",
      "[LightGBM] [Info] Number of data points in the train set: 1481915, number of used features: 20\n",
      "[LightGBM] [Info] [binary:BoostFromScore]: pavg=0.005195 -> initscore=-5.254922\n",
      "[LightGBM] [Info] Start training from score -5.254922\n",
      "Training until validation scores don't improve for 20 rounds\n",
      "Early stopping, best iteration is:\n",
      "[909]\tvalid_0's auc: 0.997099\n"
     ]
    },
    {
     "name": "stderr",
     "output_type": "stream",
     "text": [
      "[I 2025-05-09 19:43:54,559] Trial 14 finished with value: 964747.956 and parameters: {'num_leaves': 81, 'learning_rate': 0.03710656084088324, 'feature_fraction': 0.816634684339469, 'min_child_samples': 79, 'scale_pos_weight': 66.86763625596689}. Best is trial 11 with value: 974312.002.\n",
      "/var/folders/q2/dcrx6nt90nn2l4tdmr2yqy7w0000gn/T/ipykernel_14557/1012075270.py:50: FutureWarning: suggest_uniform has been deprecated in v3.0.0. This feature will be removed in v6.0.0. See https://github.com/optuna/optuna/releases/tag/v3.0.0. Use suggest_float instead.\n",
      "  'feature_fraction': trial.suggest_uniform('feature_fraction', 0.6, 1.0),\n",
      "/var/folders/q2/dcrx6nt90nn2l4tdmr2yqy7w0000gn/T/ipykernel_14557/1012075270.py:52: FutureWarning: suggest_uniform has been deprecated in v3.0.0. This feature will be removed in v6.0.0. See https://github.com/optuna/optuna/releases/tag/v3.0.0. Use suggest_float instead.\n",
      "  'scale_pos_weight': trial.suggest_uniform('scale_pos_weight', 1, 100)  # Balance de clases\n"
     ]
    },
    {
     "name": "stdout",
     "output_type": "stream",
     "text": [
      "[LightGBM] [Info] Number of positive: 7698, number of negative: 1474217\n",
      "[LightGBM] [Info] Auto-choosing row-wise multi-threading, the overhead of testing was 0.004016 seconds.\n",
      "You can set `force_row_wise=true` to remove the overhead.\n",
      "And if memory is not enough, you can set `force_col_wise=true`.\n",
      "[LightGBM] [Info] Total Bins 2700\n",
      "[LightGBM] [Info] Number of data points in the train set: 1481915, number of used features: 20\n",
      "[LightGBM] [Info] [binary:BoostFromScore]: pavg=0.005195 -> initscore=-5.254922\n",
      "[LightGBM] [Info] Start training from score -5.254922\n",
      "Training until validation scores don't improve for 20 rounds\n",
      "Early stopping, best iteration is:\n",
      "[761]\tvalid_0's auc: 0.995846\n"
     ]
    },
    {
     "name": "stderr",
     "output_type": "stream",
     "text": [
      "[I 2025-05-09 19:44:15,325] Trial 15 finished with value: 906316.6369999999 and parameters: {'num_leaves': 43, 'learning_rate': 0.03741340152774479, 'feature_fraction': 0.782923178500126, 'min_child_samples': 80, 'scale_pos_weight': 70.43339784269227}. Best is trial 11 with value: 974312.002.\n",
      "/var/folders/q2/dcrx6nt90nn2l4tdmr2yqy7w0000gn/T/ipykernel_14557/1012075270.py:50: FutureWarning: suggest_uniform has been deprecated in v3.0.0. This feature will be removed in v6.0.0. See https://github.com/optuna/optuna/releases/tag/v3.0.0. Use suggest_float instead.\n",
      "  'feature_fraction': trial.suggest_uniform('feature_fraction', 0.6, 1.0),\n",
      "/var/folders/q2/dcrx6nt90nn2l4tdmr2yqy7w0000gn/T/ipykernel_14557/1012075270.py:52: FutureWarning: suggest_uniform has been deprecated in v3.0.0. This feature will be removed in v6.0.0. See https://github.com/optuna/optuna/releases/tag/v3.0.0. Use suggest_float instead.\n",
      "  'scale_pos_weight': trial.suggest_uniform('scale_pos_weight', 1, 100)  # Balance de clases\n"
     ]
    },
    {
     "name": "stdout",
     "output_type": "stream",
     "text": [
      "[LightGBM] [Info] Number of positive: 7698, number of negative: 1474217\n",
      "[LightGBM] [Info] Auto-choosing row-wise multi-threading, the overhead of testing was 0.004057 seconds.\n",
      "You can set `force_row_wise=true` to remove the overhead.\n",
      "And if memory is not enough, you can set `force_col_wise=true`.\n",
      "[LightGBM] [Info] Total Bins 2700\n",
      "[LightGBM] [Info] Number of data points in the train set: 1481915, number of used features: 20\n",
      "[LightGBM] [Info] [binary:BoostFromScore]: pavg=0.005195 -> initscore=-5.254922\n",
      "[LightGBM] [Info] Start training from score -5.254922\n",
      "Training until validation scores don't improve for 20 rounds\n"
     ]
    },
    {
     "name": "stderr",
     "output_type": "stream",
     "text": [
      "[I 2025-05-09 19:44:16,313] Trial 16 finished with value: 684893.502 and parameters: {'num_leaves': 79, 'learning_rate': 0.064141259314275, 'feature_fraction': 0.8248304965962476, 'min_child_samples': 75, 'scale_pos_weight': 49.53639020540004}. Best is trial 11 with value: 974312.002.\n"
     ]
    },
    {
     "name": "stdout",
     "output_type": "stream",
     "text": [
      "Early stopping, best iteration is:\n",
      "[2]\tvalid_0's auc: 0.984955\n"
     ]
    },
    {
     "name": "stderr",
     "output_type": "stream",
     "text": [
      "/var/folders/q2/dcrx6nt90nn2l4tdmr2yqy7w0000gn/T/ipykernel_14557/1012075270.py:50: FutureWarning: suggest_uniform has been deprecated in v3.0.0. This feature will be removed in v6.0.0. See https://github.com/optuna/optuna/releases/tag/v3.0.0. Use suggest_float instead.\n",
      "  'feature_fraction': trial.suggest_uniform('feature_fraction', 0.6, 1.0),\n",
      "/var/folders/q2/dcrx6nt90nn2l4tdmr2yqy7w0000gn/T/ipykernel_14557/1012075270.py:52: FutureWarning: suggest_uniform has been deprecated in v3.0.0. This feature will be removed in v6.0.0. See https://github.com/optuna/optuna/releases/tag/v3.0.0. Use suggest_float instead.\n",
      "  'scale_pos_weight': trial.suggest_uniform('scale_pos_weight', 1, 100)  # Balance de clases\n"
     ]
    },
    {
     "name": "stdout",
     "output_type": "stream",
     "text": [
      "[LightGBM] [Info] Number of positive: 7698, number of negative: 1474217\n",
      "[LightGBM] [Info] Auto-choosing row-wise multi-threading, the overhead of testing was 0.004285 seconds.\n",
      "You can set `force_row_wise=true` to remove the overhead.\n",
      "And if memory is not enough, you can set `force_col_wise=true`.\n",
      "[LightGBM] [Info] Total Bins 2700\n",
      "[LightGBM] [Info] Number of data points in the train set: 1481915, number of used features: 20\n",
      "[LightGBM] [Info] [binary:BoostFromScore]: pavg=0.005195 -> initscore=-5.254922\n",
      "[LightGBM] [Info] Start training from score -5.254922\n",
      "Training until validation scores don't improve for 20 rounds\n",
      "Early stopping, best iteration is:\n",
      "[741]\tvalid_0's auc: 0.996778\n"
     ]
    },
    {
     "name": "stderr",
     "output_type": "stream",
     "text": [
      "[I 2025-05-09 19:44:44,740] Trial 17 finished with value: 941696.5669999999 and parameters: {'num_leaves': 88, 'learning_rate': 0.032042071770498726, 'feature_fraction': 0.7436533386155033, 'min_child_samples': 71, 'scale_pos_weight': 79.143225204679}. Best is trial 11 with value: 974312.002.\n",
      "/var/folders/q2/dcrx6nt90nn2l4tdmr2yqy7w0000gn/T/ipykernel_14557/1012075270.py:50: FutureWarning: suggest_uniform has been deprecated in v3.0.0. This feature will be removed in v6.0.0. See https://github.com/optuna/optuna/releases/tag/v3.0.0. Use suggest_float instead.\n",
      "  'feature_fraction': trial.suggest_uniform('feature_fraction', 0.6, 1.0),\n",
      "/var/folders/q2/dcrx6nt90nn2l4tdmr2yqy7w0000gn/T/ipykernel_14557/1012075270.py:52: FutureWarning: suggest_uniform has been deprecated in v3.0.0. This feature will be removed in v6.0.0. See https://github.com/optuna/optuna/releases/tag/v3.0.0. Use suggest_float instead.\n",
      "  'scale_pos_weight': trial.suggest_uniform('scale_pos_weight', 1, 100)  # Balance de clases\n"
     ]
    },
    {
     "name": "stdout",
     "output_type": "stream",
     "text": [
      "[LightGBM] [Info] Number of positive: 7698, number of negative: 1474217\n",
      "[LightGBM] [Info] Auto-choosing row-wise multi-threading, the overhead of testing was 0.004835 seconds.\n",
      "You can set `force_row_wise=true` to remove the overhead.\n",
      "And if memory is not enough, you can set `force_col_wise=true`.\n",
      "[LightGBM] [Info] Total Bins 2700\n",
      "[LightGBM] [Info] Number of data points in the train set: 1481915, number of used features: 20\n",
      "[LightGBM] [Info] [binary:BoostFromScore]: pavg=0.005195 -> initscore=-5.254922\n",
      "[LightGBM] [Info] Start training from score -5.254922\n",
      "Training until validation scores don't improve for 20 rounds\n",
      "Did not meet early stopping. Best iteration is:\n",
      "[999]\tvalid_0's auc: 0.997196\n"
     ]
    },
    {
     "name": "stderr",
     "output_type": "stream",
     "text": [
      "[I 2025-05-09 19:45:21,184] Trial 18 finished with value: 927392.22 and parameters: {'num_leaves': 74, 'learning_rate': 0.018842113001522044, 'feature_fraction': 0.728456457717714, 'min_child_samples': 91, 'scale_pos_weight': 41.180156541712705}. Best is trial 11 with value: 974312.002.\n",
      "/var/folders/q2/dcrx6nt90nn2l4tdmr2yqy7w0000gn/T/ipykernel_14557/1012075270.py:50: FutureWarning: suggest_uniform has been deprecated in v3.0.0. This feature will be removed in v6.0.0. See https://github.com/optuna/optuna/releases/tag/v3.0.0. Use suggest_float instead.\n",
      "  'feature_fraction': trial.suggest_uniform('feature_fraction', 0.6, 1.0),\n",
      "/var/folders/q2/dcrx6nt90nn2l4tdmr2yqy7w0000gn/T/ipykernel_14557/1012075270.py:52: FutureWarning: suggest_uniform has been deprecated in v3.0.0. This feature will be removed in v6.0.0. See https://github.com/optuna/optuna/releases/tag/v3.0.0. Use suggest_float instead.\n",
      "  'scale_pos_weight': trial.suggest_uniform('scale_pos_weight', 1, 100)  # Balance de clases\n"
     ]
    },
    {
     "name": "stdout",
     "output_type": "stream",
     "text": [
      "[LightGBM] [Info] Number of positive: 7698, number of negative: 1474217\n",
      "[LightGBM] [Info] Auto-choosing row-wise multi-threading, the overhead of testing was 0.004075 seconds.\n",
      "You can set `force_row_wise=true` to remove the overhead.\n",
      "And if memory is not enough, you can set `force_col_wise=true`.\n",
      "[LightGBM] [Info] Total Bins 2700\n",
      "[LightGBM] [Info] Number of data points in the train set: 1481915, number of used features: 20\n",
      "[LightGBM] [Info] [binary:BoostFromScore]: pavg=0.005195 -> initscore=-5.254922\n",
      "[LightGBM] [Info] Start training from score -5.254922\n",
      "Training until validation scores don't improve for 20 rounds\n"
     ]
    },
    {
     "name": "stderr",
     "output_type": "stream",
     "text": [
      "[I 2025-05-09 19:45:22,178] Trial 19 finished with value: 700233.9140000001 and parameters: {'num_leaves': 87, 'learning_rate': 0.06169071399704221, 'feature_fraction': 0.8514760492582634, 'min_child_samples': 47, 'scale_pos_weight': 34.44359035601238}. Best is trial 11 with value: 974312.002.\n"
     ]
    },
    {
     "name": "stdout",
     "output_type": "stream",
     "text": [
      "Early stopping, best iteration is:\n",
      "[2]\tvalid_0's auc: 0.983363\n"
     ]
    },
    {
     "name": "stderr",
     "output_type": "stream",
     "text": [
      "/var/folders/q2/dcrx6nt90nn2l4tdmr2yqy7w0000gn/T/ipykernel_14557/1012075270.py:50: FutureWarning: suggest_uniform has been deprecated in v3.0.0. This feature will be removed in v6.0.0. See https://github.com/optuna/optuna/releases/tag/v3.0.0. Use suggest_float instead.\n",
      "  'feature_fraction': trial.suggest_uniform('feature_fraction', 0.6, 1.0),\n",
      "/var/folders/q2/dcrx6nt90nn2l4tdmr2yqy7w0000gn/T/ipykernel_14557/1012075270.py:52: FutureWarning: suggest_uniform has been deprecated in v3.0.0. This feature will be removed in v6.0.0. See https://github.com/optuna/optuna/releases/tag/v3.0.0. Use suggest_float instead.\n",
      "  'scale_pos_weight': trial.suggest_uniform('scale_pos_weight', 1, 100)  # Balance de clases\n"
     ]
    },
    {
     "name": "stdout",
     "output_type": "stream",
     "text": [
      "[LightGBM] [Info] Number of positive: 7698, number of negative: 1474217\n",
      "[LightGBM] [Info] Auto-choosing row-wise multi-threading, the overhead of testing was 0.004981 seconds.\n",
      "You can set `force_row_wise=true` to remove the overhead.\n",
      "And if memory is not enough, you can set `force_col_wise=true`.\n",
      "[LightGBM] [Info] Total Bins 2700\n",
      "[LightGBM] [Info] Number of data points in the train set: 1481915, number of used features: 20\n",
      "[LightGBM] [Info] [binary:BoostFromScore]: pavg=0.005195 -> initscore=-5.254922\n",
      "[LightGBM] [Info] Start training from score -5.254922\n",
      "Training until validation scores don't improve for 20 rounds\n",
      "Early stopping, best iteration is:\n",
      "[421]\tvalid_0's auc: 0.99492\n"
     ]
    },
    {
     "name": "stderr",
     "output_type": "stream",
     "text": [
      "[I 2025-05-09 19:45:35,093] Trial 20 finished with value: 873078.4909999999 and parameters: {'num_leaves': 50, 'learning_rate': 0.04444328761512606, 'feature_fraction': 0.945822407839704, 'min_child_samples': 85, 'scale_pos_weight': 77.46848913379701}. Best is trial 11 with value: 974312.002.\n",
      "/var/folders/q2/dcrx6nt90nn2l4tdmr2yqy7w0000gn/T/ipykernel_14557/1012075270.py:50: FutureWarning: suggest_uniform has been deprecated in v3.0.0. This feature will be removed in v6.0.0. See https://github.com/optuna/optuna/releases/tag/v3.0.0. Use suggest_float instead.\n",
      "  'feature_fraction': trial.suggest_uniform('feature_fraction', 0.6, 1.0),\n",
      "/var/folders/q2/dcrx6nt90nn2l4tdmr2yqy7w0000gn/T/ipykernel_14557/1012075270.py:52: FutureWarning: suggest_uniform has been deprecated in v3.0.0. This feature will be removed in v6.0.0. See https://github.com/optuna/optuna/releases/tag/v3.0.0. Use suggest_float instead.\n",
      "  'scale_pos_weight': trial.suggest_uniform('scale_pos_weight', 1, 100)  # Balance de clases\n"
     ]
    },
    {
     "name": "stdout",
     "output_type": "stream",
     "text": [
      "[LightGBM] [Info] Number of positive: 7698, number of negative: 1474217\n",
      "[LightGBM] [Info] Auto-choosing row-wise multi-threading, the overhead of testing was 0.004345 seconds.\n",
      "You can set `force_row_wise=true` to remove the overhead.\n",
      "And if memory is not enough, you can set `force_col_wise=true`.\n",
      "[LightGBM] [Info] Total Bins 2700\n",
      "[LightGBM] [Info] Number of data points in the train set: 1481915, number of used features: 20\n",
      "[LightGBM] [Info] [binary:BoostFromScore]: pavg=0.005195 -> initscore=-5.254922\n",
      "[LightGBM] [Info] Start training from score -5.254922\n",
      "Training until validation scores don't improve for 20 rounds\n",
      "Did not meet early stopping. Best iteration is:\n",
      "[998]\tvalid_0's auc: 0.997239\n"
     ]
    },
    {
     "name": "stderr",
     "output_type": "stream",
     "text": [
      "[I 2025-05-09 19:46:08,064] Trial 21 finished with value: 972503.7100000001 and parameters: {'num_leaves': 79, 'learning_rate': 0.04772340397936574, 'feature_fraction': 0.8681980921978897, 'min_child_samples': 73, 'scale_pos_weight': 61.29639432446443}. Best is trial 11 with value: 974312.002.\n",
      "/var/folders/q2/dcrx6nt90nn2l4tdmr2yqy7w0000gn/T/ipykernel_14557/1012075270.py:50: FutureWarning: suggest_uniform has been deprecated in v3.0.0. This feature will be removed in v6.0.0. See https://github.com/optuna/optuna/releases/tag/v3.0.0. Use suggest_float instead.\n",
      "  'feature_fraction': trial.suggest_uniform('feature_fraction', 0.6, 1.0),\n",
      "/var/folders/q2/dcrx6nt90nn2l4tdmr2yqy7w0000gn/T/ipykernel_14557/1012075270.py:52: FutureWarning: suggest_uniform has been deprecated in v3.0.0. This feature will be removed in v6.0.0. See https://github.com/optuna/optuna/releases/tag/v3.0.0. Use suggest_float instead.\n",
      "  'scale_pos_weight': trial.suggest_uniform('scale_pos_weight', 1, 100)  # Balance de clases\n"
     ]
    },
    {
     "name": "stdout",
     "output_type": "stream",
     "text": [
      "[LightGBM] [Info] Number of positive: 7698, number of negative: 1474217\n",
      "[LightGBM] [Info] Auto-choosing row-wise multi-threading, the overhead of testing was 0.005245 seconds.\n",
      "You can set `force_row_wise=true` to remove the overhead.\n",
      "And if memory is not enough, you can set `force_col_wise=true`.\n",
      "[LightGBM] [Info] Total Bins 2700\n",
      "[LightGBM] [Info] Number of data points in the train set: 1481915, number of used features: 20\n",
      "[LightGBM] [Info] [binary:BoostFromScore]: pavg=0.005195 -> initscore=-5.254922\n",
      "[LightGBM] [Info] Start training from score -5.254922\n",
      "Training until validation scores don't improve for 20 rounds\n",
      "Did not meet early stopping. Best iteration is:\n",
      "[1000]\tvalid_0's auc: 0.997166\n"
     ]
    },
    {
     "name": "stderr",
     "output_type": "stream",
     "text": [
      "[I 2025-05-09 19:46:41,464] Trial 22 finished with value: 962477.9619999999 and parameters: {'num_leaves': 76, 'learning_rate': 0.035357922723231516, 'feature_fraction': 0.8160875571137688, 'min_child_samples': 70, 'scale_pos_weight': 58.724590439171344}. Best is trial 11 with value: 974312.002.\n",
      "/var/folders/q2/dcrx6nt90nn2l4tdmr2yqy7w0000gn/T/ipykernel_14557/1012075270.py:50: FutureWarning: suggest_uniform has been deprecated in v3.0.0. This feature will be removed in v6.0.0. See https://github.com/optuna/optuna/releases/tag/v3.0.0. Use suggest_float instead.\n",
      "  'feature_fraction': trial.suggest_uniform('feature_fraction', 0.6, 1.0),\n",
      "/var/folders/q2/dcrx6nt90nn2l4tdmr2yqy7w0000gn/T/ipykernel_14557/1012075270.py:52: FutureWarning: suggest_uniform has been deprecated in v3.0.0. This feature will be removed in v6.0.0. See https://github.com/optuna/optuna/releases/tag/v3.0.0. Use suggest_float instead.\n",
      "  'scale_pos_weight': trial.suggest_uniform('scale_pos_weight', 1, 100)  # Balance de clases\n"
     ]
    },
    {
     "name": "stdout",
     "output_type": "stream",
     "text": [
      "[LightGBM] [Info] Number of positive: 7698, number of negative: 1474217\n",
      "[LightGBM] [Info] Auto-choosing row-wise multi-threading, the overhead of testing was 0.004484 seconds.\n",
      "You can set `force_row_wise=true` to remove the overhead.\n",
      "And if memory is not enough, you can set `force_col_wise=true`.\n",
      "[LightGBM] [Info] Total Bins 2700\n",
      "[LightGBM] [Info] Number of data points in the train set: 1481915, number of used features: 20\n",
      "[LightGBM] [Info] [binary:BoostFromScore]: pavg=0.005195 -> initscore=-5.254922\n",
      "[LightGBM] [Info] Start training from score -5.254922\n",
      "Training until validation scores don't improve for 20 rounds\n",
      "Early stopping, best iteration is:\n",
      "[635]\tvalid_0's auc: 0.99657\n"
     ]
    },
    {
     "name": "stderr",
     "output_type": "stream",
     "text": [
      "[I 2025-05-09 19:47:05,325] Trial 23 finished with value: 964020.254 and parameters: {'num_leaves': 91, 'learning_rate': 0.05322915716879815, 'feature_fraction': 0.8630324785774655, 'min_child_samples': 89, 'scale_pos_weight': 56.248450447449834}. Best is trial 11 with value: 974312.002.\n",
      "/var/folders/q2/dcrx6nt90nn2l4tdmr2yqy7w0000gn/T/ipykernel_14557/1012075270.py:50: FutureWarning: suggest_uniform has been deprecated in v3.0.0. This feature will be removed in v6.0.0. See https://github.com/optuna/optuna/releases/tag/v3.0.0. Use suggest_float instead.\n",
      "  'feature_fraction': trial.suggest_uniform('feature_fraction', 0.6, 1.0),\n",
      "/var/folders/q2/dcrx6nt90nn2l4tdmr2yqy7w0000gn/T/ipykernel_14557/1012075270.py:52: FutureWarning: suggest_uniform has been deprecated in v3.0.0. This feature will be removed in v6.0.0. See https://github.com/optuna/optuna/releases/tag/v3.0.0. Use suggest_float instead.\n",
      "  'scale_pos_weight': trial.suggest_uniform('scale_pos_weight', 1, 100)  # Balance de clases\n"
     ]
    },
    {
     "name": "stdout",
     "output_type": "stream",
     "text": [
      "[LightGBM] [Info] Number of positive: 7698, number of negative: 1474217\n",
      "[LightGBM] [Info] Auto-choosing row-wise multi-threading, the overhead of testing was 0.005277 seconds.\n",
      "You can set `force_row_wise=true` to remove the overhead.\n",
      "And if memory is not enough, you can set `force_col_wise=true`.\n",
      "[LightGBM] [Info] Total Bins 2700\n",
      "[LightGBM] [Info] Number of data points in the train set: 1481915, number of used features: 20\n",
      "[LightGBM] [Info] [binary:BoostFromScore]: pavg=0.005195 -> initscore=-5.254922\n",
      "[LightGBM] [Info] Start training from score -5.254922\n",
      "Training until validation scores don't improve for 20 rounds\n"
     ]
    },
    {
     "name": "stderr",
     "output_type": "stream",
     "text": [
      "[I 2025-05-09 19:47:06,139] Trial 24 finished with value: 658513.341 and parameters: {'num_leaves': 70, 'learning_rate': 0.07572397283681821, 'feature_fraction': 0.8852802757481976, 'min_child_samples': 74, 'scale_pos_weight': 77.38026479459526}. Best is trial 11 with value: 974312.002.\n"
     ]
    },
    {
     "name": "stdout",
     "output_type": "stream",
     "text": [
      "Early stopping, best iteration is:\n",
      "[1]\tvalid_0's auc: 0.981037\n"
     ]
    },
    {
     "name": "stderr",
     "output_type": "stream",
     "text": [
      "/var/folders/q2/dcrx6nt90nn2l4tdmr2yqy7w0000gn/T/ipykernel_14557/1012075270.py:50: FutureWarning: suggest_uniform has been deprecated in v3.0.0. This feature will be removed in v6.0.0. See https://github.com/optuna/optuna/releases/tag/v3.0.0. Use suggest_float instead.\n",
      "  'feature_fraction': trial.suggest_uniform('feature_fraction', 0.6, 1.0),\n",
      "/var/folders/q2/dcrx6nt90nn2l4tdmr2yqy7w0000gn/T/ipykernel_14557/1012075270.py:52: FutureWarning: suggest_uniform has been deprecated in v3.0.0. This feature will be removed in v6.0.0. See https://github.com/optuna/optuna/releases/tag/v3.0.0. Use suggest_float instead.\n",
      "  'scale_pos_weight': trial.suggest_uniform('scale_pos_weight', 1, 100)  # Balance de clases\n"
     ]
    },
    {
     "name": "stdout",
     "output_type": "stream",
     "text": [
      "[LightGBM] [Info] Number of positive: 7698, number of negative: 1474217\n",
      "[LightGBM] [Info] Auto-choosing row-wise multi-threading, the overhead of testing was 0.004057 seconds.\n",
      "You can set `force_row_wise=true` to remove the overhead.\n",
      "And if memory is not enough, you can set `force_col_wise=true`.\n",
      "[LightGBM] [Info] Total Bins 2700\n",
      "[LightGBM] [Info] Number of data points in the train set: 1481915, number of used features: 20\n",
      "[LightGBM] [Info] [binary:BoostFromScore]: pavg=0.005195 -> initscore=-5.254922\n",
      "[LightGBM] [Info] Start training from score -5.254922\n",
      "Training until validation scores don't improve for 20 rounds\n",
      "Early stopping, best iteration is:\n",
      "[834]\tvalid_0's auc: 0.996844\n"
     ]
    },
    {
     "name": "stderr",
     "output_type": "stream",
     "text": [
      "[I 2025-05-09 19:47:37,056] Trial 25 finished with value: 943159.5700000001 and parameters: {'num_leaves': 82, 'learning_rate': 0.02917316290233521, 'feature_fraction': 0.8341874899651154, 'min_child_samples': 68, 'scale_pos_weight': 70.79268045623562}. Best is trial 11 with value: 974312.002.\n",
      "/var/folders/q2/dcrx6nt90nn2l4tdmr2yqy7w0000gn/T/ipykernel_14557/1012075270.py:50: FutureWarning: suggest_uniform has been deprecated in v3.0.0. This feature will be removed in v6.0.0. See https://github.com/optuna/optuna/releases/tag/v3.0.0. Use suggest_float instead.\n",
      "  'feature_fraction': trial.suggest_uniform('feature_fraction', 0.6, 1.0),\n",
      "/var/folders/q2/dcrx6nt90nn2l4tdmr2yqy7w0000gn/T/ipykernel_14557/1012075270.py:52: FutureWarning: suggest_uniform has been deprecated in v3.0.0. This feature will be removed in v6.0.0. See https://github.com/optuna/optuna/releases/tag/v3.0.0. Use suggest_float instead.\n",
      "  'scale_pos_weight': trial.suggest_uniform('scale_pos_weight', 1, 100)  # Balance de clases\n"
     ]
    },
    {
     "name": "stdout",
     "output_type": "stream",
     "text": [
      "[LightGBM] [Info] Number of positive: 7698, number of negative: 1474217\n",
      "[LightGBM] [Info] Auto-choosing row-wise multi-threading, the overhead of testing was 0.004881 seconds.\n",
      "You can set `force_row_wise=true` to remove the overhead.\n",
      "And if memory is not enough, you can set `force_col_wise=true`.\n",
      "[LightGBM] [Info] Total Bins 2700\n",
      "[LightGBM] [Info] Number of data points in the train set: 1481915, number of used features: 20\n",
      "[LightGBM] [Info] [binary:BoostFromScore]: pavg=0.005195 -> initscore=-5.254922\n",
      "[LightGBM] [Info] Start training from score -5.254922\n",
      "Training until validation scores don't improve for 20 rounds\n",
      "Early stopping, best iteration is:\n",
      "[502]\tvalid_0's auc: 0.995287\n"
     ]
    },
    {
     "name": "stderr",
     "output_type": "stream",
     "text": [
      "[I 2025-05-09 19:47:54,951] Trial 26 finished with value: 948221.2220000001 and parameters: {'num_leaves': 79, 'learning_rate': 0.050372443647035275, 'feature_fraction': 0.9324184389070902, 'min_child_samples': 53, 'scale_pos_weight': 83.22633431447821}. Best is trial 11 with value: 974312.002.\n",
      "/var/folders/q2/dcrx6nt90nn2l4tdmr2yqy7w0000gn/T/ipykernel_14557/1012075270.py:50: FutureWarning: suggest_uniform has been deprecated in v3.0.0. This feature will be removed in v6.0.0. See https://github.com/optuna/optuna/releases/tag/v3.0.0. Use suggest_float instead.\n",
      "  'feature_fraction': trial.suggest_uniform('feature_fraction', 0.6, 1.0),\n",
      "/var/folders/q2/dcrx6nt90nn2l4tdmr2yqy7w0000gn/T/ipykernel_14557/1012075270.py:52: FutureWarning: suggest_uniform has been deprecated in v3.0.0. This feature will be removed in v6.0.0. See https://github.com/optuna/optuna/releases/tag/v3.0.0. Use suggest_float instead.\n",
      "  'scale_pos_weight': trial.suggest_uniform('scale_pos_weight', 1, 100)  # Balance de clases\n"
     ]
    },
    {
     "name": "stdout",
     "output_type": "stream",
     "text": [
      "[LightGBM] [Info] Number of positive: 7698, number of negative: 1474217\n",
      "[LightGBM] [Info] Auto-choosing row-wise multi-threading, the overhead of testing was 0.004083 seconds.\n",
      "You can set `force_row_wise=true` to remove the overhead.\n",
      "And if memory is not enough, you can set `force_col_wise=true`.\n",
      "[LightGBM] [Info] Total Bins 2700\n",
      "[LightGBM] [Info] Number of data points in the train set: 1481915, number of used features: 20\n",
      "[LightGBM] [Info] [binary:BoostFromScore]: pavg=0.005195 -> initscore=-5.254922\n",
      "[LightGBM] [Info] Start training from score -5.254922\n",
      "Training until validation scores don't improve for 20 rounds\n",
      "Did not meet early stopping. Best iteration is:\n",
      "[998]\tvalid_0's auc: 0.997493\n"
     ]
    },
    {
     "name": "stderr",
     "output_type": "stream",
     "text": [
      "[I 2025-05-09 19:48:31,197] Trial 27 finished with value: 976464.397 and parameters: {'num_leaves': 93, 'learning_rate': 0.04038495837900456, 'feature_fraction': 0.7849150438487941, 'min_child_samples': 77, 'scale_pos_weight': 36.72811589720613}. Best is trial 27 with value: 976464.397.\n",
      "/var/folders/q2/dcrx6nt90nn2l4tdmr2yqy7w0000gn/T/ipykernel_14557/1012075270.py:50: FutureWarning: suggest_uniform has been deprecated in v3.0.0. This feature will be removed in v6.0.0. See https://github.com/optuna/optuna/releases/tag/v3.0.0. Use suggest_float instead.\n",
      "  'feature_fraction': trial.suggest_uniform('feature_fraction', 0.6, 1.0),\n",
      "/var/folders/q2/dcrx6nt90nn2l4tdmr2yqy7w0000gn/T/ipykernel_14557/1012075270.py:52: FutureWarning: suggest_uniform has been deprecated in v3.0.0. This feature will be removed in v6.0.0. See https://github.com/optuna/optuna/releases/tag/v3.0.0. Use suggest_float instead.\n",
      "  'scale_pos_weight': trial.suggest_uniform('scale_pos_weight', 1, 100)  # Balance de clases\n"
     ]
    },
    {
     "name": "stdout",
     "output_type": "stream",
     "text": [
      "[LightGBM] [Info] Number of positive: 7698, number of negative: 1474217\n",
      "[LightGBM] [Info] Auto-choosing row-wise multi-threading, the overhead of testing was 0.004409 seconds.\n",
      "You can set `force_row_wise=true` to remove the overhead.\n",
      "And if memory is not enough, you can set `force_col_wise=true`.\n",
      "[LightGBM] [Info] Total Bins 2700\n",
      "[LightGBM] [Info] Number of data points in the train set: 1481915, number of used features: 20\n",
      "[LightGBM] [Info] [binary:BoostFromScore]: pavg=0.005195 -> initscore=-5.254922\n",
      "[LightGBM] [Info] Start training from score -5.254922\n",
      "Training until validation scores don't improve for 20 rounds\n"
     ]
    },
    {
     "name": "stderr",
     "output_type": "stream",
     "text": [
      "[I 2025-05-09 19:48:32,224] Trial 28 finished with value: 695093.7109999999 and parameters: {'num_leaves': 96, 'learning_rate': 0.06879825933862205, 'feature_fraction': 0.7795844377784388, 'min_child_samples': 87, 'scale_pos_weight': 34.29230870135841}. Best is trial 27 with value: 976464.397.\n"
     ]
    },
    {
     "name": "stdout",
     "output_type": "stream",
     "text": [
      "Early stopping, best iteration is:\n",
      "[2]\tvalid_0's auc: 0.982834\n"
     ]
    },
    {
     "name": "stderr",
     "output_type": "stream",
     "text": [
      "/var/folders/q2/dcrx6nt90nn2l4tdmr2yqy7w0000gn/T/ipykernel_14557/1012075270.py:50: FutureWarning: suggest_uniform has been deprecated in v3.0.0. This feature will be removed in v6.0.0. See https://github.com/optuna/optuna/releases/tag/v3.0.0. Use suggest_float instead.\n",
      "  'feature_fraction': trial.suggest_uniform('feature_fraction', 0.6, 1.0),\n",
      "/var/folders/q2/dcrx6nt90nn2l4tdmr2yqy7w0000gn/T/ipykernel_14557/1012075270.py:52: FutureWarning: suggest_uniform has been deprecated in v3.0.0. This feature will be removed in v6.0.0. See https://github.com/optuna/optuna/releases/tag/v3.0.0. Use suggest_float instead.\n",
      "  'scale_pos_weight': trial.suggest_uniform('scale_pos_weight', 1, 100)  # Balance de clases\n"
     ]
    },
    {
     "name": "stdout",
     "output_type": "stream",
     "text": [
      "[LightGBM] [Info] Number of positive: 7698, number of negative: 1474217\n",
      "[LightGBM] [Info] Auto-choosing row-wise multi-threading, the overhead of testing was 0.004680 seconds.\n",
      "You can set `force_row_wise=true` to remove the overhead.\n",
      "And if memory is not enough, you can set `force_col_wise=true`.\n",
      "[LightGBM] [Info] Total Bins 2700\n",
      "[LightGBM] [Info] Number of data points in the train set: 1481915, number of used features: 20\n",
      "[LightGBM] [Info] [binary:BoostFromScore]: pavg=0.005195 -> initscore=-5.254922\n",
      "[LightGBM] [Info] Start training from score -5.254922\n",
      "Training until validation scores don't improve for 20 rounds\n",
      "Did not meet early stopping. Best iteration is:\n",
      "[1000]\tvalid_0's auc: 0.997631\n"
     ]
    },
    {
     "name": "stderr",
     "output_type": "stream",
     "text": [
      "[I 2025-05-09 19:49:08,216] Trial 29 finished with value: 973526.5070000001 and parameters: {'num_leaves': 93, 'learning_rate': 0.04133612231051589, 'feature_fraction': 0.6817217430154203, 'min_child_samples': 65, 'scale_pos_weight': 40.56875248277585}. Best is trial 27 with value: 976464.397.\n",
      "/var/folders/q2/dcrx6nt90nn2l4tdmr2yqy7w0000gn/T/ipykernel_14557/1012075270.py:50: FutureWarning: suggest_uniform has been deprecated in v3.0.0. This feature will be removed in v6.0.0. See https://github.com/optuna/optuna/releases/tag/v3.0.0. Use suggest_float instead.\n",
      "  'feature_fraction': trial.suggest_uniform('feature_fraction', 0.6, 1.0),\n",
      "/var/folders/q2/dcrx6nt90nn2l4tdmr2yqy7w0000gn/T/ipykernel_14557/1012075270.py:52: FutureWarning: suggest_uniform has been deprecated in v3.0.0. This feature will be removed in v6.0.0. See https://github.com/optuna/optuna/releases/tag/v3.0.0. Use suggest_float instead.\n",
      "  'scale_pos_weight': trial.suggest_uniform('scale_pos_weight', 1, 100)  # Balance de clases\n"
     ]
    },
    {
     "name": "stdout",
     "output_type": "stream",
     "text": [
      "[LightGBM] [Info] Number of positive: 7698, number of negative: 1474217\n",
      "[LightGBM] [Info] Auto-choosing row-wise multi-threading, the overhead of testing was 0.003900 seconds.\n",
      "You can set `force_row_wise=true` to remove the overhead.\n",
      "And if memory is not enough, you can set `force_col_wise=true`.\n",
      "[LightGBM] [Info] Total Bins 2700\n",
      "[LightGBM] [Info] Number of data points in the train set: 1481915, number of used features: 20\n",
      "[LightGBM] [Info] [binary:BoostFromScore]: pavg=0.005195 -> initscore=-5.254922\n",
      "[LightGBM] [Info] Start training from score -5.254922\n",
      "Training until validation scores don't improve for 20 rounds\n",
      "Did not meet early stopping. Best iteration is:\n",
      "[991]\tvalid_0's auc: 0.998099\n"
     ]
    },
    {
     "name": "stderr",
     "output_type": "stream",
     "text": [
      "[I 2025-05-09 19:49:44,239] Trial 30 finished with value: 969250.4319999999 and parameters: {'num_leaves': 93, 'learning_rate': 0.04022398180959528, 'feature_fraction': 0.6496688868206439, 'min_child_samples': 59, 'scale_pos_weight': 25.490245146541483}. Best is trial 27 with value: 976464.397.\n",
      "/var/folders/q2/dcrx6nt90nn2l4tdmr2yqy7w0000gn/T/ipykernel_14557/1012075270.py:50: FutureWarning: suggest_uniform has been deprecated in v3.0.0. This feature will be removed in v6.0.0. See https://github.com/optuna/optuna/releases/tag/v3.0.0. Use suggest_float instead.\n",
      "  'feature_fraction': trial.suggest_uniform('feature_fraction', 0.6, 1.0),\n",
      "/var/folders/q2/dcrx6nt90nn2l4tdmr2yqy7w0000gn/T/ipykernel_14557/1012075270.py:52: FutureWarning: suggest_uniform has been deprecated in v3.0.0. This feature will be removed in v6.0.0. See https://github.com/optuna/optuna/releases/tag/v3.0.0. Use suggest_float instead.\n",
      "  'scale_pos_weight': trial.suggest_uniform('scale_pos_weight', 1, 100)  # Balance de clases\n"
     ]
    },
    {
     "name": "stdout",
     "output_type": "stream",
     "text": [
      "[LightGBM] [Info] Number of positive: 7698, number of negative: 1474217\n",
      "[LightGBM] [Info] Auto-choosing row-wise multi-threading, the overhead of testing was 0.004136 seconds.\n",
      "You can set `force_row_wise=true` to remove the overhead.\n",
      "And if memory is not enough, you can set `force_col_wise=true`.\n",
      "[LightGBM] [Info] Total Bins 2700\n",
      "[LightGBM] [Info] Number of data points in the train set: 1481915, number of used features: 20\n",
      "[LightGBM] [Info] [binary:BoostFromScore]: pavg=0.005195 -> initscore=-5.254922\n",
      "[LightGBM] [Info] Start training from score -5.254922\n",
      "Training until validation scores don't improve for 20 rounds\n",
      "Did not meet early stopping. Best iteration is:\n",
      "[996]\tvalid_0's auc: 0.997488\n"
     ]
    },
    {
     "name": "stderr",
     "output_type": "stream",
     "text": [
      "[I 2025-05-09 19:50:20,558] Trial 31 finished with value: 975516.404 and parameters: {'num_leaves': 98, 'learning_rate': 0.05267654076041752, 'feature_fraction': 0.7046212934183927, 'min_child_samples': 66, 'scale_pos_weight': 39.978415662682785}. Best is trial 27 with value: 976464.397.\n",
      "/var/folders/q2/dcrx6nt90nn2l4tdmr2yqy7w0000gn/T/ipykernel_14557/1012075270.py:50: FutureWarning: suggest_uniform has been deprecated in v3.0.0. This feature will be removed in v6.0.0. See https://github.com/optuna/optuna/releases/tag/v3.0.0. Use suggest_float instead.\n",
      "  'feature_fraction': trial.suggest_uniform('feature_fraction', 0.6, 1.0),\n",
      "/var/folders/q2/dcrx6nt90nn2l4tdmr2yqy7w0000gn/T/ipykernel_14557/1012075270.py:52: FutureWarning: suggest_uniform has been deprecated in v3.0.0. This feature will be removed in v6.0.0. See https://github.com/optuna/optuna/releases/tag/v3.0.0. Use suggest_float instead.\n",
      "  'scale_pos_weight': trial.suggest_uniform('scale_pos_weight', 1, 100)  # Balance de clases\n"
     ]
    },
    {
     "name": "stdout",
     "output_type": "stream",
     "text": [
      "[LightGBM] [Info] Number of positive: 7698, number of negative: 1474217\n",
      "[LightGBM] [Info] Auto-choosing row-wise multi-threading, the overhead of testing was 0.004628 seconds.\n",
      "You can set `force_row_wise=true` to remove the overhead.\n",
      "And if memory is not enough, you can set `force_col_wise=true`.\n",
      "[LightGBM] [Info] Total Bins 2700\n",
      "[LightGBM] [Info] Number of data points in the train set: 1481915, number of used features: 20\n",
      "[LightGBM] [Info] [binary:BoostFromScore]: pavg=0.005195 -> initscore=-5.254922\n",
      "[LightGBM] [Info] Start training from score -5.254922\n",
      "Training until validation scores don't improve for 20 rounds\n",
      "Did not meet early stopping. Best iteration is:\n",
      "[1000]\tvalid_0's auc: 0.99753\n"
     ]
    },
    {
     "name": "stderr",
     "output_type": "stream",
     "text": [
      "[I 2025-05-09 19:50:56,485] Trial 32 finished with value: 975954.949 and parameters: {'num_leaves': 97, 'learning_rate': 0.052491181515713865, 'feature_fraction': 0.684855877705993, 'min_child_samples': 68, 'scale_pos_weight': 40.36755665270544}. Best is trial 27 with value: 976464.397.\n",
      "/var/folders/q2/dcrx6nt90nn2l4tdmr2yqy7w0000gn/T/ipykernel_14557/1012075270.py:50: FutureWarning: suggest_uniform has been deprecated in v3.0.0. This feature will be removed in v6.0.0. See https://github.com/optuna/optuna/releases/tag/v3.0.0. Use suggest_float instead.\n",
      "  'feature_fraction': trial.suggest_uniform('feature_fraction', 0.6, 1.0),\n",
      "/var/folders/q2/dcrx6nt90nn2l4tdmr2yqy7w0000gn/T/ipykernel_14557/1012075270.py:52: FutureWarning: suggest_uniform has been deprecated in v3.0.0. This feature will be removed in v6.0.0. See https://github.com/optuna/optuna/releases/tag/v3.0.0. Use suggest_float instead.\n",
      "  'scale_pos_weight': trial.suggest_uniform('scale_pos_weight', 1, 100)  # Balance de clases\n"
     ]
    },
    {
     "name": "stdout",
     "output_type": "stream",
     "text": [
      "[LightGBM] [Info] Number of positive: 7698, number of negative: 1474217\n",
      "[LightGBM] [Info] Auto-choosing row-wise multi-threading, the overhead of testing was 0.004117 seconds.\n",
      "You can set `force_row_wise=true` to remove the overhead.\n",
      "And if memory is not enough, you can set `force_col_wise=true`.\n",
      "[LightGBM] [Info] Total Bins 2700\n",
      "[LightGBM] [Info] Number of data points in the train set: 1481915, number of used features: 20\n",
      "[LightGBM] [Info] [binary:BoostFromScore]: pavg=0.005195 -> initscore=-5.254922\n",
      "[LightGBM] [Info] Start training from score -5.254922\n",
      "Training until validation scores don't improve for 20 rounds\n",
      "Did not meet early stopping. Best iteration is:\n",
      "[999]\tvalid_0's auc: 0.997637\n"
     ]
    },
    {
     "name": "stderr",
     "output_type": "stream",
     "text": [
      "[I 2025-05-09 19:51:33,671] Trial 33 finished with value: 971228.414 and parameters: {'num_leaves': 100, 'learning_rate': 0.055485256914843926, 'feature_fraction': 0.7094774737401829, 'min_child_samples': 58, 'scale_pos_weight': 31.08924536828637}. Best is trial 27 with value: 976464.397.\n",
      "/var/folders/q2/dcrx6nt90nn2l4tdmr2yqy7w0000gn/T/ipykernel_14557/1012075270.py:50: FutureWarning: suggest_uniform has been deprecated in v3.0.0. This feature will be removed in v6.0.0. See https://github.com/optuna/optuna/releases/tag/v3.0.0. Use suggest_float instead.\n",
      "  'feature_fraction': trial.suggest_uniform('feature_fraction', 0.6, 1.0),\n",
      "/var/folders/q2/dcrx6nt90nn2l4tdmr2yqy7w0000gn/T/ipykernel_14557/1012075270.py:52: FutureWarning: suggest_uniform has been deprecated in v3.0.0. This feature will be removed in v6.0.0. See https://github.com/optuna/optuna/releases/tag/v3.0.0. Use suggest_float instead.\n",
      "  'scale_pos_weight': trial.suggest_uniform('scale_pos_weight', 1, 100)  # Balance de clases\n"
     ]
    },
    {
     "name": "stdout",
     "output_type": "stream",
     "text": [
      "[LightGBM] [Info] Number of positive: 7698, number of negative: 1474217\n",
      "[LightGBM] [Info] Auto-choosing row-wise multi-threading, the overhead of testing was 0.004087 seconds.\n",
      "You can set `force_row_wise=true` to remove the overhead.\n",
      "And if memory is not enough, you can set `force_col_wise=true`.\n",
      "[LightGBM] [Info] Total Bins 2700\n",
      "[LightGBM] [Info] Number of data points in the train set: 1481915, number of used features: 20\n",
      "[LightGBM] [Info] [binary:BoostFromScore]: pavg=0.005195 -> initscore=-5.254922\n",
      "[LightGBM] [Info] Start training from score -5.254922\n",
      "Training until validation scores don't improve for 20 rounds\n",
      "Early stopping, best iteration is:\n",
      "[832]\tvalid_0's auc: 0.997423\n"
     ]
    },
    {
     "name": "stderr",
     "output_type": "stream",
     "text": [
      "[I 2025-05-09 19:52:05,707] Trial 34 finished with value: 957006.6099999999 and parameters: {'num_leaves': 90, 'learning_rate': 0.03148201867781721, 'feature_fraction': 0.6543053569556291, 'min_child_samples': 94, 'scale_pos_weight': 43.663141805569865}. Best is trial 27 with value: 976464.397.\n",
      "/var/folders/q2/dcrx6nt90nn2l4tdmr2yqy7w0000gn/T/ipykernel_14557/1012075270.py:50: FutureWarning: suggest_uniform has been deprecated in v3.0.0. This feature will be removed in v6.0.0. See https://github.com/optuna/optuna/releases/tag/v3.0.0. Use suggest_float instead.\n",
      "  'feature_fraction': trial.suggest_uniform('feature_fraction', 0.6, 1.0),\n",
      "/var/folders/q2/dcrx6nt90nn2l4tdmr2yqy7w0000gn/T/ipykernel_14557/1012075270.py:52: FutureWarning: suggest_uniform has been deprecated in v3.0.0. This feature will be removed in v6.0.0. See https://github.com/optuna/optuna/releases/tag/v3.0.0. Use suggest_float instead.\n",
      "  'scale_pos_weight': trial.suggest_uniform('scale_pos_weight', 1, 100)  # Balance de clases\n"
     ]
    },
    {
     "name": "stdout",
     "output_type": "stream",
     "text": [
      "[LightGBM] [Info] Number of positive: 7698, number of negative: 1474217\n",
      "[LightGBM] [Info] Auto-choosing row-wise multi-threading, the overhead of testing was 0.003259 seconds.\n",
      "You can set `force_row_wise=true` to remove the overhead.\n",
      "And if memory is not enough, you can set `force_col_wise=true`.\n",
      "[LightGBM] [Info] Total Bins 2700\n",
      "[LightGBM] [Info] Number of data points in the train set: 1481915, number of used features: 20\n",
      "[LightGBM] [Info] [binary:BoostFromScore]: pavg=0.005195 -> initscore=-5.254922\n",
      "[LightGBM] [Info] Start training from score -5.254922\n",
      "Training until validation scores don't improve for 20 rounds\n",
      "Did not meet early stopping. Best iteration is:\n",
      "[1000]\tvalid_0's auc: 0.997438\n"
     ]
    },
    {
     "name": "stderr",
     "output_type": "stream",
     "text": [
      "[I 2025-05-09 19:52:43,774] Trial 35 finished with value: 959305.38 and parameters: {'num_leaves': 98, 'learning_rate': 0.058068329823300506, 'feature_fraction': 0.6034253573152076, 'min_child_samples': 49, 'scale_pos_weight': 55.49546127532187}. Best is trial 27 with value: 976464.397.\n",
      "/var/folders/q2/dcrx6nt90nn2l4tdmr2yqy7w0000gn/T/ipykernel_14557/1012075270.py:50: FutureWarning: suggest_uniform has been deprecated in v3.0.0. This feature will be removed in v6.0.0. See https://github.com/optuna/optuna/releases/tag/v3.0.0. Use suggest_float instead.\n",
      "  'feature_fraction': trial.suggest_uniform('feature_fraction', 0.6, 1.0),\n",
      "/var/folders/q2/dcrx6nt90nn2l4tdmr2yqy7w0000gn/T/ipykernel_14557/1012075270.py:52: FutureWarning: suggest_uniform has been deprecated in v3.0.0. This feature will be removed in v6.0.0. See https://github.com/optuna/optuna/releases/tag/v3.0.0. Use suggest_float instead.\n",
      "  'scale_pos_weight': trial.suggest_uniform('scale_pos_weight', 1, 100)  # Balance de clases\n"
     ]
    },
    {
     "name": "stdout",
     "output_type": "stream",
     "text": [
      "[LightGBM] [Info] Number of positive: 7698, number of negative: 1474217\n",
      "[LightGBM] [Info] Auto-choosing row-wise multi-threading, the overhead of testing was 0.005350 seconds.\n",
      "You can set `force_row_wise=true` to remove the overhead.\n",
      "And if memory is not enough, you can set `force_col_wise=true`.\n",
      "[LightGBM] [Info] Total Bins 2700\n",
      "[LightGBM] [Info] Number of data points in the train set: 1481915, number of used features: 20\n",
      "[LightGBM] [Info] [binary:BoostFromScore]: pavg=0.005195 -> initscore=-5.254922\n",
      "[LightGBM] [Info] Start training from score -5.254922\n",
      "Training until validation scores don't improve for 20 rounds\n"
     ]
    },
    {
     "name": "stderr",
     "output_type": "stream",
     "text": [
      "[I 2025-05-09 19:52:44,685] Trial 36 finished with value: 783849.8539999999 and parameters: {'num_leaves': 85, 'learning_rate': 0.0737463316497396, 'feature_fraction': 0.7138073108190022, 'min_child_samples': 30, 'scale_pos_weight': 15.708014706100087}. Best is trial 27 with value: 976464.397.\n"
     ]
    },
    {
     "name": "stdout",
     "output_type": "stream",
     "text": [
      "Early stopping, best iteration is:\n",
      "[2]\tvalid_0's auc: 0.976554\n"
     ]
    },
    {
     "name": "stderr",
     "output_type": "stream",
     "text": [
      "/var/folders/q2/dcrx6nt90nn2l4tdmr2yqy7w0000gn/T/ipykernel_14557/1012075270.py:50: FutureWarning: suggest_uniform has been deprecated in v3.0.0. This feature will be removed in v6.0.0. See https://github.com/optuna/optuna/releases/tag/v3.0.0. Use suggest_float instead.\n",
      "  'feature_fraction': trial.suggest_uniform('feature_fraction', 0.6, 1.0),\n",
      "/var/folders/q2/dcrx6nt90nn2l4tdmr2yqy7w0000gn/T/ipykernel_14557/1012075270.py:52: FutureWarning: suggest_uniform has been deprecated in v3.0.0. This feature will be removed in v6.0.0. See https://github.com/optuna/optuna/releases/tag/v3.0.0. Use suggest_float instead.\n",
      "  'scale_pos_weight': trial.suggest_uniform('scale_pos_weight', 1, 100)  # Balance de clases\n"
     ]
    },
    {
     "name": "stdout",
     "output_type": "stream",
     "text": [
      "[LightGBM] [Info] Number of positive: 7698, number of negative: 1474217\n",
      "[LightGBM] [Info] Auto-choosing row-wise multi-threading, the overhead of testing was 0.004078 seconds.\n",
      "You can set `force_row_wise=true` to remove the overhead.\n",
      "And if memory is not enough, you can set `force_col_wise=true`.\n",
      "[LightGBM] [Info] Total Bins 2700\n",
      "[LightGBM] [Info] Number of data points in the train set: 1481915, number of used features: 20\n",
      "[LightGBM] [Info] [binary:BoostFromScore]: pavg=0.005195 -> initscore=-5.254922\n",
      "[LightGBM] [Info] Start training from score -5.254922\n",
      "Training until validation scores don't improve for 20 rounds\n"
     ]
    },
    {
     "name": "stderr",
     "output_type": "stream",
     "text": [
      "[I 2025-05-09 19:52:45,588] Trial 37 finished with value: 640756.1229999999 and parameters: {'num_leaves': 95, 'learning_rate': 0.08661453031988316, 'feature_fraction': 0.7506860683133211, 'min_child_samples': 67, 'scale_pos_weight': 51.29207808990033}. Best is trial 27 with value: 976464.397.\n"
     ]
    },
    {
     "name": "stdout",
     "output_type": "stream",
     "text": [
      "Early stopping, best iteration is:\n",
      "[1]\tvalid_0's auc: 0.981797\n"
     ]
    },
    {
     "name": "stderr",
     "output_type": "stream",
     "text": [
      "/var/folders/q2/dcrx6nt90nn2l4tdmr2yqy7w0000gn/T/ipykernel_14557/1012075270.py:50: FutureWarning: suggest_uniform has been deprecated in v3.0.0. This feature will be removed in v6.0.0. See https://github.com/optuna/optuna/releases/tag/v3.0.0. Use suggest_float instead.\n",
      "  'feature_fraction': trial.suggest_uniform('feature_fraction', 0.6, 1.0),\n",
      "/var/folders/q2/dcrx6nt90nn2l4tdmr2yqy7w0000gn/T/ipykernel_14557/1012075270.py:52: FutureWarning: suggest_uniform has been deprecated in v3.0.0. This feature will be removed in v6.0.0. See https://github.com/optuna/optuna/releases/tag/v3.0.0. Use suggest_float instead.\n",
      "  'scale_pos_weight': trial.suggest_uniform('scale_pos_weight', 1, 100)  # Balance de clases\n"
     ]
    },
    {
     "name": "stdout",
     "output_type": "stream",
     "text": [
      "[LightGBM] [Info] Number of positive: 7698, number of negative: 1474217\n",
      "[LightGBM] [Info] Auto-choosing col-wise multi-threading, the overhead of testing was 0.019226 seconds.\n",
      "You can set `force_col_wise=true` to remove the overhead.\n",
      "[LightGBM] [Info] Total Bins 2700\n",
      "[LightGBM] [Info] Number of data points in the train set: 1481915, number of used features: 20\n",
      "[LightGBM] [Info] [binary:BoostFromScore]: pavg=0.005195 -> initscore=-5.254922\n",
      "[LightGBM] [Info] Start training from score -5.254922\n",
      "Training until validation scores don't improve for 20 rounds\n",
      "Did not meet early stopping. Best iteration is:\n",
      "[1000]\tvalid_0's auc: 0.997975\n"
     ]
    },
    {
     "name": "stderr",
     "output_type": "stream",
     "text": [
      "[I 2025-05-09 19:53:29,995] Trial 38 finished with value: 966245.347 and parameters: {'num_leaves': 91, 'learning_rate': 0.028375164380206916, 'feature_fraction': 0.6497018921147034, 'min_child_samples': 78, 'scale_pos_weight': 27.01613135557892}. Best is trial 27 with value: 976464.397.\n",
      "/var/folders/q2/dcrx6nt90nn2l4tdmr2yqy7w0000gn/T/ipykernel_14557/1012075270.py:50: FutureWarning: suggest_uniform has been deprecated in v3.0.0. This feature will be removed in v6.0.0. See https://github.com/optuna/optuna/releases/tag/v3.0.0. Use suggest_float instead.\n",
      "  'feature_fraction': trial.suggest_uniform('feature_fraction', 0.6, 1.0),\n",
      "/var/folders/q2/dcrx6nt90nn2l4tdmr2yqy7w0000gn/T/ipykernel_14557/1012075270.py:52: FutureWarning: suggest_uniform has been deprecated in v3.0.0. This feature will be removed in v6.0.0. See https://github.com/optuna/optuna/releases/tag/v3.0.0. Use suggest_float instead.\n",
      "  'scale_pos_weight': trial.suggest_uniform('scale_pos_weight', 1, 100)  # Balance de clases\n"
     ]
    },
    {
     "name": "stdout",
     "output_type": "stream",
     "text": [
      "[LightGBM] [Info] Number of positive: 7698, number of negative: 1474217\n",
      "[LightGBM] [Info] Auto-choosing row-wise multi-threading, the overhead of testing was 0.004701 seconds.\n",
      "You can set `force_row_wise=true` to remove the overhead.\n",
      "And if memory is not enough, you can set `force_col_wise=true`.\n",
      "[LightGBM] [Info] Total Bins 2700\n",
      "[LightGBM] [Info] Number of data points in the train set: 1481915, number of used features: 20\n",
      "[LightGBM] [Info] [binary:BoostFromScore]: pavg=0.005195 -> initscore=-5.254922\n",
      "[LightGBM] [Info] Start training from score -5.254922\n",
      "Training until validation scores don't improve for 20 rounds\n",
      "Did not meet early stopping. Best iteration is:\n",
      "[1000]\tvalid_0's auc: 0.997606\n"
     ]
    },
    {
     "name": "stderr",
     "output_type": "stream",
     "text": [
      "[I 2025-05-09 19:54:07,568] Trial 39 finished with value: 976488.2470000001 and parameters: {'num_leaves': 100, 'learning_rate': 0.052479725588318205, 'feature_fraction': 0.794641545530995, 'min_child_samples': 95, 'scale_pos_weight': 39.41063755746279}. Best is trial 39 with value: 976488.2470000001.\n",
      "/var/folders/q2/dcrx6nt90nn2l4tdmr2yqy7w0000gn/T/ipykernel_14557/1012075270.py:50: FutureWarning: suggest_uniform has been deprecated in v3.0.0. This feature will be removed in v6.0.0. See https://github.com/optuna/optuna/releases/tag/v3.0.0. Use suggest_float instead.\n",
      "  'feature_fraction': trial.suggest_uniform('feature_fraction', 0.6, 1.0),\n",
      "/var/folders/q2/dcrx6nt90nn2l4tdmr2yqy7w0000gn/T/ipykernel_14557/1012075270.py:52: FutureWarning: suggest_uniform has been deprecated in v3.0.0. This feature will be removed in v6.0.0. See https://github.com/optuna/optuna/releases/tag/v3.0.0. Use suggest_float instead.\n",
      "  'scale_pos_weight': trial.suggest_uniform('scale_pos_weight', 1, 100)  # Balance de clases\n"
     ]
    },
    {
     "name": "stdout",
     "output_type": "stream",
     "text": [
      "[LightGBM] [Info] Number of positive: 7698, number of negative: 1474217\n",
      "[LightGBM] [Info] Auto-choosing row-wise multi-threading, the overhead of testing was 0.004073 seconds.\n",
      "You can set `force_row_wise=true` to remove the overhead.\n",
      "And if memory is not enough, you can set `force_col_wise=true`.\n",
      "[LightGBM] [Info] Total Bins 2700\n",
      "[LightGBM] [Info] Number of data points in the train set: 1481915, number of used features: 20\n",
      "[LightGBM] [Info] [binary:BoostFromScore]: pavg=0.005195 -> initscore=-5.254922\n",
      "[LightGBM] [Info] Start training from score -5.254922\n",
      "Training until validation scores don't improve for 20 rounds\n",
      "Did not meet early stopping. Best iteration is:\n",
      "[1000]\tvalid_0's auc: 0.997466\n"
     ]
    },
    {
     "name": "stderr",
     "output_type": "stream",
     "text": [
      "[I 2025-05-09 19:54:46,079] Trial 40 finished with value: 965453.5410000001 and parameters: {'num_leaves': 100, 'learning_rate': 0.052573635679574286, 'feature_fraction': 0.7912061173644427, 'min_child_samples': 97, 'scale_pos_weight': 36.898180469235506}. Best is trial 39 with value: 976488.2470000001.\n",
      "/var/folders/q2/dcrx6nt90nn2l4tdmr2yqy7w0000gn/T/ipykernel_14557/1012075270.py:50: FutureWarning: suggest_uniform has been deprecated in v3.0.0. This feature will be removed in v6.0.0. See https://github.com/optuna/optuna/releases/tag/v3.0.0. Use suggest_float instead.\n",
      "  'feature_fraction': trial.suggest_uniform('feature_fraction', 0.6, 1.0),\n",
      "/var/folders/q2/dcrx6nt90nn2l4tdmr2yqy7w0000gn/T/ipykernel_14557/1012075270.py:52: FutureWarning: suggest_uniform has been deprecated in v3.0.0. This feature will be removed in v6.0.0. See https://github.com/optuna/optuna/releases/tag/v3.0.0. Use suggest_float instead.\n",
      "  'scale_pos_weight': trial.suggest_uniform('scale_pos_weight', 1, 100)  # Balance de clases\n"
     ]
    },
    {
     "name": "stdout",
     "output_type": "stream",
     "text": [
      "[LightGBM] [Info] Number of positive: 7698, number of negative: 1474217\n",
      "[LightGBM] [Info] Auto-choosing row-wise multi-threading, the overhead of testing was 0.004037 seconds.\n",
      "You can set `force_row_wise=true` to remove the overhead.\n",
      "And if memory is not enough, you can set `force_col_wise=true`.\n",
      "[LightGBM] [Info] Total Bins 2700\n",
      "[LightGBM] [Info] Number of data points in the train set: 1481915, number of used features: 20\n",
      "[LightGBM] [Info] [binary:BoostFromScore]: pavg=0.005195 -> initscore=-5.254922\n",
      "[LightGBM] [Info] Start training from score -5.254922\n",
      "Training until validation scores don't improve for 20 rounds\n"
     ]
    },
    {
     "name": "stderr",
     "output_type": "stream",
     "text": [
      "[I 2025-05-09 19:54:47,136] Trial 41 finished with value: 682887.737 and parameters: {'num_leaves': 96, 'learning_rate': 0.06549635606349098, 'feature_fraction': 0.7704902547563532, 'min_child_samples': 85, 'scale_pos_weight': 47.10369402139418}. Best is trial 39 with value: 976488.2470000001.\n"
     ]
    },
    {
     "name": "stdout",
     "output_type": "stream",
     "text": [
      "Early stopping, best iteration is:\n",
      "[2]\tvalid_0's auc: 0.983988\n"
     ]
    },
    {
     "name": "stderr",
     "output_type": "stream",
     "text": [
      "/var/folders/q2/dcrx6nt90nn2l4tdmr2yqy7w0000gn/T/ipykernel_14557/1012075270.py:50: FutureWarning: suggest_uniform has been deprecated in v3.0.0. This feature will be removed in v6.0.0. See https://github.com/optuna/optuna/releases/tag/v3.0.0. Use suggest_float instead.\n",
      "  'feature_fraction': trial.suggest_uniform('feature_fraction', 0.6, 1.0),\n",
      "/var/folders/q2/dcrx6nt90nn2l4tdmr2yqy7w0000gn/T/ipykernel_14557/1012075270.py:52: FutureWarning: suggest_uniform has been deprecated in v3.0.0. This feature will be removed in v6.0.0. See https://github.com/optuna/optuna/releases/tag/v3.0.0. Use suggest_float instead.\n",
      "  'scale_pos_weight': trial.suggest_uniform('scale_pos_weight', 1, 100)  # Balance de clases\n"
     ]
    },
    {
     "name": "stdout",
     "output_type": "stream",
     "text": [
      "[LightGBM] [Info] Number of positive: 7698, number of negative: 1474217\n",
      "[LightGBM] [Info] Auto-choosing row-wise multi-threading, the overhead of testing was 0.004196 seconds.\n",
      "You can set `force_row_wise=true` to remove the overhead.\n",
      "And if memory is not enough, you can set `force_col_wise=true`.\n",
      "[LightGBM] [Info] Total Bins 2700\n",
      "[LightGBM] [Info] Number of data points in the train set: 1481915, number of used features: 20\n",
      "[LightGBM] [Info] [binary:BoostFromScore]: pavg=0.005195 -> initscore=-5.254922\n",
      "[LightGBM] [Info] Start training from score -5.254922\n",
      "Training until validation scores don't improve for 20 rounds\n",
      "Did not meet early stopping. Best iteration is:\n",
      "[1000]\tvalid_0's auc: 0.997464\n"
     ]
    },
    {
     "name": "stderr",
     "output_type": "stream",
     "text": [
      "[I 2025-05-09 19:55:26,172] Trial 42 finished with value: 975989.0589999999 and parameters: {'num_leaves': 95, 'learning_rate': 0.04122032963218386, 'feature_fraction': 0.6978043169363842, 'min_child_samples': 76, 'scale_pos_weight': 52.11011872640393}. Best is trial 39 with value: 976488.2470000001.\n",
      "/var/folders/q2/dcrx6nt90nn2l4tdmr2yqy7w0000gn/T/ipykernel_14557/1012075270.py:50: FutureWarning: suggest_uniform has been deprecated in v3.0.0. This feature will be removed in v6.0.0. See https://github.com/optuna/optuna/releases/tag/v3.0.0. Use suggest_float instead.\n",
      "  'feature_fraction': trial.suggest_uniform('feature_fraction', 0.6, 1.0),\n",
      "/var/folders/q2/dcrx6nt90nn2l4tdmr2yqy7w0000gn/T/ipykernel_14557/1012075270.py:52: FutureWarning: suggest_uniform has been deprecated in v3.0.0. This feature will be removed in v6.0.0. See https://github.com/optuna/optuna/releases/tag/v3.0.0. Use suggest_float instead.\n",
      "  'scale_pos_weight': trial.suggest_uniform('scale_pos_weight', 1, 100)  # Balance de clases\n"
     ]
    },
    {
     "name": "stdout",
     "output_type": "stream",
     "text": [
      "[LightGBM] [Info] Number of positive: 7698, number of negative: 1474217\n",
      "[LightGBM] [Info] Auto-choosing row-wise multi-threading, the overhead of testing was 0.003993 seconds.\n",
      "You can set `force_row_wise=true` to remove the overhead.\n",
      "And if memory is not enough, you can set `force_col_wise=true`.\n",
      "[LightGBM] [Info] Total Bins 2700\n",
      "[LightGBM] [Info] Number of data points in the train set: 1481915, number of used features: 20\n",
      "[LightGBM] [Info] [binary:BoostFromScore]: pavg=0.005195 -> initscore=-5.254922\n",
      "[LightGBM] [Info] Start training from score -5.254922\n",
      "Training until validation scores don't improve for 20 rounds\n",
      "Did not meet early stopping. Best iteration is:\n",
      "[999]\tvalid_0's auc: 0.997305\n"
     ]
    },
    {
     "name": "stderr",
     "output_type": "stream",
     "text": [
      "[I 2025-05-09 19:56:03,532] Trial 43 finished with value: 977593.611 and parameters: {'num_leaves': 94, 'learning_rate': 0.04027132721174841, 'feature_fraction': 0.7016734788057618, 'min_child_samples': 62, 'scale_pos_weight': 38.68048612335877}. Best is trial 43 with value: 977593.611.\n",
      "/var/folders/q2/dcrx6nt90nn2l4tdmr2yqy7w0000gn/T/ipykernel_14557/1012075270.py:50: FutureWarning: suggest_uniform has been deprecated in v3.0.0. This feature will be removed in v6.0.0. See https://github.com/optuna/optuna/releases/tag/v3.0.0. Use suggest_float instead.\n",
      "  'feature_fraction': trial.suggest_uniform('feature_fraction', 0.6, 1.0),\n",
      "/var/folders/q2/dcrx6nt90nn2l4tdmr2yqy7w0000gn/T/ipykernel_14557/1012075270.py:52: FutureWarning: suggest_uniform has been deprecated in v3.0.0. This feature will be removed in v6.0.0. See https://github.com/optuna/optuna/releases/tag/v3.0.0. Use suggest_float instead.\n",
      "  'scale_pos_weight': trial.suggest_uniform('scale_pos_weight', 1, 100)  # Balance de clases\n"
     ]
    },
    {
     "name": "stdout",
     "output_type": "stream",
     "text": [
      "[LightGBM] [Info] Number of positive: 7698, number of negative: 1474217\n",
      "[LightGBM] [Info] Auto-choosing row-wise multi-threading, the overhead of testing was 0.004316 seconds.\n",
      "You can set `force_row_wise=true` to remove the overhead.\n",
      "And if memory is not enough, you can set `force_col_wise=true`.\n",
      "[LightGBM] [Info] Total Bins 2700\n",
      "[LightGBM] [Info] Number of data points in the train set: 1481915, number of used features: 20\n",
      "[LightGBM] [Info] [binary:BoostFromScore]: pavg=0.005195 -> initscore=-5.254922\n",
      "[LightGBM] [Info] Start training from score -5.254922\n",
      "Training until validation scores don't improve for 20 rounds\n",
      "Did not meet early stopping. Best iteration is:\n",
      "[999]\tvalid_0's auc: 0.997893\n"
     ]
    },
    {
     "name": "stderr",
     "output_type": "stream",
     "text": [
      "[I 2025-05-09 19:56:40,264] Trial 44 finished with value: 962007.8960000001 and parameters: {'num_leaves': 94, 'learning_rate': 0.04041675538457442, 'feature_fraction': 0.6735905891507634, 'min_child_samples': 62, 'scale_pos_weight': 19.4660209050113}. Best is trial 43 with value: 977593.611.\n",
      "/var/folders/q2/dcrx6nt90nn2l4tdmr2yqy7w0000gn/T/ipykernel_14557/1012075270.py:50: FutureWarning: suggest_uniform has been deprecated in v3.0.0. This feature will be removed in v6.0.0. See https://github.com/optuna/optuna/releases/tag/v3.0.0. Use suggest_float instead.\n",
      "  'feature_fraction': trial.suggest_uniform('feature_fraction', 0.6, 1.0),\n",
      "/var/folders/q2/dcrx6nt90nn2l4tdmr2yqy7w0000gn/T/ipykernel_14557/1012075270.py:52: FutureWarning: suggest_uniform has been deprecated in v3.0.0. This feature will be removed in v6.0.0. See https://github.com/optuna/optuna/releases/tag/v3.0.0. Use suggest_float instead.\n",
      "  'scale_pos_weight': trial.suggest_uniform('scale_pos_weight', 1, 100)  # Balance de clases\n"
     ]
    },
    {
     "name": "stdout",
     "output_type": "stream",
     "text": [
      "[LightGBM] [Info] Number of positive: 7698, number of negative: 1474217\n",
      "[LightGBM] [Info] Auto-choosing row-wise multi-threading, the overhead of testing was 0.004389 seconds.\n",
      "You can set `force_row_wise=true` to remove the overhead.\n",
      "And if memory is not enough, you can set `force_col_wise=true`.\n",
      "[LightGBM] [Info] Total Bins 2700\n",
      "[LightGBM] [Info] Number of data points in the train set: 1481915, number of used features: 20\n",
      "[LightGBM] [Info] [binary:BoostFromScore]: pavg=0.005195 -> initscore=-5.254922\n",
      "[LightGBM] [Info] Start training from score -5.254922\n",
      "Training until validation scores don't improve for 20 rounds\n",
      "Early stopping, best iteration is:\n",
      "[753]\tvalid_0's auc: 0.997133\n"
     ]
    },
    {
     "name": "stderr",
     "output_type": "stream",
     "text": [
      "[I 2025-05-09 19:57:10,077] Trial 45 finished with value: 959846.627 and parameters: {'num_leaves': 88, 'learning_rate': 0.03408414283666904, 'feature_fraction': 0.7382053807393575, 'min_child_samples': 76, 'scale_pos_weight': 29.877550509637594}. Best is trial 43 with value: 977593.611.\n",
      "/var/folders/q2/dcrx6nt90nn2l4tdmr2yqy7w0000gn/T/ipykernel_14557/1012075270.py:50: FutureWarning: suggest_uniform has been deprecated in v3.0.0. This feature will be removed in v6.0.0. See https://github.com/optuna/optuna/releases/tag/v3.0.0. Use suggest_float instead.\n",
      "  'feature_fraction': trial.suggest_uniform('feature_fraction', 0.6, 1.0),\n",
      "/var/folders/q2/dcrx6nt90nn2l4tdmr2yqy7w0000gn/T/ipykernel_14557/1012075270.py:52: FutureWarning: suggest_uniform has been deprecated in v3.0.0. This feature will be removed in v6.0.0. See https://github.com/optuna/optuna/releases/tag/v3.0.0. Use suggest_float instead.\n",
      "  'scale_pos_weight': trial.suggest_uniform('scale_pos_weight', 1, 100)  # Balance de clases\n"
     ]
    },
    {
     "name": "stdout",
     "output_type": "stream",
     "text": [
      "[LightGBM] [Info] Number of positive: 7698, number of negative: 1474217\n",
      "[LightGBM] [Info] Auto-choosing row-wise multi-threading, the overhead of testing was 0.004809 seconds.\n",
      "You can set `force_row_wise=true` to remove the overhead.\n",
      "And if memory is not enough, you can set `force_col_wise=true`.\n",
      "[LightGBM] [Info] Total Bins 2700\n",
      "[LightGBM] [Info] Number of data points in the train set: 1481915, number of used features: 20\n",
      "[LightGBM] [Info] [binary:BoostFromScore]: pavg=0.005195 -> initscore=-5.254922\n",
      "[LightGBM] [Info] Start training from score -5.254922\n",
      "Training until validation scores don't improve for 20 rounds\n",
      "Did not meet early stopping. Best iteration is:\n",
      "[1000]\tvalid_0's auc: 0.996364\n"
     ]
    },
    {
     "name": "stderr",
     "output_type": "stream",
     "text": [
      "[I 2025-05-09 19:57:36,079] Trial 46 finished with value: 880304.143 and parameters: {'num_leaves': 35, 'learning_rate': 0.022762036861020133, 'feature_fraction': 0.6675265106827516, 'min_child_samples': 56, 'scale_pos_weight': 51.92237904976318}. Best is trial 43 with value: 977593.611.\n",
      "/var/folders/q2/dcrx6nt90nn2l4tdmr2yqy7w0000gn/T/ipykernel_14557/1012075270.py:50: FutureWarning: suggest_uniform has been deprecated in v3.0.0. This feature will be removed in v6.0.0. See https://github.com/optuna/optuna/releases/tag/v3.0.0. Use suggest_float instead.\n",
      "  'feature_fraction': trial.suggest_uniform('feature_fraction', 0.6, 1.0),\n",
      "/var/folders/q2/dcrx6nt90nn2l4tdmr2yqy7w0000gn/T/ipykernel_14557/1012075270.py:52: FutureWarning: suggest_uniform has been deprecated in v3.0.0. This feature will be removed in v6.0.0. See https://github.com/optuna/optuna/releases/tag/v3.0.0. Use suggest_float instead.\n",
      "  'scale_pos_weight': trial.suggest_uniform('scale_pos_weight', 1, 100)  # Balance de clases\n"
     ]
    },
    {
     "name": "stdout",
     "output_type": "stream",
     "text": [
      "[LightGBM] [Info] Number of positive: 7698, number of negative: 1474217\n",
      "[LightGBM] [Info] Auto-choosing row-wise multi-threading, the overhead of testing was 0.003962 seconds.\n",
      "You can set `force_row_wise=true` to remove the overhead.\n",
      "And if memory is not enough, you can set `force_col_wise=true`.\n",
      "[LightGBM] [Info] Total Bins 2700\n",
      "[LightGBM] [Info] Number of data points in the train set: 1481915, number of used features: 20\n",
      "[LightGBM] [Info] [binary:BoostFromScore]: pavg=0.005195 -> initscore=-5.254922\n",
      "[LightGBM] [Info] Start training from score -5.254922\n",
      "Training until validation scores don't improve for 20 rounds\n",
      "Did not meet early stopping. Best iteration is:\n",
      "[999]\tvalid_0's auc: 0.997297\n"
     ]
    },
    {
     "name": "stderr",
     "output_type": "stream",
     "text": [
      "[I 2025-05-09 19:58:07,265] Trial 47 finished with value: 938370.026 and parameters: {'num_leaves': 59, 'learning_rate': 0.027069803777785673, 'feature_fraction': 0.6325559991161296, 'min_child_samples': 96, 'scale_pos_weight': 45.465680376704924}. Best is trial 43 with value: 977593.611.\n",
      "/var/folders/q2/dcrx6nt90nn2l4tdmr2yqy7w0000gn/T/ipykernel_14557/1012075270.py:50: FutureWarning: suggest_uniform has been deprecated in v3.0.0. This feature will be removed in v6.0.0. See https://github.com/optuna/optuna/releases/tag/v3.0.0. Use suggest_float instead.\n",
      "  'feature_fraction': trial.suggest_uniform('feature_fraction', 0.6, 1.0),\n",
      "/var/folders/q2/dcrx6nt90nn2l4tdmr2yqy7w0000gn/T/ipykernel_14557/1012075270.py:52: FutureWarning: suggest_uniform has been deprecated in v3.0.0. This feature will be removed in v6.0.0. See https://github.com/optuna/optuna/releases/tag/v3.0.0. Use suggest_float instead.\n",
      "  'scale_pos_weight': trial.suggest_uniform('scale_pos_weight', 1, 100)  # Balance de clases\n"
     ]
    },
    {
     "name": "stdout",
     "output_type": "stream",
     "text": [
      "[LightGBM] [Info] Number of positive: 7698, number of negative: 1474217\n",
      "[LightGBM] [Info] Auto-choosing row-wise multi-threading, the overhead of testing was 0.003957 seconds.\n",
      "You can set `force_row_wise=true` to remove the overhead.\n",
      "And if memory is not enough, you can set `force_col_wise=true`.\n",
      "[LightGBM] [Info] Total Bins 2700\n",
      "[LightGBM] [Info] Number of data points in the train set: 1481915, number of used features: 20\n",
      "[LightGBM] [Info] [binary:BoostFromScore]: pavg=0.005195 -> initscore=-5.254922\n",
      "[LightGBM] [Info] Start training from score -5.254922\n",
      "Training until validation scores don't improve for 20 rounds\n",
      "Early stopping, best iteration is:\n",
      "[619]\tvalid_0's auc: 0.99653\n"
     ]
    },
    {
     "name": "stderr",
     "output_type": "stream",
     "text": [
      "[I 2025-05-09 19:58:34,394] Trial 48 finished with value: 959822.5140000001 and parameters: {'num_leaves': 91, 'learning_rate': 0.041056791184743646, 'feature_fraction': 0.7589553497671805, 'min_child_samples': 11, 'scale_pos_weight': 37.70514371898369}. Best is trial 43 with value: 977593.611.\n",
      "/var/folders/q2/dcrx6nt90nn2l4tdmr2yqy7w0000gn/T/ipykernel_14557/1012075270.py:50: FutureWarning: suggest_uniform has been deprecated in v3.0.0. This feature will be removed in v6.0.0. See https://github.com/optuna/optuna/releases/tag/v3.0.0. Use suggest_float instead.\n",
      "  'feature_fraction': trial.suggest_uniform('feature_fraction', 0.6, 1.0),\n",
      "/var/folders/q2/dcrx6nt90nn2l4tdmr2yqy7w0000gn/T/ipykernel_14557/1012075270.py:52: FutureWarning: suggest_uniform has been deprecated in v3.0.0. This feature will be removed in v6.0.0. See https://github.com/optuna/optuna/releases/tag/v3.0.0. Use suggest_float instead.\n",
      "  'scale_pos_weight': trial.suggest_uniform('scale_pos_weight', 1, 100)  # Balance de clases\n"
     ]
    },
    {
     "name": "stdout",
     "output_type": "stream",
     "text": [
      "[LightGBM] [Info] Number of positive: 7698, number of negative: 1474217\n",
      "[LightGBM] [Info] Auto-choosing row-wise multi-threading, the overhead of testing was 0.005597 seconds.\n",
      "You can set `force_row_wise=true` to remove the overhead.\n",
      "And if memory is not enough, you can set `force_col_wise=true`.\n",
      "[LightGBM] [Info] Total Bins 2700\n",
      "[LightGBM] [Info] Number of data points in the train set: 1481915, number of used features: 20\n",
      "[LightGBM] [Info] [binary:BoostFromScore]: pavg=0.005195 -> initscore=-5.254922\n",
      "[LightGBM] [Info] Start training from score -5.254922\n",
      "Training until validation scores don't improve for 20 rounds\n",
      "Early stopping, best iteration is:\n",
      "[277]\tvalid_0's auc: 0.993887\n"
     ]
    },
    {
     "name": "stderr",
     "output_type": "stream",
     "text": [
      "[I 2025-05-09 19:58:42,567] Trial 49 finished with value: 886189.3099999999 and parameters: {'num_leaves': 20, 'learning_rate': 0.03760351039606326, 'feature_fraction': 0.7243516520084887, 'min_child_samples': 43, 'scale_pos_weight': 8.818821236825595}. Best is trial 43 with value: 977593.611.\n"
     ]
    },
    {
     "name": "stdout",
     "output_type": "stream",
     "text": [
      "[LightGBM] [Info] Number of positive: 7698, number of negative: 1474217\n",
      "[LightGBM] [Info] Auto-choosing row-wise multi-threading, the overhead of testing was 0.004953 seconds.\n",
      "You can set `force_row_wise=true` to remove the overhead.\n",
      "And if memory is not enough, you can set `force_col_wise=true`.\n",
      "[LightGBM] [Info] Total Bins 2700\n",
      "[LightGBM] [Info] Number of data points in the train set: 1481915, number of used features: 20\n",
      "[LightGBM] [Info] [binary:BoostFromScore]: pavg=0.005195 -> initscore=-5.254922\n",
      "[LightGBM] [Info] Start training from score -5.254922\n",
      "Training until validation scores don't improve for 20 rounds\n",
      "Did not meet early stopping. Best iteration is:\n",
      "[999]\tvalid_0's auc: 0.997305\n",
      "\n",
      "Métricas tradicionales:\n",
      "              precision    recall  f1-score   support\n",
      "\n",
      "           0       1.00      1.00      1.00    368526\n",
      "           1       0.75      0.87      0.81      1953\n",
      "\n",
      "    accuracy                           1.00    370479\n",
      "   macro avg       0.87      0.94      0.90    370479\n",
      "weighted avg       1.00      1.00      1.00    370479\n",
      "\n",
      "\n",
      "Monto total salvado en fraudes: $977,593.61\n",
      "\n",
      "Análisis de montos:\n",
      "Monto promedio de fraudes detectados: $593.61\n",
      "Monto promedio de falsos positivos: $583.53\n",
      "Monto promedio de fraudes no detectados: $148.45\n"
     ]
    }
   ],
   "source": [
    "# Modelo 1 - Optimizado para maximizar el monto salvado en fraudes\n",
    "# Este modelo utiliza LightGBM con una métrica personalizada que considera el monto de las transacciones\n",
    "\n",
    "# Definimos una métrica personalizada que considera el monto de las transacciones\n",
    "def amount_saved_metric(y_true, y_pred, amounts):\n",
    "    \"\"\"\n",
    "    Calcula el monto total salvado basado en detecciones correctas de fraude\n",
    "    y penaliza los falsos positivos que podrían afectar la experiencia del cliente\n",
    "    \n",
    "    Args:\n",
    "        y_true: Etiquetas reales\n",
    "        y_pred: Predicciones (probabilidades)\n",
    "        amounts: Montos de las transacciones\n",
    "    \"\"\"\n",
    "    y_pred_binary = (y_pred > 0.5).astype(int)\n",
    "    \n",
    "    # Verdaderos positivos (fraudes detectados correctamente)\n",
    "    tp_mask = (y_true == 1) & (y_pred_binary == 1)\n",
    "    amount_saved = amounts[tp_mask].sum()\n",
    "    \n",
    "    # Falsos positivos (transacciones legítimas marcadas como fraude)\n",
    "    fp_mask = (y_true == 0) & (y_pred_binary == 1)\n",
    "    false_positive_penalty = amounts[fp_mask].sum() * 0.1  # Penalización del 10% por falsos positivos\n",
    "    \n",
    "    return amount_saved - false_positive_penalty\n",
    "\n",
    "# Preparación de datos\n",
    "# Mantenemos la columna 'amt' para nuestra métrica personalizada\n",
    "X = df.drop(['is_fraud', 'cc_num', 'merchant', 'category', 'first', 'last', 'gender', \n",
    "             'street', 'city', 'state', 'zip', 'job', 'dob', 'trans_num', 'unix_time'], axis=1)\n",
    "y = df['is_fraud']\n",
    "\n",
    "# División de datos\n",
    "X_train, X_test, y_train, y_test = train_test_split(X, y, test_size=0.2, random_state=42)\n",
    "\n",
    "# Guardamos los montos para nuestra métrica\n",
    "train_amounts = X_train['amt'].values\n",
    "test_amounts = X_test['amt'].values\n",
    "\n",
    "# Optimización de hiperparámetros usando Optuna\n",
    "import optuna\n",
    "\n",
    "def objective(trial):\n",
    "    params = {\n",
    "        'objective': 'binary',\n",
    "        'metric': 'auc',\n",
    "        'boosting_type': 'gbdt',\n",
    "        'num_leaves': trial.suggest_int('num_leaves', 20, 100),\n",
    "        'learning_rate': trial.suggest_float('learning_rate', 0.01, 0.1, log=True),\n",
    "        'feature_fraction': trial.suggest_uniform('feature_fraction', 0.6, 1.0),\n",
    "        'min_child_samples': trial.suggest_int('min_child_samples', 10, 100),\n",
    "        'scale_pos_weight': trial.suggest_uniform('scale_pos_weight', 1, 100)  # Balance de clases\n",
    "    }\n",
    "    \n",
    "    # Entrenamiento con validación temprana\n",
    "    train_data = lgb.Dataset(X_train, y_train)\n",
    "    valid_data = lgb.Dataset(X_test, y_test)\n",
    "    \n",
    "    model = lgb.train(params,\n",
    "                     train_data,\n",
    "                     num_boost_round=1000,\n",
    "                     valid_sets=[valid_data],\n",
    "                     callbacks=[lgb.early_stopping(stopping_rounds=20)])\n",
    "    \n",
    "    # Predicciones\n",
    "    y_pred = model.predict(X_test)\n",
    "    \n",
    "    # Calculamos nuestra métrica personalizada\n",
    "    amount_saved = amount_saved_metric(y_test, y_pred, test_amounts)\n",
    "    \n",
    "    return amount_saved\n",
    "\n",
    "# Ejecutamos la optimización\n",
    "study = optuna.create_study(direction='maximize')\n",
    "study.optimize(objective, n_trials=50)\n",
    "\n",
    "# Entrenamos el modelo final con los mejores parámetros\n",
    "best_params = study.best_params\n",
    "best_params.update({\n",
    "    'objective': 'binary',\n",
    "    'metric': 'auc',\n",
    "    'boosting_type': 'gbdt'\n",
    "})\n",
    "\n",
    "# Entrenamiento del modelo final\n",
    "train_data = lgb.Dataset(X_train, y_train)\n",
    "valid_data = lgb.Dataset(X_test, y_test)\n",
    "\n",
    "final_model = lgb.train(best_params,\n",
    "                       train_data,\n",
    "                       num_boost_round=1000,\n",
    "                       valid_sets=[valid_data],\n",
    "                       callbacks=[lgb.early_stopping(stopping_rounds=20)])\n",
    "\n",
    "# Predicciones finales\n",
    "y_pred_proba = final_model.predict(X_test)\n",
    "y_pred = (y_pred_proba > 0.5).astype(int)\n",
    "\n",
    "# Evaluación del modelo\n",
    "print(\"\\nMétricas tradicionales:\")\n",
    "print(classification_report(y_test, y_pred))\n",
    "\n",
    "# Calculamos el monto total salvado\n",
    "amount_saved = amount_saved_metric(y_test, y_pred_proba, test_amounts)\n",
    "print(f\"\\nMonto total salvado en fraudes: ${amount_saved:,.2f}\")\n",
    "\n",
    "# Análisis de montos por tipo de predicción\n",
    "tp_mask = (y_test == 1) & (y_pred == 1)\n",
    "fp_mask = (y_test == 0) & (y_pred == 1)\n",
    "fn_mask = (y_test == 1) & (y_pred == 0)\n",
    "\n",
    "print(\"\\nAnálisis de montos:\")\n",
    "print(f\"Monto promedio de fraudes detectados: ${test_amounts[tp_mask].mean():,.2f}\")\n",
    "print(f\"Monto promedio de falsos positivos: ${test_amounts[fp_mask].mean():,.2f}\")\n",
    "print(f\"Monto promedio de fraudes no detectados: ${test_amounts[fn_mask].mean():,.2f}\")\n",
    "# 21 m 24 s"
   ]
  },
  {
   "cell_type": "code",
   "execution_count": 30,
   "metadata": {},
   "outputs": [
    {
     "name": "stdout",
     "output_type": "stream",
     "text": [
      "\n",
      "Accuracy: 99.7784%\n"
     ]
    }
   ],
   "source": [
    "accuracy = accuracy_score(y_test, y_pred)\n",
    "print(f\"\\nAccuracy: {accuracy:.4%}\")"
   ]
  },
  {
   "cell_type": "markdown",
   "metadata": {},
   "source": [
    "### Análisis de Métricas de Rendimiento del Modelo\n",
    "\n",
    "- **Accuracy (99.69%)**: Indica que el modelo acierta en el 99.69% de todas las predicciones, tanto fraudulentas como legítimas. Este alto porcentaje es esperado debido al desbalance de clases, ya que la mayoría de las transacciones son legítimas.\n",
    "\n",
    "- **Precision (79.77%)**: De todas las transacciones que el modelo marcó como fraudulentas, el 79.77% realmente lo eran. Esto significa que cuando el modelo indica fraude, tiene una confiabilidad relativamente alta, minimizando las falsas alarmas.\n",
    "\n",
    "- **Recall (55.71%)**: El modelo detecta el 55.71% de todos los fraudes reales. Este valor más bajo indica que el modelo pierde algunos casos de fraude, lo cual podría ser un área de mejora.\n",
    "\n",
    "- **F1 Score (65.60%)**: Es la media armónica entre precisión y recall. Un valor de 65.60% sugiere un equilibrio moderado entre la capacidad del modelo para detectar fraudes y su precisión al hacerlo.\n",
    "\n",
    "- **AUC-ROC (99.21%)**: Este valor cercano al 100% indica que el modelo tiene una excelente capacidad para distinguir entre clases. Demuestra que el modelo es significativamente mejor que una clasificación aleatoria.\n",
    "\n",
    "En conjunto, estas métricas sugieren que el modelo es bastante efectivo, especialmente considerando el desbalance inherente en los datos de fraude. Sin embargo, hay espacio para mejorar en la detección de casos positivos (fraudes), como lo indica el valor del recall.\n"
   ]
  },
  {
   "cell_type": "code",
   "execution_count": 26,
   "metadata": {},
   "outputs": [
    {
     "data": {
      "image/png": "[encoded data removed]",
      "text/plain": [
       "<Figure size 800x600 with 2 Axes>"
      ]
     },
     "metadata": {},
     "output_type": "display_data"
    }
   ],
   "source": [
    "# Calculate confusion matrix\n",
    "conf_matrix = confusion_matrix(y_test, y_pred)\n",
    "\n",
    "# Plot confusion matrix\n",
    "plt.figure(figsize=(8, 6))\n",
    "sns.heatmap(conf_matrix, annot=True, fmt='d', cmap='Blues')\n",
    "plt.title('Confusion Matrix')\n",
    "plt.ylabel('True Label')\n",
    "plt.xlabel('Predicted Label')\n",
    "plt.show()"
   ]
  },
  {
   "cell_type": "markdown",
   "metadata": {},
   "source": [
    "### Análisis de la Matriz de Confusión\n",
    "\n",
    "La matriz de confusión muestra el rendimiento detallado del modelo:\n",
    "\n",
    "- Verdaderos Negativos (367955): Transacciones legítimas que el modelo clasificó correctamente como no fraudulentas\n",
    "- Falsos Positivos (571): Transacciones legítimas que el modelo clasificó incorrectamente como fraudulentas\n",
    "- Falsos Negativos (250): Transacciones fraudulentas que el modelo no logró detectar\n",
    "- Verdaderos Positivos (1703): Transacciones fraudulentas que el modelo identificó correctamente\n",
    "  Observaciones importantes:\n",
    "- El modelo demuestra una excelente capacidad para identificar transacciones legítimas, con 367,955 casos correctamente clasificados\n",
    "- Los falsos positivos (571) representan un número relativamente bajo, lo que significa que pocas transacciones legítimas son bloqueadas innecesariamente\n",
    "- El número de falsos negativos (250) es menor que los verdaderos positivos (1703), indicando una buena capacidad de detección de fraude\n",
    "- La diagonal principal (367955 y 1703) refleja un rendimiento sólido en ambas categorías\n",
    "  En conclusión, la matriz de confusión revela un modelo robusto con un equilibrio favorable entre la detección de fraude y la minimización de falsos positivos, protegiendo tanto los intereses del banco como la experiencia del cliente.\n"
   ]
  },
  {
   "cell_type": "code",
   "execution_count": 28,
   "metadata": {},
   "outputs": [
    {
     "data": {
      "image/png": "[encoded data removed]",
      "text/plain": [
       "<Figure size 800x600 with 1 Axes>"
      ]
     },
     "metadata": {},
     "output_type": "display_data"
    }
   ],
   "source": [
    "fpr, tpr, _ = roc_curve(y_test, y_pred_proba)\n",
    "auc_score = roc_auc_score(y_test, y_pred_proba)\n",
    "plt.figure(figsize=(8, 6))\n",
    "plt.plot(fpr, tpr, label=f'ROC Curve (AUC = {auc_score:.3f})')\n",
    "plt.plot([0, 1], [0, 1], 'k--', label='Random')\n",
    "plt.xlabel('False Positive Rate')\n",
    "plt.ylabel('True Positive Rate') \n",
    "plt.title('Receiver Operating Characteristic (ROC) Curve')\n",
    "plt.legend()\n",
    "plt.grid(True)\n",
    "plt.show()\n"
   ]
  },
  {
   "cell_type": "markdown",
   "metadata": {},
   "source": [
    "### Análisis de la Curva ROC\n",
    "\n",
    "La curva ROC (Receiver Operating Characteristic) mostrada en la gráfica representa el desempeño de nuestro modelo de clasificación para la detección de fraudes. Puntos destacados del análisis:\n",
    "\n",
    "- El área bajo la curva (AUC) alcanza un valor de 0.997, lo que indica un rendimiento casi perfecto del modelo\n",
    "- La curva muestra una pendiente casi vertical en el origen, alcanzando rápidamente una tasa de verdaderos positivos cercana a 1.0 con una tasa mínima de falsos positivos\n",
    "- Existe una separación muy marcada entre la curva de rendimiento del modelo (en azul) y la línea base de clasificación aleatoria (línea punteada)\n",
    "- La forma de la curva demuestra que el modelo logra una excelente discriminación entre transacciones fraudulentas y legítimas\n",
    "- El modelo mantiene un rendimiento óptimo y estable a lo largo de diferentes umbrales de decisión\n",
    "- La curva alcanza el punto (0,1) del espacio ROC de manera muy eficiente, lo que confirma su alta precisión\n",
    "  En conclusión, la curva ROC evidencia que nuestro modelo posee una capacidad predictiva excepcional para la detección de fraudes en transacciones financieras, con un AUC de 0.997 que lo sitúa muy cerca del clasificador ideal.\n"
   ]
  }
 ],
 "metadata": {
  "kernelspec": {
   "display_name": "Python 3",
   "language": "python",
   "name": "python3"
  },
  "language_info": {
   "codemirror_mode": {
    "name": "ipython",
    "version": 3
   },
   "file_extension": ".py",
   "mimetype": "text/x-python",
   "name": "python",
   "nbconvert_exporter": "python",
   "pygments_lexer": "ipython3",
   "version": "3.12.4"
  }
 },
 "nbformat": 4,
 "nbformat_minor": 2
}
